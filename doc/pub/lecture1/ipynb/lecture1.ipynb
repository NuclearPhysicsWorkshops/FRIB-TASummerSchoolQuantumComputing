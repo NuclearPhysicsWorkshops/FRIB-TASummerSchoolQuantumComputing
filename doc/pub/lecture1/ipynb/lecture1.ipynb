{
 "cells": [
  {
   "cell_type": "markdown",
   "id": "0648c160",
   "metadata": {
    "editable": true
   },
   "source": [
    "<!-- HTML file automatically generated from DocOnce source (https://github.com/doconce/doconce/)\n",
    "doconce format html lecture1.do.txt --no_mako -->\n",
    "<!-- dom:TITLE: Introduction to quantum computing, qubits and systems of qubits -->"
   ]
  },
  {
   "cell_type": "markdown",
   "id": "31bb33d4",
   "metadata": {
    "editable": true
   },
   "source": [
    "# Introduction to quantum computing, qubits and systems of qubits\n",
    "**Facility for Rare Isotope Beams, Michigan State University, USA**\n",
    "\n",
    "Date: **June 20**"
   ]
  },
  {
   "cell_type": "markdown",
   "id": "108be3e2",
   "metadata": {
    "editable": true
   },
   "source": [
    "## Introduction"
   ]
  }
 ],
 "metadata": {},
 "nbformat": 4,
 "nbformat_minor": 5
}
