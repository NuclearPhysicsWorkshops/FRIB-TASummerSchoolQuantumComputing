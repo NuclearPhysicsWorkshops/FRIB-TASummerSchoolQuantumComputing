{
 "cells": [
  {
   "cell_type": "markdown",
   "id": "1e863bee",
   "metadata": {
    "editable": true
   },
   "source": [
    "<!-- HTML file automatically generated from DocOnce source (https://github.com/doconce/doconce/)\n",
    "doconce format html lecture9.do.txt --no_mako -->\n",
    "<!-- dom:TITLE: Quantum algorithms (VQE) and nuclear physics with applications, parts I and II    -->"
   ]
  },
  {
   "cell_type": "markdown",
   "id": "1e14d2ac",
   "metadata": {
    "editable": true
   },
   "source": [
    "# Quantum algorithms (VQE) and nuclear physics with applications, parts I and II   \n",
    "**Benjamin Hall and Morten Hjorth-Jensen**, [Facility for Rare Isotope Beams and National Superconducting Cyclotron Laboratory](http://www.frib.msu.edu/) and [Department of Physics and Astronomy](https://www.pa.msu.edu/), [Michigan State University](http://www.msu.edu/), East Lansing, MI 48824, USA\n",
    "\n",
    "Date: **Jun 20, 2022**\n",
    "\n",
    "Copyright 2013-2022, Benjamin Hall and Morten Hjorth-Jensen. Released under CC Attribution-NonCommercial 4.0 license"
   ]
  },
  {
   "cell_type": "markdown",
   "id": "5e5df7c8",
   "metadata": {
    "editable": true
   },
   "source": [
    "## Overview\n",
    "\n",
    "In these two lectures we will derive the essential elements for using\n",
    "the VQE algorithm applied to a selected nuclear physics model, in our\n",
    "case the so-called pairing Hamiltonian.  In order to do so, we will\n",
    "need to present the so-called Jordan-Wigner transformation first. We\n",
    "will apply this to the pairing Hamiltonian discussed previously. This\n",
    "Hamiltonian is writen in second quantization and we will use the Pauli\n",
    "matrices discussed earlier in order to rewrite the second-quantization\n",
    "creation and annihilation operators in terms of Pauli matrices. \n",
    "\n",
    "The unitary coupled cluster approach is discussed below here.\n",
    "\n",
    "Thereafter, in the second lecture,  we discuss how to implement the VQE algorithm. The results\n",
    "obtained with the VQE algorithm will be compared to those obtained by\n",
    "using FCI and the unitary coupled cluster method (as well as the\n",
    "standard coupled cluster method with doubles excitations only)."
   ]
  },
  {
   "cell_type": "markdown",
   "id": "bf0be0d7",
   "metadata": {
    "editable": true
   },
   "source": [
    "## The Jordan-Wigner transformation\n",
    "\n",
    "The Jordan-Wigner transformation is a transformation that maps the\n",
    "Pauli gates discussed earlier onto fermionic creation and\n",
    "annihilation operators. The creation and annihilation operators from\n",
    "the second quantization formalism (can then be represented on quantum\n",
    "computers, and we will be able to rewrite our second quantization\n",
    "Hamiltonian in terms of\n",
    "quantum gates."
   ]
  },
  {
   "cell_type": "markdown",
   "id": "60076d89",
   "metadata": {
    "editable": true
   },
   "source": [
    "## Explicit expressions\n",
    "\n",
    "Suppose that we represent a qubit in state $\\vert 0\\rangle$ as\n",
    "a state occupied with a fermion and $\\vert 1 \\rangle$ as a state with no\n",
    "fermion. We then see that the operators"
   ]
  },
  {
   "cell_type": "markdown",
   "id": "0fe80b68",
   "metadata": {
    "editable": true
   },
   "source": [
    "<!-- Equation labels as ordinary links -->\n",
    "<div id=\"eq:sigmaplussigmaminus\"></div>\n",
    "\n",
    "$$\n",
    "\\begin{equation}\n",
    "\\label{eq:sigmaplussigmaminus} \\tag{1}\n",
    "    \\sigma_+ = \\frac{1}{2}(\\sigma_x + i\\sigma_y) = \\begin{bmatrix}\n",
    "    0  1  \n",
    "\\end{equation}\n",
    "$$"
   ]
  },
  {
   "cell_type": "markdown",
   "id": "1e6212d8",
   "metadata": {
    "editable": true
   },
   "source": [
    "<!-- Equation labels as ordinary links -->\n",
    "<div id=\"_auto1\"></div>\n",
    "\n",
    "$$\n",
    "\\begin{equation} \n",
    "    0  0\n",
    "\\end{bmatrix} \\notag \n",
    "\\label{_auto1} \\tag{2}\n",
    "\\end{equation}\n",
    "$$"
   ]
  },
  {
   "cell_type": "markdown",
   "id": "0507fdd6",
   "metadata": {
    "editable": true
   },
   "source": [
    "<!-- Equation labels as ordinary links -->\n",
    "<div id=\"_auto2\"></div>\n",
    "\n",
    "$$\n",
    "\\begin{equation} \n",
    "    \\sigma_- = \\frac{1}{2}(\\sigma_x - i\\sigma_y) = \\begin{bmatrix}\n",
    "    0  0  \n",
    "\\label{_auto2} \\tag{3}\n",
    "\\end{equation}\n",
    "$$"
   ]
  },
  {
   "cell_type": "markdown",
   "id": "4a45edd2",
   "metadata": {
    "editable": true
   },
   "source": [
    "<!-- Equation labels as ordinary links -->\n",
    "<div id=\"_auto3\"></div>\n",
    "\n",
    "$$\n",
    "\\begin{equation} \n",
    "    1  0\n",
    "\\end{bmatrix},\n",
    "\\label{_auto3} \\tag{4}\n",
    "\\end{equation}\n",
    "$$"
   ]
  },
  {
   "cell_type": "markdown",
   "id": "ad607bf3",
   "metadata": {
    "editable": true
   },
   "source": [
    "have the following effect on the qubit basis states\n",
    "$$\\sigma_+ \\vert 1 \\rangle = \\vert 0\\rangle \\qquad \\sigma_- \\vert 0\\rangle = \\vert 1 \\rangle,$$\n",
    "and\n",
    "$$\\sigma_+ \\vert 0\\rangle = 0 \\qquad \\sigma_-\\vert 1 \\rangle = 0.$$"
   ]
  },
  {
   "cell_type": "markdown",
   "id": "43fe5698",
   "metadata": {
    "editable": true
   },
   "source": [
    "## Replacing creation and annihilation operators with Pauli matrices\n",
    "\n",
    "The term$\\sigma_+$ acts as a creation operator and $\\sigma_-$ acts as\n",
    "an annihilation operator. However, since fermionic states are\n",
    "anti-symmetric, $a^\\dagger_a a^\\dagger_b \\vert c \\rangle = -\n",
    "a^\\dagger_b a^\\dagger_a \\vert c \\rangle$, we need our quantum gate\n",
    "representation of the creation/annihilation operators to preserve this\n",
    "property. This can be achieved by multiplying the $\\sigma_z$ matrix on\n",
    "all the occupied states leading up to the one we operate on. The\n",
    "complete creation and annihilation operators can then be represented\n",
    "as"
   ]
  },
  {
   "cell_type": "markdown",
   "id": "af35dd03",
   "metadata": {
    "editable": true
   },
   "source": [
    "<!-- Equation labels as ordinary links -->\n",
    "<div id=\"eq:LadderOpsPauli\"></div>\n",
    "\n",
    "$$\n",
    "\\begin{equation}\n",
    "\\label{eq:LadderOpsPauli} \\tag{5}\n",
    "    a^\\dagger_n \\equiv \\left(\\prod_{k=1}^{n-1}\\sigma_z^k \\right)\\sigma_+^n \\qquad a_n \\equiv \\left(\\prod_{k=1}^{n-1}\\sigma_z^k \\right) \\sigma_-^n\n",
    "\\end{equation}\n",
    "$$"
   ]
  },
  {
   "cell_type": "markdown",
   "id": "154122e2",
   "metadata": {
    "editable": true
   },
   "source": [
    "where the superscript tells us which qubit the operator acts on."
   ]
  },
  {
   "cell_type": "markdown",
   "id": "725b5402",
   "metadata": {
    "editable": true
   },
   "source": [
    "## Representations of spin states\n",
    "For\n",
    "convenience, we have opted for having that odd qubits are in a spin up state, while\n",
    "even qubits are in spin down state. For example for the following\n",
    "state"
   ]
  },
  {
   "cell_type": "markdown",
   "id": "8acfa7f1",
   "metadata": {
    "editable": true
   },
   "source": [
    "$$\n",
    "\\begin{align*}\n",
    "    \\textit{Qubit state:} & \\vert 0 \\: \\; \\ 0 \\: \\; \\ 1 \\: \\; \\ 1 \\rangle \\\\\n",
    "    \\textit{Spin state:} & + \\; - \\; + \\; - \\; \\\\\n",
    "    \\textit{Spacial state:} & \\ 1 \\; \\: \\ 1 \\ \\; \\: 2 \\ \\; \\: 2 \\; ,\n",
    "\\end{align*}\n",
    "$$"
   ]
  },
  {
   "cell_type": "markdown",
   "id": "17a420fb",
   "metadata": {
    "editable": true
   },
   "source": [
    "the first spacial basis state is occupied with a fermion pair with opposite spin, while the second spacial state is not occupied with any fermions.\n",
    "The equivalent of the reference state for our qubit-state is then"
   ]
  },
  {
   "cell_type": "markdown",
   "id": "7c682acc",
   "metadata": {
    "editable": true
   },
   "source": [
    "<!-- Equation labels as ordinary links -->\n",
    "<div id=\"_auto4\"></div>\n",
    "\n",
    "$$\n",
    "\\begin{equation}\n",
    "    \\vert \\Psi_0\\rangle = \\vert 0\\rangle^{\\otimes^n}\\vert 1 \\rangle^{\\otimes^k},\n",
    "\\label{_auto4} \\tag{6}\n",
    "\\end{equation}\n",
    "$$"
   ]
  },
  {
   "cell_type": "markdown",
   "id": "bff25386",
   "metadata": {
    "editable": true
   },
   "source": [
    "where $n$ is the number of particles and $n+k$ is the number of spin-orbitals."
   ]
  },
  {
   "cell_type": "markdown",
   "id": "47fc2ff0",
   "metadata": {
    "editable": true
   },
   "source": [
    "## Jordan-Wigner transformation of Pairing Hamiltonian\n",
    "\n",
    "We can write the pairing Hamiltonian in  second quantized representation in terms of the Pauli matrices. A detailed derivation is provided in appendix B. Here we simply state the result: For the one body part of the Hamiltonian we have the terms"
   ]
  },
  {
   "cell_type": "markdown",
   "id": "2f617ed2",
   "metadata": {
    "editable": true
   },
   "source": [
    "<!-- Equation labels as ordinary links -->\n",
    "<div id=\"eq:Onebodyintermsofpauli\"></div>\n",
    "\n",
    "$$\n",
    "\\begin{equation}\n",
    "\\label{eq:Onebodyintermsofpauli} \\tag{7}\n",
    "    \\hat{H}_{0p} = \\frac{1}{2}\\delta(p - 1 - I[p\\%2=0])(I^p + \\sigma_z^p),\n",
    "\\end{equation}\n",
    "$$"
   ]
  },
  {
   "cell_type": "markdown",
   "id": "58757aaf",
   "metadata": {
    "editable": true
   },
   "source": [
    "where we sum over each qubit $p$ and $\\%$ is the modulo operator. We have that $I[f(x) = y] = 1$ if $f(x) = y$ and zero otherwise. For the interaction term we have two possibilities. First for $p = q$ we have:"
   ]
  },
  {
   "cell_type": "markdown",
   "id": "ba940c11",
   "metadata": {
    "editable": true
   },
   "source": [
    "<!-- Equation labels as ordinary links -->\n",
    "<div id=\"eq:twobodypaulipisq\"></div>\n",
    "\n",
    "$$\n",
    "\\label{eq:twobodypaulipisq} \\tag{8}\n",
    "    \\hat{V}_{p} = -\\frac{1}{8}g\\Big[ I^{\\otimes^{2p-2}} \\otimes I  \\otimes I \\otimes I^{\\otimes^{n - 2p}} \\nonumber\n",
    "$$"
   ]
  },
  {
   "cell_type": "markdown",
   "id": "558f7478",
   "metadata": {
    "editable": true
   },
   "source": [
    "<!-- Equation labels as ordinary links -->\n",
    "<div id=\"_auto5\"></div>\n",
    "\n",
    "$$\n",
    "\\begin{equation} \n",
    "    + I^{\\otimes^{2p-2}} \\otimes I  \\otimes \\sigma_z \\otimes I^{\\otimes^{n - 2p}} \n",
    "\\label{_auto5} \\tag{9}\n",
    "\\end{equation}\n",
    "$$"
   ]
  },
  {
   "cell_type": "markdown",
   "id": "d6877260",
   "metadata": {
    "editable": true
   },
   "source": [
    "$$\n",
    "+ I^{\\otimes^{2p-2}} \\otimes \\sigma_z  \\otimes I \\otimes I^{\\otimes^{n - 2p}} \\nonumber\n",
    "$$"
   ]
  },
  {
   "cell_type": "markdown",
   "id": "4a20da94",
   "metadata": {
    "editable": true
   },
   "source": [
    "$$\n",
    "+ I^{\\otimes^{2p-2}} \\otimes \\sigma_z  \\otimes \\sigma_z \\otimes I^{\\otimes^{n - 2p}}\\Big].\\nonumber\n",
    "$$"
   ]
  },
  {
   "cell_type": "markdown",
   "id": "62beb937",
   "metadata": {
    "editable": true
   },
   "source": [
    "## And the remaining contribution\n",
    "\n",
    "For $q - p \\geq 1$ we get:"
   ]
  },
  {
   "cell_type": "markdown",
   "id": "eb503161",
   "metadata": {
    "editable": true
   },
   "source": [
    "<!-- Equation labels as ordinary links -->\n",
    "<div id=\"eq:twobodypauliqgeqp\"></div>\n",
    "\n",
    "$$\n",
    "\\label{eq:twobodypauliqgeqp} \\tag{10}\n",
    "       \\hat{V}_{pq} = -\\frac{1}{16}g [ I^{\\otimes^{2p -2}} \\otimes \\sigma_x \\otimes \\sigma_x \\otimes I^{\\otimes^{2(q - p - 1)}} \\otimes \\sigma_x \\otimes \\sigma_x \\otimes I^{\\otimes^{n-2q}} \\nonumber\n",
    "$$"
   ]
  },
  {
   "cell_type": "markdown",
   "id": "7a3c12fa",
   "metadata": {
    "editable": true
   },
   "source": [
    "$$\n",
    "-I^{\\otimes^{2p -2}} \\otimes \\sigma_x \\otimes \\sigma_x \\otimes I^{\\otimes^{2(q - p - 1)}} \\otimes \\sigma_y \\otimes \\sigma_y \\otimes I^{\\otimes^{n-2q}} \\nonumber\n",
    "$$"
   ]
  },
  {
   "cell_type": "markdown",
   "id": "436a959f",
   "metadata": {
    "editable": true
   },
   "source": [
    "$$\n",
    "+ I^{\\otimes^{2p -2}} \\otimes \\sigma_x \\otimes \\sigma_y \\otimes I^{\\otimes^{2(q - p - 1)}} \\otimes \\sigma_x \\otimes \\sigma_y \\otimes I^{\\otimes^{n-2q}} \\nonumber\n",
    "$$"
   ]
  },
  {
   "cell_type": "markdown",
   "id": "a9b8e377",
   "metadata": {
    "editable": true
   },
   "source": [
    "<!-- Equation labels as ordinary links -->\n",
    "<div id=\"_auto6\"></div>\n",
    "\n",
    "$$\n",
    "\\begin{equation} \n",
    "         + I^{\\otimes^{2p -2}} \\otimes \\sigma_x \\otimes \\sigma_y \\otimes I^{\\otimes^{2(q - p - 1)}} \\otimes \\sigma_y \\otimes \\sigma_x \\otimes I^{\\otimes^{n-2q}}  \n",
    "\\label{_auto6} \\tag{11}\n",
    "\\end{equation}\n",
    "$$"
   ]
  },
  {
   "cell_type": "markdown",
   "id": "ad89898f",
   "metadata": {
    "editable": true
   },
   "source": [
    "$$\n",
    "+ I^{\\otimes^{2p -2}} \\otimes \\sigma_y \\otimes \\sigma_x \\otimes I^{\\otimes^{2(q - p - 1)}} \\otimes \\sigma_x \\otimes \\sigma_y \\otimes I^{\\otimes^{n-2q}} \\nonumber\n",
    "$$"
   ]
  },
  {
   "cell_type": "markdown",
   "id": "215b80e7",
   "metadata": {
    "editable": true
   },
   "source": [
    "$$\n",
    "+ I^{\\otimes^{2p -2}} \\otimes \\sigma_y \\otimes \\sigma_x \\otimes I^{\\otimes^{2(q - p - 1)}} \\otimes \\sigma_y \\otimes \\sigma_x \\otimes I^{\\otimes^{n-2q}} \\nonumber\n",
    "$$"
   ]
  },
  {
   "cell_type": "markdown",
   "id": "a6d4aa70",
   "metadata": {
    "editable": true
   },
   "source": [
    "$$\n",
    "- I^{\\otimes^{2p -2}} \\otimes \\sigma_y \\otimes \\sigma_y \\otimes I^{\\otimes^{2(q - p - 1)}} \\otimes \\sigma_x \\otimes \\sigma_x \\otimes I^{\\otimes^{n-2q}} \\nonumber\n",
    "$$"
   ]
  },
  {
   "cell_type": "markdown",
   "id": "d63a319b",
   "metadata": {
    "editable": true
   },
   "source": [
    "$$\n",
    "+ I^{\\otimes^{2p -2}} \\otimes \\sigma_y \\otimes \\sigma_y \\otimes I^{\\otimes^{2(q - p - 1)}} \\otimes \\sigma_y \\otimes \\sigma_y \\otimes I^{\\otimes^{n-2q}}].\\nonumber\n",
    "$$"
   ]
  },
  {
   "cell_type": "markdown",
   "id": "6ff80a01",
   "metadata": {
    "editable": true
   },
   "source": [
    "We have included a factor of two so the sum over $p$ and $q$ here can be restricted to $q > p$.\n",
    "The complete Jordan-Wigner transformed pairing Hamiltonian can then be written as"
   ]
  },
  {
   "cell_type": "markdown",
   "id": "41646fb3",
   "metadata": {
    "editable": true
   },
   "source": [
    "<!-- Equation labels as ordinary links -->\n",
    "<div id=\"eq:JordanWignerHamiltonian\"></div>\n",
    "\n",
    "$$\n",
    "\\begin{equation}\n",
    "\\label{eq:JordanWignerHamiltonian} \\tag{12}\n",
    "    \\hat{H} = \\sum_p \\hat{H}_{0p} + \\sum_{p} \\hat{V}_p + \\sum_{q > p} \\hat{V}_{pq},\n",
    "\\end{equation}\n",
    "$$"
   ]
  },
  {
   "cell_type": "markdown",
   "id": "eb304c8d",
   "metadata": {
    "editable": true
   },
   "source": [
    "where $\\hat{H}_{0p}$, $\\hat{V}_p$ and $\\hat{V}_{pq}$ is given by the one-body part and two-body part, respectively, of the Hamiltonian."
   ]
  },
  {
   "cell_type": "markdown",
   "id": "ec28ddb2",
   "metadata": {
    "editable": true
   },
   "source": [
    "## Details behind the derivation of the Jordan-Wigner transformed Pairing Hamiltonian\n",
    "\n",
    "Here we show how we can rewrite our pairing Hamiltonian in terms of the Pauli matrices. First, we observe that\n",
    "$$a^\\dagger_i a_i = \\left(\\prod_{k=1}^{i-1}\\sigma_z^k \\right)\\sigma_+^i \\left(\\prod_{k=1}^{i-1}\\sigma_z^k \\right) \\sigma_-^i $$\n",
    "$$ =\\sigma_+^i \\sigma_-^i = \\frac{1}{2}(I^i + \\sigma_z^i) ,$$\n",
    "and see that the one-body part of the Hamiltonian can be written as"
   ]
  },
  {
   "cell_type": "markdown",
   "id": "a85d3b15",
   "metadata": {
    "editable": true
   },
   "source": [
    "$$\n",
    "\\hat{H}_0 = \\frac{1}{2}\\xi \\sum_{p} ([(p-1) - (p-1)\\%2]/2)(I^p + \\sigma_z^p).\n",
    "$$"
   ]
  },
  {
   "cell_type": "markdown",
   "id": "d2903b93",
   "metadata": {
    "editable": true
   },
   "source": [
    "where $p$ now runs over each qubit and $\\%$ is the modulo operator. For the interaction term, we get"
   ]
  },
  {
   "cell_type": "markdown",
   "id": "a04e5c58",
   "metadata": {
    "editable": true
   },
   "source": [
    "<!-- Equation labels as ordinary links -->\n",
    "<div id=\"eq:Twobodyintermsofpauli\"></div>\n",
    "\n",
    "$$\n",
    "\\begin{equation}\n",
    "\\label{eq:Twobodyintermsofpauli} \\tag{13}\n",
    "    \\hat{V} = \\notag \n",
    "\\end{equation}\n",
    "$$"
   ]
  },
  {
   "cell_type": "markdown",
   "id": "a85857ec",
   "metadata": {
    "editable": true
   },
   "source": [
    "<!-- Equation labels as ordinary links -->\n",
    "<div id=\"_auto7\"></div>\n",
    "\n",
    "$$\n",
    "\\begin{equation} \n",
    "    -\\frac{1}{2}g \\sum_{pq}\\left( \\prod_{k=1}^{2p-2} \\sigma_z^k \\right)\\sigma_{+}^{2p-1} \\left( \\prod_{k=1}^{2p-1} \\sigma_z^k \\right)\\sigma_{+}^{2p}\n",
    "    \\left( \\prod_{k=1}^{2q-1} \\sigma_z^k \\right)\\sigma_{-}^{2q} \\left( \\prod_{k=1}^{2q-2} \\sigma_z^k \\right)\\sigma_{-}^{2q-1}. \n",
    "\\label{_auto7} \\tag{14}\n",
    "\\end{equation}\n",
    "$$"
   ]
  },
  {
   "cell_type": "markdown",
   "id": "ff22bbe5",
   "metadata": {
    "editable": true
   },
   "source": [
    "## Rewriting the Pairing Hamiltonian\n",
    "\n",
    "We have that"
   ]
  },
  {
   "cell_type": "markdown",
   "id": "4d54f2e5",
   "metadata": {
    "editable": true
   },
   "source": [
    "$$\n",
    "\\begin{align*}\n",
    "    \\left( \\prod_{k=1}^{2p-2} \\sigma_z^k \\right)\\sigma_{+}^{2p-1} \\left( \\prod_{k=1}^{2p-1} \\sigma_z^k \\right)\\sigma_{+}^{2p} = \\notag \\\\\n",
    "    \\sigma_z^{\\otimes^{2p-2}} \\otimes \\sigma_+ \\otimes I^{\\otimes^{n - 2p-1}} \\times \n",
    "    \\sigma_z^{\\otimes^{2p-1}} \\otimes \\sigma_+ \\otimes I^{\\otimes^{n - 2p}} = \\notag \\\\\n",
    "    I^{\\otimes^{2p-2}} \\otimes \\sigma_+ \\sigma_z \\otimes \\sigma_+ \\otimes I^{\\otimes^{n - 2p}},\n",
    "\\end{align*}\n",
    "$$"
   ]
  },
  {
   "cell_type": "markdown",
   "id": "589d59cf",
   "metadata": {
    "editable": true
   },
   "source": [
    "which can be rewritten as"
   ]
  },
  {
   "cell_type": "markdown",
   "id": "872664bf",
   "metadata": {
    "editable": true
   },
   "source": [
    "$$\n",
    "\\begin{align*}\n",
    "    \\hat{V} &= \\notag \\\\\n",
    "    &-\\frac{1}{2} g\\sum_{pq}\\left[I^{\\otimes^{2p-2}} \\otimes \\sigma_+ \\otimes \\sigma_+ \\otimes I^{\\otimes^{n - 2p}} \\right] \\left[ I^{\\otimes^{2q-2}} \\otimes \\sigma_- \\otimes \\sigma_- \\otimes I^{\\otimes^{n - 2q}} \\right].\n",
    "\\end{align*}\n",
    "$$"
   ]
  },
  {
   "cell_type": "markdown",
   "id": "68f07efe",
   "metadata": {
    "editable": true
   },
   "source": [
    "## Two possibilities\n",
    "\n",
    "We have two possibilities here. First for $p=q$:"
   ]
  },
  {
   "cell_type": "markdown",
   "id": "6a84082c",
   "metadata": {
    "editable": true
   },
   "source": [
    "<!-- Equation labels as ordinary links -->\n",
    "<div id=\"eq:PisQ\"></div>\n",
    "\n",
    "$$\n",
    "\\begin{equation}\n",
    "\\label{eq:PisQ} \\tag{15}\n",
    "    -\\frac{1}{2}g \\left[ I^{\\otimes^{2p-2}} \\otimes \\sigma_+ \\sigma_-  \\otimes \\sigma_+ \\sigma_- \\otimes I^{\\otimes^{n - 2p}} \\right],\n",
    "\\end{equation}\n",
    "$$"
   ]
  },
  {
   "cell_type": "markdown",
   "id": "784ac032",
   "metadata": {
    "editable": true
   },
   "source": [
    "and for $q - p \\geq 1$ we have"
   ]
  },
  {
   "cell_type": "markdown",
   "id": "55a526ec",
   "metadata": {
    "editable": true
   },
   "source": [
    "<!-- Equation labels as ordinary links -->\n",
    "<div id=\"eq:PgeqQ\"></div>\n",
    "\n",
    "$$\n",
    "\\begin{equation}\n",
    "\\label{eq:PgeqQ} \\tag{16}\n",
    "    -\\frac{1}{2}g \\left[ I^{\\otimes^{2p-2}} \\otimes \\sigma_+ \\otimes \\sigma_+ \\otimes I^{\\otimes^{2(q - p - 1)}} \\otimes \\sigma_- \\otimes \\sigma_- \\otimes I^{\\otimes^{n-2q}} \\right].\n",
    "\\end{equation}\n",
    "$$"
   ]
  },
  {
   "cell_type": "markdown",
   "id": "1e1db11e",
   "metadata": {
    "editable": true
   },
   "source": [
    "For $p - q \\geq 1$ we simply exchange $p$ with $q$ and $\\sigma_+$ with $\\sigma_-$."
   ]
  },
  {
   "cell_type": "markdown",
   "id": "cfa32b7a",
   "metadata": {
    "editable": true
   },
   "source": [
    "## More details\n",
    "\n",
    "To continue, we insert the expressions for $\\sigma_{\\pm}$ into these equations. For $p = q$ we then have:"
   ]
  },
  {
   "cell_type": "markdown",
   "id": "607eb5d5",
   "metadata": {
    "editable": true
   },
   "source": [
    "$$\n",
    "\\begin{align*}\n",
    "   V_{p=q} = -\\frac{1}{8}g\\Big[ I^{\\otimes^{2p-2}} \\otimes & (I + \\sigma_z)  \\otimes (I + \\sigma_z) \\otimes I^{\\otimes^{n - 2p}} \\Big] \\\\\n",
    "    = -\\frac{1}{8}g\\Big[& I^{\\otimes^{2p-2}} \\otimes I  \\otimes I \\otimes I^{\\otimes^{n - 2p}} \\nonumber \\\\\n",
    "    +& I^{\\otimes^{2p-2}} \\otimes I  \\otimes \\sigma_z \\otimes I^{\\otimes^{n - 2p}} \\nonumber \\\\\n",
    "    +& I^{\\otimes^{2p-2}} \\otimes \\sigma_z  \\otimes I \\otimes I^{\\otimes^{n - 2p}} \\nonumber \\\\\n",
    "    +& I^{\\otimes^{2p-2}} \\otimes \\sigma_z  \\otimes \\sigma_z \\otimes I^{\\otimes^{n - 2p}}\\Big],\\nonumber \n",
    "\\end{align*}\n",
    "$$"
   ]
  },
  {
   "cell_type": "markdown",
   "id": "4207582f",
   "metadata": {
    "editable": true
   },
   "source": [
    "and for $q - p \\geq 1$ we get"
   ]
  },
  {
   "cell_type": "markdown",
   "id": "5f9a98f5",
   "metadata": {
    "editable": true
   },
   "source": [
    "$$\n",
    "-\\frac{1}{32}g \\left[ I^{\\otimes^{2p-2}} \\otimes (\\sigma_x + i\\sigma_y) \\otimes (\\sigma_x + i\\sigma_y) \\otimes I^{\\otimes^{2(q - p - 1)}} \\otimes (\\sigma_x - i\\sigma_y) \\otimes (\\sigma_x - i\\sigma_y) \\otimes I^{\\otimes^{n-2q}} \\right].\n",
    "$$"
   ]
  },
  {
   "cell_type": "markdown",
   "id": "f5cf8de9",
   "metadata": {
    "editable": true
   },
   "source": [
    "## Rewriting as four-qubit operations\n",
    "\n",
    "This can be rewritten as sixteen four-qubit operations"
   ]
  },
  {
   "cell_type": "markdown",
   "id": "2b6017b0",
   "metadata": {
    "editable": true
   },
   "source": [
    "$$\n",
    "\\begin{align*}\n",
    "        -\\frac{1}{32}g & [ I^{\\otimes^{2p_q -2}} \\otimes \\sigma_x \\otimes \\sigma_x \\otimes I^{\\otimes^{2(q_p - p_q - 1)}} \\otimes \\sigma_x \\otimes \\sigma_x \\otimes I^{\\otimes^{n-2q_p}} \\nonumber \\\\\n",
    "        & \\mp i I^{\\otimes^{2p_q - 2}} \\otimes \\sigma_x \\otimes \\sigma_x \\otimes I^{\\otimes^{2(q_p - p_q - 1)}} \\otimes \\sigma_x \\otimes \\sigma_y \\otimes I^{\\otimes^{n-2q_p}} \\nonumber \\\\\n",
    "        & \\mp iI^{\\otimes^{2p_q - 2}} \\otimes \\sigma_x \\otimes \\sigma_x \\otimes I^{\\otimes^{2(q_p - p_q - 1)}} \\otimes \\sigma_y \\otimes \\sigma_x \\otimes I^{\\otimes^{n-2q_p}} \\nonumber \\\\\n",
    "        & -I^{\\otimes^{2p_q -2}} \\otimes \\sigma_x \\otimes \\sigma_x \\otimes I^{\\otimes^{2(q_p - p_q - 1)}} \\otimes \\sigma_y \\otimes \\sigma_y \\otimes I^{\\otimes^{n-2q_p}} \\nonumber \\\\\n",
    "        & \\pm i I^{\\otimes^{2p_q -2}} \\otimes \\sigma_x \\otimes \\sigma_y \\otimes I^{\\otimes^{2(q_p - p_q - 1)}} \\sigma_x \\otimes \\sigma_x \\otimes I^{\\otimes^{n-2q_p}} \\nonumber \\\\\n",
    "        & + I^{\\otimes^{2p_q -2}} \\otimes \\sigma_x \\otimes \\sigma_y \\otimes I^{\\otimes^{2(q_p - p_q - 1)}} \\otimes \\sigma_x \\otimes \\sigma_y \\otimes I^{\\otimes^{n-2q_p}} \\nonumber \\\\\n",
    "        & + I^{\\otimes^{2p_q -2}} \\otimes \\sigma_x \\otimes \\sigma_y \\otimes I^{\\otimes^{2(q_p - p_q - 1)}} \\otimes \\sigma_y \\otimes \\sigma_x \\otimes I^{\\otimes^{n-2q_p}} \\nonumber \\\\\n",
    "        & \\mp i I^{\\otimes^{2p_q -2}} \\otimes \\sigma_x \\otimes \\sigma_y \\otimes I^{\\otimes^{2(q_p - p_q - 1)}} \\otimes \\sigma_y \\otimes \\sigma_y \\otimes I^{\\otimes^{n-2q_p}} \\\\\n",
    "        & \\pm i I^{\\otimes^{2p_q -2}} \\otimes \\sigma_y \\otimes \\sigma_x \\otimes I^{\\otimes^{2(q_p - p_q - 1)}} \\otimes \\sigma_x \\otimes \\sigma_x \\otimes I^{\\otimes^{n-2q_p}} \\nonumber \\\\\n",
    "        &+ I^{\\otimes^{2p_q -2}} \\otimes \\sigma_y \\otimes \\sigma_x \\otimes I^{\\otimes^{2(q_p - p_q - 1)}} \\otimes \\sigma_x \\otimes \\sigma_y \\otimes I^{\\otimes^{n-2q_p}} \\nonumber \\\\\n",
    "        & + I^{\\otimes^{2p_q -2}} \\otimes \\sigma_y \\otimes \\sigma_x \\otimes I^{\\otimes^{2(q_p - p_q - 1)}} \\otimes \\sigma_y \\otimes \\sigma_x \\otimes I^{\\otimes^{n-2q_p}} \\nonumber \\\\\n",
    "        & \\mp i I^{\\otimes^{2p_q -2}} \\otimes \\sigma_y \\otimes \\sigma_x \\otimes I^{\\otimes^{2(q_p - p_q - 1)}} \\otimes \\sigma_y \\otimes \\sigma_y \\otimes I^{\\otimes^{n-2q_p}} \\nonumber \\\\\n",
    "        & - I^{\\otimes^{2p_q -2}} \\otimes \\sigma_y \\otimes \\sigma_y \\otimes I^{\\otimes^{2(q_p - p_q - 1)}} \\otimes \\sigma_x \\otimes \\sigma_x \\otimes I^{\\otimes^{n-2q_p}} \\nonumber \\\\\n",
    "        &\\pm i I^{\\otimes^{2p_q -2}} \\otimes \\sigma_y \\otimes \\sigma_y \\otimes I^{\\otimes^{2(q_p - p_q - 1)}} \\otimes \\sigma_x \\otimes \\sigma_y \\otimes I^{\\otimes^{n-2q_p}} \\nonumber \\\\\n",
    "        &\\pm i I^{\\otimes^{2p_q -2}} \\otimes \\sigma_y \\otimes \\sigma_y \\otimes I^{\\otimes^{2(q_p - p_q - 1)}} \\otimes \\sigma_y \\otimes \\sigma_x \\otimes I^{\\otimes^{n-2q_p}} \\nonumber \\\\\n",
    "        &+ I^{\\otimes^{2p_q -2}} \\otimes \\sigma_y \\otimes \\sigma_y \\otimes I^{\\otimes^{2(q_p - p_q - 1)}} \\otimes \\sigma_y \\otimes \\sigma_y \\otimes I^{\\otimes^{n-2q_p}}],\\nonumber \n",
    "\\end{align*}\n",
    "$$"
   ]
  },
  {
   "cell_type": "markdown",
   "id": "0472e535",
   "metadata": {
    "editable": true
   },
   "source": [
    "where the subscript is used if $p > q$."
   ]
  },
  {
   "cell_type": "markdown",
   "id": "1d79d680",
   "metadata": {
    "editable": true
   },
   "source": [
    "## Final expression\n",
    "We can easily see that when\n",
    "running over the sum over $p$ and $q$, the terms with $\\pm$ and $\\mp$\n",
    "sign in front will cancel out. Also, we can include a factor 2 and\n",
    "limit the sum to $p < q$. Therefore:"
   ]
  },
  {
   "cell_type": "markdown",
   "id": "eb324c80",
   "metadata": {
    "editable": true
   },
   "source": [
    "$$\n",
    "\\begin{align*}\n",
    "      V_{p\\neq q} =  -\\frac{1}{16}g [& I^{\\otimes^{2p -2}} \\otimes \\sigma_x \\otimes \\sigma_x \\otimes I^{\\otimes^{2(q - p - 1)}} \\otimes \\sigma_x \\otimes \\sigma_x \\otimes I^{\\otimes^{n-2q}} \\nonumber \\\\\n",
    "        & -I^{\\otimes^{2p -2}} \\otimes \\sigma_x \\otimes \\sigma_x \\otimes I^{\\otimes^{2(q - p - 1)}} \\otimes \\sigma_y \\otimes \\sigma_y \\otimes I^{\\otimes^{n-2q}} \\nonumber \\\\\n",
    "        & + I^{\\otimes^{2p -2}} \\otimes \\sigma_x \\otimes \\sigma_y \\otimes I^{\\otimes^{2(q - p - 1)}} \\otimes \\sigma_x \\otimes \\sigma_y \\otimes I^{\\otimes^{n-2q}} \\nonumber \\\\\n",
    "        & + I^{\\otimes^{2p -2}} \\otimes \\sigma_x \\otimes \\sigma_y \\otimes I^{\\otimes^{2(q - p - 1)}} \\otimes \\sigma_y \\otimes \\sigma_x \\otimes I^{\\otimes^{n-2q}}  \\\\\n",
    "        &+ I^{\\otimes^{2p -2}} \\otimes \\sigma_y \\otimes \\sigma_x \\otimes I^{\\otimes^{2(q - p - 1)}} \\otimes \\sigma_x \\otimes \\sigma_y \\otimes I^{\\otimes^{n-2q}} \\nonumber \\\\\n",
    "        & + I^{\\otimes^{2p -2}} \\otimes \\sigma_y \\otimes \\sigma_x \\otimes I^{\\otimes^{2(q - p - 1)}} \\otimes \\sigma_y \\otimes \\sigma_x \\otimes I^{\\otimes^{n-2q}} \\nonumber \\\\\n",
    "        & - I^{\\otimes^{2p -2}} \\otimes \\sigma_y \\otimes \\sigma_y \\otimes I^{\\otimes^{2(q - p - 1)}} \\otimes \\sigma_x \\otimes \\sigma_x \\otimes I^{\\otimes^{n-2q}} \\nonumber \\\\\n",
    "        &+ I^{\\otimes^{2p -2}} \\otimes \\sigma_y \\otimes \\sigma_y \\otimes I^{\\otimes^{2(q - p - 1)}} \\otimes \\sigma_y \\otimes \\sigma_y \\otimes I^{\\otimes^{n-2q}}].\\nonumber \n",
    "\\end{align*}\n",
    "$$"
   ]
  },
  {
   "cell_type": "markdown",
   "id": "31cd44d1",
   "metadata": {
    "editable": true
   },
   "source": [
    "## Variational Quantum Eigensolvers\n",
    "\n",
    "As discussed in the lecture on the VQE algorithm, the variational principle states that the expectation value of the\n",
    "Hamiltonian has to be larger than or equal to the ground state energy\n",
    "of the system. Mathematically this can be expressed as"
   ]
  },
  {
   "cell_type": "markdown",
   "id": "72035509",
   "metadata": {
    "editable": true
   },
   "source": [
    "<!-- Equation labels as ordinary links -->\n",
    "<div id=\"_auto8\"></div>\n",
    "\n",
    "$$\n",
    "\\begin{equation}\n",
    "    \\langle\\psi\\vert  H \\vert \\psi \\rangle  \\geq E_0.\n",
    "\\label{_auto8} \\tag{17}\n",
    "\\end{equation}\n",
    "$$"
   ]
  },
  {
   "cell_type": "markdown",
   "id": "06f19c4b",
   "metadata": {
    "editable": true
   },
   "source": [
    "We can understand this principle intuitively by considering that no\n",
    "single measurement of the energy can be lower than the ground state\n",
    "energy. Hence, the expectation value of the energy can\n",
    "neither. Variational methods make use of this principle by calculating\n",
    "the expectation value in the baove equation for what we call a trial\n",
    "wavefunction $\\vert \\psi_T(\\boldsymbol{\\theta)\\rangle}$ given by"
   ]
  },
  {
   "cell_type": "markdown",
   "id": "529fed12",
   "metadata": {
    "editable": true
   },
   "source": [
    "$$\n",
    "\\langle \\psi_T(\\boldsymbol{\\theta})\\vert H \\vert\\psi_T(\\boldsymbol{\\theta})\\rangle = E(\\boldsymbol{\\theta}).\n",
    "$$"
   ]
  },
  {
   "cell_type": "markdown",
   "id": "6313b389",
   "metadata": {
    "editable": true
   },
   "source": [
    "## Variational parameters\n",
    "\n",
    "The variational parameters $\\boldsymbol{\\theta} = [\\theta_1, \\theta_2,\n",
    "\\cdots, \\theta_p]$ are then varied to minimize\n",
    "$E(\\boldsymbol{\\theta})$, which hopefully makes a good approximation\n",
    "for $E_0$. For variational quantum eigensolvers (VQE), the trial wave\n",
    "function is given by a parametrized n-qubit state $$\n",
    "U(\\boldsymbol{\\theta}) \\vert\\psi_0\\rangle =\n",
    "\\vert\\psi_T(\\boldsymbol{\\theta})\\rangle, $$ where\n",
    "$U(\\boldsymbol{\\theta})$ is some parametrized multi-qubit gate and\n",
    "$\\vert\\psi_0\\rangle$ is the initial state of the qubits.  As long as\n",
    "the Hamiltonian can be rewritten as a sum of quantum gates $O_i$ $$ H\n",
    "= \\sum_{i=1}^m h_i O_i, $$ we can find its expectation value by\n",
    "considering the expectation of each term"
   ]
  },
  {
   "cell_type": "markdown",
   "id": "4be3b108",
   "metadata": {
    "editable": true
   },
   "source": [
    "<!-- Equation labels as ordinary links -->\n",
    "<div id=\"_auto9\"></div>\n",
    "\n",
    "$$\n",
    "\\begin{equation}\n",
    "    \\langle \\psi_T(\\boldsymbol{\\theta})\\vert  H \\vert \\psi_T(\\boldsymbol{\\theta})\\rangle = \\sum_{i=1}^m h_i \\langle \\psi_T(\\boldsymbol{\\theta})\\vert  O_i \\vert \\psi_T(\\boldsymbol{\\theta})\\rangle.\n",
    "\\label{_auto9} \\tag{18}\n",
    "\\end{equation}\n",
    "$$"
   ]
  },
  {
   "cell_type": "markdown",
   "id": "e190441c",
   "metadata": {
    "editable": true
   },
   "source": [
    "The implementation details will be discussed in the next lecture."
   ]
  },
  {
   "cell_type": "markdown",
   "id": "9305d3d6",
   "metadata": {
    "editable": true
   },
   "source": [
    "## Unitary Coupled Cluster ansatz\n",
    "\n",
    "The coupled cluster ansatz is given by \n",
    "$$\\vert \\psi_{CC}\\rangle  = e^{\\hat{T}} \\vert c \\rangle ,$$\n",
    "with the cluster operator $\\hat{T}$ and $\\vert c \\rangle$ being our reference state. This type of ansatz is not implementable on a quantum computer since $e^{\\hat{T}}$ is not a unitary operator. Unitary coupled cluster instead suggest that we write our ansatz as"
   ]
  },
  {
   "cell_type": "markdown",
   "id": "cd63d839",
   "metadata": {
    "editable": true
   },
   "source": [
    "<!-- Equation labels as ordinary links -->\n",
    "<div id=\"eq:UnitaryCoupledClusterAnsatz\"></div>\n",
    "\n",
    "$$\n",
    "\\begin{equation}\n",
    "\\label{eq:UnitaryCoupledClusterAnsatz} \\tag{19}\n",
    "    \\vert\\psi_{UCC}\\rangle = e^{\\hat{T} - \\hat{T}^\\dagger}\\vert \\psi_0\\rangle ,\n",
    "\\end{equation}\n",
    "$$"
   ]
  },
  {
   "cell_type": "markdown",
   "id": "d83cba96",
   "metadata": {
    "editable": true
   },
   "source": [
    "where $\\hat{T}$ is the usual coupled cluster operator and the state $\\vert \\psi_0\\rangle $ is the reference state.\n",
    "One can show that $e^{\\hat{T} - \\hat{T}^\\dagger}$ is unitary \\[[UCCDArticle]](#UCCDArticle)."
   ]
  },
  {
   "cell_type": "markdown",
   "id": "987bfc6a",
   "metadata": {
    "editable": true
   },
   "source": [
    "## New cluster operator\n",
    "\n",
    "The unitary coupled cluster doubles (UCCD) method introduces the cluster operator"
   ]
  },
  {
   "cell_type": "markdown",
   "id": "da5a098a",
   "metadata": {
    "editable": true
   },
   "source": [
    "<!-- Equation labels as ordinary links -->\n",
    "<div id=\"eq:UnitaryOp\"></div>\n",
    "\n",
    "$$\n",
    "\\begin{equation}\n",
    "\\label{eq:UnitaryOp} \\tag{20}\n",
    "    \\hat{T}_{UCCD} = \\hat{T} - \\hat{T}^\\dagger =  \\notag \n",
    "\\end{equation}\n",
    "$$"
   ]
  },
  {
   "cell_type": "markdown",
   "id": "6b7afc68",
   "metadata": {
    "editable": true
   },
   "source": [
    "<!-- Equation labels as ordinary links -->\n",
    "<div id=\"_auto10\"></div>\n",
    "\n",
    "$$\n",
    "\\begin{equation} \n",
    "     \\sum_{ijab} t_{ij}^{ab}(a^\\dagger_a a^\\dagger_b a_j a_i - a^\\dagger_i a^\\dagger_j a_b a_a),\n",
    "\\label{_auto10} \\tag{21}\n",
    "\\end{equation}\n",
    "$$"
   ]
  },
  {
   "cell_type": "markdown",
   "id": "a1fd4e51",
   "metadata": {
    "editable": true
   },
   "source": [
    "where we vary the trial wavefunction over the real cluster amplitudes $t_{ij}^{ab}$. Note that this ansatz\n",
    "depends on the number of particles in our system as we sum over $i$ and $j$. Hence, we can specify the specific configuration we wish to solve for, unlike the previously discussed ansatzes. \n",
    "Rewriting eq. ([20](#eq:UnitaryOp)) in terms of Pauli gates by utilizing the Jordan-Wigner transformation results in"
   ]
  },
  {
   "cell_type": "markdown",
   "id": "906155c2",
   "metadata": {
    "editable": true
   },
   "source": [
    "<!-- Equation labels as ordinary links -->\n",
    "<div id=\"eq:UCCDoublesGates\"></div>\n",
    "\n",
    "$$\n",
    "\\begin{equation}\n",
    "\\label{eq:UCCDoublesGates} \\tag{22}\n",
    "    t_{ij}^{ab}(a^\\dagger_a a^\\dagger_b a_j a_i - a^\\dagger_i a^\\dagger_j a_b a_a) = \\frac{it_{ij}^{ab}}{8} \\bigotimes_{k=i+1}^{j-1}\\sigma_z^k \\bigotimes_{l=a+1}^{b-1}\\sigma_z^l \\notag \n",
    "\\end{equation}\n",
    "$$"
   ]
  },
  {
   "cell_type": "markdown",
   "id": "9363e2ec",
   "metadata": {
    "editable": true
   },
   "source": [
    "<!-- Equation labels as ordinary links -->\n",
    "<div id=\"_auto11\"></div>\n",
    "\n",
    "$$\n",
    "\\begin{equation} \n",
    "    (\\sigma_x^i \\sigma_x^j \\sigma_y^a \\sigma_x^b + \\sigma_y^i \\sigma_x^j \\sigma_y^a \\sigma_y^b \\notag \n",
    "\\label{_auto11} \\tag{23}\n",
    "\\end{equation}\n",
    "$$"
   ]
  },
  {
   "cell_type": "markdown",
   "id": "f2c798ea",
   "metadata": {
    "editable": true
   },
   "source": [
    "<!-- Equation labels as ordinary links -->\n",
    "<div id=\"_auto12\"></div>\n",
    "\n",
    "$$\n",
    "\\begin{equation} \n",
    "    +\\sigma_x^i\\sigma_y^j \\sigma_y^a \\sigma_y^b + \\sigma_x^i \\sigma_x^j \\sigma_x^a \\sigma_y^b \\notag \n",
    "\\label{_auto12} \\tag{24}\n",
    "\\end{equation}\n",
    "$$"
   ]
  },
  {
   "cell_type": "markdown",
   "id": "a50764cb",
   "metadata": {
    "editable": true
   },
   "source": [
    "<!-- Equation labels as ordinary links -->\n",
    "<div id=\"_auto13\"></div>\n",
    "\n",
    "$$\n",
    "\\begin{equation} \n",
    "    - \\sigma_y^i \\sigma_x^j \\sigma_x^a \\sigma_x^b - \\sigma_x^i \\sigma_y^j \\sigma_x^a \\sigma_x^b \\notag \n",
    "\\label{_auto13} \\tag{25}\n",
    "\\end{equation}\n",
    "$$"
   ]
  },
  {
   "cell_type": "markdown",
   "id": "006b8913",
   "metadata": {
    "editable": true
   },
   "source": [
    "<!-- Equation labels as ordinary links -->\n",
    "<div id=\"_auto14\"></div>\n",
    "\n",
    "$$\n",
    "\\begin{equation} \n",
    "    -\\sigma_y^i \\sigma_y^j \\sigma_y^a \\sigma_x^b - \\sigma_y^i \\sigma_y^j \\sigma_x^a \\sigma_y^b ),\n",
    "\\label{_auto14} \\tag{26}\n",
    "\\end{equation}\n",
    "$$"
   ]
  },
  {
   "cell_type": "markdown",
   "id": "8f5b5cd9",
   "metadata": {
    "editable": true
   },
   "source": [
    "where we can assume that $i < j < a < b$. The subscript denotes which qubit we act upon with the Pauli gates."
   ]
  },
  {
   "cell_type": "markdown",
   "id": "b488086d",
   "metadata": {
    "editable": true
   },
   "source": [
    "## Preparing for quantum computing, Suzuki-Trotter approximation\n",
    "\n",
    "The preparation of this trial wavefunction is by first utilizing the Suzuki-Trotter approximation\n",
    "on the operator. Denoting \n",
    "$$\\hat{Z}_{ij}^{ab} =i\\frac{t_{ij}^{ab}}{8p}(\\bigotimes_{k=i+1}^{j-1}\\sigma_z^k)(\\bigotimes_{l=a+1}^{b-1}\\sigma_l^z),$$ \n",
    "the Suzuki-Trotter approximation gives"
   ]
  },
  {
   "cell_type": "markdown",
   "id": "becaa114",
   "metadata": {
    "editable": true
   },
   "source": [
    "<!-- Equation labels as ordinary links -->\n",
    "<div id=\"eq:UCCTrotterApprox\"></div>\n",
    "\n",
    "$$\n",
    "\\begin{equation}\n",
    "\\label{eq:UCCTrotterApprox} \\tag{27}\n",
    "    \\vert \\psi(\\boldsymbol{t})\\rangle \\approx  \\bigg( \\prod_{ijab} e^{\\hat{Z}_{ij}^{ab}\\sigma_x^i \\sigma_x^j \\sigma_y^a \\sigma_x^b }\n",
    "    e^{\\hat{Z}_{ij}^{ab}\\sigma_y^i \\sigma_x^j \\sigma_y^a \\sigma_y^b }\n",
    "    e^{\\hat{Z}_{ij}^{ab}\\sigma_x^i\\sigma_y^j \\sigma_y^a \\sigma_y^b }\n",
    "    e^{\\hat{Z}_{ij}^{ab}\\sigma_x^i \\sigma_x^j \\sigma_x^a \\sigma_y^b } \\notag \n",
    "\\end{equation}\n",
    "$$"
   ]
  },
  {
   "cell_type": "markdown",
   "id": "8856b4cf",
   "metadata": {
    "editable": true
   },
   "source": [
    "<!-- Equation labels as ordinary links -->\n",
    "<div id=\"_auto15\"></div>\n",
    "\n",
    "$$\n",
    "\\begin{equation} \n",
    "    e^{-\\hat{Z}_{ij}^{ab}\\sigma_y^i \\sigma_x^j \\sigma_x^a \\sigma_x^b }\n",
    "    e^{-\\hat{Z}_{ij}^{ab}\\sigma_x^i \\sigma_y^j \\sigma_x^a \\sigma_x^b }\n",
    "    e^{-\\hat{Z}_{ij}^{ab}\\sigma_y^i \\sigma_y^j \\sigma_y^a \\sigma_x^b }\n",
    "    e^{-\\hat{Z}_{ij}^{ab}\\sigma_y^i \\sigma_y^j \\sigma_x^a \\sigma_y^b }\n",
    "    \\bigg)^p \\vert c \\rangle,\n",
    "\\label{_auto15} \\tag{28}\n",
    "\\end{equation}\n",
    "$$"
   ]
  },
  {
   "cell_type": "markdown",
   "id": "60b0e2df",
   "metadata": {
    "editable": true
   },
   "source": [
    "where $p$ decides the step size in the Suzuki-Trotter approximation\n",
    "and will be restricted to $p=1$ in our discussions."
   ]
  },
  {
   "cell_type": "markdown",
   "id": "d3ab916d",
   "metadata": {
    "editable": true
   },
   "source": [
    "## More details\n",
    "\n",
    "Since\n",
    "we are dealing with the pairing Hamiltonian as an example system in this school, we can\n",
    "reduce the number of terms in our ansatz by not allowing to break\n",
    "particle pairs. The Taylor expansion of the UCCD operator gives us"
   ]
  },
  {
   "cell_type": "markdown",
   "id": "fd1e39b4",
   "metadata": {
    "editable": true
   },
   "source": [
    "<!-- Equation labels as ordinary links -->\n",
    "<div id=\"_auto16\"></div>\n",
    "\n",
    "$$\n",
    "\\begin{equation}\n",
    "    e^{\\sum_{ijab} t_{ij}^{ab}(a^\\dagger_a a^\\dagger_b a_j a_i - a^\\dagger_i a^\\dagger_j a_b a_a)} = I + \\sum_{ijab} t_{ij}^{ab}(a^\\dagger_a a^\\dagger_b a_j a_i - a^\\dagger_i a^\\dagger_j a_b a_a) \\notag \n",
    "\\label{_auto16} \\tag{29}\n",
    "\\end{equation}\n",
    "$$"
   ]
  },
  {
   "cell_type": "markdown",
   "id": "83bbff84",
   "metadata": {
    "editable": true
   },
   "source": [
    "<!-- Equation labels as ordinary links -->\n",
    "<div id=\"_auto17\"></div>\n",
    "\n",
    "$$\n",
    "\\begin{equation} \n",
    "     + [\\sum_{ijab} t_{ij}^{ab}(a^\\dagger_a a^\\dagger_b a_j a_i - a^\\dagger_i a^\\dagger_j a_b a_a)]^2/2! \\notag \n",
    "\\label{_auto17} \\tag{30}\n",
    "\\end{equation}\n",
    "$$"
   ]
  },
  {
   "cell_type": "markdown",
   "id": "97492abf",
   "metadata": {
    "editable": true
   },
   "source": [
    "<!-- Equation labels as ordinary links -->\n",
    "<div id=\"_auto18\"></div>\n",
    "\n",
    "$$\n",
    "\\begin{equation} \n",
    "    + \\cdots.\n",
    "\\label{_auto18} \\tag{31}\n",
    "\\end{equation}\n",
    "$$"
   ]
  },
  {
   "cell_type": "markdown",
   "id": "b32285c0",
   "metadata": {
    "editable": true
   },
   "source": [
    "We can immediately see that the first sum over $i,j,a,b$ will break\n",
    "pairs if we do not introduce a restriction on the sum. This can be\n",
    "explained by the fact that any non zero $t_{ij}^{ab}$ will include the\n",
    "following term $$ t_{ij}^{ab}(a^\\dagger_a a^\\dagger_b a_j a_i -\n",
    "a^\\dagger_i a^\\dagger_j a_b a_a)\\vert c \\rangle, $$ which will break\n",
    "pairs if $j \\neq i+1$ and $b \\neq a+1$.  Hence we make the restriction\n",
    "$j = i+1$ and $b = a+1$."
   ]
  }
 ],
 "metadata": {},
 "nbformat": 4,
 "nbformat_minor": 5
}
