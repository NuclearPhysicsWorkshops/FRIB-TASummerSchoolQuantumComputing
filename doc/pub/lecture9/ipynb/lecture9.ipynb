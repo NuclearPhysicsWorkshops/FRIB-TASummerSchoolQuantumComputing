{
 "cells": [
  {
   "cell_type": "markdown",
   "id": "32e8e044",
   "metadata": {
    "editable": true
   },
   "source": [
    "<!-- HTML file automatically generated from DocOnce source (https://github.com/doconce/doconce/)\n",
    "doconce format html lecture9.do.txt --no_mako -->\n",
    "<!-- dom:TITLE: Quantum algorithms (VQE) and nuclear physics with applications, parts I and II    -->"
   ]
  },
  {
   "cell_type": "markdown",
   "id": "5a5daa30",
   "metadata": {
    "editable": true
   },
   "source": [
    "# Quantum algorithms (VQE) and nuclear physics with applications, parts I and II   \n",
    "**Benjamin Hall and Morten Hjorth-Jensen**, [Facility for Rare Isotope Beams and National Superconducting Cyclotron Laboratory](http://www.frib.msu.edu/) and [Department of Physics and Astronomy](https://www.pa.msu.edu/), [Michigan State University](http://www.msu.edu/), East Lansing, MI 48824, USA\n",
    "\n",
    "Date: **Jun 18, 2022**\n",
    "\n",
    "Copyright 2013-2022, Benjamin Hall and Morten Hjorth-Jensen. Released under CC Attribution-NonCommercial 4.0 license"
   ]
  },
  {
   "cell_type": "markdown",
   "id": "3cb46806",
   "metadata": {
    "editable": true
   },
   "source": [
    "## Overview\n",
    "\n",
    "In these two lectures we will derive the essential elements for using\n",
    "the VQE algorithm applied to a selected nuclear physics model, in our\n",
    "case the so-called pairing Hamiltonian.  In order to do so, we will\n",
    "need to present the so-called Jordan-Wigner transformation first. We\n",
    "will apply this to the pairing Hamiltonian discusse previously. This\n",
    "Hamiltonian is writen in second quantization and we will use the Pauli\n",
    "matrices discussed earlier in order to rewrite the second-quantization\n",
    "creation and annihilation operators in terms of Pauli matrices. \n",
    "\n",
    "The unitary coupled cluster approach is discussed below here.\n",
    "\n",
    "Thereafter, in the second lecture,  we discuss how to implement the VQE algorithm. The results\n",
    "obtained with the VQE algorithm will be compared to those obtained by\n",
    "using FCI and the unitary coupled cluster method (as well as the\n",
    "standard coupled cluster method with doubles excitations only)."
   ]
  },
  {
   "cell_type": "markdown",
   "id": "359de1a0",
   "metadata": {
    "editable": true
   },
   "source": [
    "## The Jordan-Wigner transformation\n",
    "\n",
    "The Jordan-Wigner transformation is a transformation that maps the\n",
    "Pauli gates discussed earlier onto fermionic creation and\n",
    "annihilation operators. The creation and annihilation operators from\n",
    "the second quantization formalism (can then be represented on quantum\n",
    "computers, and we will be able to rewrite our second quantization\n",
    "Hamiltonian in terms of\n",
    "quantum gates. Suppose that we represent a qubit in state $\\vert 0\\rangle$ as\n",
    "a state occupied with a fermion and $\\vert 1 \\rangle$ as a state with no\n",
    "fermion. We then see that the operators"
   ]
  },
  {
   "cell_type": "markdown",
   "id": "4cd1c25f",
   "metadata": {
    "editable": true
   },
   "source": [
    "<!-- Equation labels as ordinary links -->\n",
    "<div id=\"eq:sigmaplussigmaminus\"></div>\n",
    "\n",
    "$$\n",
    "\\begin{equation}\n",
    "\\label{eq:sigmaplussigmaminus} \\tag{1}\n",
    "    \\sigma_+ = \\frac{1}{2}(\\sigma_x + i\\sigma_y) = \\begin{bmatrix}\n",
    "    0  1  \n",
    "\\end{equation}\n",
    "$$"
   ]
  },
  {
   "cell_type": "markdown",
   "id": "2545a823",
   "metadata": {
    "editable": true
   },
   "source": [
    "<!-- Equation labels as ordinary links -->\n",
    "<div id=\"_auto1\"></div>\n",
    "\n",
    "$$\n",
    "\\begin{equation} \n",
    "    0  0\n",
    "\\end{bmatrix} \\notag \n",
    "\\label{_auto1} \\tag{2}\n",
    "\\end{equation}\n",
    "$$"
   ]
  },
  {
   "cell_type": "markdown",
   "id": "a5f683f8",
   "metadata": {
    "editable": true
   },
   "source": [
    "<!-- Equation labels as ordinary links -->\n",
    "<div id=\"_auto2\"></div>\n",
    "\n",
    "$$\n",
    "\\begin{equation} \n",
    "    \\sigma_- = \\frac{1}{2}(\\sigma_x - i\\sigma_y) = \\begin{bmatrix}\n",
    "    0  0  \n",
    "\\label{_auto2} \\tag{3}\n",
    "\\end{equation}\n",
    "$$"
   ]
  },
  {
   "cell_type": "markdown",
   "id": "6330cc87",
   "metadata": {
    "editable": true
   },
   "source": [
    "<!-- Equation labels as ordinary links -->\n",
    "<div id=\"_auto3\"></div>\n",
    "\n",
    "$$\n",
    "\\begin{equation} \n",
    "    1  0\n",
    "\\end{bmatrix},\n",
    "\\label{_auto3} \\tag{4}\n",
    "\\end{equation}\n",
    "$$"
   ]
  },
  {
   "cell_type": "markdown",
   "id": "a9f4c212",
   "metadata": {
    "editable": true
   },
   "source": [
    "have the following effect on the qubit basis states\n",
    "$$\\sigma_+ \\vert 1 \\rangle = \\vert 0\\rangle \\qquad \\sigma_- \\vert 0\\rangle = \\vert 1 \\rangle,$$\n",
    "and\n",
    "$$\\sigma_+ \\vert 0\\rangle = 0 \\qquad \\sigma_-\\vert 1 \\rangle = 0.$$\n",
    "\n",
    "Hence, $\\sigma_+$ acts as a creation operator and $\\sigma_-$ acts as an annihilation operator. However, since fermionic states are anti-symmetric, $a^\\dagger_a a^\\dagger_b \\vert c \\rangle = - a^\\dagger_b a^\\dagger_a \\vert c \\rangle$, we need our quantum gate representation of the creation/annihilation operators to preserve this property. This can be achieved by multiplying the $\\sigma_z$ matrix on all the occupied states leading up to the one we operate on. The complete creation and annihilation operators can then be represented as"
   ]
  },
  {
   "cell_type": "markdown",
   "id": "ccedc583",
   "metadata": {
    "editable": true
   },
   "source": [
    "<!-- Equation labels as ordinary links -->\n",
    "<div id=\"eq:LadderOpsPauli\"></div>\n",
    "\n",
    "$$\n",
    "\\begin{equation}\n",
    "\\label{eq:LadderOpsPauli} \\tag{5}\n",
    "    a^\\dagger_n \\equiv \\left(\\prod_{k=1}^{n-1}\\sigma_z^k \\right)\\sigma_+^n \\qquad a_n \\equiv \\left(\\prod_{k=1}^{n-1}\\sigma_z^k \\right) \\sigma_-^n\n",
    "\\end{equation}\n",
    "$$"
   ]
  },
  {
   "cell_type": "markdown",
   "id": "a7caa421",
   "metadata": {
    "editable": true
   },
   "source": [
    "where the superscript tells us which qubit the operator acts on. For\n",
    "convenience, we chose that odd qubits are in a spin up state, while\n",
    "even qubits are in spin down state. For example for the following\n",
    "state"
   ]
  },
  {
   "cell_type": "markdown",
   "id": "106b7dc0",
   "metadata": {
    "editable": true
   },
   "source": [
    "$$\n",
    "\\begin{align*}\n",
    "    \\textit{Qubit state:} & \\vert 0 \\: \\; \\ 0 \\: \\; \\ 1 \\: \\; \\ 1 \\rangle \\\\\n",
    "    \\textit{Spin state:} & + \\; - \\; + \\; - \\; \\\\\n",
    "    \\textit{Spacial state:} & \\ 1 \\; \\: \\ 1 \\ \\; \\: 2 \\ \\; \\: 2 \\; ,\n",
    "\\end{align*}\n",
    "$$"
   ]
  },
  {
   "cell_type": "markdown",
   "id": "522b9e3a",
   "metadata": {
    "editable": true
   },
   "source": [
    "the first spacial basis state is occupied with a fermion pair with opposite spin, while the second spacial state is not occupied with any fermions.\n",
    "The equivalent of the reference state for our qubit-state is then"
   ]
  },
  {
   "cell_type": "markdown",
   "id": "070eb71f",
   "metadata": {
    "editable": true
   },
   "source": [
    "<!-- Equation labels as ordinary links -->\n",
    "<div id=\"_auto4\"></div>\n",
    "\n",
    "$$\n",
    "\\begin{equation}\n",
    "    \\vert \\Psi_0\\rangle = \\vert 0\\rangle^{\\otimes^n}\\vert 1 \\rangle^{\\otimes^k},\n",
    "\\label{_auto4} \\tag{6}\n",
    "\\end{equation}\n",
    "$$"
   ]
  },
  {
   "cell_type": "markdown",
   "id": "0a157eac",
   "metadata": {
    "editable": true
   },
   "source": [
    "where $n$ is the number of particles and $n+k$ is the number of spin-orbitals."
   ]
  },
  {
   "cell_type": "markdown",
   "id": "d6dd2634",
   "metadata": {
    "editable": true
   },
   "source": [
    "## Jordan-Wigner transformation of Pairing Hamiltonian\n",
    "\n",
    "We can write the pairing Hamiltonian in  second quantized representation in terms of the Pauli matrices. A detailed derivation is provided in appendix B. Here we simply state the result: For the one body part of the Hamiltonian we have the terms"
   ]
  },
  {
   "cell_type": "markdown",
   "id": "98c828dc",
   "metadata": {
    "editable": true
   },
   "source": [
    "<!-- Equation labels as ordinary links -->\n",
    "<div id=\"eq:Onebodyintermsofpauli\"></div>\n",
    "\n",
    "$$\n",
    "\\begin{equation}\n",
    "\\label{eq:Onebodyintermsofpauli} \\tag{7}\n",
    "    \\hat{H}_{0p} = \\frac{1}{2}\\delta(p - 1 - I[p\\%2=0])(I^p + \\sigma_z^p),\n",
    "\\end{equation}\n",
    "$$"
   ]
  },
  {
   "cell_type": "markdown",
   "id": "2c98fe85",
   "metadata": {
    "editable": true
   },
   "source": [
    "where we sum over each qubit $p$ and $\\%$ is the modulo operator. We have that $I[f(x) = y] = 1$ if $f(x) = y$ and zero otherwise. For the interaction term we have two possibilities. First for $p = q$ we have:"
   ]
  },
  {
   "cell_type": "markdown",
   "id": "c2b7ecaf",
   "metadata": {
    "editable": true
   },
   "source": [
    "<!-- Equation labels as ordinary links -->\n",
    "<div id=\"eq:twobodypaulipisq\"></div>\n",
    "\n",
    "$$\n",
    "\\label{eq:twobodypaulipisq} \\tag{8}\n",
    "    \\hat{V}_{p} = -\\frac{1}{8}g\\Big[ I^{\\otimes^{2p-2}} \\otimes I  \\otimes I \\otimes I^{\\otimes^{n - 2p}} \\nonumber\n",
    "$$"
   ]
  },
  {
   "cell_type": "markdown",
   "id": "5152c15b",
   "metadata": {
    "editable": true
   },
   "source": [
    "<!-- Equation labels as ordinary links -->\n",
    "<div id=\"_auto5\"></div>\n",
    "\n",
    "$$\n",
    "\\begin{equation} \n",
    "    + I^{\\otimes^{2p-2}} \\otimes I  \\otimes \\sigma_z \\otimes I^{\\otimes^{n - 2p}} \n",
    "\\label{_auto5} \\tag{9}\n",
    "\\end{equation}\n",
    "$$"
   ]
  },
  {
   "cell_type": "markdown",
   "id": "343a213e",
   "metadata": {
    "editable": true
   },
   "source": [
    "$$\n",
    "+ I^{\\otimes^{2p-2}} \\otimes \\sigma_z  \\otimes I \\otimes I^{\\otimes^{n - 2p}} \\nonumber\n",
    "$$"
   ]
  },
  {
   "cell_type": "markdown",
   "id": "be28c56b",
   "metadata": {
    "editable": true
   },
   "source": [
    "$$\n",
    "+ I^{\\otimes^{2p-2}} \\otimes \\sigma_z  \\otimes \\sigma_z \\otimes I^{\\otimes^{n - 2p}}\\Big],\\nonumber\n",
    "$$"
   ]
  },
  {
   "cell_type": "markdown",
   "id": "6ae2b84e",
   "metadata": {
    "editable": true
   },
   "source": [
    "and for $q - p \\geq 1$ we get:"
   ]
  },
  {
   "cell_type": "markdown",
   "id": "d0a71cca",
   "metadata": {
    "editable": true
   },
   "source": [
    "<!-- Equation labels as ordinary links -->\n",
    "<div id=\"eq:twobodypauliqgeqp\"></div>\n",
    "\n",
    "$$\n",
    "\\label{eq:twobodypauliqgeqp} \\tag{10}\n",
    "       \\hat{V}_{pq} = -\\frac{1}{16}g [ I^{\\otimes^{2p -2}} \\otimes \\sigma_x \\otimes \\sigma_x \\otimes I^{\\otimes^{2(q - p - 1)}} \\otimes \\sigma_x \\otimes \\sigma_x \\otimes I^{\\otimes^{n-2q}} \\nonumber\n",
    "$$"
   ]
  },
  {
   "cell_type": "markdown",
   "id": "66148b3c",
   "metadata": {
    "editable": true
   },
   "source": [
    "$$\n",
    "-I^{\\otimes^{2p -2}} \\otimes \\sigma_x \\otimes \\sigma_x \\otimes I^{\\otimes^{2(q - p - 1)}} \\otimes \\sigma_y \\otimes \\sigma_y \\otimes I^{\\otimes^{n-2q}} \\nonumber\n",
    "$$"
   ]
  },
  {
   "cell_type": "markdown",
   "id": "579bb5f7",
   "metadata": {
    "editable": true
   },
   "source": [
    "$$\n",
    "+ I^{\\otimes^{2p -2}} \\otimes \\sigma_x \\otimes \\sigma_y \\otimes I^{\\otimes^{2(q - p - 1)}} \\otimes \\sigma_x \\otimes \\sigma_y \\otimes I^{\\otimes^{n-2q}} \\nonumber\n",
    "$$"
   ]
  },
  {
   "cell_type": "markdown",
   "id": "d825e9f0",
   "metadata": {
    "editable": true
   },
   "source": [
    "<!-- Equation labels as ordinary links -->\n",
    "<div id=\"_auto6\"></div>\n",
    "\n",
    "$$\n",
    "\\begin{equation} \n",
    "         + I^{\\otimes^{2p -2}} \\otimes \\sigma_x \\otimes \\sigma_y \\otimes I^{\\otimes^{2(q - p - 1)}} \\otimes \\sigma_y \\otimes \\sigma_x \\otimes I^{\\otimes^{n-2q}}  \n",
    "\\label{_auto6} \\tag{11}\n",
    "\\end{equation}\n",
    "$$"
   ]
  },
  {
   "cell_type": "markdown",
   "id": "a30a85f0",
   "metadata": {
    "editable": true
   },
   "source": [
    "$$\n",
    "+ I^{\\otimes^{2p -2}} \\otimes \\sigma_y \\otimes \\sigma_x \\otimes I^{\\otimes^{2(q - p - 1)}} \\otimes \\sigma_x \\otimes \\sigma_y \\otimes I^{\\otimes^{n-2q}} \\nonumber\n",
    "$$"
   ]
  },
  {
   "cell_type": "markdown",
   "id": "bd04eafa",
   "metadata": {
    "editable": true
   },
   "source": [
    "$$\n",
    "+ I^{\\otimes^{2p -2}} \\otimes \\sigma_y \\otimes \\sigma_x \\otimes I^{\\otimes^{2(q - p - 1)}} \\otimes \\sigma_y \\otimes \\sigma_x \\otimes I^{\\otimes^{n-2q}} \\nonumber\n",
    "$$"
   ]
  },
  {
   "cell_type": "markdown",
   "id": "f323741d",
   "metadata": {
    "editable": true
   },
   "source": [
    "$$\n",
    "- I^{\\otimes^{2p -2}} \\otimes \\sigma_y \\otimes \\sigma_y \\otimes I^{\\otimes^{2(q - p - 1)}} \\otimes \\sigma_x \\otimes \\sigma_x \\otimes I^{\\otimes^{n-2q}} \\nonumber\n",
    "$$"
   ]
  },
  {
   "cell_type": "markdown",
   "id": "54d83ce9",
   "metadata": {
    "editable": true
   },
   "source": [
    "$$\n",
    "+ I^{\\otimes^{2p -2}} \\otimes \\sigma_y \\otimes \\sigma_y \\otimes I^{\\otimes^{2(q - p - 1)}} \\otimes \\sigma_y \\otimes \\sigma_y \\otimes I^{\\otimes^{n-2q}}].\\nonumber\n",
    "$$"
   ]
  },
  {
   "cell_type": "markdown",
   "id": "7775615d",
   "metadata": {
    "editable": true
   },
   "source": [
    "We have included a factor of two so the sum over $p$ and $q$ here can be restricted to $q > p$.\n",
    "The complete Jordan-Wigner transformed pairing Hamiltonian can then be written as"
   ]
  },
  {
   "cell_type": "markdown",
   "id": "437bae24",
   "metadata": {
    "editable": true
   },
   "source": [
    "<!-- Equation labels as ordinary links -->\n",
    "<div id=\"eq:JordanWignerHamiltonian\"></div>\n",
    "\n",
    "$$\n",
    "\\begin{equation}\n",
    "\\label{eq:JordanWignerHamiltonian} \\tag{12}\n",
    "    \\hat{H} = \\sum_p \\hat{H}_{0p} + \\sum_{p} \\hat{V}_p + \\sum_{q > p} \\hat{V}_{pq},\n",
    "\\end{equation}\n",
    "$$"
   ]
  },
  {
   "cell_type": "markdown",
   "id": "b3ccab19",
   "metadata": {
    "editable": true
   },
   "source": [
    "where $\\hat{H}_{0p}$, $\\hat{V}_p$ and $\\hat{V}_{pq}$ is given by the one-body part and two-body part, respectively, of the Hamiltonian."
   ]
  },
  {
   "cell_type": "markdown",
   "id": "a6510f5a",
   "metadata": {
    "editable": true
   },
   "source": [
    "## Details behind the derivation of the Jordan-Wigner transformed Pairing Hamiltonian\n",
    "\n",
    "Here we show how we write our pairing Hamiltonian in terms of the Pauli matrices. First, we observe that\n",
    "$$a^\\dagger_i a_i = \\left(\\prod_{k=1}^{i-1}\\sigma_z^k \\right)\\sigma_+^i \\left(\\prod_{k=1}^{i-1}\\sigma_z^k \\right) \\sigma_-^i $$\n",
    "$$ =\\sigma_+^i \\sigma_-^i = \\frac{1}{2}(I^i + \\sigma_z^i) ,$$\n",
    "and see that the one-body part of the Hamiltonian can be written as"
   ]
  },
  {
   "cell_type": "markdown",
   "id": "4c6ac8be",
   "metadata": {
    "editable": true
   },
   "source": [
    "$$\n",
    "\\hat{H}_0 = \\frac{1}{2}\\xi \\sum_{p} ([(p-1) - (p-1)\\%2]/2)(I^p + \\sigma_z^p).\n",
    "$$"
   ]
  },
  {
   "cell_type": "markdown",
   "id": "cb361bd2",
   "metadata": {
    "editable": true
   },
   "source": [
    "where $p$ now runs over each qubit and $\\%$ is the modulo operator. For the interaction term, we get"
   ]
  },
  {
   "cell_type": "markdown",
   "id": "c981a2cd",
   "metadata": {
    "editable": true
   },
   "source": [
    "<!-- Equation labels as ordinary links -->\n",
    "<div id=\"eq:Twobodyintermsofpauli\"></div>\n",
    "\n",
    "$$\n",
    "\\begin{equation}\n",
    "\\label{eq:Twobodyintermsofpauli} \\tag{13}\n",
    "    \\hat{V} = \\notag \n",
    "\\end{equation}\n",
    "$$"
   ]
  },
  {
   "cell_type": "markdown",
   "id": "a12f22e6",
   "metadata": {
    "editable": true
   },
   "source": [
    "<!-- Equation labels as ordinary links -->\n",
    "<div id=\"_auto7\"></div>\n",
    "\n",
    "$$\n",
    "\\begin{equation} \n",
    "    -\\frac{1}{2}g \\sum_{pq}\\left( \\prod_{k=1}^{2p-2} \\sigma_z^k \\right)\\sigma_{+}^{2p-1} \\left( \\prod_{k=1}^{2p-1} \\sigma_z^k \\right)\\sigma_{+}^{2p}\n",
    "    \\left( \\prod_{k=1}^{2q-1} \\sigma_z^k \\right)\\sigma_{-}^{2q} \\left( \\prod_{k=1}^{2q-2} \\sigma_z^k \\right)\\sigma_{-}^{2q-1}. \n",
    "\\label{_auto7} \\tag{14}\n",
    "\\end{equation}\n",
    "$$"
   ]
  },
  {
   "cell_type": "markdown",
   "id": "05a23dd6",
   "metadata": {
    "editable": true
   },
   "source": [
    "We can see that"
   ]
  },
  {
   "cell_type": "markdown",
   "id": "ecae8cf0",
   "metadata": {
    "editable": true
   },
   "source": [
    "$$\n",
    "\\begin{align*}\n",
    "    \\left( \\prod_{k=1}^{2p-2} \\sigma_z^k \\right)\\sigma_{+}^{2p-1} \\left( \\prod_{k=1}^{2p-1} \\sigma_z^k \\right)\\sigma_{+}^{2p} = \\notag \\\\\n",
    "    \\sigma_z^{\\otimes^{2p-2}} \\otimes \\sigma_+ \\otimes I^{\\otimes^{n - 2p-1}} \\times \n",
    "    \\sigma_z^{\\otimes^{2p-1}} \\otimes \\sigma_+ \\otimes I^{\\otimes^{n - 2p}} = \\notag \\\\\n",
    "    I^{\\otimes^{2p-2}} \\otimes \\sigma_+ \\sigma_z \\otimes \\sigma_+ \\otimes I^{\\otimes^{n - 2p}},\n",
    "\\end{align*}\n",
    "$$"
   ]
  },
  {
   "cell_type": "markdown",
   "id": "033aa626",
   "metadata": {
    "editable": true
   },
   "source": [
    "so we can rewrite this equation as"
   ]
  },
  {
   "cell_type": "markdown",
   "id": "2c508252",
   "metadata": {
    "editable": true
   },
   "source": [
    "$$\n",
    "\\begin{align*}\n",
    "    \\hat{V} &= \\notag \\\\\n",
    "    &-\\frac{1}{2} g\\sum_{pq}\\left[I^{\\otimes^{2p-2}} \\otimes \\sigma_+ \\otimes \\sigma_+ \\otimes I^{\\otimes^{n - 2p}} \\right] \\left[ I^{\\otimes^{2q-2}} \\otimes \\sigma_- \\otimes \\sigma_- \\otimes I^{\\otimes^{n - 2q}} \\right].\n",
    "\\end{align*}\n",
    "$$"
   ]
  },
  {
   "cell_type": "markdown",
   "id": "25f38c05",
   "metadata": {
    "editable": true
   },
   "source": [
    "We have two possibilities here. First for $p=q$:"
   ]
  },
  {
   "cell_type": "markdown",
   "id": "5234d0da",
   "metadata": {
    "editable": true
   },
   "source": [
    "<!-- Equation labels as ordinary links -->\n",
    "<div id=\"eq:PisQ\"></div>\n",
    "\n",
    "$$\n",
    "\\begin{equation}\n",
    "\\label{eq:PisQ} \\tag{15}\n",
    "    -\\frac{1}{2}g \\left[ I^{\\otimes^{2p-2}} \\otimes \\sigma_+ \\sigma_-  \\otimes \\sigma_+ \\sigma_- \\otimes I^{\\otimes^{n - 2p}} \\right],\n",
    "\\end{equation}\n",
    "$$"
   ]
  },
  {
   "cell_type": "markdown",
   "id": "cecfd288",
   "metadata": {
    "editable": true
   },
   "source": [
    "and for $q - p \\geq 1$ we have"
   ]
  },
  {
   "cell_type": "markdown",
   "id": "18231b08",
   "metadata": {
    "editable": true
   },
   "source": [
    "<!-- Equation labels as ordinary links -->\n",
    "<div id=\"eq:PgeqQ\"></div>\n",
    "\n",
    "$$\n",
    "\\begin{equation}\n",
    "\\label{eq:PgeqQ} \\tag{16}\n",
    "    -\\frac{1}{2}g \\left[ I^{\\otimes^{2p-2}} \\otimes \\sigma_+ \\otimes \\sigma_+ \\otimes I^{\\otimes^{2(q - p - 1)}} \\otimes \\sigma_- \\otimes \\sigma_- \\otimes I^{\\otimes^{n-2q}} \\right].\n",
    "\\end{equation}\n",
    "$$"
   ]
  },
  {
   "cell_type": "markdown",
   "id": "9cfc5d31",
   "metadata": {
    "editable": true
   },
   "source": [
    "For $p - q \\geq 1$ we simply exchange $p$ with $q$ and $\\sigma_+$ with $\\sigma_-$.\n",
    "To continue, we insert the expressions for $\\sigma_{\\pm}$ into these equations. For $p = q$ we then have:"
   ]
  },
  {
   "cell_type": "markdown",
   "id": "3adfe9d3",
   "metadata": {
    "editable": true
   },
   "source": [
    "$$\n",
    "\\begin{align*}\n",
    "   V_{p=q} = -\\frac{1}{8}g\\Big[ I^{\\otimes^{2p-2}} \\otimes & (I + \\sigma_z)  \\otimes (I + \\sigma_z) \\otimes I^{\\otimes^{n - 2p}} \\Big] \\\\\n",
    "    = -\\frac{1}{8}g\\Big[& I^{\\otimes^{2p-2}} \\otimes I  \\otimes I \\otimes I^{\\otimes^{n - 2p}} \\nonumber \\\\\n",
    "    +& I^{\\otimes^{2p-2}} \\otimes I  \\otimes \\sigma_z \\otimes I^{\\otimes^{n - 2p}} \\nonumber \\\\\n",
    "    +& I^{\\otimes^{2p-2}} \\otimes \\sigma_z  \\otimes I \\otimes I^{\\otimes^{n - 2p}} \\nonumber \\\\\n",
    "    +& I^{\\otimes^{2p-2}} \\otimes \\sigma_z  \\otimes \\sigma_z \\otimes I^{\\otimes^{n - 2p}}\\Big],\\nonumber \n",
    "\\end{align*}\n",
    "$$"
   ]
  },
  {
   "cell_type": "markdown",
   "id": "07d0d569",
   "metadata": {
    "editable": true
   },
   "source": [
    "and for $q - p \\geq 1$ we get"
   ]
  },
  {
   "cell_type": "markdown",
   "id": "77277feb",
   "metadata": {
    "editable": true
   },
   "source": [
    "$$\n",
    "-\\frac{1}{32}g \\left[ I^{\\otimes^{2p-2}} \\otimes (\\sigma_x + i\\sigma_y) \\otimes (\\sigma_x + i\\sigma_y) \\otimes I^{\\otimes^{2(q - p - 1)}} \\otimes (\\sigma_x - i\\sigma_y) \\otimes (\\sigma_x - i\\sigma_y) \\otimes I^{\\otimes^{n-2q}} \\right].\n",
    "$$"
   ]
  },
  {
   "cell_type": "markdown",
   "id": "fa5ad0c6",
   "metadata": {
    "editable": true
   },
   "source": [
    "This can be rewritten as sixteen four-qubit operations"
   ]
  },
  {
   "cell_type": "markdown",
   "id": "c88a197e",
   "metadata": {
    "editable": true
   },
   "source": [
    "$$\n",
    "\\begin{align*}\n",
    "        -\\frac{1}{32}g & [ I^{\\otimes^{2p_q -2}} \\otimes \\sigma_x \\otimes \\sigma_x \\otimes I^{\\otimes^{2(q_p - p_q - 1)}} \\otimes \\sigma_x \\otimes \\sigma_x \\otimes I^{\\otimes^{n-2q_p}} \\nonumber \\\\\n",
    "        & \\mp i I^{\\otimes^{2p_q - 2}} \\otimes \\sigma_x \\otimes \\sigma_x \\otimes I^{\\otimes^{2(q_p - p_q - 1)}} \\otimes \\sigma_x \\otimes \\sigma_y \\otimes I^{\\otimes^{n-2q_p}} \\nonumber \\\\\n",
    "        & \\mp iI^{\\otimes^{2p_q - 2}} \\otimes \\sigma_x \\otimes \\sigma_x \\otimes I^{\\otimes^{2(q_p - p_q - 1)}} \\otimes \\sigma_y \\otimes \\sigma_x \\otimes I^{\\otimes^{n-2q_p}} \\nonumber \\\\\n",
    "        & -I^{\\otimes^{2p_q -2}} \\otimes \\sigma_x \\otimes \\sigma_x \\otimes I^{\\otimes^{2(q_p - p_q - 1)}} \\otimes \\sigma_y \\otimes \\sigma_y \\otimes I^{\\otimes^{n-2q_p}} \\nonumber \\\\\n",
    "        & \\pm i I^{\\otimes^{2p_q -2}} \\otimes \\sigma_x \\otimes \\sigma_y \\otimes I^{\\otimes^{2(q_p - p_q - 1)}} \\sigma_x \\otimes \\sigma_x \\otimes I^{\\otimes^{n-2q_p}} \\nonumber \\\\\n",
    "        & + I^{\\otimes^{2p_q -2}} \\otimes \\sigma_x \\otimes \\sigma_y \\otimes I^{\\otimes^{2(q_p - p_q - 1)}} \\otimes \\sigma_x \\otimes \\sigma_y \\otimes I^{\\otimes^{n-2q_p}} \\nonumber \\\\\n",
    "        & + I^{\\otimes^{2p_q -2}} \\otimes \\sigma_x \\otimes \\sigma_y \\otimes I^{\\otimes^{2(q_p - p_q - 1)}} \\otimes \\sigma_y \\otimes \\sigma_x \\otimes I^{\\otimes^{n-2q_p}} \\nonumber \\\\\n",
    "        & \\mp i I^{\\otimes^{2p_q -2}} \\otimes \\sigma_x \\otimes \\sigma_y \\otimes I^{\\otimes^{2(q_p - p_q - 1)}} \\otimes \\sigma_y \\otimes \\sigma_y \\otimes I^{\\otimes^{n-2q_p}} \\\\\n",
    "        & \\pm i I^{\\otimes^{2p_q -2}} \\otimes \\sigma_y \\otimes \\sigma_x \\otimes I^{\\otimes^{2(q_p - p_q - 1)}} \\otimes \\sigma_x \\otimes \\sigma_x \\otimes I^{\\otimes^{n-2q_p}} \\nonumber \\\\\n",
    "        &+ I^{\\otimes^{2p_q -2}} \\otimes \\sigma_y \\otimes \\sigma_x \\otimes I^{\\otimes^{2(q_p - p_q - 1)}} \\otimes \\sigma_x \\otimes \\sigma_y \\otimes I^{\\otimes^{n-2q_p}} \\nonumber \\\\\n",
    "        & + I^{\\otimes^{2p_q -2}} \\otimes \\sigma_y \\otimes \\sigma_x \\otimes I^{\\otimes^{2(q_p - p_q - 1)}} \\otimes \\sigma_y \\otimes \\sigma_x \\otimes I^{\\otimes^{n-2q_p}} \\nonumber \\\\\n",
    "        & \\mp i I^{\\otimes^{2p_q -2}} \\otimes \\sigma_y \\otimes \\sigma_x \\otimes I^{\\otimes^{2(q_p - p_q - 1)}} \\otimes \\sigma_y \\otimes \\sigma_y \\otimes I^{\\otimes^{n-2q_p}} \\nonumber \\\\\n",
    "        & - I^{\\otimes^{2p_q -2}} \\otimes \\sigma_y \\otimes \\sigma_y \\otimes I^{\\otimes^{2(q_p - p_q - 1)}} \\otimes \\sigma_x \\otimes \\sigma_x \\otimes I^{\\otimes^{n-2q_p}} \\nonumber \\\\\n",
    "        &\\pm i I^{\\otimes^{2p_q -2}} \\otimes \\sigma_y \\otimes \\sigma_y \\otimes I^{\\otimes^{2(q_p - p_q - 1)}} \\otimes \\sigma_x \\otimes \\sigma_y \\otimes I^{\\otimes^{n-2q_p}} \\nonumber \\\\\n",
    "        &\\pm i I^{\\otimes^{2p_q -2}} \\otimes \\sigma_y \\otimes \\sigma_y \\otimes I^{\\otimes^{2(q_p - p_q - 1)}} \\otimes \\sigma_y \\otimes \\sigma_x \\otimes I^{\\otimes^{n-2q_p}} \\nonumber \\\\\n",
    "        &+ I^{\\otimes^{2p_q -2}} \\otimes \\sigma_y \\otimes \\sigma_y \\otimes I^{\\otimes^{2(q_p - p_q - 1)}} \\otimes \\sigma_y \\otimes \\sigma_y \\otimes I^{\\otimes^{n-2q_p}}],\\nonumber \n",
    "\\end{align*}\n",
    "$$"
   ]
  },
  {
   "cell_type": "markdown",
   "id": "f590b57e",
   "metadata": {
    "editable": true
   },
   "source": [
    "where the subscript is used if $p > q$.  We can easily see that when\n",
    "running over the sum over $p$ and $q$, the terms with $\\pm$ and $\\mp$\n",
    "sign in front will cancel out. Also, we can include a factor 2 and\n",
    "limit the sum to $p < q$. Therefore:"
   ]
  },
  {
   "cell_type": "markdown",
   "id": "9de17a7e",
   "metadata": {
    "editable": true
   },
   "source": [
    "$$\n",
    "\\begin{align*}\n",
    "      V_{p\\neq q} =  -\\frac{1}{16}g [& I^{\\otimes^{2p -2}} \\otimes \\sigma_x \\otimes \\sigma_x \\otimes I^{\\otimes^{2(q - p - 1)}} \\otimes \\sigma_x \\otimes \\sigma_x \\otimes I^{\\otimes^{n-2q}} \\nonumber \\\\\n",
    "        & -I^{\\otimes^{2p -2}} \\otimes \\sigma_x \\otimes \\sigma_x \\otimes I^{\\otimes^{2(q - p - 1)}} \\otimes \\sigma_y \\otimes \\sigma_y \\otimes I^{\\otimes^{n-2q}} \\nonumber \\\\\n",
    "        & + I^{\\otimes^{2p -2}} \\otimes \\sigma_x \\otimes \\sigma_y \\otimes I^{\\otimes^{2(q - p - 1)}} \\otimes \\sigma_x \\otimes \\sigma_y \\otimes I^{\\otimes^{n-2q}} \\nonumber \\\\\n",
    "        & + I^{\\otimes^{2p -2}} \\otimes \\sigma_x \\otimes \\sigma_y \\otimes I^{\\otimes^{2(q - p - 1)}} \\otimes \\sigma_y \\otimes \\sigma_x \\otimes I^{\\otimes^{n-2q}}  \\\\\n",
    "        &+ I^{\\otimes^{2p -2}} \\otimes \\sigma_y \\otimes \\sigma_x \\otimes I^{\\otimes^{2(q - p - 1)}} \\otimes \\sigma_x \\otimes \\sigma_y \\otimes I^{\\otimes^{n-2q}} \\nonumber \\\\\n",
    "        & + I^{\\otimes^{2p -2}} \\otimes \\sigma_y \\otimes \\sigma_x \\otimes I^{\\otimes^{2(q - p - 1)}} \\otimes \\sigma_y \\otimes \\sigma_x \\otimes I^{\\otimes^{n-2q}} \\nonumber \\\\\n",
    "        & - I^{\\otimes^{2p -2}} \\otimes \\sigma_y \\otimes \\sigma_y \\otimes I^{\\otimes^{2(q - p - 1)}} \\otimes \\sigma_x \\otimes \\sigma_x \\otimes I^{\\otimes^{n-2q}} \\nonumber \\\\\n",
    "        &+ I^{\\otimes^{2p -2}} \\otimes \\sigma_y \\otimes \\sigma_y \\otimes I^{\\otimes^{2(q - p - 1)}} \\otimes \\sigma_y \\otimes \\sigma_y \\otimes I^{\\otimes^{n-2q}}].\\nonumber \n",
    "\\end{align*}\n",
    "$$"
   ]
  },
  {
   "cell_type": "markdown",
   "id": "505ac210",
   "metadata": {
    "editable": true
   },
   "source": [
    "## Variational Quantum Eigensolvers\n",
    "\n",
    "As discussed in the lecture on the VQE algorithm, the variational principle states that the expectation value of the\n",
    "Hamiltonian has to be larger than or equal to the ground state energy\n",
    "of the system. Mathematically this can be expressed as"
   ]
  },
  {
   "cell_type": "markdown",
   "id": "0763e38f",
   "metadata": {
    "editable": true
   },
   "source": [
    "<!-- Equation labels as ordinary links -->\n",
    "<div id=\"_auto8\"></div>\n",
    "\n",
    "$$\n",
    "\\begin{equation}\n",
    "    \\langle\\psi\\vert  H \\vert \\psi \\rangle  \\geq E_0.\n",
    "\\label{_auto8} \\tag{17}\n",
    "\\end{equation}\n",
    "$$"
   ]
  },
  {
   "cell_type": "markdown",
   "id": "8900b95d",
   "metadata": {
    "editable": true
   },
   "source": [
    "We can understand this principle intuitively by considering that no\n",
    "single measurement of the energy can be lower than the ground state\n",
    "energy. Hence, the expectation value of the energy can\n",
    "neither. Variational methods make use of this principle by calculating\n",
    "the expectation value in the baove equation for what we call a trial\n",
    "wavefunction $\\vert \\psi_T(\\boldsymbol{\\theta)\\rangle}$: $$\\langle\n",
    "\\psi_T(\\boldsymbol{\\theta})\\vert H\n",
    "\\vert\\psi_T(\\boldsymbol{\\theta})\\rangle = E(\\boldsymbol{\\theta}).$$\n",
    "\n",
    "The variational parameters $\\boldsymbol{\\theta} = [\\theta_1, \\theta_2, \\cdots, \\theta_p]$ are then varied to minimize $E(\\boldsymbol{\\theta})$, which hopefully makes a good approximation for $E_0$. For variational quantum eigensolvers (VQE), the trial wave function is given by a parametrized n-qubit state\n",
    "$$ U(\\boldsymbol{\\theta}) \\vert\\psi_0\\rangle = \\vert\\psi_T(\\boldsymbol{\\theta})\\rangle, $$\n",
    "where $U(\\boldsymbol{\\theta})$ is some parametrized multi-qubit gate and $\\vert\\psi_0\\rangle$ is the initial state of the qubits.\n",
    "As long as the Hamiltonian can be rewritten as a sum of quantum gates $O_i$\n",
    "$$ H = \\sum_{i=1}^m h_i O_i, $$\n",
    "we can find its expectation value by considering the expectation of each term"
   ]
  },
  {
   "cell_type": "markdown",
   "id": "c8446c71",
   "metadata": {
    "editable": true
   },
   "source": [
    "<!-- Equation labels as ordinary links -->\n",
    "<div id=\"_auto9\"></div>\n",
    "\n",
    "$$\n",
    "\\begin{equation}\n",
    "    \\langle \\psi_T(\\boldsymbol{\\theta})\\vert  H \\vert \\psi_T(\\boldsymbol{\\theta})\\rangle = \\sum_{i=1}^m h_i \\langle \\psi_T(\\boldsymbol{\\theta})\\vert  O_i \\vert \\psi_T(\\boldsymbol{\\theta})\\rangle.\n",
    "\\label{_auto9} \\tag{18}\n",
    "\\end{equation}\n",
    "$$"
   ]
  },
  {
   "cell_type": "markdown",
   "id": "c8a2bb06",
   "metadata": {
    "editable": true
   },
   "source": [
    "The implementation details will be discussed in the next lecture."
   ]
  },
  {
   "cell_type": "markdown",
   "id": "bc22ca38",
   "metadata": {
    "editable": true
   },
   "source": [
    "## Unitary Coupled Cluster ansatz\n",
    "\n",
    "The coupled cluster ansatz is given by \n",
    "$$\\vert \\psi_{CC}\\rangle  = e^{\\hat{T}} \\vert c \\rangle ,$$\n",
    "with the cluster operator $\\hat{T}$ and $\\vert c \\rangle$ being our reference state. This type of ansatz is not implementable on a quantum computer since $e^{\\hat{T}}$ is not a unitary operator. Unitary coupled cluster instead suggest that we write our ansatz as"
   ]
  },
  {
   "cell_type": "markdown",
   "id": "eae92210",
   "metadata": {
    "editable": true
   },
   "source": [
    "<!-- Equation labels as ordinary links -->\n",
    "<div id=\"eq:UnitaryCoupledClusterAnsatz\"></div>\n",
    "\n",
    "$$\n",
    "\\begin{equation}\n",
    "\\label{eq:UnitaryCoupledClusterAnsatz} \\tag{19}\n",
    "    \\vert\\psi_{UCC}\\rangle = e^{\\hat{T} - \\hat{T}^\\dagger}\\vert \\psi_0\\rangle ,\n",
    "\\end{equation}\n",
    "$$"
   ]
  },
  {
   "cell_type": "markdown",
   "id": "613478b3",
   "metadata": {
    "editable": true
   },
   "source": [
    "where $\\hat{T}$ is the usual coupled cluster operator and the state $\\vert \\psi_0\\rangle $ is the reference state.\n",
    "One can show that $e^{\\hat{T} - \\hat{T}^\\dagger}$ is unitary \\[[UCCDArticle]](#UCCDArticle).\n",
    "\n",
    "The unitary coupled cluster doubles (UCCD) method introduces the cluster operator"
   ]
  },
  {
   "cell_type": "markdown",
   "id": "673a0f39",
   "metadata": {
    "editable": true
   },
   "source": [
    "<!-- Equation labels as ordinary links -->\n",
    "<div id=\"eq:UnitaryOp\"></div>\n",
    "\n",
    "$$\n",
    "\\begin{equation}\n",
    "\\label{eq:UnitaryOp} \\tag{20}\n",
    "    \\hat{T}_{UCCD} = \\hat{T} - \\hat{T}^\\dagger =  \\notag \n",
    "\\end{equation}\n",
    "$$"
   ]
  },
  {
   "cell_type": "markdown",
   "id": "dbf234b7",
   "metadata": {
    "editable": true
   },
   "source": [
    "<!-- Equation labels as ordinary links -->\n",
    "<div id=\"_auto10\"></div>\n",
    "\n",
    "$$\n",
    "\\begin{equation} \n",
    "     \\sum_{ijab} t_{ij}^{ab}(a^\\dagger_a a^\\dagger_b a_j a_i - a^\\dagger_i a^\\dagger_j a_b a_a),\n",
    "\\label{_auto10} \\tag{21}\n",
    "\\end{equation}\n",
    "$$"
   ]
  },
  {
   "cell_type": "markdown",
   "id": "ec928059",
   "metadata": {
    "editable": true
   },
   "source": [
    "where we vary the trial wavefunction over the real cluster amplitudes $t_{ij}^{ab}$. Note that this ansatz\n",
    "depends on the number of particles in our system as we sum over $i$ and $j$. Hence, we can specify the specific configuration we wish to solve for, unlike the previously discussed ansatzes. \n",
    "Rewriting eq. ([20](#eq:UnitaryOp)) in terms of Pauli gates by utilizing the Jordan-Wigner transformation results in"
   ]
  },
  {
   "cell_type": "markdown",
   "id": "032a4139",
   "metadata": {
    "editable": true
   },
   "source": [
    "<!-- Equation labels as ordinary links -->\n",
    "<div id=\"eq:UCCDoublesGates\"></div>\n",
    "\n",
    "$$\n",
    "\\begin{equation}\n",
    "\\label{eq:UCCDoublesGates} \\tag{22}\n",
    "    t_{ij}^{ab}(a^\\dagger_a a^\\dagger_b a_j a_i - a^\\dagger_i a^\\dagger_j a_b a_a) = \\frac{it_{ij}^{ab}}{8} \\bigotimes_{k=i+1}^{j-1}\\sigma_z^k \\bigotimes_{l=a+1}^{b-1}\\sigma_z^l \\notag \n",
    "\\end{equation}\n",
    "$$"
   ]
  },
  {
   "cell_type": "markdown",
   "id": "9cc515c8",
   "metadata": {
    "editable": true
   },
   "source": [
    "<!-- Equation labels as ordinary links -->\n",
    "<div id=\"_auto11\"></div>\n",
    "\n",
    "$$\n",
    "\\begin{equation} \n",
    "    (\\sigma_x^i \\sigma_x^j \\sigma_y^a \\sigma_x^b + \\sigma_y^i \\sigma_x^j \\sigma_y^a \\sigma_y^b \\notag \n",
    "\\label{_auto11} \\tag{23}\n",
    "\\end{equation}\n",
    "$$"
   ]
  },
  {
   "cell_type": "markdown",
   "id": "20b6c191",
   "metadata": {
    "editable": true
   },
   "source": [
    "<!-- Equation labels as ordinary links -->\n",
    "<div id=\"_auto12\"></div>\n",
    "\n",
    "$$\n",
    "\\begin{equation} \n",
    "    +\\sigma_x^i\\sigma_y^j \\sigma_y^a \\sigma_y^b + \\sigma_x^i \\sigma_x^j \\sigma_x^a \\sigma_y^b \\notag \n",
    "\\label{_auto12} \\tag{24}\n",
    "\\end{equation}\n",
    "$$"
   ]
  },
  {
   "cell_type": "markdown",
   "id": "97d12625",
   "metadata": {
    "editable": true
   },
   "source": [
    "<!-- Equation labels as ordinary links -->\n",
    "<div id=\"_auto13\"></div>\n",
    "\n",
    "$$\n",
    "\\begin{equation} \n",
    "    - \\sigma_y^i \\sigma_x^j \\sigma_x^a \\sigma_x^b - \\sigma_x^i \\sigma_y^j \\sigma_x^a \\sigma_x^b \\notag \n",
    "\\label{_auto13} \\tag{25}\n",
    "\\end{equation}\n",
    "$$"
   ]
  },
  {
   "cell_type": "markdown",
   "id": "a34ba7dc",
   "metadata": {
    "editable": true
   },
   "source": [
    "<!-- Equation labels as ordinary links -->\n",
    "<div id=\"_auto14\"></div>\n",
    "\n",
    "$$\n",
    "\\begin{equation} \n",
    "    -\\sigma_y^i \\sigma_y^j \\sigma_y^a \\sigma_x^b - \\sigma_y^i \\sigma_y^j \\sigma_x^a \\sigma_y^b ),\n",
    "\\label{_auto14} \\tag{26}\n",
    "\\end{equation}\n",
    "$$"
   ]
  },
  {
   "cell_type": "markdown",
   "id": "6d388ec7",
   "metadata": {
    "editable": true
   },
   "source": [
    "where we can assume that $i < j < a < b$. The subscript denotes which qubit we act upon with the Pauli gates.\n",
    "The preparation of this trial wavefunction is done on a quantum computing by first utilizing the Suzuki-Trotter approximation\n",
    "on the operator. Denoting \n",
    "$$\\hat{Z}_{ij}^{ab} =i\\frac{t_{ij}^{ab}}{8p}(\\bigotimes_{k=i+1}^{j-1}\\sigma_z^k)(\\bigotimes_{l=a+1}^{b-1}\\sigma_l^z),$$ \n",
    "the Suzuki-Trotter approximation gives"
   ]
  },
  {
   "cell_type": "markdown",
   "id": "bfaac981",
   "metadata": {
    "editable": true
   },
   "source": [
    "<!-- Equation labels as ordinary links -->\n",
    "<div id=\"eq:UCCTrotterApprox\"></div>\n",
    "\n",
    "$$\n",
    "\\begin{equation}\n",
    "\\label{eq:UCCTrotterApprox} \\tag{27}\n",
    "    \\vert \\psi(\\boldsymbol{t})\\rangle \\approx  \\bigg( \\prod_{ijab} e^{\\hat{Z}_{ij}^{ab}\\sigma_x^i \\sigma_x^j \\sigma_y^a \\sigma_x^b }\n",
    "    e^{\\hat{Z}_{ij}^{ab}\\sigma_y^i \\sigma_x^j \\sigma_y^a \\sigma_y^b }\n",
    "    e^{\\hat{Z}_{ij}^{ab}\\sigma_x^i\\sigma_y^j \\sigma_y^a \\sigma_y^b }\n",
    "    e^{\\hat{Z}_{ij}^{ab}\\sigma_x^i \\sigma_x^j \\sigma_x^a \\sigma_y^b } \\notag \n",
    "\\end{equation}\n",
    "$$"
   ]
  },
  {
   "cell_type": "markdown",
   "id": "3790496f",
   "metadata": {
    "editable": true
   },
   "source": [
    "<!-- Equation labels as ordinary links -->\n",
    "<div id=\"_auto15\"></div>\n",
    "\n",
    "$$\n",
    "\\begin{equation} \n",
    "    e^{-\\hat{Z}_{ij}^{ab}\\sigma_y^i \\sigma_x^j \\sigma_x^a \\sigma_x^b }\n",
    "    e^{-\\hat{Z}_{ij}^{ab}\\sigma_x^i \\sigma_y^j \\sigma_x^a \\sigma_x^b }\n",
    "    e^{-\\hat{Z}_{ij}^{ab}\\sigma_y^i \\sigma_y^j \\sigma_y^a \\sigma_x^b }\n",
    "    e^{-\\hat{Z}_{ij}^{ab}\\sigma_y^i \\sigma_y^j \\sigma_x^a \\sigma_y^b }\n",
    "    \\bigg)^p \\vert c \\rangle,\n",
    "\\label{_auto15} \\tag{28}\n",
    "\\end{equation}\n",
    "$$"
   ]
  },
  {
   "cell_type": "markdown",
   "id": "d1a791c6",
   "metadata": {
    "editable": true
   },
   "source": [
    "where $p$ decides the step size in the Suzuki-Trotter approximation\n",
    "and will be restricted to $p=1$ in our discussions.\n",
    "Since\n",
    "we are dealing with the pairing Hamiltonian as an example system in this school, we can\n",
    "reduce the number of terms in our ansatz by not allowing to break\n",
    "particle pairs. The Taylor expansion of the UCCD operator gives us"
   ]
  },
  {
   "cell_type": "markdown",
   "id": "1b322f5f",
   "metadata": {
    "editable": true
   },
   "source": [
    "<!-- Equation labels as ordinary links -->\n",
    "<div id=\"_auto16\"></div>\n",
    "\n",
    "$$\n",
    "\\begin{equation}\n",
    "    e^{\\sum_{ijab} t_{ij}^{ab}(a^\\dagger_a a^\\dagger_b a_j a_i - a^\\dagger_i a^\\dagger_j a_b a_a)} = I + \\sum_{ijab} t_{ij}^{ab}(a^\\dagger_a a^\\dagger_b a_j a_i - a^\\dagger_i a^\\dagger_j a_b a_a) \\notag \n",
    "\\label{_auto16} \\tag{29}\n",
    "\\end{equation}\n",
    "$$"
   ]
  },
  {
   "cell_type": "markdown",
   "id": "55af11b9",
   "metadata": {
    "editable": true
   },
   "source": [
    "<!-- Equation labels as ordinary links -->\n",
    "<div id=\"_auto17\"></div>\n",
    "\n",
    "$$\n",
    "\\begin{equation} \n",
    "     + [\\sum_{ijab} t_{ij}^{ab}(a^\\dagger_a a^\\dagger_b a_j a_i - a^\\dagger_i a^\\dagger_j a_b a_a)]^2/2! \\notag \n",
    "\\label{_auto17} \\tag{30}\n",
    "\\end{equation}\n",
    "$$"
   ]
  },
  {
   "cell_type": "markdown",
   "id": "94e12049",
   "metadata": {
    "editable": true
   },
   "source": [
    "<!-- Equation labels as ordinary links -->\n",
    "<div id=\"_auto18\"></div>\n",
    "\n",
    "$$\n",
    "\\begin{equation} \n",
    "    + \\cdots.\n",
    "\\label{_auto18} \\tag{31}\n",
    "\\end{equation}\n",
    "$$"
   ]
  },
  {
   "cell_type": "markdown",
   "id": "f07090ee",
   "metadata": {
    "editable": true
   },
   "source": [
    "We can immediately see that the first sum over $i,j,a,b$ will break pairs if we do not introduce a restriction on the sum. This can be explained by the fact that any non zero $t_{ij}^{ab}$ will include the following term\n",
    "$$\n",
    "t_{ij}^{ab}(a^\\dagger_a a^\\dagger_b a_j a_i - a^\\dagger_i a^\\dagger_j a_b a_a)\\vert c \\rangle,\n",
    "$$\n",
    "which will break pairs if $j \\neq i+1$ and $b \\neq a+1$. \n",
    "Hence we make the restriction $j = i+1$ and $b = a+1$."
   ]
  }
 ],
 "metadata": {},
 "nbformat": 4,
 "nbformat_minor": 5
}
