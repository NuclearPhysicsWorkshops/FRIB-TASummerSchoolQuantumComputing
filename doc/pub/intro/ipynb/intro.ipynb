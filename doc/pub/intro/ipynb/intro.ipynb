{
 "cells": [
  {
   "cell_type": "markdown",
   "id": "bafa017c",
   "metadata": {
    "editable": true
   },
   "source": [
    "<!-- HTML file automatically generated from DocOnce source (https://github.com/doconce/doconce/)\n",
    "doconce format html intro.do.txt --no_mako -->\n",
    "<!-- dom:TITLE: Introduction to the FRIB-TA Summer School: Quantum Computing and Nuclear Few- and Many-Body Problems with teaching plan and learning outcomes -->"
   ]
  },
  {
   "cell_type": "markdown",
   "id": "b2869d93",
   "metadata": {
    "editable": true
   },
   "source": [
    "# Introduction to the FRIB-TA Summer School: Quantum Computing and Nuclear Few- and Many-Body Problems with teaching plan and learning outcomes\n",
    "**Facility for Rare Isotope Beams, Michigan State University, USA**\n",
    "\n",
    "Date: **June 20**"
   ]
  },
  {
   "cell_type": "markdown",
   "id": "39f7afd8",
   "metadata": {
    "editable": true
   },
   "source": [
    "## Introduction\n",
    "\n",
    "Recent developments in quantum information systems and technologies\n",
    "offer the possibility to address some of the most challenging\n",
    "large-scale problems in science, whether they are represented by\n",
    "complicated interacting quantum mechanical systems or classical\n",
    "systems. The last years have seen a rapid and exciting development in\n",
    "algorithms and quantum hardware.  The emphasis of this summer school\n",
    "is to highlight, through a series of lectures and hands-on exercises\n",
    "and practice sessions, how quantum computing algorithms can be used to\n",
    "study nuclear few- and many-body problems of relevance for low-energy\n",
    "nuclear physics.  And how quantum computing algorithms can aid in\n",
    "studying systems with increasingly many more degrees of freedom\n",
    "compared with more classical few- and many-body methods.  Several\n",
    "quantum algorithms for solving quantum-mechanical few- and\n",
    "many-particle problems with be discussed.  The lectures will start\n",
    "with the basic ideas of quantum computing. Thereafter, through\n",
    "examples from nuclear physics, we will elucidate how different quantum\n",
    "algorithms can be used to study these systems. The results from\n",
    "various quantum computing algorithms will be compared to standard\n",
    "nuclear few- and many-body methods"
   ]
  },
  {
   "cell_type": "markdown",
   "id": "1b435abe",
   "metadata": {
    "editable": true
   },
   "source": [
    "### Organizers:\n",
    "\n",
    "Alexei Bazavov (MSU), Scott Bogner (MSU), Heiko Hergert (MSU), Matthew Hirn (MSU), Morten Hjorth-Jensen (MSU), Dean Lee (MSU), Huey-Wen Lin (MSU), and Andrea Shindler (MSU)\n",
    "Morten Hjorth-Jensen, hjensen@msu.edu"
   ]
  },
  {
   "cell_type": "markdown",
   "id": "080e625c",
   "metadata": {
    "editable": true
   },
   "source": [
    "## Aims and Learning Outcomes"
   ]
  },
  {
   "cell_type": "markdown",
   "id": "bb5b591c",
   "metadata": {
    "editable": true
   },
   "source": [
    "### The following topics will be covered\n",
    "\n",
    "1. Basic elements of quantum computing (first day) with introduction to relevant software, including\n",
    "\n",
    "a. Introduction to quantum computing, qubits and systems of qubits\n",
    "\n",
    "b. Measurements, Superposition and Entanglement\n",
    "\n",
    "c. Gates, unitary transformations and quantum circuits\n",
    "\n",
    "d. Quantum algorithms and implementation on a real quantum computer\n",
    "\n",
    "5. Simulating quantum-mechanical few- and many-body systems\n",
    "\n",
    "a. Quantum algorithms for quantum mechanical systems\n",
    "\n",
    "b. Quantum simulation of the Schroedinger equation\n",
    "\n",
    "c. Quantum computing and nuclear few- and many-body systems\n",
    "\n",
    "d. Quantum state preparation and Quantum simulations\n",
    "\n",
    "e. Quantum simulations on a real quantum computer\n",
    "\n",
    "6. Quantum field theory and quantum computing\n",
    "\n",
    "7. Noise, error correction and mitigation\n",
    "\n",
    "All of the above topics will be supported by examples, hands-on exercises and project work."
   ]
  },
  {
   "cell_type": "markdown",
   "id": "29df5d0c",
   "metadata": {
    "editable": true
   },
   "source": [
    "## Practicalities\n",
    "\n",
    "1. Lectures Monday through Wednesday, starting at 830am, see schedule below\n",
    "\n",
    "2. Hands-on sessions before lunch and in the afternoons till 6pm\n",
    "\n",
    "3. For all lecture days we provide relevant jupyter-notebooks you can work on"
   ]
  },
  {
   "cell_type": "markdown",
   "id": "b9a1dcf9",
   "metadata": {
    "editable": true
   },
   "source": [
    "## Learning material and resources\n",
    "1. Qiskit textbook, free online, see <https://qiskit.org/textbook/preface.html>\n",
    "\n",
    "2. Scherer, The Mathematics of Quantum Computing, see <https://link.springer.com/book/10.1007/978-3-030-12358-1>\n",
    "\n",
    "3. Chuang and Nielsen, Quantum Computation and Quantum Information, <https://www.cambridge.org/highereducation/books/quantum-computation-and-quantum-information/01E10196D0A682A6AEFFEA52D53BE9AE#overview>\n",
    "\n",
    "4. Hundt, Quantum Computing for programmers, <https://www.cambridge.org/core/books/quantum-computing-for-programmers/BA1C887BE4AC0D0D5653E71FFBEF61C6>"
   ]
  },
  {
   "cell_type": "markdown",
   "id": "e6348ab9",
   "metadata": {
    "editable": true
   },
   "source": [
    "### Good resources\n",
    "\n",
    "With the hands-on programming component we strongly recommend that you install Qiskit on your computer before the school starts. \n",
    "1. For Qiskit, follow the  instructions at <https://qiskit.org/documentation/getting_started.html>\n",
    "\n",
    "2. We strongly recommend using the Jupyter notebook environment at <https://quantum-computing.ibm.com/>. This environment has Qiskit already set up and is free,  just requires an email to register. It has built in support for Jupyter notebooks and should be sufficient for everything needed.\n",
    "\n",
    "3. See also Ryan Larose's (from 2019) Quantum computing bootcamp with Qiskit - <https://github.com/rmlarose/qcbq.>\n",
    "\n",
    "4. See also <https://www.ryanlarose.com/external-resources.html>"
   ]
  },
  {
   "cell_type": "markdown",
   "id": "5f39be0b",
   "metadata": {
    "editable": true
   },
   "source": [
    "## Detailed lecture plan\n",
    "\n",
    "The duration of each lecture is approximately 45-50 minutes and there\n",
    "is a small break of 10-15 minutes between each lecture. Longer breaks\n",
    "at 1030am-11am and 3pm-330pm, except for Monday where there is also\n",
    "the possibility fora guided FRIB tour.  In-person attendance is the\n",
    "main teaching modus, but lectures and hands-on sessions will be\n",
    "broadcasted via zoom for those who cannot attend in person. The zoom\n",
    "link will be sent to those who have expressed that they cannot attend\n",
    "in person. The lectures will also be recorded."
   ]
  },
  {
   "cell_type": "markdown",
   "id": "fec51b61",
   "metadata": {
    "editable": true
   },
   "source": [
    "### Teachers\n",
    "\n",
    "* AB = Alexei Bazavov\n",
    "\n",
    "* BH = Benjamin Hall\n",
    "\n",
    "* DL = Dean Lee\n",
    "\n",
    "* JW = Jacob Watkins\n",
    "\n",
    "* JB = Joey Bonitati\n",
    "\n",
    "* MHJ = Morten Hjorth-Jensen\n",
    "\n",
    "* RL = Ryan Larose\n",
    "\n",
    "* QZ - Zhenrong Qian"
   ]
  },
  {
   "cell_type": "markdown",
   "id": "f6732075",
   "metadata": {
    "editable": true
   },
   "source": [
    "### Monday June 20\n",
    "\n",
    "* 8am-830am: Welcome and registration\n",
    "\n",
    "* 830am-930am: Introduction to quantum computing, qubits, systems of qubits, gates and quantum circuits (AB)\n",
    "\n",
    "* 930am-1030am: Measurements, Superposition, Entanglement (AB)\n",
    "\n",
    "* 1030am-11am: Break, coffee, tea etc\n",
    "\n",
    "* 11am-12pm: Hands-on session with applications and introduction to software libraries (AB, JW, RL) \n",
    "\n",
    "* 12pm-1pm: Lunch (shorter lunch, else 1h30m lunches)\n",
    "\n",
    "* 1pm-2pm: Quantum algorithms (Time evolution) for solving quantum mechanical problems (DL, JB, JW, and ZQ), simple problems\n",
    "\n",
    "* 2pm-3pm: Quantum algorithms (Phase estimation) for solving quantum mechanical problems (DL, JB, JW, and ZQ), simple problems\n",
    "\n",
    "* 3pm-4pm: Break, coffee, tea or tour for FRIB for those interested. Please let us know if you are interested in a tour of FRIB.\n",
    "\n",
    "* 4pm-6pm: Hands-on sessions and problem solving (AB+all)"
   ]
  },
  {
   "cell_type": "markdown",
   "id": "4501dd1c",
   "metadata": {
    "editable": true
   },
   "source": [
    "### Tuesday June 21\n",
    "\n",
    "* 830-930am: Time evolution, Suzuki-Trotter approximation and quantum simulations (DL and JW) (advanced topic)\n",
    "\n",
    "* 930am-1030am: Introduction to VQE and simple model (BH) \n",
    "\n",
    "* 1030am-11am: Break, coffee, tea etc\n",
    "\n",
    "* 11am-12pm: Many-body theory and nuclear few- and many-body systems (BH and MHJ)\n",
    "\n",
    "* 12pm-130pm: Lunch\n",
    "\n",
    "* 130pm-230pm:  Quantum algorithms (VQE) and nuclear physics with applications (BH and MHJ), part 1\n",
    "\n",
    "* 230pm-330pm:  Quantum algorithms (VQE) and nuclear physics with applications (BH and MHJ), part 2\n",
    "\n",
    "* 330pm-4pm: Break, coffee, tea etc\n",
    "\n",
    "* 4pm-6pm: Hands-on sessions and problem solving (BH and JW+all)"
   ]
  },
  {
   "cell_type": "markdown",
   "id": "6c8d8710",
   "metadata": {
    "editable": true
   },
   "source": [
    "### Wednesday June 22\n",
    "\n",
    "* 830am-930am: Noise, error correction and mitigation, part I (RL)\n",
    "\n",
    "* 930am-1030am: Noise, error correction and mitigation, part II (RL)\n",
    "\n",
    "* 1030am-11am: Break, coffee, tea etc\n",
    "\n",
    "* 11am-12pm: Practicing error correction and mitigation, hands-on part (RL)\n",
    "\n",
    "* 12pm-130pm: Lunch\n",
    "\n",
    "* 130pm-230pm: Wrapping up and defining nuclear many-body system to study for hands-on session (All)\n",
    "\n",
    "* 230pm-330pm: Start hands-on session (RL)\n",
    "\n",
    "* 330pm-4pm: Break, coffee, tea etc\n",
    "\n",
    "* 4pm-6pm: Hands-on sessions and problem solving (all)"
   ]
  },
  {
   "cell_type": "markdown",
   "id": "9c1e7f50",
   "metadata": {
    "editable": true
   },
   "source": [
    "## Prerequisites\n",
    "\n",
    "You are expected to have operating programming skills in programming\n",
    "languages like Python (preferred) and/or Fortran, C++, Julia or\n",
    "similar and knowledge of quantum mechanics at an intermediate level\n",
    "(senior undergraduate and/or beginning graduate). Knowledge of linear\n",
    "algebra is essential.  Additional modules for self-teaching on Python\n",
    "and quantum mechanics are also provided."
   ]
  },
  {
   "cell_type": "markdown",
   "id": "8278ed36",
   "metadata": {
    "editable": true
   },
   "source": [
    "## Software and needed installations\n",
    "\n",
    "We will make extensive use of Python as programming language and its\n",
    "myriad of available libraries.  You will find\n",
    "Jupyter notebooks invaluable in your work.\n",
    "\n",
    "If you have Python installed (we strongly recommend Python3) and you feel\n",
    "pretty familiar with installing different packages, we recommend that\n",
    "you install the following Python packages via **pip** as \n",
    "\n",
    "1. pip install numpy scipy matplotlib ipython scikit-learn mglearn sympy pandas pillow \n",
    "\n",
    "For Python3, replace **pip** with **pip3**.\n",
    "\n",
    "For OSX users we recommend, after having installed Xcode, to\n",
    "install **brew**. Brew allows for a seamless installation of additional\n",
    "software via for example \n",
    "\n",
    "1. brew install python3\n",
    "\n",
    "For Linux users, with its variety of distributions like for example the widely popular Ubuntu distribution,\n",
    "you can use **pip** as well and simply install Python as \n",
    "\n",
    "1. sudo apt-get install python3  (or python for pyhton2.7)\n",
    "\n",
    "etc etc."
   ]
  },
  {
   "cell_type": "markdown",
   "id": "cad7bc62",
   "metadata": {
    "editable": true
   },
   "source": [
    "## Python installers\n",
    "\n",
    "If you don't want to perform these operations separately and venture\n",
    "into the hassle of exploring how to set up dependencies and paths, we\n",
    "recommend two widely used distrubutions which set up all relevant\n",
    "dependencies for Python, namely \n",
    "\n",
    "* [Anaconda](https://docs.anaconda.com/), \n",
    "\n",
    "which is an open source\n",
    "distribution of the Python and R programming languages for large-scale\n",
    "data processing, predictive analytics, and scientific computing, that\n",
    "aims to simplify package management and deployment. Package versions\n",
    "are managed by the package management system **conda**. \n",
    "\n",
    "* [Enthought canopy](https://www.enthought.com/product/canopy/) \n",
    "\n",
    "is a Python\n",
    "distribution for scientific and analytic computing distribution and\n",
    "analysis environment, available for free and under a commercial\n",
    "license.\n",
    "\n",
    "Furthermore, [Google's Colab](https://colab.research.google.com/notebooks/welcome.ipynb) is a free Jupyter notebook environment that requires \n",
    "no setup and runs entirely in the cloud. Try it out!"
   ]
  },
  {
   "cell_type": "markdown",
   "id": "8ebd18c8",
   "metadata": {
    "editable": true
   },
   "source": [
    "## Useful Python libraries\n",
    "Here we list several useful Python libraries we strongly recommend (if you use anaconda many of these are already there)\n",
    "\n",
    "* [NumPy](https://www.numpy.org/) is a highly popular library for large, multi-dimensional arrays and matrices, along with a large collection of high-level mathematical functions to operate on these arrays\n",
    "\n",
    "* [The pandas](https://pandas.pydata.org/) library provides high-performance, easy-to-use data structures and data analysis tools \n",
    "\n",
    "* [Xarray](http://xarray.pydata.org/en/stable/) is a Python package that makes working with labelled multi-dimensional arrays simple, efficient, and fun!\n",
    "\n",
    "* [Scipy](https://www.scipy.org/) (pronounced “Sigh Pie”) is a Python-based ecosystem of open-source software for mathematics, science, and engineering. \n",
    "\n",
    "* [Matplotlib](https://matplotlib.org/) is a Python 2D plotting library which produces publication quality figures in a variety of hardcopy formats and interactive environments across platforms.\n",
    "\n",
    "* [Autograd](https://github.com/HIPS/autograd) can automatically differentiate native Python and Numpy code. It can handle a large subset of Python's features, including loops, ifs, recursion and closures, and it can even take derivatives of derivatives of derivatives\n",
    "\n",
    "* [SymPy](https://www.sympy.org/en/index.html) is a Python library for symbolic mathematics. \n",
    "\n",
    "* [scikit-learn](https://scikit-learn.org/stable/) has simple and efficient tools for machine learning, data mining and data analysis\n",
    "\n",
    "* [TensorFlow](https://www.tensorflow.org/) is a Python library for fast numerical computing created and released by Google\n",
    "\n",
    "* [Keras](https://keras.io/) is a high-level neural networks API, written in Python and capable of running on top of TensorFlow, CNTK, or Theano\n",
    "\n",
    "* And many more such as [pytorch](https://pytorch.org/),  [Theano](https://pypi.org/project/Theano/) etc \n",
    "\n",
    "All learning material and teaching schedule pertinent to the course is\n",
    "avaliable at this GitHub address. A simple **git clone** of the material\n",
    "gives you access to all lecture notes and program examples. Similarly,\n",
    "running a **git pull** gives you immediately the latest updates."
   ]
  }
 ],
 "metadata": {},
 "nbformat": 4,
 "nbformat_minor": 5
}
