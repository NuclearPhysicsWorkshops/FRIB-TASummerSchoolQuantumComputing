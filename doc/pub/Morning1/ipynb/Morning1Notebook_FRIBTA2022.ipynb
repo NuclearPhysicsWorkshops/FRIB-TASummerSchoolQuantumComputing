{
 "cells": [
  {
   "cell_type": "markdown",
   "id": "-5fNrTSlAUIT",
   "metadata": {
    "id": "-5fNrTSlAUIT"
   },
   "source": [
    "# Morning 1 Activities: Circuits, Measurements & Entanglement\n",
    "\n",
    "### Monday, June 20th 2022\n",
    "### FRIB-TA Summer School\n",
    "### Quantum Computing and Nuclear Few and Many-Body Physics\n",
    "\n",
    "Welcome to your first set of hands-on activities! For the next hour, your will work in groups and gain more experience with the material covered in the morning lectures. There is a lot of material here, so don't feel compelled to finish everything. The goal is to learn something new and help each other learn as well! You can always come back to these problems later if you're interested.\n",
    "\n",
    "Some of the skills we hope you take out of this include\n",
    "\n",
    "\n",
    "*   Preparing qubit states on quantum circuits and visualizing using the Bloch sphere with Qiskit.\n",
    "*   Execute quantum circuits to sample from the underlying probability distribution.\n",
    "*   Explore entanglement through circuits which produce maximally entangled qubits, aka \"Bell states\".\n",
    "\n",
    "\n",
    "Good luck! The organizers will be walking around to chat and answer questions.\n",
    "\n",
    "Helpful links:\n",
    "\n",
    "- [Summer school Github page](https://github.com/NuclearPhysicsWorkshops/FRIB-TASummerSchoolQuantumComputing#detailed-lecture-plan)"
   ]
  },
  {
   "cell_type": "markdown",
   "id": "nj9XIQiK4wx7",
   "metadata": {
    "id": "nj9XIQiK4wx7"
   },
   "source": [
    "## Package installation"
   ]
  },
  {
   "cell_type": "code",
   "execution_count": null,
   "id": "Rbz9dc9C4zdW",
   "metadata": {
    "colab": {
     "base_uri": "https://localhost:8080/"
    },
    "id": "Rbz9dc9C4zdW",
    "outputId": "9a764a17-b901-4288-d4ca-98652f38c818"
   },
   "outputs": [],
   "source": [
    "try:\n",
    "    import qiskit\n",
    "except ImportError:\n",
    "    !pip install qiskit~=0.20.0 pylatexenc --quiet\n",
    "    \n",
    "import matplotlib.pyplot as plt\n",
    "import numpy as np"
   ]
  },
  {
   "cell_type": "markdown",
   "id": "boxed-authority",
   "metadata": {
    "id": "boxed-authority"
   },
   "source": [
    "## Creating single-qubit states"
   ]
  },
  {
   "cell_type": "markdown",
   "id": "color-pasta",
   "metadata": {
    "id": "color-pasta"
   },
   "source": [
    "A general single-qubit state can be written\n",
    "\n",
    "$$\n",
    "|\\psi\\rangle= \\alpha |0\\rangle+ \\beta |1\\rangle \n",
    "$$\n",
    "\n",
    "with $|\\alpha|^2 + |\\beta|^2 = 1$.\n",
    "We will create this state using a quantum circuit and use Qiskit to compute the amplitudes."
   ]
  },
  {
   "cell_type": "markdown",
   "id": "S-r0S9mJiJHR",
   "metadata": {
    "id": "S-r0S9mJiJHR"
   },
   "source": [
    "### Setting up a circuit"
   ]
  },
  {
   "cell_type": "markdown",
   "id": "prescription-square",
   "metadata": {
    "id": "prescription-square"
   },
   "source": [
    "First we set up a quantum circuit in Qiskit."
   ]
  },
  {
   "cell_type": "code",
   "execution_count": null,
   "id": "republican-chemical",
   "metadata": {
    "colab": {
     "base_uri": "https://localhost:8080/",
     "height": 126
    },
    "id": "republican-chemical",
    "outputId": "47034de9-7618-449c-f5d0-66b623ad0cc8"
   },
   "outputs": [],
   "source": [
    "\"\"\"Set up a circuit in Qiskit.\"\"\"\n",
    "# Create a register with one qubit.\n",
    "qubit = qiskit.QuantumRegister(1, name=\"qubit\")\n",
    "\n",
    "# Create a quantum circuit with this register.\n",
    "circuit = qiskit.QuantumCircuit(qubit)\n",
    "\n",
    "# Visualize the circuit.  Note: `print(circuit)` is also an option if you have any difficulties with plotting libraries.\n",
    "circuit.draw('mpl', scale=1.5)"
   ]
  },
  {
   "cell_type": "markdown",
   "id": "every-april",
   "metadata": {
    "id": "every-april"
   },
   "source": [
    "We can \"simulate\" the state vector. In this case a classical simulator stores all the information about the state vector and it is available at the end of the simulation. In contrast, a real quantum measurement cannot provide amplitudes, only bitstrings sampled with probability proportional to the mod squared amplitudes. This classical state vector simulation is useful for debugging the circuit. "
   ]
  },
  {
   "cell_type": "code",
   "execution_count": null,
   "id": "nervous-commonwealth",
   "metadata": {
    "colab": {
     "base_uri": "https://localhost:8080/"
    },
    "id": "nervous-commonwealth",
    "outputId": "1adc2ebe-3d37-4600-f191-9bd9cbb524b2"
   },
   "outputs": [],
   "source": [
    "\"\"\"Use Qiskit to get the final statevector of the circuit.\"\"\"\n",
    "# Backend to run the circuit on.\n",
    "simulator = qiskit.Aer.get_backend('statevector_simulator')\n",
    "\n",
    "# Execute the circuit.\n",
    "job = qiskit.execute(circuit, simulator)\n",
    "\n",
    "# Get the statevector.\n",
    "psi = job.result().get_statevector()\n",
    "\n",
    "# Print out the amplitudes.\n",
    "for i in range(2):\n",
    "    print(\"|\" + str(i) + \"⟩ amplitude: \" + str(psi[i]))"
   ]
  },
  {
   "cell_type": "markdown",
   "id": "xyl4WjMiBO0R",
   "metadata": {
    "id": "xyl4WjMiBO0R"
   },
   "source": [
    "We'll want to print out amplitudes several more times, so for convenience the following cell defines a function to do this. The logic is the same as above."
   ]
  },
  {
   "cell_type": "code",
   "execution_count": null,
   "id": "zkjwClwS8xGd",
   "metadata": {
    "cellView": "form",
    "id": "zkjwClwS8xGd"
   },
   "outputs": [],
   "source": [
    "# @markdown `def print_bracket_notation(circuit: qiskit.QuantumCircuit, precision: int = 3) -> None:`\n",
    "def print_bracket_notation(circuit: qiskit.QuantumCircuit, precision: int = 3) -> None:\n",
    "    \"\"\"Prints the final state of the circuit in braket notation.\n",
    "    \n",
    "    Args:\n",
    "        circuit: Circuit which prepares a quantum state.\n",
    "        precision: Number of decimals for each amplitude.\n",
    "    \"\"\"\n",
    "    psi = qiskit.execute(\n",
    "        circuit, qiskit.Aer.get_backend(\"statevector_simulator\")\n",
    "    ).result().get_statevector()\n",
    "    \n",
    "    labels = [\n",
    "      f\"{str(np.round(amplitude, precision))} |{np.binary_repr(index, width=circuit.num_qubits)}⟩\"\n",
    "      for index, amplitude in enumerate(np.array(psi)) if np.abs(amplitude) > 0\n",
    "    ]\n",
    "    print(\"|𝜓⟩ = \" + \" + \".join(labels))"
   ]
  },
  {
   "cell_type": "code",
   "execution_count": null,
   "id": "LSF7f6zqiNAs",
   "metadata": {
    "colab": {
     "base_uri": "https://localhost:8080/"
    },
    "id": "LSF7f6zqiNAs",
    "outputId": "10fd365f-57ea-4e52-d16a-074152d247ae"
   },
   "outputs": [],
   "source": [
    "print_bracket_notation(circuit)"
   ]
  },
  {
   "cell_type": "markdown",
   "id": "29Zo70jSizPL",
   "metadata": {
    "id": "29Zo70jSizPL"
   },
   "source": [
    "### Visualizing single-qubit states on the Bloch sphere"
   ]
  },
  {
   "cell_type": "markdown",
   "id": "expensive-assessment",
   "metadata": {
    "id": "expensive-assessment"
   },
   "source": [
    "We can visualize the state on the Bloch sphere as follows."
   ]
  },
  {
   "cell_type": "code",
   "execution_count": null,
   "id": "5sf4Hev3i37Q",
   "metadata": {
    "colab": {
     "base_uri": "https://localhost:8080/",
     "height": 187
    },
    "id": "5sf4Hev3i37Q",
    "outputId": "b93cb695-15f3-404d-fb77-d494ff657410"
   },
   "outputs": [],
   "source": [
    "\"\"\"Plot the qubit on the Bloch sphere.\"\"\"\n",
    "qiskit.visualization.plot_bloch_multivector(state=psi)"
   ]
  },
  {
   "cell_type": "markdown",
   "id": "9R4Qx_c9jbLV",
   "metadata": {
    "id": "9R4Qx_c9jbLV"
   },
   "source": [
    "The $(x, y, z)$ coordinates on the Bloch sphere are, by definition, projections onto the Pauli $X$, $Y$, and $Z$ basis, i.e., $x = \\langle \\psi | X | \\psi \\rangle$, $y = \\langle \\psi | Y | \\psi \\rangle$, and $z = \\langle \\psi | Z | \\psi \\rangle$. You are asked to verify this below."
   ]
  },
  {
   "cell_type": "code",
   "execution_count": null,
   "id": "xpukU_Krjbib",
   "metadata": {
    "id": "xpukU_Krjbib"
   },
   "outputs": [],
   "source": [
    "\"\"\"Define the Pauli matrices (as `np.ndarray`s).\"\"\"\n",
    "xmat = qiskit.circuit.library.XGate().to_matrix()\n",
    "ymat = qiskit.circuit.library.YGate().to_matrix()\n",
    "zmat = qiskit.circuit.library.ZGate().to_matrix()"
   ]
  },
  {
   "cell_type": "code",
   "execution_count": null,
   "id": "0q1rMKeI-QBu",
   "metadata": {
    "colab": {
     "base_uri": "https://localhost:8080/",
     "height": 35
    },
    "id": "0q1rMKeI-QBu",
    "outputId": "705f8f84-dad2-4299-adbd-f90e13e142ca"
   },
   "outputs": [],
   "source": [
    "\"\"\"Compute the (x, y, z) Bloch sphere coordinates given a state |𝜓⟩.\"\"\"\n",
    "# --> Your code here.\n"
   ]
  },
  {
   "cell_type": "code",
   "execution_count": null,
   "id": "LzNQrQuK-enf",
   "metadata": {
    "id": "LzNQrQuK-enf"
   },
   "outputs": [],
   "source": [
    "###ANSWER###\n",
    "psi = np.array(psi)\n",
    "x = psi.conj().T @ xmat @ psi\n",
    "y = psi.conj().T @ ymat @ psi\n",
    "z = psi.conj().T @ zmat @ psi"
   ]
  },
  {
   "cell_type": "markdown",
   "id": "saW4rdmvlzyd",
   "metadata": {
    "id": "saW4rdmvlzyd"
   },
   "source": [
    "Now use the following cell to plot the Bloch vector using your computed $(x, y, z)$ coordindates. It should match the previous Bloch vector."
   ]
  },
  {
   "cell_type": "code",
   "execution_count": null,
   "id": "4-tXiFvZlNxQ",
   "metadata": {
    "colab": {
     "base_uri": "https://localhost:8080/",
     "height": 391
    },
    "id": "4-tXiFvZlNxQ",
    "outputId": "6f371c0d-5345-47a0-d1a1-f1703a807db9"
   },
   "outputs": [],
   "source": [
    "qiskit.visualization.plot_bloch_vector([x.real, y.real, z.real])"
   ]
  },
  {
   "cell_type": "markdown",
   "id": "4hEXI3pLjR8N",
   "metadata": {
    "id": "4hEXI3pLjR8N"
   },
   "source": [
    "### Applying gates"
   ]
  },
  {
   "cell_type": "markdown",
   "id": "twelve-summary",
   "metadata": {
    "id": "twelve-summary"
   },
   "source": [
    "Next, we can now apply a general transformation of the form\n",
    "\n",
    "$$\n",
    "U=\\left[\n",
    "\\begin{array}{cc}\n",
    "\\cos(\\theta/2) & -e^{i\\lambda}\\sin(\\theta/2)\\\\\n",
    "e^{i\\phi}\\sin(\\theta/2) & e^{i\\phi+i\\lambda}\\cos(\\theta/2)\n",
    "\\end{array}\n",
    "\\right]\n",
    "$$\n",
    "\n",
    "that rotates state $|0\\rangle$ to a general state\n",
    "\n",
    "$$\n",
    "|\\psi\\rangle=\\cos(\\theta/2)|0\\rangle+e^{i\\phi}\\sin(\\theta/2)|1\\rangle.\n",
    "$$\n",
    "\n",
    "First, choose $\\theta=\\pi/2$, $\\phi=\\pi/2$ and $\\lambda=0$ and run until the end, then return to this point,\n",
    "choose $\\theta=\\pi/3$, $\\phi=3\\pi/2$ and $\\lambda=0$ and rerun until the end again.\n"
   ]
  },
  {
   "cell_type": "code",
   "execution_count": null,
   "id": "contained-membrane",
   "metadata": {
    "colab": {
     "base_uri": "https://localhost:8080/",
     "height": 126
    },
    "id": "contained-membrane",
    "outputId": "8e101f52-1000-4456-d7df-a0d1885dcfee"
   },
   "outputs": [],
   "source": [
    "\"\"\"Add the $U$ gate defined above to the circuit to prepare a general qubit state.\"\"\"\n",
    "# Define the parameters of the unitary.\n",
    "theta, phi, lam = np.pi / 2, np.pi / 2, 0.0\n",
    "\n",
    "# Add the unitary $U$ to the circuit.\n",
    "circuit.u(theta, phi, lam, qubit)\n",
    "\n",
    "# Visualize the circuit.\n",
    "circuit.draw('mpl', scale=1.5)"
   ]
  },
  {
   "cell_type": "markdown",
   "id": "pretty-member",
   "metadata": {
    "id": "pretty-member"
   },
   "source": [
    "Simulate  the state vector to check the amplitudes are as expected."
   ]
  },
  {
   "cell_type": "code",
   "execution_count": null,
   "id": "maTeA9zk_3Ha",
   "metadata": {
    "colab": {
     "base_uri": "https://localhost:8080/"
    },
    "id": "maTeA9zk_3Ha",
    "outputId": "9ad163f1-afc0-4da2-923d-a06511397db3"
   },
   "outputs": [],
   "source": [
    "print_bracket_notation(circuit)"
   ]
  },
  {
   "cell_type": "markdown",
   "id": "pressed-convertible",
   "metadata": {
    "id": "pressed-convertible"
   },
   "source": [
    "Plot the new state on the Bloch sphere."
   ]
  },
  {
   "cell_type": "code",
   "execution_count": null,
   "id": "MBAM5KCumU9y",
   "metadata": {
    "colab": {
     "base_uri": "https://localhost:8080/",
     "height": 268
    },
    "id": "MBAM5KCumU9y",
    "outputId": "2501e782-25ef-4ba8-b0b8-51de7fba919d"
   },
   "outputs": [],
   "source": [
    "\"\"\"Plot the qubit on the Bloch sphere.\"\"\"\n",
    "qiskit.visualization.plot_bloch_multivector(\n",
    "    state=qiskit.execute(circuit, simulator).result().get_statevector()\n",
    ")"
   ]
  },
  {
   "cell_type": "markdown",
   "id": "WUzq2KaUm1QA",
   "metadata": {
    "id": "WUzq2KaUm1QA"
   },
   "source": [
    "As an exercise, verify that for the state \n",
    "\n",
    "$$\n",
    "|\\psi\\rangle=\\cos(\\theta/2)|0\\rangle+e^{i\\phi}\\sin(\\theta/2)|1\\rangle\n",
    "$$\n",
    "\n",
    "the Bloch vector coordinates are $(\\sin \\theta \\cos \\phi, \\sin \\theta \\sin \\phi, \\cos \\theta)$. The following cell plots the same Bloch vector using these coordinates."
   ]
  },
  {
   "cell_type": "code",
   "execution_count": null,
   "id": "biblical-temple",
   "metadata": {
    "colab": {
     "base_uri": "https://localhost:8080/",
     "height": 391
    },
    "id": "biblical-temple",
    "outputId": "2eac589d-830d-46e7-956b-82bf9246f2ea"
   },
   "outputs": [],
   "source": [
    "\"\"\"Plot the qubit on the Bloch sphere.\"\"\"\n",
    "qiskit.visualization.plot_bloch_vector(\n",
    "    [np.sin(theta) * np.cos(phi), np.sin(theta) * np.sin(phi), np.cos(theta)]\n",
    ")"
   ]
  },
  {
   "cell_type": "markdown",
   "id": "7a0R-CZsnTeL",
   "metadata": {
    "id": "7a0R-CZsnTeL"
   },
   "source": [
    "You can (and should!) try adding other gates to your circuit and seeing how the Bloch vector changes. For example, to add a Hadamard gate, using [`qiskit.QuantumCircuit.h`](https://qiskit.org/documentation/stubs/qiskit.circuit.QuantumCircuit.h.html)."
   ]
  },
  {
   "cell_type": "markdown",
   "id": "sOWXkGfeBDRh",
   "metadata": {
    "id": "sOWXkGfeBDRh"
   },
   "source": [
    "## Sampling from circuits"
   ]
  },
  {
   "cell_type": "markdown",
   "id": "executive-vector",
   "metadata": {
    "id": "executive-vector"
   },
   "source": [
    "Now we add a measurement gate to the circuit. This adds a classical bit to the circuit that will store the measurement information."
   ]
  },
  {
   "cell_type": "code",
   "execution_count": null,
   "id": "genuine-field",
   "metadata": {
    "colab": {
     "base_uri": "https://localhost:8080/",
     "height": 195
    },
    "id": "genuine-field",
    "outputId": "aa767348-b0b8-44bc-8271-736cd6c54472"
   },
   "outputs": [],
   "source": [
    "# Add the measurement.\n",
    "circuit.measure_all()\n",
    "\n",
    "# Visualize the circuit.\n",
    "circuit.draw('mpl', scale=1.5)"
   ]
  },
  {
   "cell_type": "markdown",
   "id": "preceding-dutch",
   "metadata": {
    "id": "preceding-dutch"
   },
   "source": [
    "We can now execute the circuit on a quantum simulator which samples bitstrings (instead of returning the final statevector)."
   ]
  },
  {
   "cell_type": "code",
   "execution_count": null,
   "id": "under-cocktail",
   "metadata": {
    "colab": {
     "base_uri": "https://localhost:8080/",
     "height": 344
    },
    "id": "under-cocktail",
    "outputId": "00370455-7913-4f15-b108-3b607df3e7f4"
   },
   "outputs": [],
   "source": [
    "\"\"\"Execute the circuit on a sampler.\"\"\"\n",
    "# Set the number of measurement shots (samples). Vary this number!\n",
    "shots = 10_000\n",
    "\n",
    "# Simulate the circuit and get the results.\n",
    "sampler = qiskit.Aer.get_backend('qasm_simulator')\n",
    "job = qiskit.execute(circuit, sampler, shots=shots)\n",
    "result = job.result()\n",
    "\n",
    "# Get the measurement counts and visualize them.\n",
    "measurements = result.get_counts(circuit)\n",
    "print(measurements)\n",
    "qiskit.visualization.plot_histogram(measurements)"
   ]
  },
  {
   "cell_type": "markdown",
   "id": "fX2owBhqn7KB",
   "metadata": {
    "id": "fX2owBhqn7KB"
   },
   "source": [
    "How close are the sampled bitstrings to $|\\alpha|^2$ and $|\\beta|^2$?"
   ]
  },
  {
   "cell_type": "markdown",
   "id": "SVLk8-HqoQx1",
   "metadata": {
    "id": "SVLk8-HqoQx1"
   },
   "source": [
    "## Measuring expectation values of Paulis"
   ]
  },
  {
   "cell_type": "markdown",
   "id": "8k7uuaHoogRO",
   "metadata": {
    "id": "8k7uuaHoogRO"
   },
   "source": [
    "Given a Hamiltonian written as a linear combination of Paulis $H = \\sum_i a_i \\sigma_i$, the energy of a state $|\\psi\\rangle$ is\n",
    "\n",
    "$$\n",
    "\\langle \\psi | H | \\psi \\rangle = \\sum_i a_i \\langle \\psi | \\sigma_i | \\psi \\rangle .\n",
    "$$\n",
    "\n",
    "A common subroutine in quantum algorithms is computing the $\\langle \\psi | \\sigma_i | \\psi \\rangle$ terms on a quantum computer, then using a classical computer to multiply by $a_i$ and add the results.\n",
    "\n",
    "Here we show how to compute $\\langle \\psi | Z | \\psi \\rangle$ from measurements for an arbitrary single-qubit state $|\\psi\\rangle$. The general case will be handled in upcoming hands-on sessions."
   ]
  },
  {
   "cell_type": "code",
   "execution_count": null,
   "id": "odoS3biToUH7",
   "metadata": {
    "colab": {
     "base_uri": "https://localhost:8080/",
     "height": 126
    },
    "id": "odoS3biToUH7",
    "outputId": "b59ef980-4603-405f-e379-54dd1851e898"
   },
   "outputs": [],
   "source": [
    "\"\"\"Prepare any single-qubit state |𝜓⟩ in a circuit.\"\"\"\n",
    "circuit = qiskit.QuantumCircuit(1)\n",
    "circuit.h(0)\n",
    "circuit.t(0)\n",
    "circuit.sxdg(0)\n",
    "# Add any gates here.\n",
    "\n",
    "circuit.draw('mpl', scale=1.5)"
   ]
  },
  {
   "cell_type": "markdown",
   "id": "pN4EtmqTp16G",
   "metadata": {
    "id": "pN4EtmqTp16G"
   },
   "source": [
    "We know how to compute the state vector from a circuit. Let's use this to exactly compute $\\langle \\psi | Z | \\psi \\rangle$ to compare our result to. Note that this is just for comparison - in practice we won't have access to the wavefunction $|\\psi\\rangle$."
   ]
  },
  {
   "cell_type": "code",
   "execution_count": null,
   "id": "951QB9TwpyAi",
   "metadata": {
    "colab": {
     "base_uri": "https://localhost:8080/"
    },
    "id": "951QB9TwpyAi",
    "outputId": "ce4f3c06-d3f2-4463-8644-1024e93dc464"
   },
   "outputs": [],
   "source": [
    "\"\"\"Compute the expectation value \"exactly\" (without sampling).\"\"\"\n",
    "psi = np.array(qiskit.execute(circuit, simulator).result().get_statevector())\n",
    "\n",
    "expectation_value_from_state_vector = psi.conj().T @ zmat @ psi\n",
    "print(\"⟨𝜓|𝑍|𝜓⟩ =\", expectation_value_from_state_vector)"
   ]
  },
  {
   "cell_type": "markdown",
   "id": "nv3jaoVPqZ9v",
   "metadata": {
    "id": "nv3jaoVPqZ9v"
   },
   "source": [
    "Now let's sample from this circuit."
   ]
  },
  {
   "cell_type": "code",
   "execution_count": null,
   "id": "lZ7JE7EAqpJi",
   "metadata": {
    "id": "lZ7JE7EAqpJi"
   },
   "outputs": [],
   "source": [
    "\"\"\"Add measurements to sample.\"\"\"\n",
    "circuit.measure_all()  # This is in a separate cell because it will add measurements every time it is run."
   ]
  },
  {
   "cell_type": "code",
   "execution_count": null,
   "id": "7zY93_fMqWhC",
   "metadata": {
    "colab": {
     "base_uri": "https://localhost:8080/"
    },
    "id": "7zY93_fMqWhC",
    "outputId": "180d2145-6f2e-4935-ff3c-6aa7fb86a2bf"
   },
   "outputs": [],
   "source": [
    "\"\"\"Measure the qubit.\"\"\"\n",
    "# Set the number of shots.\n",
    "shots = 1_000\n",
    "\n",
    "# Get the measurements from the sampler.\n",
    "measurements = qiskit.execute(circuit, sampler, shots=shots).result().get_counts()\n",
    "print(measurements)"
   ]
  },
  {
   "cell_type": "markdown",
   "id": "_KS0lrwqqrYh",
   "metadata": {
    "id": "_KS0lrwqqrYh"
   },
   "source": [
    "How do we go from counts of bitstrings to a floating point value for $\\langle \\psi | Z | \\psi \\rangle$? Note that\n",
    "\n",
    "$$\n",
    "Z = |0\\rangle \\langle 0 | - |1\\rangle \\langle 1 |\n",
    "$$\n",
    "\n",
    "so that\n",
    "\n",
    "$$\n",
    "\\langle \\psi | Z | \\psi \\rangle = \\langle \\psi | 0 \\rangle \\langle | \\psi \\rangle - \\langle \\psi | 1 \\rangle \\langle 1 | \\psi \\rangle .\n",
    "$$\n",
    "\n",
    "But these terms are the probability of measuring $0$ and $1$, respectively:\n",
    "\n",
    "$$\n",
    "\\langle \\psi | Z | \\psi \\rangle = p(0) - p(1) .\n",
    "$$\n",
    "\n",
    "When we sample, we don't exactly know $p(0)$, but we estimate it by how frequently it is measurement compared to the total number of bitstrings measured. \n",
    "\n",
    "Thus, we have a way to estimate floating point expectation values by measuring bitstrings. The next cell implements this."
   ]
  },
  {
   "cell_type": "code",
   "execution_count": null,
   "id": "MWoAw14frj1D",
   "metadata": {
    "colab": {
     "base_uri": "https://localhost:8080/"
    },
    "id": "MWoAw14frj1D",
    "outputId": "2ee211e8-78bf-49c8-8195-66303b5886b0"
   },
   "outputs": [],
   "source": [
    "\"\"\"Compute the expectation value from sampling. Read above to see why this works.\"\"\"\n",
    "expectation_value_from_samples = (measurements.get(\"0\", 0.0) - measurements.get(\"1\", 0.0)) / shots\n",
    "\n",
    "# Display the result.\n",
    "print(\"⟨𝜓|𝑍|𝜓⟩ ≈\", expectation_value_from_samples)\n",
    "\n",
    "# Compare it to the result without sampling.\n",
    "print(\"\\n\\nWithout sampling, ⟨𝜓|𝑍|𝜓⟩ =\", expectation_value_from_state_vector)"
   ]
  },
  {
   "cell_type": "markdown",
   "id": "n19NrXHEsFyR",
   "metadata": {
    "id": "n19NrXHEsFyR"
   },
   "source": [
    "To consider:\n",
    "\n",
    "- How close is the estimate from sampling to the exact value as a function of the number of shots?\n",
    "- Try adding different gates to your circuit and computing the expectation value again.\n",
    "- [Challenge] How could you modify the above to compute $\\langle \\psi | X | \\psi \\rangle$ and $\\langle \\psi | Y | \\psi \\rangle$? (Hint: Try to relate $X$ and $Y$ to $Z$.)"
   ]
  },
  {
   "cell_type": "markdown",
   "id": "HcSlaTfFsuKs",
   "metadata": {
    "id": "HcSlaTfFsuKs"
   },
   "source": [
    "## Measuring correlations in entangled states"
   ]
  },
  {
   "cell_type": "markdown",
   "id": "KeWDDcaRtZon",
   "metadata": {
    "id": "KeWDDcaRtZon"
   },
   "source": [
    "Consider the four Bell states in a two-qubit system\n",
    "\n",
    "$$\n",
    "|\\beta_{00}\\rangle=\\frac{1}{\\sqrt{2}}(|00\\rangle+|11\\rangle)\n",
    "$$\n",
    "$$\n",
    "|\\beta_{01}\\rangle=\\frac{1}{\\sqrt{2}}(|01\\rangle+|10\\rangle)\n",
    "$$\n",
    "$$\n",
    "|\\beta_{10}\\rangle=\\frac{1}{\\sqrt{2}}(|00\\rangle-|11\\rangle)\n",
    "$$\n",
    "$$\n",
    "|\\beta_{11}\\rangle=\\frac{1}{\\sqrt{2}}(|01\\rangle-|10\\rangle)\n",
    "$$\n",
    "\n",
    "In relation to the [Einstein, Podolsky, Rosen (1935) paper](https://cds.cern.ch/record/405662/files/PhysRev.47.777.pdf) they are also called EPR states or EPR pairs. (Note that EPR originally formulated the problem with the position and momentum, and later a simpler reformulation was offered by Bohm for two-level systems, e.g. qubits, electron spin, photon polarization.)\n",
    "\n",
    "We will prepare these states in a circuit and measure the qubits to see how the measurement outcomes are correlated."
   ]
  },
  {
   "cell_type": "markdown",
   "id": "I7aOfx9mtZvY",
   "metadata": {
    "id": "I7aOfx9mtZvY"
   },
   "source": [
    "### Base case: Uncorrelated state"
   ]
  },
  {
   "cell_type": "markdown",
   "id": "Ots1sLCABo2B",
   "metadata": {
    "id": "Ots1sLCABo2B"
   },
   "source": [
    "First, let's measure a tensor product state as a \"base case\"."
   ]
  },
  {
   "cell_type": "code",
   "execution_count": null,
   "id": "VDetuPGE4fFT",
   "metadata": {
    "colab": {
     "base_uri": "https://localhost:8080/",
     "height": 240
    },
    "id": "VDetuPGE4fFT",
    "outputId": "8a3bac11-63b3-4d25-bb37-3e2c71af0f85"
   },
   "outputs": [],
   "source": [
    "\"\"\"Tensor product state: Uncorrelated measurements.\"\"\"\n",
    "qc = qiskit.QuantumCircuit(2)\n",
    "qc.h(0)\n",
    "qc.h(1)\n",
    "qc.measure_all()\n",
    "\n",
    "qc.draw(\"mpl\", scale=1.5)"
   ]
  },
  {
   "cell_type": "code",
   "execution_count": null,
   "id": "Bpry851r6s4r",
   "metadata": {
    "colab": {
     "base_uri": "https://localhost:8080/",
     "height": 204
    },
    "id": "Bpry851r6s4r",
    "outputId": "419af5c8-7122-4b26-fad1-120f81f982f5"
   },
   "outputs": [],
   "source": [
    "\"\"\"Sample bitstrings and display the results.\"\"\"\n",
    "measurements = qiskit.execute(qc, sampler, shots=shots).result().get_counts()\n",
    "qiskit.visualization.plot_histogram(measurements)"
   ]
  },
  {
   "cell_type": "markdown",
   "id": "Csf3iHSgBzXI",
   "metadata": {
    "id": "Csf3iHSgBzXI"
   },
   "source": [
    "Note there is no correlation in the measured bitstrings `00`, `01`, `10`, and `11`. We can visualize this in a different way as follows."
   ]
  },
  {
   "cell_type": "code",
   "execution_count": null,
   "id": "_aQJCc6ztZDD",
   "metadata": {
    "cellView": "form",
    "colab": {
     "base_uri": "https://localhost:8080/",
     "height": 240
    },
    "id": "_aQJCc6ztZDD",
    "outputId": "606eec12-c429-4495-af66-1516a0862f84"
   },
   "outputs": [],
   "source": [
    "# @markdown `def measure(...)`: Function to return measurements as lists of `int`s.\n",
    "from typing import List, Tuple\n",
    "\n",
    "\n",
    "def measure(circuit: qiskit.QuantumCircuit, shots: int = 1000) -> Tuple[List[int], List[int]]:\n",
    "    \"\"\"Returns measurements from \"Alice\" and \"Bob\", i.e., measurements on each\n",
    "    qubit.\n",
    "\n",
    "    Args:\n",
    "        circuit: A two-qubit quantum circuit with measurements.\n",
    "        shots: Number of samples (shots) to take.\n",
    "    \"\"\"\n",
    "    if circuit.num_qubits != 2:\n",
    "        raise ValueError(\n",
    "            f\"Requires `circuit` to have two qubits, but circuit has \"\n",
    "            f\"{circuit.num_qubits} qubits.\"\n",
    "        )\n",
    "\n",
    "    job = qiskit.execute(circuit, sampler, shots=shots, memory=True)\n",
    "    bits = job.result().get_memory(circuit)\n",
    "    \n",
    "    alice_bits = []\n",
    "    bob_bits = []\n",
    "\n",
    "    # Split the bit values into two arrays, convert to integer.\n",
    "    for alice, bob in bits:\n",
    "        alice_bits.append(int(alice))\n",
    "        bob_bits.append(int(bob))\n",
    "\n",
    "    return alice_bits, bob_bits"
   ]
  },
  {
   "cell_type": "markdown",
   "id": "CY3ufm3LCWIO",
   "metadata": {
    "id": "CY3ufm3LCWIO"
   },
   "source": [
    "This function returns the measurements on each qubit (Alice and Bob's measurements). Let's plot the results in the unit square."
   ]
  },
  {
   "cell_type": "code",
   "execution_count": null,
   "id": "qtsRhSEx4n_V",
   "metadata": {
    "id": "qtsRhSEx4n_V"
   },
   "outputs": [],
   "source": [
    "plt.plot(*measure(qc), \"o\", ms=10, mec=\"black\", alpha=0.5);"
   ]
  },
  {
   "cell_type": "markdown",
   "id": "neCTjoh3CCw2",
   "metadata": {
    "id": "neCTjoh3CCw2"
   },
   "source": [
    "This is another way of visually seeing no correlations in the measurement outcomes."
   ]
  },
  {
   "cell_type": "markdown",
   "id": "l6iKaI27Cejc",
   "metadata": {
    "id": "l6iKaI27Cejc"
   },
   "source": [
    "### Entangled state $|\\beta_{00}\\rangle$"
   ]
  },
  {
   "cell_type": "markdown",
   "id": "mbtDVZ6ZCkoc",
   "metadata": {
    "id": "mbtDVZ6ZCkoc"
   },
   "source": [
    "Now we prepare the state $|\\beta_{00}\\rangle$ in a circuit."
   ]
  },
  {
   "cell_type": "code",
   "execution_count": null,
   "id": "MxJ9IydI7C7K",
   "metadata": {
    "id": "MxJ9IydI7C7K"
   },
   "outputs": [],
   "source": [
    "\"\"\"|𝛽00⟩ state.\"\"\"\n",
    "qc = qiskit.QuantumCircuit(2)\n",
    "qc.h(0)\n",
    "qc.cx(0, 1)\n",
    "qc.measure_all()\n",
    "\n",
    "qc.draw(\"mpl\", scale=1.5)"
   ]
  },
  {
   "cell_type": "markdown",
   "id": "Cr-bxb4gCpQG",
   "metadata": {
    "id": "Cr-bxb4gCpQG"
   },
   "source": [
    "As above, we measure this state and visualize the outcomes."
   ]
  },
  {
   "cell_type": "code",
   "execution_count": null,
   "id": "SIqlChhC7pHX",
   "metadata": {
    "id": "SIqlChhC7pHX"
   },
   "outputs": [],
   "source": [
    "measurements = qiskit.execute(qc, sampler, shots=shots).result().get_counts()\n",
    "qiskit.visualization.plot_histogram(measurements)"
   ]
  },
  {
   "cell_type": "markdown",
   "id": "P-4pbr7VCsGn",
   "metadata": {
    "id": "P-4pbr7VCsGn"
   },
   "source": [
    "Note now the measurements are strongly correlated. We can also visualize this in the unit square as above."
   ]
  },
  {
   "cell_type": "code",
   "execution_count": null,
   "id": "jwM-__wy711_",
   "metadata": {
    "id": "jwM-__wy711_"
   },
   "outputs": [],
   "source": [
    "plt.plot(*measure(qc), \"o\", ms=10, mec=\"black\", alpha=0.5);"
   ]
  },
  {
   "cell_type": "markdown",
   "id": "tPnsmPmsC6oE",
   "metadata": {
    "id": "tPnsmPmsC6oE"
   },
   "source": [
    "Your task is to repeat this for the remaining three EPR states!"
   ]
  },
  {
   "cell_type": "markdown",
   "id": "rhjHs4f0CzhJ",
   "metadata": {
    "id": "rhjHs4f0CzhJ"
   },
   "source": [
    "### Entangled state $|\\beta_{01}\\rangle$"
   ]
  },
  {
   "cell_type": "code",
   "execution_count": null,
   "id": "qVUrOREoDDzl",
   "metadata": {
    "id": "qVUrOREoDDzl"
   },
   "outputs": [],
   "source": [
    "\"\"\"|𝛽01⟩ state.\"\"\"\n",
    "# --> Your code here.\n"
   ]
  },
  {
   "cell_type": "code",
   "execution_count": null,
   "id": "iare_anz7-9w",
   "metadata": {
    "id": "iare_anz7-9w"
   },
   "outputs": [],
   "source": [
    "###ANSWER###\n",
    "qc = qiskit.QuantumCircuit(2)\n",
    "qc.h(0)\n",
    "qc.cx(0, 1)\n",
    "qc.x(0)\n",
    "qc.measure_all()\n",
    "\n",
    "qc.draw(\"mpl\", scale=1.5)"
   ]
  },
  {
   "cell_type": "code",
   "execution_count": null,
   "id": "DiyiMkuO8FIQ",
   "metadata": {
    "id": "DiyiMkuO8FIQ"
   },
   "outputs": [],
   "source": [
    "measurements = qiskit.execute(qc, sampler, shots=shots).result().get_counts()\n",
    "qiskit.visualization.plot_histogram(measurements)"
   ]
  },
  {
   "cell_type": "code",
   "execution_count": null,
   "id": "xgc2l9BS8KlX",
   "metadata": {
    "id": "xgc2l9BS8KlX"
   },
   "outputs": [],
   "source": [
    "plt.plot(*measure(qc), \"o\", ms=10, mec=\"black\", alpha=0.5);"
   ]
  },
  {
   "cell_type": "markdown",
   "id": "otpjCK1TDKFn",
   "metadata": {
    "id": "otpjCK1TDKFn"
   },
   "source": [
    "### Entangled state $|\\beta_{10}\\rangle$"
   ]
  },
  {
   "cell_type": "code",
   "execution_count": null,
   "id": "KRdzrLyaDhOq",
   "metadata": {
    "id": "KRdzrLyaDhOq"
   },
   "outputs": [],
   "source": [
    "\"\"\"|𝛽10⟩ state.\"\"\"\n",
    "# --> Your code here.\n"
   ]
  },
  {
   "cell_type": "code",
   "execution_count": null,
   "id": "s2FoZR-28LqM",
   "metadata": {
    "id": "s2FoZR-28LqM"
   },
   "outputs": [],
   "source": [
    "###ANSWER###\n",
    "qc = qiskit.QuantumCircuit(2)\n",
    "qc.h(0)\n",
    "qc.cx(0, 1)\n",
    "qc.z(0)\n",
    "qc.measure_all()\n",
    "\n",
    "qc.draw(\"mpl\", scale=1.5)"
   ]
  },
  {
   "cell_type": "code",
   "execution_count": null,
   "id": "ouyFJLKn8Lsx",
   "metadata": {
    "id": "ouyFJLKn8Lsx"
   },
   "outputs": [],
   "source": [
    "measurements = qiskit.execute(qc, sampler, shots=shots).result().get_counts()\n",
    "qiskit.visualization.plot_histogram(measurements)"
   ]
  },
  {
   "cell_type": "code",
   "execution_count": null,
   "id": "K7QZZC778LvQ",
   "metadata": {
    "id": "K7QZZC778LvQ"
   },
   "outputs": [],
   "source": [
    "plt.plot(*measure(qc), \"o\", ms=10, mec=\"black\", alpha=0.5);"
   ]
  },
  {
   "cell_type": "markdown",
   "id": "TGGN0MAiDOlf",
   "metadata": {
    "id": "TGGN0MAiDOlf"
   },
   "source": [
    "### Entangled state $|\\beta_{11}\\rangle$"
   ]
  },
  {
   "cell_type": "code",
   "execution_count": null,
   "id": "Bg20zd4pDnkc",
   "metadata": {
    "id": "Bg20zd4pDnkc"
   },
   "outputs": [],
   "source": [
    "\"\"\"|𝛽11⟩ state.\"\"\"\n",
    "# --> Your code here.\n"
   ]
  },
  {
   "cell_type": "code",
   "execution_count": null,
   "id": "IgtyrvSC8Ly5",
   "metadata": {
    "id": "IgtyrvSC8Ly5"
   },
   "outputs": [],
   "source": [
    "###ANSWER###\n",
    "qc = qiskit.QuantumCircuit(2)\n",
    "qc.h(0)\n",
    "qc.cx(0, 1)\n",
    "qc.x(0)\n",
    "qc.z(0)\n",
    "qc.measure_all()\n",
    "\n",
    "qc.draw(\"mpl\", scale=1.5)"
   ]
  },
  {
   "cell_type": "code",
   "execution_count": null,
   "id": "6L7usdyJ8Nsk",
   "metadata": {
    "id": "6L7usdyJ8Nsk"
   },
   "outputs": [],
   "source": [
    "measurements = qiskit.execute(qc, sampler, shots=shots).result().get_counts()\n",
    "qiskit.visualization.plot_histogram(measurements)"
   ]
  },
  {
   "cell_type": "code",
   "execution_count": null,
   "id": "olNVBM8R8N7G",
   "metadata": {
    "id": "olNVBM8R8N7G"
   },
   "outputs": [],
   "source": [
    "plt.plot(*measure(qc), \"o\", ms=10, mec=\"black\", alpha=0.5);"
   ]
  },
  {
   "cell_type": "markdown",
   "id": "FOh_NqI-8n7_",
   "metadata": {
    "id": "FOh_NqI-8n7_"
   },
   "source": [
    "Congrats on making it through this notebook!"
   ]
  },
  {
   "cell_type": "markdown",
   "id": "twJLcmB58iSk",
   "metadata": {
    "id": "twJLcmB58iSk"
   },
   "source": [
    "## Challenge"
   ]
  },
  {
   "cell_type": "markdown",
   "id": "CBBq5TOh8lZv",
   "metadata": {
    "id": "CBBq5TOh8lZv"
   },
   "source": [
    "Done early?\n",
    "\n",
    "- Try measuring the four EPR states on hardware, i.e., a real quantum computer, not a simulator. Do you still see correlated measurements? Are there any bitstrings that weren't there before? Why or why not?\n",
    "- These types of measurements are similar to those done in a [CHSH experiment](https://qiskit.org/textbook/ch-demos/chsh.html). Check out the linked Qiskit tutorial to experimentally disprove local hidden variable theories."
   ]
  }
 ],
 "metadata": {
  "colab": {
   "collapsed_sections": [
    "4hEXI3pLjR8N",
    "I7aOfx9mtZvY",
    "l6iKaI27Cejc",
    "rhjHs4f0CzhJ",
    "otpjCK1TDKFn",
    "TGGN0MAiDOlf"
   ],
   "name": "Morning1Notebook_FRIBTA2022.ipynb",
   "provenance": [],
   "toc_visible": true
  },
  "kernelspec": {
   "display_name": "Python 3 (ipykernel)",
   "language": "python",
   "name": "python3"
  },
  "language_info": {
   "codemirror_mode": {
    "name": "ipython",
    "version": 3
   },
   "file_extension": ".py",
   "mimetype": "text/x-python",
   "name": "python",
   "nbconvert_exporter": "python",
   "pygments_lexer": "ipython3",
   "version": "3.9.10"
  }
 },
 "nbformat": 4,
 "nbformat_minor": 5
}
