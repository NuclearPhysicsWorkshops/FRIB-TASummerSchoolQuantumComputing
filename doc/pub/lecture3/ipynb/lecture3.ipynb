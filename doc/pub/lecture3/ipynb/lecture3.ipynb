{
 "cells": [
  {
   "cell_type": "markdown",
   "id": "712d95d3",
   "metadata": {
    "editable": true
   },
   "source": [
    "<!-- HTML file automatically generated from DocOnce source (https://github.com/doconce/doconce/)\n",
    "doconce format html lecture3.do.txt --no_mako -->\n",
    "<!-- dom:TITLE: Gates, unitary transformations and quantum circuits -->"
   ]
  },
  {
   "cell_type": "markdown",
   "id": "def4d2ef",
   "metadata": {
    "editable": true
   },
   "source": [
    "# Gates, unitary transformations and quantum circuits\n",
    "**Facility for Rare Isotope Beams, Michigan State University, USA**\n",
    "\n",
    "Date: **June 20**"
   ]
  },
  {
   "cell_type": "markdown",
   "id": "69115295",
   "metadata": {
    "editable": true
   },
   "source": [
    "## Introduction"
   ]
  }
 ],
 "metadata": {},
 "nbformat": 4,
 "nbformat_minor": 5
}
