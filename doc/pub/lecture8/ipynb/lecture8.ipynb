{
 "cells": [
  {
   "cell_type": "markdown",
   "id": "315abb23",
   "metadata": {
    "editable": true
   },
   "source": [
    "<!-- HTML file automatically generated from DocOnce source (https://github.com/doconce/doconce/)\n",
    "doconce format html lecture8.do.txt --no_mako -->\n",
    "<!-- dom:TITLE: Many-body theory and nuclear few- and many-body systems -->"
   ]
  },
  {
   "cell_type": "markdown",
   "id": "1a1a795c",
   "metadata": {
    "editable": true
   },
   "source": [
    "# Many-body theory and nuclear few- and many-body systems\n",
    "**Benjamin Hall and Morten Hjorth-Jensen**, [Facility for Rare Isotope Beams and National Superconducting Cyclotron Laboratory](http://www.frib.msu.edu/) and [Department of Physics and Astronomy](https://www.pa.msu.edu/), [Michigan State University](http://www.msu.edu/), East Lansing, MI 48824, USA\n",
    "\n",
    "Date: **Jun 15, 2022**\n",
    "\n",
    "Copyright 2013-2022, Benjamin Hall and Morten Hjorth-Jensen. Released under CC Attribution-NonCommercial 4.0 license"
   ]
  },
  {
   "cell_type": "markdown",
   "id": "ade50931",
   "metadata": {
    "editable": true
   },
   "source": [
    "## Slater determinants as basis states\n",
    "The simplest possible choice for many-body wavefunctions are **product** wavefunctions.\n",
    "That is"
   ]
  },
  {
   "cell_type": "markdown",
   "id": "eead4ad0",
   "metadata": {
    "editable": true
   },
   "source": [
    "$$\n",
    "\\Psi(x_1, x_2, x_3, \\ldots, x_A) \\approx \\phi_1(x_1) \\phi_2(x_2) \\phi_3(x_3) \\ldots\n",
    "$$"
   ]
  },
  {
   "cell_type": "markdown",
   "id": "5e173022",
   "metadata": {
    "editable": true
   },
   "source": [
    "because we are really only good  at thinking about one particle at a time. Such \n",
    "product wavefunctions, without correlations, are easy to \n",
    "work with; for example, if the single-particle states $\\phi_i(x)$ are orthonormal, then \n",
    "the product wavefunctions are easy to orthonormalize.   \n",
    "\n",
    "Similarly, computing matrix elements of operators are relatively easy, because the \n",
    "integrals factorize.\n",
    "\n",
    "The price we pay is the lack of correlations, which we must build up by using many, many product \n",
    "wavefunctions. (Thus we have a trade-off: compact representation of correlations but \n",
    "difficult integrals versus easy integrals but many states required.)"
   ]
  },
  {
   "cell_type": "markdown",
   "id": "93f649fa",
   "metadata": {
    "editable": true
   },
   "source": [
    "## Slater determinants as basis states, repetition\n",
    "Because we have fermions, we are required to have antisymmetric wavefunctions, e.g."
   ]
  },
  {
   "cell_type": "markdown",
   "id": "9cf98ca1",
   "metadata": {
    "editable": true
   },
   "source": [
    "$$\n",
    "\\Psi(x_1, x_2, x_3, \\ldots, x_A) = - \\Psi(x_2, x_1, x_3, \\ldots, x_A)\n",
    "$$"
   ]
  },
  {
   "cell_type": "markdown",
   "id": "4bed8d6a",
   "metadata": {
    "editable": true
   },
   "source": [
    "etc. This is accomplished formally by using the determinantal formalism"
   ]
  },
  {
   "cell_type": "markdown",
   "id": "7ff5c3cb",
   "metadata": {
    "editable": true
   },
   "source": [
    "$$\n",
    "\\Psi(x_1, x_2, \\ldots, x_A) \n",
    "= \\frac{1}{\\sqrt{A!}} \n",
    "\\det \\left | \n",
    "\\begin{array}{cccc}\n",
    "\\phi_1(x_1) & \\phi_1(x_2) & \\ldots & \\phi_1(x_A) \\\\\n",
    "\\phi_2(x_1) & \\phi_2(x_2) & \\ldots & \\phi_2(x_A) \\\\\n",
    " \\vdots & & &  \\\\\n",
    "\\phi_A(x_1) & \\phi_A(x_2) & \\ldots & \\phi_A(x_A) \n",
    "\\end{array}\n",
    "\\right |\n",
    "$$"
   ]
  },
  {
   "cell_type": "markdown",
   "id": "f282802c",
   "metadata": {
    "editable": true
   },
   "source": [
    "Product wavefunction + antisymmetry = Slater determinant."
   ]
  },
  {
   "cell_type": "markdown",
   "id": "cf5d5d2a",
   "metadata": {
    "editable": true
   },
   "source": [
    "## Slater determinants as basis states"
   ]
  },
  {
   "cell_type": "markdown",
   "id": "e15279e4",
   "metadata": {
    "editable": true
   },
   "source": [
    "$$\n",
    "\\Psi(x_1, x_2, \\ldots, x_A) \n",
    "= \\frac{1}{\\sqrt{A!}} \n",
    "\\det \\left | \n",
    "\\begin{array}{cccc}\n",
    "\\phi_1(x_1) & \\phi_1(x_2) & \\ldots & \\phi_1(x_A) \\\\\n",
    "\\phi_2(x_1) & \\phi_2(x_2) & \\ldots & \\phi_2(x_A) \\\\\n",
    " \\vdots & & &  \\\\\n",
    "\\phi_A(x_1) & \\phi_A(x_2) & \\ldots & \\phi_A(x_A) \n",
    "\\end{array}\n",
    "\\right |\n",
    "$$"
   ]
  },
  {
   "cell_type": "markdown",
   "id": "6dde1f72",
   "metadata": {
    "editable": true
   },
   "source": [
    "Properties of the determinant (interchange of any two rows or \n",
    "any two columns yields a change in sign; thus no two rows and no \n",
    "two columns can be the same) lead to the Pauli principle:\n",
    "\n",
    "* No two particles can be at the same place (two columns the same); and\n",
    "\n",
    "* No two particles can be in the same state (two rows the same)."
   ]
  },
  {
   "cell_type": "markdown",
   "id": "468b76b3",
   "metadata": {
    "editable": true
   },
   "source": [
    "## Slater determinants as basis states\n",
    "As a practical matter, however, Slater determinants beyond $N=4$ quickly become \n",
    "unwieldy. Thus we turn to the **occupation representation** or **second quantization** to simplify calculations. \n",
    "\n",
    "The occupation representation or number representation, using fermion **creation** and **annihilation** \n",
    "operators, is compact and efficient. It is also abstract and, at first encounter, not easy to \n",
    "internalize. It is inspired by other operator formalism, such as the ladder operators for \n",
    "the harmonic oscillator or for angular momentum, but unlike those cases, the operators **do not have coordinate space representations**.\n",
    "\n",
    "Instead, one can think of fermion creation/annihilation operators as a game of symbols that \n",
    "compactly reproduces what one would do, albeit clumsily, with full coordinate-space Slater \n",
    "determinants."
   ]
  },
  {
   "cell_type": "markdown",
   "id": "58b1adba",
   "metadata": {
    "editable": true
   },
   "source": [
    "## Reminder  on the occupation representation (second quantization)\n",
    "We start with a set of orthonormal single-particle states $\\{ \\phi_i(x) \\}$. \n",
    "(Note: this requirement, and others, can be relaxed, but leads to a \n",
    "more involved formalism.) **Any** orthonormal set will do. \n",
    "\n",
    "To each single-particle state $\\phi_i(x)$ we associate a creation operator \n",
    "$\\hat{a}^\\dagger_i$ and an annihilation operator $\\hat{a}_i$. \n",
    "\n",
    "When acting on the vacuum state $| 0 \\rangle$, the creation operator $\\hat{a}^\\dagger_i$ causes \n",
    "a particle to occupy the single-particle state $\\phi_i(x)$:"
   ]
  },
  {
   "cell_type": "markdown",
   "id": "0a740c00",
   "metadata": {
    "editable": true
   },
   "source": [
    "$$\n",
    "\\phi_i(x) \\rightarrow \\hat{a}^\\dagger_i |0 \\rangle\n",
    "$$"
   ]
  },
  {
   "cell_type": "markdown",
   "id": "f9acc6ee",
   "metadata": {
    "editable": true
   },
   "source": [
    "## Quick repetition  of the occupation representation\n",
    "But with multiple creation operators we can occupy multiple states:"
   ]
  },
  {
   "cell_type": "markdown",
   "id": "951f4735",
   "metadata": {
    "editable": true
   },
   "source": [
    "$$\n",
    "\\phi_i(x) \\phi_j(x^\\prime) \\phi_k(x^{\\prime \\prime}) \n",
    "\\rightarrow \\hat{a}^\\dagger_i \\hat{a}^\\dagger_j \\hat{a}^\\dagger_k |0 \\rangle.\n",
    "$$"
   ]
  },
  {
   "cell_type": "markdown",
   "id": "408cfd0a",
   "metadata": {
    "editable": true
   },
   "source": [
    "Now we impose antisymmetry, by having the fermion operators satisfy  **anticommutation relations**:"
   ]
  },
  {
   "cell_type": "markdown",
   "id": "f840efbe",
   "metadata": {
    "editable": true
   },
   "source": [
    "$$\n",
    "\\hat{a}^\\dagger_i \\hat{a}^\\dagger_j + \\hat{a}^\\dagger_j \\hat{a}^\\dagger_i\n",
    "= [ \\hat{a}^\\dagger_i ,\\hat{a}^\\dagger_j ]_+ \n",
    "= \\{ \\hat{a}^\\dagger_i ,\\hat{a}^\\dagger_j \\} = 0\n",
    "$$"
   ]
  },
  {
   "cell_type": "markdown",
   "id": "83a1a31f",
   "metadata": {
    "editable": true
   },
   "source": [
    "so that"
   ]
  },
  {
   "cell_type": "markdown",
   "id": "0bc7078a",
   "metadata": {
    "editable": true
   },
   "source": [
    "$$\n",
    "\\hat{a}^\\dagger_i \\hat{a}^\\dagger_j = - \\hat{a}^\\dagger_j \\hat{a}^\\dagger_i\n",
    "$$"
   ]
  },
  {
   "cell_type": "markdown",
   "id": "422d3fb1",
   "metadata": {
    "editable": true
   },
   "source": [
    "## Quick repetition  of the occupation representation\n",
    "Because of this property, automatically $\\hat{a}^\\dagger_i \\hat{a}^\\dagger_i = 0$, \n",
    "enforcing the Pauli exclusion principle.  Thus when writing a Slater determinant \n",
    "using creation operators,"
   ]
  },
  {
   "cell_type": "markdown",
   "id": "83ae1c56",
   "metadata": {
    "editable": true
   },
   "source": [
    "$$\n",
    "\\hat{a}^\\dagger_i \\hat{a}^\\dagger_j \\hat{a}^\\dagger_k \\ldots |0 \\rangle\n",
    "$$"
   ]
  },
  {
   "cell_type": "markdown",
   "id": "b1f22e56",
   "metadata": {
    "editable": true
   },
   "source": [
    "each index $i,j,k, \\ldots$ must be unique.\n",
    "\n",
    "For some relevant exercises with solutions see chapter 8 of [Lecture Notes in Physics, volume 936](http://www.springer.com/us/book/9783319533353)."
   ]
  },
  {
   "cell_type": "markdown",
   "id": "4fc074e7",
   "metadata": {
    "editable": true
   },
   "source": [
    "## Full Configuration Interaction Theory\n",
    "We have defined the ansatz for the ground state as"
   ]
  },
  {
   "cell_type": "markdown",
   "id": "89f5d92d",
   "metadata": {
    "editable": true
   },
   "source": [
    "$$\n",
    "|\\Phi_0\\rangle = \\left(\\prod_{i\\le F}\\hat{a}_{i}^{\\dagger}\\right)|0\\rangle,\n",
    "$$"
   ]
  },
  {
   "cell_type": "markdown",
   "id": "5d457463",
   "metadata": {
    "editable": true
   },
   "source": [
    "where the index $i$ defines different single-particle states up to the Fermi level. We have assumed that we have $N$ fermions. \n",
    "A given one-particle-one-hole ($1p1h$) state can be written as"
   ]
  },
  {
   "cell_type": "markdown",
   "id": "17305180",
   "metadata": {
    "editable": true
   },
   "source": [
    "$$\n",
    "|\\Phi_i^a\\rangle = \\hat{a}_{a}^{\\dagger}\\hat{a}_i|\\Phi_0\\rangle,\n",
    "$$"
   ]
  },
  {
   "cell_type": "markdown",
   "id": "5b249a40",
   "metadata": {
    "editable": true
   },
   "source": [
    "while a $2p2h$ state can be written as"
   ]
  },
  {
   "cell_type": "markdown",
   "id": "683a4691",
   "metadata": {
    "editable": true
   },
   "source": [
    "$$\n",
    "|\\Phi_{ij}^{ab}\\rangle = \\hat{a}_{a}^{\\dagger}\\hat{a}_{b}^{\\dagger}\\hat{a}_j\\hat{a}_i|\\Phi_0\\rangle,\n",
    "$$"
   ]
  },
  {
   "cell_type": "markdown",
   "id": "6d2e1212",
   "metadata": {
    "editable": true
   },
   "source": [
    "and a general $NpNh$ state as"
   ]
  },
  {
   "cell_type": "markdown",
   "id": "d47c05ee",
   "metadata": {
    "editable": true
   },
   "source": [
    "$$\n",
    "|\\Phi_{ijk\\dots}^{abc\\dots}\\rangle = \\hat{a}_{a}^{\\dagger}\\hat{a}_{b}^{\\dagger}\\hat{a}_{c}^{\\dagger}\\dots\\hat{a}_k\\hat{a}_j\\hat{a}_i|\\Phi_0\\rangle.\n",
    "$$"
   ]
  },
  {
   "cell_type": "markdown",
   "id": "b51ab6d4",
   "metadata": {
    "editable": true
   },
   "source": [
    "## Full Configuration Interaction Theory\n",
    "We can then expand our exact state function for the ground state \n",
    "as"
   ]
  },
  {
   "cell_type": "markdown",
   "id": "aad42c11",
   "metadata": {
    "editable": true
   },
   "source": [
    "$$\n",
    "|\\Psi_0\\rangle=C_0|\\Phi_0\\rangle+\\sum_{ai}C_i^a|\\Phi_i^a\\rangle+\\sum_{abij}C_{ij}^{ab}|\\Phi_{ij}^{ab}\\rangle+\\dots\n",
    "=(C_0+\\hat{C})|\\Phi_0\\rangle,\n",
    "$$"
   ]
  },
  {
   "cell_type": "markdown",
   "id": "cd172bb1",
   "metadata": {
    "editable": true
   },
   "source": [
    "where we have introduced the so-called correlation operator"
   ]
  },
  {
   "cell_type": "markdown",
   "id": "ddb6bcb6",
   "metadata": {
    "editable": true
   },
   "source": [
    "$$\n",
    "\\hat{C}=\\sum_{ai}C_i^a\\hat{a}_{a}^{\\dagger}\\hat{a}_i  +\\sum_{abij}C_{ij}^{ab}\\hat{a}_{a}^{\\dagger}\\hat{a}_{b}^{\\dagger}\\hat{a}_j\\hat{a}_i+\\dots\n",
    "$$"
   ]
  },
  {
   "cell_type": "markdown",
   "id": "7dfa8e46",
   "metadata": {
    "editable": true
   },
   "source": [
    "Since the normalization of $\\Psi_0$ is at our disposal and since $C_0$ is by hypothesis non-zero, we may arbitrarily set $C_0=1$ with \n",
    "corresponding proportional changes in all other coefficients. Using this so-called intermediate normalization we have"
   ]
  },
  {
   "cell_type": "markdown",
   "id": "63198837",
   "metadata": {
    "editable": true
   },
   "source": [
    "$$\n",
    "\\langle \\Psi_0 | \\Phi_0 \\rangle = \\langle \\Phi_0 | \\Phi_0 \\rangle = 1,\n",
    "$$"
   ]
  },
  {
   "cell_type": "markdown",
   "id": "d8747d7e",
   "metadata": {
    "editable": true
   },
   "source": [
    "resulting in"
   ]
  },
  {
   "cell_type": "markdown",
   "id": "f8c7aa72",
   "metadata": {
    "editable": true
   },
   "source": [
    "$$\n",
    "|\\Psi_0\\rangle=(1+\\hat{C})|\\Phi_0\\rangle.\n",
    "$$"
   ]
  },
  {
   "cell_type": "markdown",
   "id": "46db6786",
   "metadata": {
    "editable": true
   },
   "source": [
    "## Full Configuration Interaction Theory\n",
    "We rewrite"
   ]
  },
  {
   "cell_type": "markdown",
   "id": "64e9bb1c",
   "metadata": {
    "editable": true
   },
   "source": [
    "$$\n",
    "|\\Psi_0\\rangle=C_0|\\Phi_0\\rangle+\\sum_{ai}C_i^a|\\Phi_i^a\\rangle+\\sum_{abij}C_{ij}^{ab}|\\Phi_{ij}^{ab}\\rangle+\\dots,\n",
    "$$"
   ]
  },
  {
   "cell_type": "markdown",
   "id": "2e114ebe",
   "metadata": {
    "editable": true
   },
   "source": [
    "in a more compact form as"
   ]
  },
  {
   "cell_type": "markdown",
   "id": "2e90c03c",
   "metadata": {
    "editable": true
   },
   "source": [
    "$$\n",
    "|\\Psi_0\\rangle=\\sum_{PH}C_H^P\\Phi_H^P=\\left(\\sum_{PH}C_H^P\\hat{A}_H^P\\right)|\\Phi_0\\rangle,\n",
    "$$"
   ]
  },
  {
   "cell_type": "markdown",
   "id": "1f161243",
   "metadata": {
    "editable": true
   },
   "source": [
    "where $H$ stands for $0,1,\\dots,n$ hole states and $P$ for $0,1,\\dots,n$ particle states. \n",
    "Our requirement of unit normalization gives"
   ]
  },
  {
   "cell_type": "markdown",
   "id": "3db1f741",
   "metadata": {
    "editable": true
   },
   "source": [
    "$$\n",
    "\\langle \\Psi_0 | \\Phi_0 \\rangle = \\sum_{PH}|C_H^P|^2= 1,\n",
    "$$"
   ]
  },
  {
   "cell_type": "markdown",
   "id": "302d3ee5",
   "metadata": {
    "editable": true
   },
   "source": [
    "and the energy can be written as"
   ]
  },
  {
   "cell_type": "markdown",
   "id": "999f55f0",
   "metadata": {
    "editable": true
   },
   "source": [
    "$$\n",
    "E= \\langle \\Psi_0 | \\hat{H} |\\Phi_0 \\rangle= \\sum_{PP'HH'}C_H^{*P}\\langle \\Phi_H^P | \\hat{H} |\\Phi_{H'}^{P'} \\rangle C_{H'}^{P'}.\n",
    "$$"
   ]
  },
  {
   "cell_type": "markdown",
   "id": "f10c6da4",
   "metadata": {
    "editable": true
   },
   "source": [
    "## Full Configuration Interaction Theory\n",
    "Normally"
   ]
  },
  {
   "cell_type": "markdown",
   "id": "919441a0",
   "metadata": {
    "editable": true
   },
   "source": [
    "$$\n",
    "E= \\langle \\Psi_0 | \\hat{H} |\\Phi_0 \\rangle= \\sum_{PP'HH'}C_H^{*P}\\langle \\Phi_H^P | \\hat{H} |\\Phi_{H'}^{P'} \\rangle C_{H'}^{P'},\n",
    "$$"
   ]
  },
  {
   "cell_type": "markdown",
   "id": "10fee8fb",
   "metadata": {
    "editable": true
   },
   "source": [
    "is solved by diagonalization setting up the Hamiltonian matrix defined by the basis of all possible Slater determinants. A diagonalization\n",
    "<!-- to do: add text about Rayleigh-Ritz -->\n",
    "is equivalent to finding the variational minimum   of"
   ]
  },
  {
   "cell_type": "markdown",
   "id": "27c4d8ed",
   "metadata": {
    "editable": true
   },
   "source": [
    "$$\n",
    "\\langle \\Psi_0 | \\hat{H} |\\Phi_0 \\rangle-\\lambda \\langle \\Psi_0 |\\Phi_0 \\rangle,\n",
    "$$"
   ]
  },
  {
   "cell_type": "markdown",
   "id": "bb4d2919",
   "metadata": {
    "editable": true
   },
   "source": [
    "where $\\lambda$ is a variational multiplier to be identified with the energy of the system.\n",
    "The minimization process results in"
   ]
  },
  {
   "cell_type": "markdown",
   "id": "b62e54fd",
   "metadata": {
    "editable": true
   },
   "source": [
    "$$\n",
    "\\delta\\left[ \\langle \\Psi_0 | \\hat{H} |\\Phi_0 \\rangle-\\lambda \\langle \\Psi_0 |\\Phi_0 \\rangle\\right]=\n",
    "$$"
   ]
  },
  {
   "cell_type": "markdown",
   "id": "ebb8e35d",
   "metadata": {
    "editable": true
   },
   "source": [
    "$$\n",
    "\\sum_{P'H'}\\left\\{\\delta[C_H^{*P}]\\langle \\Phi_H^P | \\hat{H} |\\Phi_{H'}^{P'} \\rangle C_{H'}^{P'}+\n",
    "C_H^{*P}\\langle \\Phi_H^P | \\hat{H} |\\Phi_{H'}^{P'} \\rangle \\delta[C_{H'}^{P'}]-\n",
    "\\lambda( \\delta[C_H^{*P}]C_{H'}^{P'}+C_H^{*P}\\delta[C_{H'}^{P'}]\\right\\} = 0.\n",
    "$$"
   ]
  },
  {
   "cell_type": "markdown",
   "id": "bbace602",
   "metadata": {
    "editable": true
   },
   "source": [
    "Since the coefficients $\\delta[C_H^{*P}]$ and $\\delta[C_{H'}^{P'}]$ are complex conjugates it is necessary and sufficient to require the quantities that multiply with $\\delta[C_H^{*P}]$ to vanish."
   ]
  },
  {
   "cell_type": "markdown",
   "id": "4293cc93",
   "metadata": {
    "editable": true
   },
   "source": [
    "## Full Configuration Interaction Theory\n",
    "\n",
    "This leads to"
   ]
  },
  {
   "cell_type": "markdown",
   "id": "047bb0cc",
   "metadata": {
    "editable": true
   },
   "source": [
    "$$\n",
    "\\sum_{P'H'}\\langle \\Phi_H^P | \\hat{H} |\\Phi_{H'}^{P'} \\rangle C_{H'}^{P'}-\\lambda C_H^{P}=0,\n",
    "$$"
   ]
  },
  {
   "cell_type": "markdown",
   "id": "44d960cf",
   "metadata": {
    "editable": true
   },
   "source": [
    "for all sets of $P$ and $H$.\n",
    "\n",
    "If we then multiply by the corresponding $C_H^{*P}$ and sum over $PH$ we obtain"
   ]
  },
  {
   "cell_type": "markdown",
   "id": "8c7fc4be",
   "metadata": {
    "editable": true
   },
   "source": [
    "$$\n",
    "\\sum_{PP'HH'}C_H^{*P}\\langle \\Phi_H^P | \\hat{H} |\\Phi_{H'}^{P'} \\rangle C_{H'}^{P'}-\\lambda\\sum_{PH}|C_H^P|^2=0,\n",
    "$$"
   ]
  },
  {
   "cell_type": "markdown",
   "id": "1fc409dc",
   "metadata": {
    "editable": true
   },
   "source": [
    "leading to the identification $\\lambda = E$. This means that we have for all $PH$ sets"
   ]
  },
  {
   "cell_type": "markdown",
   "id": "9cbd1523",
   "metadata": {
    "editable": true
   },
   "source": [
    "<!-- Equation labels as ordinary links -->\n",
    "<div id=\"eq:fullci\"></div>\n",
    "\n",
    "$$\n",
    "\\begin{equation}\n",
    "\\sum_{P'H'}\\langle \\Phi_H^P | \\hat{H} -E|\\Phi_{H'}^{P'} \\rangle = 0. \\label{eq:fullci} \\tag{1}\n",
    "\\end{equation}\n",
    "$$"
   ]
  },
  {
   "cell_type": "markdown",
   "id": "400c9e8f",
   "metadata": {
    "editable": true
   },
   "source": [
    "## Full Configuration Interaction Theory\n",
    "An alternative way to derive the last equation is to start from"
   ]
  },
  {
   "cell_type": "markdown",
   "id": "c779ef9d",
   "metadata": {
    "editable": true
   },
   "source": [
    "$$\n",
    "(\\hat{H} -E)|\\Psi_0\\rangle = (\\hat{H} -E)\\sum_{P'H'}C_{H'}^{P'}|\\Phi_{H'}^{P'} \\rangle=0,\n",
    "$$"
   ]
  },
  {
   "cell_type": "markdown",
   "id": "a4d396b9",
   "metadata": {
    "editable": true
   },
   "source": [
    "and if this equation is successively projected against all $\\Phi_H^P$ in the expansion of $\\Psi$, then the last equation on the previous slide\n",
    "results.   As stated previously, one solves this equation normally by diagonalization. If we are able to solve this equation exactly (that is\n",
    "numerically exactly) in a large Hilbert space (it will be truncated in terms of the number of single-particle states included in the definition\n",
    "of Slater determinants), it can then serve as a benchmark for other many-body methods which approximate the correlation operator\n",
    "$\\hat{C}$."
   ]
  },
  {
   "cell_type": "markdown",
   "id": "13108b45",
   "metadata": {
    "editable": true
   },
   "source": [
    "## Shell-model jargon\n",
    "If we do not make any truncations in the possible sets of Slater determinants (many-body states) we can make by distributing $A$ nucleons among $n$ single-particle states, we call such a calculation for **Full configuration interaction theory**\n",
    "\n",
    "If we make truncations, we have different possibilities\n",
    "\n",
    "* The standard nuclear shell-model. Here we define an effective Hilbert space with respect to a given core. The calculations are normally then performed for all many-body states that can be constructed from the effective Hilbert spaces. This approach requires a properly defined effective Hamiltonian\n",
    "\n",
    "* We can truncate in the number of excitations. For example, we can limit the possible Slater determinants to only $1p-1h$ and $2p-2h$ excitations. This is called a configuration interaction calculation at the level of singles and doubles excitations, or just CISD. \n",
    "\n",
    "* We can limit the number of excitations in terms of the excitation energies. If we do not define a core, this defines normally what is called the no-core shell-model approach. \n",
    "\n",
    "What happens if we have a three-body interaction and a Hartree-Fock basis?"
   ]
  },
  {
   "cell_type": "markdown",
   "id": "a9a90aa6",
   "metadata": {
    "editable": true
   },
   "source": [
    "## FCI and the exponential growth\n",
    "Full configuration interaction theory calculations provide in principle, if we can diagonalize numerically, all states of interest. The dimensionality of the problem explodes however quickly.\n",
    "\n",
    "The total number of Slater determinants which can be built with say $N$ neutrons distributed among $n$ single particle states is"
   ]
  },
  {
   "cell_type": "markdown",
   "id": "b3aef5b2",
   "metadata": {
    "editable": true
   },
   "source": [
    "$$\n",
    "\\left (\\begin{array}{c} n \\\\ N\\end{array} \\right) =\\frac{n!}{(n-N)!N!}.\n",
    "$$"
   ]
  },
  {
   "cell_type": "markdown",
   "id": "9c0e5ca2",
   "metadata": {
    "editable": true
   },
   "source": [
    "For a model space which comprises the first for major shells only $0s$, $0p$, $1s0d$ and $1p0f$ we have $40$ single particle states for neutrons and protons.  For the eight neutrons of oxygen-16 we would then have"
   ]
  },
  {
   "cell_type": "markdown",
   "id": "dc5a1d4b",
   "metadata": {
    "editable": true
   },
   "source": [
    "$$\n",
    "\\left (\\begin{array}{c} 40 \\\\ 8\\end{array} \\right) =\\frac{40!}{(32)!8!}\\sim 10^{9},\n",
    "$$"
   ]
  },
  {
   "cell_type": "markdown",
   "id": "bd484b2e",
   "metadata": {
    "editable": true
   },
   "source": [
    "and multiplying this with the number of proton Slater determinants we end up with approximately with a dimensionality $d$ of $d\\sim 10^{18}$."
   ]
  },
  {
   "cell_type": "markdown",
   "id": "dc1708d2",
   "metadata": {
    "editable": true
   },
   "source": [
    "## Exponential wall\n",
    "This number can be reduced if we look at specific symmetries only. However, the dimensionality explodes quickly!\n",
    "\n",
    "* For Hamiltonian matrices of dimensionalities  which are smaller than $d\\sim 10^5$, we would use so-called direct methods for diagonalizing the Hamiltonian matrix\n",
    "\n",
    "* For larger dimensionalities iterative eigenvalue solvers like Lanczos' method are used. The most efficient codes at present can handle matrices of $d\\sim 10^{10}$."
   ]
  },
  {
   "cell_type": "markdown",
   "id": "a6d61d1e",
   "metadata": {
    "editable": true
   },
   "source": [
    "## A non-practical way of solving the eigenvalue problem\n",
    "To see this, we look at the contributions arising from"
   ]
  },
  {
   "cell_type": "markdown",
   "id": "79392b93",
   "metadata": {
    "editable": true
   },
   "source": [
    "$$\n",
    "\\langle \\Phi_H^P | = \\langle \\Phi_0|\n",
    "$$"
   ]
  },
  {
   "cell_type": "markdown",
   "id": "1633528a",
   "metadata": {
    "editable": true
   },
   "source": [
    "in  Eq. ([1](#eq:fullci)), that is we multiply with $\\langle \\Phi_0 |$\n",
    "from the left in"
   ]
  },
  {
   "cell_type": "markdown",
   "id": "02a24743",
   "metadata": {
    "editable": true
   },
   "source": [
    "$$\n",
    "(\\hat{H} -E)\\sum_{P'H'}C_{H'}^{P'}|\\Phi_{H'}^{P'} \\rangle=0.\n",
    "$$"
   ]
  },
  {
   "cell_type": "markdown",
   "id": "13407d9b",
   "metadata": {
    "editable": true
   },
   "source": [
    "If we assume that we have a two-body operator at most, Slater's rule gives then an equation for the \n",
    "correlation energy in terms of $C_i^a$ and $C_{ij}^{ab}$ only.  We get then"
   ]
  },
  {
   "cell_type": "markdown",
   "id": "8e2cccec",
   "metadata": {
    "editable": true
   },
   "source": [
    "$$\n",
    "\\langle \\Phi_0 | \\hat{H} -E| \\Phi_0\\rangle + \\sum_{ai}\\langle \\Phi_0 | \\hat{H} -E|\\Phi_{i}^{a} \\rangle C_{i}^{a}+\n",
    "\\sum_{abij}\\langle \\Phi_0 | \\hat{H} -E|\\Phi_{ij}^{ab} \\rangle C_{ij}^{ab}=0,\n",
    "$$"
   ]
  },
  {
   "cell_type": "markdown",
   "id": "6f5b0042",
   "metadata": {
    "editable": true
   },
   "source": [
    "or"
   ]
  },
  {
   "cell_type": "markdown",
   "id": "25560dcf",
   "metadata": {
    "editable": true
   },
   "source": [
    "$$\n",
    "E-E_0 =\\Delta E=\\sum_{ai}\\langle \\Phi_0 | \\hat{H}|\\Phi_{i}^{a} \\rangle C_{i}^{a}+\n",
    "\\sum_{abij}\\langle \\Phi_0 | \\hat{H}|\\Phi_{ij}^{ab} \\rangle C_{ij}^{ab},\n",
    "$$"
   ]
  },
  {
   "cell_type": "markdown",
   "id": "34a5a885",
   "metadata": {
    "editable": true
   },
   "source": [
    "where the energy $E_0$ is the reference energy and $\\Delta E$ defines the so-called correlation energy.\n",
    "The single-particle basis functions  could be the results of a Hartree-Fock calculation or just the eigenstates of the non-interacting part of the Hamiltonian."
   ]
  },
  {
   "cell_type": "markdown",
   "id": "fe1874a2",
   "metadata": {
    "editable": true
   },
   "source": [
    "## A non-practical way of solving the eigenvalue problem\n",
    "To see this, we look at the contributions arising from"
   ]
  },
  {
   "cell_type": "markdown",
   "id": "f5646b06",
   "metadata": {
    "editable": true
   },
   "source": [
    "$$\n",
    "\\langle \\Phi_H^P | = \\langle \\Phi_0|\n",
    "$$"
   ]
  },
  {
   "cell_type": "markdown",
   "id": "dc825a28",
   "metadata": {
    "editable": true
   },
   "source": [
    "in  Eq. ([1](#eq:fullci)), that is we multiply with $\\langle \\Phi_0 |$\n",
    "from the left in"
   ]
  },
  {
   "cell_type": "markdown",
   "id": "6027f034",
   "metadata": {
    "editable": true
   },
   "source": [
    "$$\n",
    "(\\hat{H} -E)\\sum_{P'H'}C_{H'}^{P'}|\\Phi_{H'}^{P'} \\rangle=0.\n",
    "$$"
   ]
  },
  {
   "cell_type": "markdown",
   "id": "1bd7310c",
   "metadata": {
    "editable": true
   },
   "source": [
    "## A non-practical way of solving the eigenvalue problem\n",
    "If we assume that we have a two-body operator at most, Slater's rule gives then an equation for the \n",
    "correlation energy in terms of $C_i^a$ and $C_{ij}^{ab}$ only.  We get then"
   ]
  },
  {
   "cell_type": "markdown",
   "id": "a3efaa9b",
   "metadata": {
    "editable": true
   },
   "source": [
    "$$\n",
    "\\langle \\Phi_0 | \\hat{H} -E| \\Phi_0\\rangle + \\sum_{ai}\\langle \\Phi_0 | \\hat{H} -E|\\Phi_{i}^{a} \\rangle C_{i}^{a}+\n",
    "\\sum_{abij}\\langle \\Phi_0 | \\hat{H} -E|\\Phi_{ij}^{ab} \\rangle C_{ij}^{ab}=0,\n",
    "$$"
   ]
  },
  {
   "cell_type": "markdown",
   "id": "5db630fb",
   "metadata": {
    "editable": true
   },
   "source": [
    "or"
   ]
  },
  {
   "cell_type": "markdown",
   "id": "d91d8cb0",
   "metadata": {
    "editable": true
   },
   "source": [
    "$$\n",
    "E-E_0 =\\Delta E=\\sum_{ai}\\langle \\Phi_0 | \\hat{H}|\\Phi_{i}^{a} \\rangle C_{i}^{a}+\n",
    "\\sum_{abij}\\langle \\Phi_0 | \\hat{H}|\\Phi_{ij}^{ab} \\rangle C_{ij}^{ab},\n",
    "$$"
   ]
  },
  {
   "cell_type": "markdown",
   "id": "fe591151",
   "metadata": {
    "editable": true
   },
   "source": [
    "where the energy $E_0$ is the reference energy and $\\Delta E$ defines the so-called correlation energy.\n",
    "The single-particle basis functions  could be the results of a Hartree-Fock calculation or just the eigenstates of the non-interacting part of the Hamiltonian."
   ]
  },
  {
   "cell_type": "markdown",
   "id": "27d2c617",
   "metadata": {
    "editable": true
   },
   "source": [
    "## Rewriting the FCI equation\n",
    "In our notes on Hartree-Fock calculations, \n",
    "we have already computed the matrix $\\langle \\Phi_0 | \\hat{H}|\\Phi_{i}^{a}\\rangle $ and $\\langle \\Phi_0 | \\hat{H}|\\Phi_{ij}^{ab}\\rangle$.  If we are using a Hartree-Fock basis, then the matrix elements\n",
    "$\\langle \\Phi_0 | \\hat{H}|\\Phi_{i}^{a}\\rangle=0$ and we are left with a *correlation energy* given by"
   ]
  },
  {
   "cell_type": "markdown",
   "id": "db166806",
   "metadata": {
    "editable": true
   },
   "source": [
    "$$\n",
    "E-E_0 =\\Delta E^{HF}=\\sum_{abij}\\langle \\Phi_0 | \\hat{H}|\\Phi_{ij}^{ab} \\rangle C_{ij}^{ab}.\n",
    "$$"
   ]
  },
  {
   "cell_type": "markdown",
   "id": "0a37491a",
   "metadata": {
    "editable": true
   },
   "source": [
    "## Rewriting the FCI equation\n",
    "Inserting the various matrix elements we can rewrite the previous equation as"
   ]
  },
  {
   "cell_type": "markdown",
   "id": "7ffdd0d9",
   "metadata": {
    "editable": true
   },
   "source": [
    "$$\n",
    "\\Delta E=\\sum_{ai}\\langle i| \\hat{f}|a \\rangle C_{i}^{a}+\n",
    "\\sum_{abij}\\langle ij | \\hat{v}| ab \\rangle C_{ij}^{ab}.\n",
    "$$"
   ]
  },
  {
   "cell_type": "markdown",
   "id": "88d035ad",
   "metadata": {
    "editable": true
   },
   "source": [
    "This equation determines the correlation energy but not the coefficients $C$."
   ]
  },
  {
   "cell_type": "markdown",
   "id": "17781de3",
   "metadata": {
    "editable": true
   },
   "source": [
    "## Rewriting the FCI equation, does not stop here\n",
    "We need more equations. Our next step is to set up"
   ]
  },
  {
   "cell_type": "markdown",
   "id": "1f985349",
   "metadata": {
    "editable": true
   },
   "source": [
    "$$\n",
    "\\langle \\Phi_i^a | \\hat{H} -E| \\Phi_0\\rangle + \\sum_{bj}\\langle \\Phi_i^a | \\hat{H} -E|\\Phi_{j}^{b} \\rangle C_{j}^{b}+\n",
    "\\sum_{bcjk}\\langle \\Phi_i^a | \\hat{H} -E|\\Phi_{jk}^{bc} \\rangle C_{jk}^{bc}+\n",
    "\\sum_{bcdjkl}\\langle \\Phi_i^a | \\hat{H} -E|\\Phi_{jkl}^{bcd} \\rangle C_{jkl}^{bcd}=0,\n",
    "$$"
   ]
  },
  {
   "cell_type": "markdown",
   "id": "3c44895a",
   "metadata": {
    "editable": true
   },
   "source": [
    "as this equation will allow us to find an expression for the coefficents $C_i^a$ since we can rewrite this equation as"
   ]
  },
  {
   "cell_type": "markdown",
   "id": "8bfd8560",
   "metadata": {
    "editable": true
   },
   "source": [
    "$$\n",
    "\\langle i | \\hat{f}| a\\rangle +\\langle \\Phi_i^a | \\hat{H}|\\Phi_{i}^{a} \\rangle C_{i}^{a}+ \\sum_{bj\\ne ai}\\langle \\Phi_i^a | \\hat{H}|\\Phi_{j}^{b} \\rangle C_{j}^{b}+\n",
    "\\sum_{bcjk}\\langle \\Phi_i^a | \\hat{H}|\\Phi_{jk}^{bc} \\rangle C_{jk}^{bc}+\n",
    "\\sum_{bcdjkl}\\langle \\Phi_i^a | \\hat{H}|\\Phi_{jkl}^{bcd} \\rangle C_{jkl}^{bcd}=EC_i^a.\n",
    "$$"
   ]
  },
  {
   "cell_type": "markdown",
   "id": "a775788d",
   "metadata": {
    "editable": true
   },
   "source": [
    "## Rewriting the FCI equation, please stop here\n",
    "We see that on the right-hand side we have the energy $E$. This leads to a non-linear equation in the unknown coefficients. \n",
    "These equations are normally solved iteratively ( that is we can start with a guess for the coefficients $C_i^a$). A common choice is to use perturbation theory for the first guess, setting thereby"
   ]
  },
  {
   "cell_type": "markdown",
   "id": "61748be1",
   "metadata": {
    "editable": true
   },
   "source": [
    "$$\n",
    "C_{i}^{a}=\\frac{\\langle i | \\hat{f}| a\\rangle}{\\epsilon_i-\\epsilon_a}.\n",
    "$$"
   ]
  },
  {
   "cell_type": "markdown",
   "id": "ecfa027f",
   "metadata": {
    "editable": true
   },
   "source": [
    "## Rewriting the FCI equation, more to add\n",
    "The observant reader will however see that we need an equation for $C_{jk}^{bc}$ and $C_{jkl}^{bcd}$ as well.\n",
    "To find equations for these coefficients we need then to continue our multiplications from the left with the various\n",
    "$\\Phi_{H}^P$ terms. \n",
    "\n",
    "For $C_{jk}^{bc}$ we need then"
   ]
  },
  {
   "cell_type": "markdown",
   "id": "b1157b41",
   "metadata": {
    "editable": true
   },
   "source": [
    "$$\n",
    "\\langle \\Phi_{ij}^{ab} | \\hat{H} -E| \\Phi_0\\rangle + \\sum_{kc}\\langle \\Phi_{ij}^{ab} | \\hat{H} -E|\\Phi_{k}^{c} \\rangle C_{k}^{c}+\n",
    "$$"
   ]
  },
  {
   "cell_type": "markdown",
   "id": "cf732391",
   "metadata": {
    "editable": true
   },
   "source": [
    "$$\n",
    "\\sum_{cdkl}\\langle \\Phi_{ij}^{ab} | \\hat{H} -E|\\Phi_{kl}^{cd} \\rangle C_{kl}^{cd}+\\sum_{cdeklm}\\langle \\Phi_{ij}^{ab} | \\hat{H} -E|\\Phi_{klm}^{cde} \\rangle C_{klm}^{cde}+\\sum_{cdefklmn}\\langle \\Phi_{ij}^{ab} | \\hat{H} -E|\\Phi_{klmn}^{cdef} \\rangle C_{klmn}^{cdef}=0,\n",
    "$$"
   ]
  },
  {
   "cell_type": "markdown",
   "id": "e9250527",
   "metadata": {
    "editable": true
   },
   "source": [
    "and we can isolate the coefficients $C_{kl}^{cd}$ in a similar way as we did for the coefficients $C_{i}^{a}$."
   ]
  },
  {
   "cell_type": "markdown",
   "id": "133b8a93",
   "metadata": {
    "editable": true
   },
   "source": [
    "## Rewriting the FCI equation, more to add\n",
    "A standard choice for the first iteration is to set"
   ]
  },
  {
   "cell_type": "markdown",
   "id": "1e28fbbc",
   "metadata": {
    "editable": true
   },
   "source": [
    "$$\n",
    "C_{ij}^{ab} =\\frac{\\langle ij \\vert \\hat{v} \\vert ab \\rangle}{\\epsilon_i+\\epsilon_j-\\epsilon_a-\\epsilon_b}.\n",
    "$$"
   ]
  },
  {
   "cell_type": "markdown",
   "id": "9f703bb8",
   "metadata": {
    "editable": true
   },
   "source": [
    "At the end we can rewrite our solution of the Schroedinger equation in terms of $n$ coupled equations for the coefficients $C_H^P$.\n",
    "This is a very cumbersome way of solving the equation. However, by using this iterative scheme we can illustrate how we can compute the\n",
    "various terms in the wave operator or correlation operator $\\hat{C}$. We will later identify the calculation of the various terms $C_H^P$\n",
    "as parts of different many-body approximations to full CI. In particular, we can  relate this non-linear scheme with Coupled Cluster theory and\n",
    "many-body perturbation theory."
   ]
  },
  {
   "cell_type": "markdown",
   "id": "ec0af7a6",
   "metadata": {
    "editable": true
   },
   "source": [
    "## Summarizing FCI and bringing in approximative methods\n",
    "\n",
    "If we can diagonalize large matrices, FCI is the method of choice since:\n",
    "* It gives all eigenvalues, ground state and excited states\n",
    "\n",
    "* The eigenvectors are obtained directly from the coefficients $C_H^P$ which result from the diagonalization\n",
    "\n",
    "* We can compute easily expectation values of other operators, as well as transition probabilities\n",
    "\n",
    "* Correlations are easy to understand in terms of contributions to a given operator beyond the Hartree-Fock contribution. This is the standard approach in  many-body theory."
   ]
  },
  {
   "cell_type": "markdown",
   "id": "cbf1cd0a",
   "metadata": {
    "editable": true
   },
   "source": [
    "## Definition of the correlation energy\n",
    "The correlation energy is defined as, with a two-body Hamiltonian,"
   ]
  },
  {
   "cell_type": "markdown",
   "id": "34162e4f",
   "metadata": {
    "editable": true
   },
   "source": [
    "$$\n",
    "\\Delta E=\\sum_{ai}\\langle i| \\hat{f}|a \\rangle C_{i}^{a}+\n",
    "\\sum_{abij}\\langle ij | \\hat{v}| ab \\rangle C_{ij}^{ab}.\n",
    "$$"
   ]
  },
  {
   "cell_type": "markdown",
   "id": "b3b8eabf",
   "metadata": {
    "editable": true
   },
   "source": [
    "The coefficients $C$ result from the solution of the eigenvalue problem. \n",
    "The energy of say the ground state is then"
   ]
  },
  {
   "cell_type": "markdown",
   "id": "38f8e837",
   "metadata": {
    "editable": true
   },
   "source": [
    "$$\n",
    "E=E_{ref}+\\Delta E,\n",
    "$$"
   ]
  },
  {
   "cell_type": "markdown",
   "id": "de532780",
   "metadata": {
    "editable": true
   },
   "source": [
    "where the so-called reference energy is the energy we obtain from a Hartree-Fock calculation, that is"
   ]
  },
  {
   "cell_type": "markdown",
   "id": "fa163b2e",
   "metadata": {
    "editable": true
   },
   "source": [
    "$$\n",
    "E_{ref}=\\langle \\Phi_0 \\vert \\hat{H} \\vert \\Phi_0 \\rangle.\n",
    "$$"
   ]
  },
  {
   "cell_type": "markdown",
   "id": "9cf021ad",
   "metadata": {
    "editable": true
   },
   "source": [
    "## FCI equation and the coefficients\n",
    "\n",
    "However, as we have seen, even for a small case like the four first major shells and a nucleus like oxygen-16, the dimensionality becomes quickly intractable. If we wish to include single-particle states that reflect weakly bound systems, we need a much larger single-particle basis. We need thus approximative methods that sum specific correlations to infinite order. \n",
    "\n",
    "Popular methods are\n",
    "* [Many-body perturbation theory (in essence a Taylor expansion)](http://www.sciencedirect.com/science/article/pii/0370157395000126)\n",
    "\n",
    "* [Coupled cluster theory (coupled non-linear equations)](http://iopscience.iop.org/article/10.1088/0034-4885/77/9/096302/meta)\n",
    "\n",
    "* Green's function approaches (matrix inversion)\n",
    "\n",
    "* [Similarity group transformation methods (coupled ordinary differential equations)](http://journals.aps.org/prl/abstract/10.1103/PhysRevLett.106.222502)\n",
    "\n",
    "All these methods start normally with a Hartree-Fock basis as the calculational basis."
   ]
  },
  {
   "cell_type": "markdown",
   "id": "8976a2f8",
   "metadata": {
    "editable": true
   },
   "source": [
    "## Coupled Cluster theory\n",
    "\n",
    "Add material here"
   ]
  },
  {
   "cell_type": "markdown",
   "id": "a4b0bef9",
   "metadata": {
    "editable": true
   },
   "source": [
    "## Example case: pairing Hamiltonian\n",
    "\n",
    "Now we take the following Hamiltonian"
   ]
  },
  {
   "cell_type": "markdown",
   "id": "bc3e7b4c",
   "metadata": {
    "editable": true
   },
   "source": [
    "$$\n",
    "\\hat{H} = \\sum_n n \\delta \\hat{N}_n  - G \\hat{P}^\\dagger \\hat{P}\n",
    "$$"
   ]
  },
  {
   "cell_type": "markdown",
   "id": "ddde4000",
   "metadata": {
    "editable": true
   },
   "source": [
    "where"
   ]
  },
  {
   "cell_type": "markdown",
   "id": "8d5f898e",
   "metadata": {
    "editable": true
   },
   "source": [
    "$$\n",
    "\\hat{N}_n = \\hat{a}^\\dagger_{n, m=+1/2} \\hat{a}_{n, m=+1/2} +\n",
    "\\hat{a}^\\dagger_{n, m=-1/2} \\hat{a}_{n, m=-1/2}\n",
    "$$"
   ]
  },
  {
   "cell_type": "markdown",
   "id": "d9e15c4e",
   "metadata": {
    "editable": true
   },
   "source": [
    "and"
   ]
  },
  {
   "cell_type": "markdown",
   "id": "5c63a2bc",
   "metadata": {
    "editable": true
   },
   "source": [
    "$$\n",
    "\\hat{P}^\\dagger = \\sum_{n} \\hat{a}^\\dagger_{n, m=+1/2} \\hat{a}^\\dagger_{n, m=-1/2}\n",
    "$$"
   ]
  },
  {
   "cell_type": "markdown",
   "id": "827126e2",
   "metadata": {
    "editable": true
   },
   "source": [
    "We can write down the $ 6 \\times 6$  Hamiltonian in the basis from the prior slide:"
   ]
  },
  {
   "cell_type": "markdown",
   "id": "96ca4f29",
   "metadata": {
    "editable": true
   },
   "source": [
    "$$\n",
    "H = \\left ( \n",
    "\\begin{array}{cccccc}\n",
    "2\\delta -2G & -G & -G & -G & -G & 0 \\\\\n",
    " -G & 4\\delta -2G & -G & -G & -0 & -G \\\\\n",
    "-G & -G & 6\\delta -2G & 0 & -G & -G \\\\\n",
    " -G & -G & 0 & 6\\delta-2G & -G & -G \\\\\n",
    " -G & 0 & -G & -G & 8\\delta-2G & -G \\\\\n",
    "0 & -G & -G & -G & -G & 10\\delta -2G \n",
    "\\end{array} \\right )\n",
    "$$"
   ]
  },
  {
   "cell_type": "markdown",
   "id": "8611b6d0",
   "metadata": {
    "editable": true
   },
   "source": [
    "(You should check by hand that this is correct.) \n",
    "\n",
    "For $\\delta = 0$ we have the closed form solution of  the g.s. energy given by $-6G$."
   ]
  }
 ],
 "metadata": {},
 "nbformat": 4,
 "nbformat_minor": 5
}
