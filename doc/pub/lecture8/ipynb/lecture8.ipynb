{
 "cells": [
  {
   "cell_type": "markdown",
   "id": "b81ab81f",
   "metadata": {
    "editable": true
   },
   "source": [
    "<!-- HTML file automatically generated from DocOnce source (https://github.com/doconce/doconce/)\n",
    "doconce format html lecture8.do.txt --no_mako -->\n",
    "<!-- dom:TITLE: Many-body theory and nuclear few- and many-body systems -->"
   ]
  },
  {
   "cell_type": "markdown",
   "id": "9136e0c6",
   "metadata": {
    "editable": true
   },
   "source": [
    "# Many-body theory and nuclear few- and many-body systems\n",
    "**Benjamin Hall and Morten Hjorth-Jensen**, [Facility for Rare Isotope Beams and National Superconducting Cyclotron Laboratory](http://www.frib.msu.edu/) and [Department of Physics and Astronomy](https://www.pa.msu.edu/), [Michigan State University](http://www.msu.edu/), East Lansing, MI 48824, USA\n",
    "\n",
    "Date: **Jun 18, 2022**\n",
    "\n",
    "Copyright 2013-2022, Benjamin Hall and Morten Hjorth-Jensen. Released under CC Attribution-NonCommercial 4.0 license"
   ]
  },
  {
   "cell_type": "markdown",
   "id": "d522b04a",
   "metadata": {
    "editable": true
   },
   "source": [
    "## Classical many-body methods and quantum computing\n",
    "\n",
    "Classical many-body methods in quantum mechanics often trade\n",
    "computational complexity for accuracy when solving for the ground\n",
    "state energy of a system. The recent advances in quantum computing\n",
    "have shown promise in approximating the ground state energy without\n",
    "such a large trade-off. In classical computing, the\n",
    "basic unit of information is called a bit. The bit is represented by a\n",
    "binary digit, either a 1 or a 0. A collection of bits provides a\n",
    "binary string with information, and this information can be\n",
    "manipulated with what we call logic gates. Logic gates are operations\n",
    "on one or more bits and produce a single output, 1 or 0. A collection\n",
    "of such logic gates is called a circuit and an example of such a\n",
    "circuit could be outputting a 1 if all input bits are put to 1 and\n",
    "output 0 otherwise. The behaviour of all circuits on classical\n",
    "computers is deterministic in the sense that a given input binary\n",
    "string will always produce the same output."
   ]
  },
  {
   "cell_type": "markdown",
   "id": "7b9a30f0",
   "metadata": {
    "editable": true
   },
   "source": [
    "## Quantum computing\n",
    "How quantum computing differs from classical computing can partly be\n",
    "illustrated by looking at the surface of the unit Bloch sphere discussed in earlier lectures.\n",
    "A classical bit must either be in the $\\vert 0\\rangle$ state\n",
    "at the surface on the north pole, or in the $\\vert 1\\rangle$ state at the\n",
    "surface on the south pole; the quantum bit, namely a qubit, can be in\n",
    "a state located anywhere on the surface of the Block sphere. The qubit\n",
    "state $\\vert\\psi\\rangle$ can be in \n",
    "superposition,"
   ]
  },
  {
   "cell_type": "markdown",
   "id": "6a0c5ee4",
   "metadata": {
    "editable": true
   },
   "source": [
    "$$\n",
    "\\vert\\psi\\rangle = c_0 \\vert 0\\rangle + c_1 \\vert 1\\rangle,\n",
    "$$"
   ]
  },
  {
   "cell_type": "markdown",
   "id": "43d14ff0",
   "metadata": {
    "editable": true
   },
   "source": [
    "where a\n",
    "measurement of the qubit will collapse the state, resulting in the\n",
    "state $\\vert 0\\rangle$ or $\\vert 1\\rangle$ with probability $|c_0|^2$ or $|c_1|^2$\n",
    "respectively. These coefficients are referred to as amplitudes and\n",
    "could be any complex number as long as the measurement probabilities\n",
    "are normalized, that is $|c_0|^2 + |c_1|^2 = 1$."
   ]
  },
  {
   "cell_type": "markdown",
   "id": "0b790ac7",
   "metadata": {
    "editable": true
   },
   "source": [
    "## Slater determinants as basis states, Fermionic problems\n",
    "The simplest possible choice for many-body wavefunctions are **product** wavefunctions.\n",
    "That is"
   ]
  },
  {
   "cell_type": "markdown",
   "id": "74b21823",
   "metadata": {
    "editable": true
   },
   "source": [
    "$$\n",
    "\\Psi(x_1, x_2, x_3, \\ldots, x_A) \\approx \\phi_1(x_1) \\phi_2(x_2) \\phi_3(x_3) \\ldots\n",
    "$$"
   ]
  },
  {
   "cell_type": "markdown",
   "id": "e774220b",
   "metadata": {
    "editable": true
   },
   "source": [
    "because we are really only good  at thinking about one particle at a time. Such \n",
    "product wavefunctions, without correlations, are easy to \n",
    "work with; for example, if the single-particle states $\\phi_i(x)$ are orthonormal, then \n",
    "the product wavefunctions are easy to orthonormalize.   \n",
    "\n",
    "Similarly, computing matrix elements of operators are relatively easy, because the \n",
    "integrals factorize.\n",
    "\n",
    "The price we pay is the lack of correlations, which we must build up by using many, many product \n",
    "wavefunctions. (Thus we have a trade-off: compact representation of correlations but \n",
    "difficult integrals versus easy integrals but many states required.)"
   ]
  },
  {
   "cell_type": "markdown",
   "id": "ad71ec7b",
   "metadata": {
    "editable": true
   },
   "source": [
    "## Slater determinants as basis states, repetition\n",
    "Because we have fermions, we are required to have antisymmetric wavefunctions, e.g."
   ]
  },
  {
   "cell_type": "markdown",
   "id": "6030391a",
   "metadata": {
    "editable": true
   },
   "source": [
    "$$\n",
    "\\Psi(x_1, x_2, x_3, \\ldots, x_A) = - \\Psi(x_2, x_1, x_3, \\ldots, x_A)\n",
    "$$"
   ]
  },
  {
   "cell_type": "markdown",
   "id": "9bdfbc82",
   "metadata": {
    "editable": true
   },
   "source": [
    "etc. This is accomplished formally by using the determinantal formalism"
   ]
  },
  {
   "cell_type": "markdown",
   "id": "689303c7",
   "metadata": {
    "editable": true
   },
   "source": [
    "$$\n",
    "\\Psi(x_1, x_2, \\ldots, x_A) \n",
    "= \\frac{1}{\\sqrt{A!}} \n",
    "\\det \\left | \n",
    "\\begin{array}{cccc}\n",
    "\\phi_1(x_1) & \\phi_1(x_2) & \\ldots & \\phi_1(x_A) \\\\\n",
    "\\phi_2(x_1) & \\phi_2(x_2) & \\ldots & \\phi_2(x_A) \\\\\n",
    " \\vdots & & &  \\\\\n",
    "\\phi_A(x_1) & \\phi_A(x_2) & \\ldots & \\phi_A(x_A) \n",
    "\\end{array}\n",
    "\\right |\n",
    "$$"
   ]
  },
  {
   "cell_type": "markdown",
   "id": "6cdb9f32",
   "metadata": {
    "editable": true
   },
   "source": [
    "Product wavefunction + antisymmetry = Slater determinant."
   ]
  },
  {
   "cell_type": "markdown",
   "id": "20adf001",
   "metadata": {
    "editable": true
   },
   "source": [
    "## Slater determinants as basis states"
   ]
  },
  {
   "cell_type": "markdown",
   "id": "762cd7fd",
   "metadata": {
    "editable": true
   },
   "source": [
    "$$\n",
    "\\Psi(x_1, x_2, \\ldots, x_A) \n",
    "= \\frac{1}{\\sqrt{A!}} \n",
    "\\det \\left | \n",
    "\\begin{array}{cccc}\n",
    "\\phi_1(x_1) & \\phi_1(x_2) & \\ldots & \\phi_1(x_A) \\\\\n",
    "\\phi_2(x_1) & \\phi_2(x_2) & \\ldots & \\phi_2(x_A) \\\\\n",
    " \\vdots & & &  \\\\\n",
    "\\phi_A(x_1) & \\phi_A(x_2) & \\ldots & \\phi_A(x_A) \n",
    "\\end{array}\n",
    "\\right |\n",
    "$$"
   ]
  },
  {
   "cell_type": "markdown",
   "id": "54b1e80e",
   "metadata": {
    "editable": true
   },
   "source": [
    "Properties of the determinant (interchange of any two rows or \n",
    "any two columns yields a change in sign; thus no two rows and no \n",
    "two columns can be the same) lead to the Pauli principle:\n",
    "\n",
    "* No two particles can be at the same place (two columns the same); and\n",
    "\n",
    "* No two particles can be in the same state (two rows the same)."
   ]
  },
  {
   "cell_type": "markdown",
   "id": "28eec4c9",
   "metadata": {
    "editable": true
   },
   "source": [
    "## Slater determinants as basis states\n",
    "As a practical matter, however, Slater determinants beyond $N=4$ quickly become \n",
    "unwieldy. Thus we turn to the **occupation representation** or **second quantization** to simplify calculations. \n",
    "\n",
    "The occupation representation or number representation, using fermion **creation** and **annihilation** \n",
    "operators, is compact and efficient. It is also abstract and, at first encounter, not easy to \n",
    "internalize. It is inspired by other operator formalism, such as the ladder operators for \n",
    "the harmonic oscillator or for angular momentum, but unlike those cases, the operators **do not have coordinate space representations**.\n",
    "\n",
    "Instead, one can think of fermion creation/annihilation operators as a game of symbols that \n",
    "compactly reproduces what one would do, albeit clumsily, with full coordinate-space Slater \n",
    "determinants."
   ]
  },
  {
   "cell_type": "markdown",
   "id": "2789d8f6",
   "metadata": {
    "editable": true
   },
   "source": [
    "## Reminder  on the occupation representation (second quantization)\n",
    "We start with a set of orthonormal single-particle states $\\{ \\phi_i(x) \\}$. \n",
    "(Note: this requirement, and others, can be relaxed, but leads to a \n",
    "more involved formalism.) **Any** orthonormal set will do. \n",
    "\n",
    "To each single-particle state $\\phi_i(x)$ we associate a creation operator \n",
    "$\\hat{a}^\\dagger_i$ and an annihilation operator $\\hat{a}_i$. \n",
    "\n",
    "When acting on the vacuum state $| 0 \\rangle$, the creation operator $\\hat{a}^\\dagger_i$ causes \n",
    "a particle to occupy the single-particle state $\\phi_i(x)$:"
   ]
  },
  {
   "cell_type": "markdown",
   "id": "08655302",
   "metadata": {
    "editable": true
   },
   "source": [
    "$$\n",
    "\\phi_i(x) \\rightarrow \\hat{a}^\\dagger_i |0 \\rangle\n",
    "$$"
   ]
  },
  {
   "cell_type": "markdown",
   "id": "4b214ca7",
   "metadata": {
    "editable": true
   },
   "source": [
    "## Quick repetition  of the occupation representation\n",
    "But with multiple creation operators we can occupy multiple states:"
   ]
  },
  {
   "cell_type": "markdown",
   "id": "312c478b",
   "metadata": {
    "editable": true
   },
   "source": [
    "$$\n",
    "\\phi_i(x) \\phi_j(x^\\prime) \\phi_k(x^{\\prime \\prime}) \n",
    "\\rightarrow \\hat{a}^\\dagger_i \\hat{a}^\\dagger_j \\hat{a}^\\dagger_k |0 \\rangle.\n",
    "$$"
   ]
  },
  {
   "cell_type": "markdown",
   "id": "773263f6",
   "metadata": {
    "editable": true
   },
   "source": [
    "Now we impose antisymmetry, by having the fermion operators satisfy  **anticommutation relations**:"
   ]
  },
  {
   "cell_type": "markdown",
   "id": "0b1d354d",
   "metadata": {
    "editable": true
   },
   "source": [
    "$$\n",
    "\\hat{a}^\\dagger_i \\hat{a}^\\dagger_j + \\hat{a}^\\dagger_j \\hat{a}^\\dagger_i\n",
    "= [ \\hat{a}^\\dagger_i ,\\hat{a}^\\dagger_j ]_+ \n",
    "= \\{ \\hat{a}^\\dagger_i ,\\hat{a}^\\dagger_j \\} = 0\n",
    "$$"
   ]
  },
  {
   "cell_type": "markdown",
   "id": "c3949881",
   "metadata": {
    "editable": true
   },
   "source": [
    "so that"
   ]
  },
  {
   "cell_type": "markdown",
   "id": "014f9578",
   "metadata": {
    "editable": true
   },
   "source": [
    "$$\n",
    "\\hat{a}^\\dagger_i \\hat{a}^\\dagger_j = - \\hat{a}^\\dagger_j \\hat{a}^\\dagger_i\n",
    "$$"
   ]
  },
  {
   "cell_type": "markdown",
   "id": "a502d63a",
   "metadata": {
    "editable": true
   },
   "source": [
    "## Quick repetition  of the occupation representation\n",
    "Because of this property, automatically $\\hat{a}^\\dagger_i \\hat{a}^\\dagger_i = 0$, \n",
    "enforcing the Pauli exclusion principle.  Thus when writing a Slater determinant \n",
    "using creation operators,"
   ]
  },
  {
   "cell_type": "markdown",
   "id": "5514db72",
   "metadata": {
    "editable": true
   },
   "source": [
    "$$\n",
    "\\hat{a}^\\dagger_i \\hat{a}^\\dagger_j \\hat{a}^\\dagger_k \\ldots |0 \\rangle\n",
    "$$"
   ]
  },
  {
   "cell_type": "markdown",
   "id": "19cef649",
   "metadata": {
    "editable": true
   },
   "source": [
    "each index $i,j,k, \\ldots$ must be unique.\n",
    "\n",
    "For some relevant exercises with solutions see chapter 8 of [Lecture Notes in Physics, volume 936](http://www.springer.com/us/book/9783319533353)."
   ]
  },
  {
   "cell_type": "markdown",
   "id": "42210353",
   "metadata": {
    "editable": true
   },
   "source": [
    "## Full Configuration Interaction Theory\n",
    "We have defined the ansatz for the ground state as"
   ]
  },
  {
   "cell_type": "markdown",
   "id": "23a25364",
   "metadata": {
    "editable": true
   },
   "source": [
    "$$\n",
    "|\\Phi_0\\rangle = \\left(\\prod_{i\\le F}\\hat{a}_{i}^{\\dagger}\\right)|0\\rangle,\n",
    "$$"
   ]
  },
  {
   "cell_type": "markdown",
   "id": "283760c7",
   "metadata": {
    "editable": true
   },
   "source": [
    "where the index $i$ defines different single-particle states up to the Fermi level. We have assumed that we have $N$ fermions. \n",
    "A given one-particle-one-hole ($1p1h$) state can be written as"
   ]
  },
  {
   "cell_type": "markdown",
   "id": "edc19f95",
   "metadata": {
    "editable": true
   },
   "source": [
    "$$\n",
    "|\\Phi_i^a\\rangle = \\hat{a}_{a}^{\\dagger}\\hat{a}_i|\\Phi_0\\rangle,\n",
    "$$"
   ]
  },
  {
   "cell_type": "markdown",
   "id": "d8aa0aba",
   "metadata": {
    "editable": true
   },
   "source": [
    "while a $2p2h$ state can be written as"
   ]
  },
  {
   "cell_type": "markdown",
   "id": "22e668c7",
   "metadata": {
    "editable": true
   },
   "source": [
    "$$\n",
    "|\\Phi_{ij}^{ab}\\rangle = \\hat{a}_{a}^{\\dagger}\\hat{a}_{b}^{\\dagger}\\hat{a}_j\\hat{a}_i|\\Phi_0\\rangle,\n",
    "$$"
   ]
  },
  {
   "cell_type": "markdown",
   "id": "91db26c8",
   "metadata": {
    "editable": true
   },
   "source": [
    "and a general $NpNh$ state as"
   ]
  },
  {
   "cell_type": "markdown",
   "id": "17d6c5f2",
   "metadata": {
    "editable": true
   },
   "source": [
    "$$\n",
    "|\\Phi_{ijk\\dots}^{abc\\dots}\\rangle = \\hat{a}_{a}^{\\dagger}\\hat{a}_{b}^{\\dagger}\\hat{a}_{c}^{\\dagger}\\dots\\hat{a}_k\\hat{a}_j\\hat{a}_i|\\Phi_0\\rangle.\n",
    "$$"
   ]
  },
  {
   "cell_type": "markdown",
   "id": "5d14d7d1",
   "metadata": {
    "editable": true
   },
   "source": [
    "## Full Configuration Interaction Theory\n",
    "We can then expand our exact state function for the ground state \n",
    "as"
   ]
  },
  {
   "cell_type": "markdown",
   "id": "80461fc5",
   "metadata": {
    "editable": true
   },
   "source": [
    "$$\n",
    "|\\Psi_0\\rangle=C_0|\\Phi_0\\rangle+\\sum_{ai}C_i^a|\\Phi_i^a\\rangle+\\sum_{abij}C_{ij}^{ab}|\\Phi_{ij}^{ab}\\rangle+\\dots\n",
    "=(C_0+\\hat{C})|\\Phi_0\\rangle,\n",
    "$$"
   ]
  },
  {
   "cell_type": "markdown",
   "id": "56097190",
   "metadata": {
    "editable": true
   },
   "source": [
    "where we have introduced the so-called correlation operator"
   ]
  },
  {
   "cell_type": "markdown",
   "id": "fdd379cd",
   "metadata": {
    "editable": true
   },
   "source": [
    "$$\n",
    "\\hat{C}=\\sum_{ai}C_i^a\\hat{a}_{a}^{\\dagger}\\hat{a}_i  +\\sum_{abij}C_{ij}^{ab}\\hat{a}_{a}^{\\dagger}\\hat{a}_{b}^{\\dagger}\\hat{a}_j\\hat{a}_i+\\dots\n",
    "$$"
   ]
  },
  {
   "cell_type": "markdown",
   "id": "ae09d76b",
   "metadata": {
    "editable": true
   },
   "source": [
    "Since the normalization of $\\Psi_0$ is at our disposal and since $C_0$ is by hypothesis non-zero, we may arbitrarily set $C_0=1$ with \n",
    "corresponding proportional changes in all other coefficients. Using this so-called intermediate normalization we have"
   ]
  },
  {
   "cell_type": "markdown",
   "id": "492a870d",
   "metadata": {
    "editable": true
   },
   "source": [
    "$$\n",
    "\\langle \\Psi_0 | \\Phi_0 \\rangle = \\langle \\Phi_0 | \\Phi_0 \\rangle = 1,\n",
    "$$"
   ]
  },
  {
   "cell_type": "markdown",
   "id": "1d220c18",
   "metadata": {
    "editable": true
   },
   "source": [
    "resulting in"
   ]
  },
  {
   "cell_type": "markdown",
   "id": "12b4d850",
   "metadata": {
    "editable": true
   },
   "source": [
    "$$\n",
    "|\\Psi_0\\rangle=(1+\\hat{C})|\\Phi_0\\rangle.\n",
    "$$"
   ]
  },
  {
   "cell_type": "markdown",
   "id": "346e7567",
   "metadata": {
    "editable": true
   },
   "source": [
    "## Full Configuration Interaction Theory\n",
    "We rewrite"
   ]
  },
  {
   "cell_type": "markdown",
   "id": "3e8eca65",
   "metadata": {
    "editable": true
   },
   "source": [
    "$$\n",
    "|\\Psi_0\\rangle=C_0|\\Phi_0\\rangle+\\sum_{ai}C_i^a|\\Phi_i^a\\rangle+\\sum_{abij}C_{ij}^{ab}|\\Phi_{ij}^{ab}\\rangle+\\dots,\n",
    "$$"
   ]
  },
  {
   "cell_type": "markdown",
   "id": "e5d09151",
   "metadata": {
    "editable": true
   },
   "source": [
    "in a more compact form as"
   ]
  },
  {
   "cell_type": "markdown",
   "id": "cc484b99",
   "metadata": {
    "editable": true
   },
   "source": [
    "$$\n",
    "|\\Psi_0\\rangle=\\sum_{PH}C_H^P\\Phi_H^P=\\left(\\sum_{PH}C_H^P\\hat{A}_H^P\\right)|\\Phi_0\\rangle,\n",
    "$$"
   ]
  },
  {
   "cell_type": "markdown",
   "id": "a4577f40",
   "metadata": {
    "editable": true
   },
   "source": [
    "where $H$ stands for $0,1,\\dots,n$ hole states and $P$ for $0,1,\\dots,n$ particle states. \n",
    "Our requirement of unit normalization gives"
   ]
  },
  {
   "cell_type": "markdown",
   "id": "3537ee7f",
   "metadata": {
    "editable": true
   },
   "source": [
    "$$\n",
    "\\langle \\Psi_0 | \\Phi_0 \\rangle = \\sum_{PH}|C_H^P|^2= 1,\n",
    "$$"
   ]
  },
  {
   "cell_type": "markdown",
   "id": "3c142d69",
   "metadata": {
    "editable": true
   },
   "source": [
    "and the energy can be written as"
   ]
  },
  {
   "cell_type": "markdown",
   "id": "b7695e85",
   "metadata": {
    "editable": true
   },
   "source": [
    "$$\n",
    "E= \\langle \\Psi_0 | \\hat{H} |\\Phi_0 \\rangle= \\sum_{PP'HH'}C_H^{*P}\\langle \\Phi_H^P | \\hat{H} |\\Phi_{H'}^{P'} \\rangle C_{H'}^{P'}.\n",
    "$$"
   ]
  },
  {
   "cell_type": "markdown",
   "id": "94cfe70b",
   "metadata": {
    "editable": true
   },
   "source": [
    "## Full Configuration Interaction Theory\n",
    "Normally"
   ]
  },
  {
   "cell_type": "markdown",
   "id": "76920236",
   "metadata": {
    "editable": true
   },
   "source": [
    "$$\n",
    "E= \\langle \\Psi_0 | \\hat{H} |\\Phi_0 \\rangle= \\sum_{PP'HH'}C_H^{*P}\\langle \\Phi_H^P | \\hat{H} |\\Phi_{H'}^{P'} \\rangle C_{H'}^{P'},\n",
    "$$"
   ]
  },
  {
   "cell_type": "markdown",
   "id": "b1e7d0a6",
   "metadata": {
    "editable": true
   },
   "source": [
    "is solved by diagonalization setting up the Hamiltonian matrix defined by the basis of all possible Slater determinants. A diagonalization\n",
    "<!-- to do: add text about Rayleigh-Ritz -->\n",
    "is equivalent to finding the variational minimum   of"
   ]
  },
  {
   "cell_type": "markdown",
   "id": "f57e9569",
   "metadata": {
    "editable": true
   },
   "source": [
    "$$\n",
    "\\langle \\Psi_0 | \\hat{H} |\\Phi_0 \\rangle-\\lambda \\langle \\Psi_0 |\\Phi_0 \\rangle,\n",
    "$$"
   ]
  },
  {
   "cell_type": "markdown",
   "id": "d56fb48e",
   "metadata": {
    "editable": true
   },
   "source": [
    "where $\\lambda$ is a variational multiplier to be identified with the energy of the system.\n",
    "The minimization process results in"
   ]
  },
  {
   "cell_type": "markdown",
   "id": "228506a9",
   "metadata": {
    "editable": true
   },
   "source": [
    "$$\n",
    "\\delta\\left[ \\langle \\Psi_0 | \\hat{H} |\\Phi_0 \\rangle-\\lambda \\langle \\Psi_0 |\\Phi_0 \\rangle\\right]=\n",
    "$$"
   ]
  },
  {
   "cell_type": "markdown",
   "id": "2f045207",
   "metadata": {
    "editable": true
   },
   "source": [
    "$$\n",
    "\\sum_{P'H'}\\left\\{\\delta[C_H^{*P}]\\langle \\Phi_H^P | \\hat{H} |\\Phi_{H'}^{P'} \\rangle C_{H'}^{P'}+\n",
    "C_H^{*P}\\langle \\Phi_H^P | \\hat{H} |\\Phi_{H'}^{P'} \\rangle \\delta[C_{H'}^{P'}]-\n",
    "\\lambda( \\delta[C_H^{*P}]C_{H'}^{P'}+C_H^{*P}\\delta[C_{H'}^{P'}]\\right\\} = 0.\n",
    "$$"
   ]
  },
  {
   "cell_type": "markdown",
   "id": "d035c61a",
   "metadata": {
    "editable": true
   },
   "source": [
    "Since the coefficients $\\delta[C_H^{*P}]$ and $\\delta[C_{H'}^{P'}]$ are complex conjugates it is necessary and sufficient to require the quantities that multiply with $\\delta[C_H^{*P}]$ to vanish."
   ]
  },
  {
   "cell_type": "markdown",
   "id": "4e530c2b",
   "metadata": {
    "editable": true
   },
   "source": [
    "## Full Configuration Interaction Theory\n",
    "\n",
    "This leads to"
   ]
  },
  {
   "cell_type": "markdown",
   "id": "3ea76db1",
   "metadata": {
    "editable": true
   },
   "source": [
    "$$\n",
    "\\sum_{P'H'}\\langle \\Phi_H^P | \\hat{H} |\\Phi_{H'}^{P'} \\rangle C_{H'}^{P'}-\\lambda C_H^{P}=0,\n",
    "$$"
   ]
  },
  {
   "cell_type": "markdown",
   "id": "81cd5999",
   "metadata": {
    "editable": true
   },
   "source": [
    "for all sets of $P$ and $H$.\n",
    "\n",
    "If we then multiply by the corresponding $C_H^{*P}$ and sum over $PH$ we obtain"
   ]
  },
  {
   "cell_type": "markdown",
   "id": "16c8bd6f",
   "metadata": {
    "editable": true
   },
   "source": [
    "$$\n",
    "\\sum_{PP'HH'}C_H^{*P}\\langle \\Phi_H^P | \\hat{H} |\\Phi_{H'}^{P'} \\rangle C_{H'}^{P'}-\\lambda\\sum_{PH}|C_H^P|^2=0,\n",
    "$$"
   ]
  },
  {
   "cell_type": "markdown",
   "id": "e7308c8a",
   "metadata": {
    "editable": true
   },
   "source": [
    "leading to the identification $\\lambda = E$. This means that we have for all $PH$ sets"
   ]
  },
  {
   "cell_type": "markdown",
   "id": "202a8158",
   "metadata": {
    "editable": true
   },
   "source": [
    "<!-- Equation labels as ordinary links -->\n",
    "<div id=\"eq:fullci\"></div>\n",
    "\n",
    "$$\n",
    "\\begin{equation}\n",
    "\\sum_{P'H'}\\langle \\Phi_H^P | \\hat{H} -E|\\Phi_{H'}^{P'} \\rangle = 0. \\label{eq:fullci} \\tag{1}\n",
    "\\end{equation}\n",
    "$$"
   ]
  },
  {
   "cell_type": "markdown",
   "id": "343c22cf",
   "metadata": {
    "editable": true
   },
   "source": [
    "## Full Configuration Interaction Theory\n",
    "An alternative way to derive the last equation is to start from"
   ]
  },
  {
   "cell_type": "markdown",
   "id": "9e9b04a7",
   "metadata": {
    "editable": true
   },
   "source": [
    "$$\n",
    "(\\hat{H} -E)|\\Psi_0\\rangle = (\\hat{H} -E)\\sum_{P'H'}C_{H'}^{P'}|\\Phi_{H'}^{P'} \\rangle=0,\n",
    "$$"
   ]
  },
  {
   "cell_type": "markdown",
   "id": "9b109770",
   "metadata": {
    "editable": true
   },
   "source": [
    "and if this equation is successively projected against all $\\Phi_H^P$ in the expansion of $\\Psi$, then the last equation on the previous slide\n",
    "results.   As stated previously, one solves this equation normally by diagonalization. If we are able to solve this equation exactly (that is\n",
    "numerically exactly) in a large Hilbert space (it will be truncated in terms of the number of single-particle states included in the definition\n",
    "of Slater determinants), it can then serve as a benchmark for other many-body methods which approximate the correlation operator\n",
    "$\\hat{C}$."
   ]
  },
  {
   "cell_type": "markdown",
   "id": "98de33b1",
   "metadata": {
    "editable": true
   },
   "source": [
    "## Shell-model jargon\n",
    "If we do not make any truncations in the possible sets of Slater determinants (many-body states) we can make all possible configurations  by distributing $A$ nucleons among $n$ single-particle states, we call such a calculation for **Full configuration interaction theory**\n",
    "\n",
    "If we make truncations, we have different possibilities\n",
    "\n",
    "* The standard nuclear shell-model. Here we define an effective Hilbert space with respect to a given core. The calculations are normally then performed for all many-body states that can be constructed from the effective Hilbert spaces. This approach requires a properly defined effective Hamiltonian\n",
    "\n",
    "* We can truncate in the number of excitations. For example, we can limit the possible Slater determinants to only $1p-1h$ and $2p-2h$ excitations. This is called a configuration interaction calculation at the level of singles and doubles excitations, or just CISD. \n",
    "\n",
    "* We can limit the number of excitations in terms of the excitation energies. If we do not define a core, this defines normally what is called the no-core shell-model approach."
   ]
  },
  {
   "cell_type": "markdown",
   "id": "9453bcd4",
   "metadata": {
    "editable": true
   },
   "source": [
    "## FCI and the exponential growth\n",
    "Full configuration interaction theory calculations provide in principle, if we can diagonalize numerically, all states of interest. The dimensionality of the problem explodes however quickly.\n",
    "\n",
    "The total number of Slater determinants which can be built with say $N$ neutrons distributed among $n$ single particle states is"
   ]
  },
  {
   "cell_type": "markdown",
   "id": "856342c5",
   "metadata": {
    "editable": true
   },
   "source": [
    "$$\n",
    "\\left (\\begin{array}{c} n \\\\ N\\end{array} \\right) =\\frac{n!}{(n-N)!N!}.\n",
    "$$"
   ]
  },
  {
   "cell_type": "markdown",
   "id": "ef24aabe",
   "metadata": {
    "editable": true
   },
   "source": [
    "For a model space which comprises the first for major shells only $0s$, $0p$, $1s0d$ and $1p0f$ we have $40$ single particle states for neutrons and protons.  For the eight neutrons of oxygen-16 we would then have"
   ]
  },
  {
   "cell_type": "markdown",
   "id": "37f97a95",
   "metadata": {
    "editable": true
   },
   "source": [
    "$$\n",
    "\\left (\\begin{array}{c} 40 \\\\ 8\\end{array} \\right) =\\frac{40!}{(32)!8!}\\sim 10^{9},\n",
    "$$"
   ]
  },
  {
   "cell_type": "markdown",
   "id": "10bd2a23",
   "metadata": {
    "editable": true
   },
   "source": [
    "and multiplying this with the number of proton Slater determinants we end up with approximately with a dimensionality $d$ of $d\\sim 10^{18}$."
   ]
  },
  {
   "cell_type": "markdown",
   "id": "c221e73a",
   "metadata": {
    "editable": true
   },
   "source": [
    "## Exponential wall\n",
    "This number can be reduced if we look at specific symmetries only. However, the dimensionality explodes quickly!\n",
    "\n",
    "* For Hamiltonian matrices of dimensionalities  which are smaller than $d\\sim 10^5$, we would use so-called direct methods for diagonalizing the Hamiltonian matrix\n",
    "\n",
    "* For larger dimensionalities iterative eigenvalue solvers like Lanczos' method are used. The most efficient codes at present can handle matrices of $d\\sim 10^{10}$."
   ]
  },
  {
   "cell_type": "markdown",
   "id": "8d6cf8eb",
   "metadata": {
    "editable": true
   },
   "source": [
    "## A non-practical way of solving the eigenvalue problem\n",
    "To see this, we look at the contributions arising from"
   ]
  },
  {
   "cell_type": "markdown",
   "id": "1f44fcf8",
   "metadata": {
    "editable": true
   },
   "source": [
    "$$\n",
    "\\langle \\Phi_H^P | = \\langle \\Phi_0|\n",
    "$$"
   ]
  },
  {
   "cell_type": "markdown",
   "id": "a8ab775d",
   "metadata": {
    "editable": true
   },
   "source": [
    "in  Eq. ([1](#eq:fullci)), that is we multiply with $\\langle \\Phi_0 |$\n",
    "from the left in"
   ]
  },
  {
   "cell_type": "markdown",
   "id": "8334eb2a",
   "metadata": {
    "editable": true
   },
   "source": [
    "$$\n",
    "(\\hat{H} -E)\\sum_{P'H'}C_{H'}^{P'}|\\Phi_{H'}^{P'} \\rangle=0.\n",
    "$$"
   ]
  },
  {
   "cell_type": "markdown",
   "id": "58890ba3",
   "metadata": {
    "editable": true
   },
   "source": [
    "If we assume that we have a two-body operator at most, Slater's rule gives then an equation for the \n",
    "correlation energy in terms of $C_i^a$ and $C_{ij}^{ab}$ only.  We get then"
   ]
  },
  {
   "cell_type": "markdown",
   "id": "f926d912",
   "metadata": {
    "editable": true
   },
   "source": [
    "$$\n",
    "\\langle \\Phi_0 | \\hat{H} -E| \\Phi_0\\rangle + \\sum_{ai}\\langle \\Phi_0 | \\hat{H} -E|\\Phi_{i}^{a} \\rangle C_{i}^{a}+\n",
    "\\sum_{abij}\\langle \\Phi_0 | \\hat{H} -E|\\Phi_{ij}^{ab} \\rangle C_{ij}^{ab}=0,\n",
    "$$"
   ]
  },
  {
   "cell_type": "markdown",
   "id": "bda1ac74",
   "metadata": {
    "editable": true
   },
   "source": [
    "or"
   ]
  },
  {
   "cell_type": "markdown",
   "id": "f55e5406",
   "metadata": {
    "editable": true
   },
   "source": [
    "$$\n",
    "E-E_0 =\\Delta E=\\sum_{ai}\\langle \\Phi_0 | \\hat{H}|\\Phi_{i}^{a} \\rangle C_{i}^{a}+\n",
    "\\sum_{abij}\\langle \\Phi_0 | \\hat{H}|\\Phi_{ij}^{ab} \\rangle C_{ij}^{ab},\n",
    "$$"
   ]
  },
  {
   "cell_type": "markdown",
   "id": "a5439a16",
   "metadata": {
    "editable": true
   },
   "source": [
    "where the energy $E_0$ is the reference energy and $\\Delta E$ defines the so-called correlation energy.\n",
    "The single-particle basis functions  could be the results of a Hartree-Fock calculation or just the eigenstates of the non-interacting part of the Hamiltonian."
   ]
  },
  {
   "cell_type": "markdown",
   "id": "6c4be0a8",
   "metadata": {
    "editable": true
   },
   "source": [
    "## A non-practical way of solving the eigenvalue problem\n",
    "To see this, we look at the contributions arising from"
   ]
  },
  {
   "cell_type": "markdown",
   "id": "1751b90f",
   "metadata": {
    "editable": true
   },
   "source": [
    "$$\n",
    "\\langle \\Phi_H^P | = \\langle \\Phi_0|\n",
    "$$"
   ]
  },
  {
   "cell_type": "markdown",
   "id": "7aca88ec",
   "metadata": {
    "editable": true
   },
   "source": [
    "in  Eq. ([1](#eq:fullci)), that is we multiply with $\\langle \\Phi_0 |$\n",
    "from the left in"
   ]
  },
  {
   "cell_type": "markdown",
   "id": "85286738",
   "metadata": {
    "editable": true
   },
   "source": [
    "$$\n",
    "(\\hat{H} -E)\\sum_{P'H'}C_{H'}^{P'}|\\Phi_{H'}^{P'} \\rangle=0.\n",
    "$$"
   ]
  },
  {
   "cell_type": "markdown",
   "id": "9891e0af",
   "metadata": {
    "editable": true
   },
   "source": [
    "## A non-practical way of solving the eigenvalue problem\n",
    "If we assume that we have a two-body operator at most, Slater's rule gives then an equation for the \n",
    "correlation energy in terms of $C_i^a$ and $C_{ij}^{ab}$ only.  We get then"
   ]
  },
  {
   "cell_type": "markdown",
   "id": "feaf8f7b",
   "metadata": {
    "editable": true
   },
   "source": [
    "$$\n",
    "\\langle \\Phi_0 | \\hat{H} -E| \\Phi_0\\rangle + \\sum_{ai}\\langle \\Phi_0 | \\hat{H} -E|\\Phi_{i}^{a} \\rangle C_{i}^{a}+\n",
    "\\sum_{abij}\\langle \\Phi_0 | \\hat{H} -E|\\Phi_{ij}^{ab} \\rangle C_{ij}^{ab}=0,\n",
    "$$"
   ]
  },
  {
   "cell_type": "markdown",
   "id": "2955a1cf",
   "metadata": {
    "editable": true
   },
   "source": [
    "or"
   ]
  },
  {
   "cell_type": "markdown",
   "id": "667c1e08",
   "metadata": {
    "editable": true
   },
   "source": [
    "$$\n",
    "E-E_0 =\\Delta E=\\sum_{ai}\\langle \\Phi_0 | \\hat{H}|\\Phi_{i}^{a} \\rangle C_{i}^{a}+\n",
    "\\sum_{abij}\\langle \\Phi_0 | \\hat{H}|\\Phi_{ij}^{ab} \\rangle C_{ij}^{ab},\n",
    "$$"
   ]
  },
  {
   "cell_type": "markdown",
   "id": "37df24ff",
   "metadata": {
    "editable": true
   },
   "source": [
    "where the energy $E_0$ is the reference energy and $\\Delta E$ defines the so-called correlation energy.\n",
    "The single-particle basis functions  could be the results of a Hartree-Fock calculation or just the eigenstates of the non-interacting part of the Hamiltonian."
   ]
  },
  {
   "cell_type": "markdown",
   "id": "511108f6",
   "metadata": {
    "editable": true
   },
   "source": [
    "## Rewriting the FCI equation\n",
    "In our notes on Hartree-Fock calculations, \n",
    "we have already computed the matrix $\\langle \\Phi_0 | \\hat{H}|\\Phi_{i}^{a}\\rangle $ and $\\langle \\Phi_0 | \\hat{H}|\\Phi_{ij}^{ab}\\rangle$.  If we are using a Hartree-Fock basis, then the matrix elements\n",
    "$\\langle \\Phi_0 | \\hat{H}|\\Phi_{i}^{a}\\rangle=0$ and we are left with a *correlation energy* given by"
   ]
  },
  {
   "cell_type": "markdown",
   "id": "aca5a4db",
   "metadata": {
    "editable": true
   },
   "source": [
    "$$\n",
    "E-E_0 =\\Delta E^{HF}=\\sum_{abij}\\langle \\Phi_0 | \\hat{H}|\\Phi_{ij}^{ab} \\rangle C_{ij}^{ab}.\n",
    "$$"
   ]
  },
  {
   "cell_type": "markdown",
   "id": "a3e0134a",
   "metadata": {
    "editable": true
   },
   "source": [
    "## Rewriting the FCI equation\n",
    "Inserting the various matrix elements we can rewrite the previous equation as"
   ]
  },
  {
   "cell_type": "markdown",
   "id": "b5cdf56f",
   "metadata": {
    "editable": true
   },
   "source": [
    "$$\n",
    "\\Delta E=\\sum_{ai}\\langle i| \\hat{f}|a \\rangle C_{i}^{a}+\n",
    "\\sum_{abij}\\langle ij | \\hat{v}| ab \\rangle C_{ij}^{ab}.\n",
    "$$"
   ]
  },
  {
   "cell_type": "markdown",
   "id": "fc93beda",
   "metadata": {
    "editable": true
   },
   "source": [
    "This equation determines the correlation energy but not the coefficients $C$."
   ]
  },
  {
   "cell_type": "markdown",
   "id": "27dc8248",
   "metadata": {
    "editable": true
   },
   "source": [
    "## Rewriting the FCI equation, does not stop here\n",
    "We need more equations. Our next step is to set up"
   ]
  },
  {
   "cell_type": "markdown",
   "id": "439eefd6",
   "metadata": {
    "editable": true
   },
   "source": [
    "$$\n",
    "\\langle \\Phi_i^a | \\hat{H} -E| \\Phi_0\\rangle + \\sum_{bj}\\langle \\Phi_i^a | \\hat{H} -E|\\Phi_{j}^{b} \\rangle C_{j}^{b}+\n",
    "\\sum_{bcjk}\\langle \\Phi_i^a | \\hat{H} -E|\\Phi_{jk}^{bc} \\rangle C_{jk}^{bc}+\n",
    "\\sum_{bcdjkl}\\langle \\Phi_i^a | \\hat{H} -E|\\Phi_{jkl}^{bcd} \\rangle C_{jkl}^{bcd}=0,\n",
    "$$"
   ]
  },
  {
   "cell_type": "markdown",
   "id": "b934d6ff",
   "metadata": {
    "editable": true
   },
   "source": [
    "as this equation will allow us to find an expression for the coefficents $C_i^a$ since we can rewrite this equation as"
   ]
  },
  {
   "cell_type": "markdown",
   "id": "b9308ad4",
   "metadata": {
    "editable": true
   },
   "source": [
    "$$\n",
    "\\langle i | \\hat{f}| a\\rangle +\\langle \\Phi_i^a | \\hat{H}|\\Phi_{i}^{a} \\rangle C_{i}^{a}+ \\sum_{bj\\ne ai}\\langle \\Phi_i^a | \\hat{H}|\\Phi_{j}^{b} \\rangle C_{j}^{b}+\n",
    "\\sum_{bcjk}\\langle \\Phi_i^a | \\hat{H}|\\Phi_{jk}^{bc} \\rangle C_{jk}^{bc}+\n",
    "\\sum_{bcdjkl}\\langle \\Phi_i^a | \\hat{H}|\\Phi_{jkl}^{bcd} \\rangle C_{jkl}^{bcd}=EC_i^a.\n",
    "$$"
   ]
  },
  {
   "cell_type": "markdown",
   "id": "a1f6d15d",
   "metadata": {
    "editable": true
   },
   "source": [
    "## Rewriting the FCI equation, please stop here\n",
    "We see that on the right-hand side we have the energy $E$. This leads to a non-linear equation in the unknown coefficients. \n",
    "These equations are normally solved iteratively ( that is we can start with a guess for the coefficients $C_i^a$). A common choice is to use perturbation theory for the first guess, setting thereby"
   ]
  },
  {
   "cell_type": "markdown",
   "id": "f1fbdada",
   "metadata": {
    "editable": true
   },
   "source": [
    "$$\n",
    "C_{i}^{a}=\\frac{\\langle i | \\hat{f}| a\\rangle}{\\epsilon_i-\\epsilon_a}.\n",
    "$$"
   ]
  },
  {
   "cell_type": "markdown",
   "id": "1e6be76c",
   "metadata": {
    "editable": true
   },
   "source": [
    "## Rewriting the FCI equation, more to add\n",
    "The observant reader will however see that we need an equation for $C_{jk}^{bc}$ and $C_{jkl}^{bcd}$ as well.\n",
    "To find equations for these coefficients we need then to continue our multiplications from the left with the various\n",
    "$\\Phi_{H}^P$ terms. \n",
    "\n",
    "For $C_{jk}^{bc}$ we need then"
   ]
  },
  {
   "cell_type": "markdown",
   "id": "ebfacf59",
   "metadata": {
    "editable": true
   },
   "source": [
    "$$\n",
    "\\langle \\Phi_{ij}^{ab} | \\hat{H} -E| \\Phi_0\\rangle + \\sum_{kc}\\langle \\Phi_{ij}^{ab} | \\hat{H} -E|\\Phi_{k}^{c} \\rangle C_{k}^{c}+\n",
    "$$"
   ]
  },
  {
   "cell_type": "markdown",
   "id": "f22f1cbc",
   "metadata": {
    "editable": true
   },
   "source": [
    "$$\n",
    "\\sum_{cdkl}\\langle \\Phi_{ij}^{ab} | \\hat{H} -E|\\Phi_{kl}^{cd} \\rangle C_{kl}^{cd}+\\sum_{cdeklm}\\langle \\Phi_{ij}^{ab} | \\hat{H} -E|\\Phi_{klm}^{cde} \\rangle C_{klm}^{cde}+\\sum_{cdefklmn}\\langle \\Phi_{ij}^{ab} | \\hat{H} -E|\\Phi_{klmn}^{cdef} \\rangle C_{klmn}^{cdef}=0,\n",
    "$$"
   ]
  },
  {
   "cell_type": "markdown",
   "id": "19fbe163",
   "metadata": {
    "editable": true
   },
   "source": [
    "and we can isolate the coefficients $C_{kl}^{cd}$ in a similar way as we did for the coefficients $C_{i}^{a}$."
   ]
  },
  {
   "cell_type": "markdown",
   "id": "7b51520e",
   "metadata": {
    "editable": true
   },
   "source": [
    "## Rewriting the FCI equation, more to add\n",
    "A standard choice for the first iteration is to set"
   ]
  },
  {
   "cell_type": "markdown",
   "id": "65071849",
   "metadata": {
    "editable": true
   },
   "source": [
    "$$\n",
    "C_{ij}^{ab} =\\frac{\\langle ij \\vert \\hat{v} \\vert ab \\rangle}{\\epsilon_i+\\epsilon_j-\\epsilon_a-\\epsilon_b}.\n",
    "$$"
   ]
  },
  {
   "cell_type": "markdown",
   "id": "ba870122",
   "metadata": {
    "editable": true
   },
   "source": [
    "At the end we can rewrite our solution of the Schroedinger equation in terms of $n$ coupled equations for the coefficients $C_H^P$.\n",
    "This is a very cumbersome way of solving the equation. However, by using this iterative scheme we can illustrate how we can compute the\n",
    "various terms in the wave operator or correlation operator $\\hat{C}$. We will later identify the calculation of the various terms $C_H^P$\n",
    "as parts of different many-body approximations to full CI. In particular, we can  relate this non-linear scheme with Coupled Cluster theory and\n",
    "many-body perturbation theory."
   ]
  },
  {
   "cell_type": "markdown",
   "id": "25f88852",
   "metadata": {
    "editable": true
   },
   "source": [
    "## Summarizing FCI and bringing in approximative methods\n",
    "\n",
    "If we can diagonalize large matrices, FCI is the method of choice since:\n",
    "* It gives all eigenvalues, ground state and excited states\n",
    "\n",
    "* The eigenvectors are obtained directly from the coefficients $C_H^P$ which result from the diagonalization\n",
    "\n",
    "* We can compute easily expectation values of other operators, as well as transition probabilities\n",
    "\n",
    "* Correlations are easy to understand in terms of contributions to a given operator beyond the Hartree-Fock contribution. This is the standard approach in  many-body theory."
   ]
  },
  {
   "cell_type": "markdown",
   "id": "b27c915e",
   "metadata": {
    "editable": true
   },
   "source": [
    "## Definition of the correlation energy\n",
    "The correlation energy is defined as, with a two-body Hamiltonian,"
   ]
  },
  {
   "cell_type": "markdown",
   "id": "688c7770",
   "metadata": {
    "editable": true
   },
   "source": [
    "$$\n",
    "\\Delta E=\\sum_{ai}\\langle i| \\hat{f}|a \\rangle C_{i}^{a}+\n",
    "\\sum_{abij}\\langle ij | \\hat{v}| ab \\rangle C_{ij}^{ab}.\n",
    "$$"
   ]
  },
  {
   "cell_type": "markdown",
   "id": "de20f87f",
   "metadata": {
    "editable": true
   },
   "source": [
    "The coefficients $C$ result from the solution of the eigenvalue problem. \n",
    "The energy of say the ground state is then"
   ]
  },
  {
   "cell_type": "markdown",
   "id": "739b5d0c",
   "metadata": {
    "editable": true
   },
   "source": [
    "$$\n",
    "E=E_{ref}+\\Delta E,\n",
    "$$"
   ]
  },
  {
   "cell_type": "markdown",
   "id": "145ceb38",
   "metadata": {
    "editable": true
   },
   "source": [
    "where the so-called reference energy is the energy we obtain from a Hartree-Fock calculation, that is"
   ]
  },
  {
   "cell_type": "markdown",
   "id": "3752a165",
   "metadata": {
    "editable": true
   },
   "source": [
    "$$\n",
    "E_{ref}=\\langle \\Phi_0 \\vert \\hat{H} \\vert \\Phi_0 \\rangle.\n",
    "$$"
   ]
  },
  {
   "cell_type": "markdown",
   "id": "b92c47e6",
   "metadata": {
    "editable": true
   },
   "source": [
    "## FCI equation and the coefficients\n",
    "\n",
    "However, as we have seen, even for a small case like the four first major shells and a nucleus like oxygen-16, the dimensionality becomes quickly intractable. If we wish to include single-particle states that reflect weakly bound systems, we need a much larger single-particle basis. We need thus approximative methods that sum specific correlations to infinite order. \n",
    "\n",
    "Popular methods are\n",
    "* [Many-body perturbation theory (in essence a Taylor expansion)](http://www.sciencedirect.com/science/article/pii/0370157395000126)\n",
    "\n",
    "* [Coupled cluster theory (coupled non-linear equations)](http://iopscience.iop.org/article/10.1088/0034-4885/77/9/096302/meta)\n",
    "\n",
    "* Green's function approaches (matrix inversion)\n",
    "\n",
    "* [Similarity group transformation methods (coupled ordinary differential equations)](http://journals.aps.org/prl/abstract/10.1103/PhysRevLett.106.222502)\n",
    "\n",
    "All these methods start normally with a Hartree-Fock basis as the calculational basis."
   ]
  },
  {
   "cell_type": "markdown",
   "id": "b0f0a07e",
   "metadata": {
    "editable": true
   },
   "source": [
    "## Example case: pairing Hamiltonian\n",
    "\n",
    "Now we take the following Hamiltonian"
   ]
  },
  {
   "cell_type": "markdown",
   "id": "ae6c2574",
   "metadata": {
    "editable": true
   },
   "source": [
    "$$\n",
    "\\hat{H} = \\sum_n n \\delta \\hat{N}_n  - G \\hat{P}^\\dagger \\hat{P}\n",
    "$$"
   ]
  },
  {
   "cell_type": "markdown",
   "id": "5cb16867",
   "metadata": {
    "editable": true
   },
   "source": [
    "where"
   ]
  },
  {
   "cell_type": "markdown",
   "id": "50ad60d5",
   "metadata": {
    "editable": true
   },
   "source": [
    "$$\n",
    "\\hat{N}_n = \\hat{a}^\\dagger_{n, m=+1/2} \\hat{a}_{n, m=+1/2} +\n",
    "\\hat{a}^\\dagger_{n, m=-1/2} \\hat{a}_{n, m=-1/2}\n",
    "$$"
   ]
  },
  {
   "cell_type": "markdown",
   "id": "3626aad8",
   "metadata": {
    "editable": true
   },
   "source": [
    "and"
   ]
  },
  {
   "cell_type": "markdown",
   "id": "d033f3c0",
   "metadata": {
    "editable": true
   },
   "source": [
    "$$\n",
    "\\hat{P}^\\dagger = \\sum_{n} \\hat{a}^\\dagger_{n, m=+1/2} \\hat{a}^\\dagger_{n, m=-1/2}\n",
    "$$"
   ]
  },
  {
   "cell_type": "markdown",
   "id": "d9e45b4b",
   "metadata": {
    "editable": true
   },
   "source": [
    "We can write down the $ 6 \\times 6$  Hamiltonian in the basis from the prior slide:"
   ]
  },
  {
   "cell_type": "markdown",
   "id": "f580af29",
   "metadata": {
    "editable": true
   },
   "source": [
    "$$\n",
    "H = \\left ( \n",
    "\\begin{array}{cccccc}\n",
    "2\\delta -2G & -G & -G & -G & -G & 0 \\\\\n",
    " -G & 4\\delta -2G & -G & -G & -0 & -G \\\\\n",
    "-G & -G & 6\\delta -2G & 0 & -G & -G \\\\\n",
    " -G & -G & 0 & 6\\delta-2G & -G & -G \\\\\n",
    " -G & 0 & -G & -G & 8\\delta-2G & -G \\\\\n",
    "0 & -G & -G & -G & -G & 10\\delta -2G \n",
    "\\end{array} \\right )\n",
    "$$"
   ]
  },
  {
   "cell_type": "markdown",
   "id": "d2ac2d8e",
   "metadata": {
    "editable": true
   },
   "source": [
    "(You should check by hand that this is correct.) \n",
    "\n",
    "For $\\delta = 0$ we have the closed form solution of  the g.s. energy given by $-6G$."
   ]
  },
  {
   "cell_type": "markdown",
   "id": "5866660e",
   "metadata": {
    "editable": true
   },
   "source": [
    "## Coupled cluster theory\n",
    "\n",
    "The coupled cluster method is an efficient tool to compute atomic\n",
    "nuclei with an effort that grows polynomial with system size. While\n",
    "this might still be expensive, it is now possible to compute nuclei\n",
    "with mass numbers about $A > 200$ with this method. Recall that\n",
    "full configuration interaction (FCI) such as the no-core shell model\n",
    "exhibits an exponential cost and is therefore limited to light nuclei."
   ]
  },
  {
   "cell_type": "markdown",
   "id": "9074cb03",
   "metadata": {
    "editable": true
   },
   "source": [
    "# The normal-ordered Hamiltonian\n",
    "\n",
    "We start from the reference state"
   ]
  },
  {
   "cell_type": "markdown",
   "id": "3d315b27",
   "metadata": {
    "editable": true
   },
   "source": [
    "<!-- Equation labels as ordinary links -->\n",
    "<div id=\"HFref\"></div>\n",
    "\n",
    "$$\n",
    "\\begin{equation}\n",
    "\\label{HFref} \\tag{2}\n",
    "\\vert\\Phi_0\\rangle = \\prod_{i=1}^A a^\\dagger_i \\vert 0\\rangle \n",
    "\\end{equation}\n",
    "$$"
   ]
  },
  {
   "cell_type": "markdown",
   "id": "2e52d2b0",
   "metadata": {
    "editable": true
   },
   "source": [
    "for the description of a nucleus with mass number $A$.  Usually, this\n",
    "reference is the Hartree-Fock state, but that is not necessary. In the\n",
    "shell-model picture, it could also be a product state where the lowest\n",
    "$A$ harmonic oscillator states are occupied.  Here and in what\n",
    "follows, the indices $i,j,k,\\ldots$ run over hole states,\n",
    "i.e. orbitals occupied in the reference state ([2](#HFref)), while\n",
    "$a,b,c,\\ldots$ run over particle states, i.e. unoccupied\n",
    "orbitals. Indices $p,q,r,s$ can identify any orbital.  Let $n_u$ be\n",
    "the number of unoccupied states, and $A$ is of course the number of\n",
    "occupied states. We consider the Hamiltonian"
   ]
  },
  {
   "cell_type": "markdown",
   "id": "f29dfe49",
   "metadata": {
    "editable": true
   },
   "source": [
    "<!-- Equation labels as ordinary links -->\n",
    "<div id=\"Ham\"></div>\n",
    "\n",
    "$$\n",
    "\\begin{equation}\n",
    "\\label{Ham} \\tag{3} H =\n",
    "\\sum_{pq} \\varepsilon^p_q a^\\dagger_p a_q +\n",
    "\\frac{1}{4}\\sum_{pqrs}\\langle pq\\vert V\\vert rs\\rangle\n",
    "a^\\dagger_pa^\\dagger_q a_sa_r\n",
    "\\end{equation}\n",
    "$$"
   ]
  },
  {
   "cell_type": "markdown",
   "id": "29855ec1",
   "metadata": {
    "editable": true
   },
   "source": [
    "The reference state ([2](#HFref)) is a non-trivial vacuum of our theory. \n",
    "We normal order this Hamiltonian with respect to the nontrivial vacuum\n",
    "state given by the Hartree-Fock reference and obtain the\n",
    "normal-ordered Hamiltonian"
   ]
  },
  {
   "cell_type": "markdown",
   "id": "8326fc31",
   "metadata": {
    "editable": true
   },
   "source": [
    "<!-- Equation labels as ordinary links -->\n",
    "<div id=\"HN\"></div>\n",
    "\n",
    "$$\n",
    "\\begin{equation}\n",
    "\\label{HN} \\tag{4}\n",
    "H_N = \\sum_{pq} f_{pq} \\left\\{a^\\dagger_p a_q\\right\\} + \\frac{1}{4}\\sum_{pqrs}\\langle pq\\vert V\\vert rs\\rangle \\left\\{a^\\dagger_pa^\\dagger_q a_sa_r\\right\\}.\n",
    "\\end{equation}\n",
    "$$"
   ]
  },
  {
   "cell_type": "markdown",
   "id": "ecf7041e",
   "metadata": {
    "editable": true
   },
   "source": [
    "Here,"
   ]
  },
  {
   "cell_type": "markdown",
   "id": "e7cd1ffb",
   "metadata": {
    "editable": true
   },
   "source": [
    "<!-- Equation labels as ordinary links -->\n",
    "<div id=\"Fock\"></div>\n",
    "\n",
    "$$\n",
    "\\begin{equation}\n",
    "\\label{Fock} \\tag{5}\n",
    "f^p_q = \\varepsilon^p_q + \\sum_i \\langle pi\\vert V\\vert qi\\rangle\n",
    "\\end{equation}\n",
    "$$"
   ]
  },
  {
   "cell_type": "markdown",
   "id": "fbef23a0",
   "metadata": {
    "editable": true
   },
   "source": [
    "is the Fock matrix. We note that the Fock matrix is diagonal in the\n",
    "Hartree-Fock basis. The brackets $\\{\\cdots\\}$ in Eq. ([4](#HN)) denote\n",
    "normal ordering, i.e. all operators that annihilate the nontrivial\n",
    "vaccum ([2](#HFref)) are to the right of those operators that create\n",
    "with respect to that vaccum. Normal ordering implies that $\\langle\n",
    "\\Phi_0\\vert H_N\\vert \\Phi_0\\rangle = 0$."
   ]
  },
  {
   "cell_type": "markdown",
   "id": "faf5acbb",
   "metadata": {
    "editable": true
   },
   "source": [
    "## Exercise 1: Practice in normal ordering\n",
    "<div id=\"ex-1\"></div>\n",
    "\n",
    "Normal order the expression $\\sum\\limits_{pq}\\varepsilon_q^p a^\\dagger_p a_q$.\n",
    "\n",
    "<!-- --- begin hint in exercise --- -->\n",
    "\n",
    "**Hint.**"
   ]
  },
  {
   "cell_type": "markdown",
   "id": "c04dfda6",
   "metadata": {
    "editable": true
   },
   "source": [
    "<!-- Equation labels as ordinary links -->\n",
    "<div id=\"_auto1\"></div>\n",
    "\n",
    "$$\n",
    "\\begin{equation}\n",
    "\\sum_{pq}\\varepsilon_q^p a^\\dagger_p a_q\n",
    "=\\sum_{ab}\\varepsilon_b^a a^\\dagger_a a_b\n",
    "+\\sum_{ai}\\varepsilon_i^a a^\\dagger_a a_i\n",
    "+\\sum_{ai}\\varepsilon_a^i a^\\dagger_i a_a   \n",
    "+\\sum_{ij}\\varepsilon_j^i a^\\dagger_i a_j\n",
    "\\label{_auto1} \\tag{6}\n",
    "\\end{equation}\n",
    "$$"
   ]
  },
  {
   "cell_type": "markdown",
   "id": "4ec38e5c",
   "metadata": {
    "editable": true
   },
   "source": [
    "<!-- --- end hint in exercise --- -->\n",
    "\n",
    "<!-- --- begin answer of exercise --- -->\n",
    "**Answer.**\n",
    "We have to move all operators that annihilate the reference state to the right of those that create on the reference state. Thus,"
   ]
  },
  {
   "cell_type": "markdown",
   "id": "f8725dd2",
   "metadata": {
    "editable": true
   },
   "source": [
    "<!-- Equation labels as ordinary links -->\n",
    "<div id=\"_auto2\"></div>\n",
    "\n",
    "$$\n",
    "\\begin{equation}\n",
    "\\sum_{pq}\\varepsilon_q^p a^\\dagger_p a_q\n",
    "=\\sum_{ab}\\varepsilon_b^a a^\\dagger_a a_b\n",
    "+\\sum_{ai}\\varepsilon_i^a a^\\dagger_a a_i\n",
    "+\\sum_{ai}\\varepsilon_a^i a^\\dagger_i a_a\n",
    "+\\sum_{ij}\\varepsilon_j^i a^\\dagger_i a_j\n",
    "\\label{_auto2} \\tag{7}\n",
    "\\end{equation}\n",
    "$$"
   ]
  },
  {
   "cell_type": "markdown",
   "id": "554efe0a",
   "metadata": {
    "editable": true
   },
   "source": [
    "<!-- Equation labels as ordinary links -->\n",
    "<div id=\"_auto3\"></div>\n",
    "\n",
    "$$\n",
    "\\begin{equation} \n",
    "=\\sum_{ab}\\varepsilon_b^a a^\\dagger_a a_b\n",
    "+\\sum_{ai}\\varepsilon_i^a a^\\dagger_a a_i\n",
    "+\\sum_{ai}\\varepsilon_a^i a^\\dagger_i a_a\n",
    "+\\sum_{ij}\\varepsilon_j^i \\left(-a_ja^\\dagger_i +\\delta_i^j\\right)\n",
    "\\label{_auto3} \\tag{8}\n",
    "\\end{equation}\n",
    "$$"
   ]
  },
  {
   "cell_type": "markdown",
   "id": "374d98bc",
   "metadata": {
    "editable": true
   },
   "source": [
    "<!-- Equation labels as ordinary links -->\n",
    "<div id=\"_auto4\"></div>\n",
    "\n",
    "$$\n",
    "\\begin{equation} \n",
    "=\\sum_{ab}\\varepsilon_b^a a^\\dagger_a a_b\n",
    "+\\sum_{ai}\\varepsilon_i^a a^\\dagger_a a_i\n",
    "+\\sum_{ai}\\varepsilon_a^i a^\\dagger_i a_a\n",
    "-\\sum_{ij}\\varepsilon_j^i a_ja^\\dagger_i +\\sum_i \\varepsilon_i^i\n",
    "\\label{_auto4} \\tag{9}\n",
    "\\end{equation}\n",
    "$$"
   ]
  },
  {
   "cell_type": "markdown",
   "id": "e095ee1e",
   "metadata": {
    "editable": true
   },
   "source": [
    "<!-- Equation labels as ordinary links -->\n",
    "<div id=\"_auto5\"></div>\n",
    "\n",
    "$$\n",
    "\\begin{equation} \n",
    "=\\sum_{pq}\\varepsilon_q^p \\left\\{a^\\dagger_p a_q\\right\\} +\\sum_i \\varepsilon_i^i\n",
    "\\label{_auto5} \\tag{10}\n",
    "\\end{equation}\n",
    "$$"
   ]
  },
  {
   "cell_type": "markdown",
   "id": "1d51b456",
   "metadata": {
    "editable": true
   },
   "source": [
    "<!-- --- end answer of exercise --- -->\n",
    "\n",
    "===== =====\n",
    "\n",
    "We note that $H = E_{HF} + H_N$, where"
   ]
  },
  {
   "cell_type": "markdown",
   "id": "34defd68",
   "metadata": {
    "editable": true
   },
   "source": [
    "<!-- Equation labels as ordinary links -->\n",
    "<div id=\"_auto6\"></div>\n",
    "\n",
    "$$\n",
    "\\begin{equation}\n",
    "E_{HF} \\equiv \\langle\\Phi_0\\vert H\\vert \\Phi_0\\rangle = \\sum_{i} \\varepsilon^i_i +\\frac{1}{2}\\sum_{ij}\\langle ij\\vert V\\vert ij\\rangle\n",
    "\\label{_auto6} \\tag{11}\n",
    "\\end{equation}\n",
    "$$"
   ]
  },
  {
   "cell_type": "markdown",
   "id": "c8f2c987",
   "metadata": {
    "editable": true
   },
   "source": [
    "is the Hartree-Fock energy.\n",
    "The coupled-cluster method is a very efficient tool to compute nuclei\n",
    "when a \"good\" reference state is available. Let us assume that the\n",
    "reference state results from a Hartree-Fock calculation."
   ]
  },
  {
   "cell_type": "markdown",
   "id": "b724e1c4",
   "metadata": {
    "editable": true
   },
   "source": [
    "## Exercise 2: What does \"good\" mean?\n",
    "<div id=\"ex-2\"></div>\n",
    "\n",
    "How do you know whether a Hartree-Fock state is a \"good\" reference?\n",
    "Which results of the Hartree-Fock computation will inform you?\n",
    "\n",
    "<!-- --- begin answer of exercise --- -->\n",
    "**Answer.**\n",
    "Once the Hartree-Fock equations are solved, the Fock matrix\n",
    "([5](#Fock)) becomes diagonal, and its diagonal elements can be viewed\n",
    "as single-particle energies. Hopefully, there is a clear gap in the\n",
    "single-particle spectrum at the Fermi surface, i.e. after $A$ orbitals\n",
    "are filled.\n",
    "\n",
    "<!-- --- end answer of exercise --- -->\n",
    "\n",
    "===== =====\n",
    "\n",
    "If symmetry-restricted Hartree-Fock is used, one is limited to compute\n",
    "nuclei with closed subshells for neutrons and for protons. On a first\n",
    "view, this might seem as a severe limitation. But is it?"
   ]
  },
  {
   "cell_type": "markdown",
   "id": "4d45d289",
   "metadata": {
    "editable": true
   },
   "source": [
    "## Exercise 3: How many nuclei are accessible with the coupled cluster method based on spherical mean fields?\n",
    "<div id=\"ex-3\"></div>\n",
    "\n",
    "If one limits oneself to nuclei with mass number up to\n",
    "mass number $A=60$, how many nuclei can potentially be described with\n",
    "the coupled-cluster method? Which of these nuclei are potentially\n",
    "interesting? Why?\n",
    "\n",
    "<!-- --- begin answer of exercise --- -->\n",
    "**Answer.**\n",
    "Nuclear shell closures are at $N,Z=2,8,20,28,50,82,126$, and subshell\n",
    "closures at $N,Z=2,6,8,14,16,20,28,32,34,40,50,\\ldots$. \n",
    "\n",
    "In the physics of nuclei, the evolution of nuclear structure as\n",
    "neutrons are added (or removed) from an isotope is a key\n",
    "<!-- interest. Examples are the rare isotopes of helium ($^{8,10}$ He) -->\n",
    "<!-- oxygen ($^{22,24,28}$ O), calcium ($^{52,54,60}$ Ca), nickel ($^{78}$ -->\n",
    "<!-- Ni) and tin ($^{100,132}$ Sn). The coupled-cluster method has the -->\n",
    "interest. Examples are the rare isotopes of helium (He-8,10)\n",
    "oxygen (O-22,24,28), calcium (Ca-52,54,60), nickel (Ni-78) and tin\n",
    "(Sn-100,132). The coupled-cluster method has the\n",
    "potential to address questions regarding these nuclei, and in a\n",
    "several cases was used to make predictions before experimental data\n",
    "was available. In addition, the method can be used to compute\n",
    "neighbors of nuclei with closed subshells.\n",
    "\n",
    "<!-- --- end answer of exercise --- -->\n",
    "\n",
    "===== ====="
   ]
  },
  {
   "cell_type": "markdown",
   "id": "e9032d1c",
   "metadata": {
    "editable": true
   },
   "source": [
    "# The similarity transformed Hamiltonian\n",
    "\n",
    "There are several ways to view and understand the coupled-cluster\n",
    "method. A first simple view of coupled-cluster theory is that the\n",
    "method induces correlations into the reference state by expressing a\n",
    "correlated state as"
   ]
  },
  {
   "cell_type": "markdown",
   "id": "82c2460e",
   "metadata": {
    "editable": true
   },
   "source": [
    "<!-- Equation labels as ordinary links -->\n",
    "<div id=\"psi\"></div>\n",
    "\n",
    "$$\n",
    "\\begin{equation}\n",
    "\\label{psi} \\tag{12}\n",
    "\\vert\\Psi\\rangle = e^T \\vert\\Phi_0\\rangle ,\n",
    "\\end{equation}\n",
    "$$"
   ]
  },
  {
   "cell_type": "markdown",
   "id": "94860a8a",
   "metadata": {
    "editable": true
   },
   "source": [
    "Here, $T$ is an operator that induces correlations. We can now demand\n",
    "that the correlate state ([12](#psi)) becomes and eigenstate of the\n",
    "Hamiltonian $H_N$, i.e.  $H_N\\vert \\Psi\\rangle = E\\vert \\Psi\\rangle$. This view,\n",
    "while correct, is not the most productive one.  Instead, we\n",
    "left-multiply the Schroedinger equation with $e^{-T}$ and find"
   ]
  },
  {
   "cell_type": "markdown",
   "id": "2bd0d7d2",
   "metadata": {
    "editable": true
   },
   "source": [
    "<!-- Equation labels as ordinary links -->\n",
    "<div id=\"Schroedinger\"></div>\n",
    "\n",
    "$$\n",
    "\\begin{equation}\n",
    "\\label{Schroedinger} \\tag{13}\n",
    "\\overline{H_N}\\vert \\Phi_0\\rangle = E_c \\vert \\Phi_0\\rangle . \n",
    "\\end{equation}\n",
    "$$"
   ]
  },
  {
   "cell_type": "markdown",
   "id": "302362e0",
   "metadata": {
    "editable": true
   },
   "source": [
    "Here, $E_c$ is the correlation energy, and the total energy is\n",
    "$E=E_c+E_{HF}$.  The similarity-transformed Hamiltonian is defined as"
   ]
  },
  {
   "cell_type": "markdown",
   "id": "6d13bffe",
   "metadata": {
    "editable": true
   },
   "source": [
    "<!-- Equation labels as ordinary links -->\n",
    "<div id=\"Hsim\"></div>\n",
    "\n",
    "$$\n",
    "\\begin{equation}\n",
    "\\label{Hsim} \\tag{14}\n",
    "\\overline{H_N} \\equiv e^{-T} H_N e^T .\n",
    "\\end{equation}\n",
    "$$"
   ]
  },
  {
   "cell_type": "markdown",
   "id": "41e720fc",
   "metadata": {
    "editable": true
   },
   "source": [
    "A more productive view on coupled-cluster theory thus emerges: This\n",
    "method seeks a similarity transformation such that the uncorrelated\n",
    "reference state ([2](#HFref)) becomes an exact eigenstate of the\n",
    "similarity-transformed Hamiltonian ([14](#Hsim))."
   ]
  },
  {
   "cell_type": "markdown",
   "id": "32fb3b21",
   "metadata": {
    "editable": true
   },
   "source": [
    "## Exercise 4: What $T$ leads to Hermitian $\\overline{H_N}$ ?\n",
    "<div id=\"ex-4\"></div>\n",
    "\n",
    "What are the conditions on $T$ such that $\\overline{H_N}$ is Hermitian?\n",
    "\n",
    "<!-- --- begin answer of exercise --- -->\n",
    "**Answer.**\n",
    "For a Hermitian $\\overline{H_N}$, we need a unitary $e^T$, i.e. an\n",
    "anti-Hermitian $T$ with $T = -T^\\dagger$\n",
    "\n",
    "<!-- --- end answer of exercise --- -->\n",
    "\n",
    "===== =====\n",
    "\n",
    "As we will see below, coupled cluster theory employs a non-Hermitian Hamiltonian."
   ]
  },
  {
   "cell_type": "markdown",
   "id": "60f3551b",
   "metadata": {
    "editable": true
   },
   "source": [
    "## Exercise 5: Understanding (non-unitary) similarity transformations\n",
    "<div id=\"ex-5\"></div>\n",
    "\n",
    "Show that $\\overline{H_N}$ has the same eigenvalues as $H_N$ for\n",
    "arbitrary $T$. What is the spectral decomposition of a non-Hermitian\n",
    "$\\overline{H_N}$ ?\n",
    "\n",
    "<!-- --- begin answer of exercise --- -->\n",
    "**Answer.**\n",
    "Let $H_N\\vert E\\rangle = E\\vert E\\rangle$. Thus"
   ]
  },
  {
   "cell_type": "markdown",
   "id": "febb0bf0",
   "metadata": {
    "editable": true
   },
   "source": [
    "$$\n",
    "\\begin{align*}\n",
    "H_N e^{T} e^{-T} \\vert E\\rangle &= E\\vert E\\rangle , \\\\\n",
    "\\left(e^{-T} H_N e^T\\right) e^{-T} \\vert E\\rangle &= Ee^{-T} \\vert E\\rangle , \\\\\n",
    "\\overline{H_N} e^{-T} \\vert E\\rangle &= E e^{-T}\\vert E\\rangle .\n",
    "\\end{align*}\n",
    "$$"
   ]
  },
  {
   "cell_type": "markdown",
   "id": "2f6fcd1a",
   "metadata": {
    "editable": true
   },
   "source": [
    "Thus, if $\\vert E\\rangle$ is an eigenstate of $H_N$ with eigenvalue $E$,\n",
    "then $e^{-T}\\vert E\\rangle$ is eigenstate of $\\overline{H_N}$ with the same\n",
    "eigenvalue.\n",
    "\n",
    "A non-Hermitian $\\overline{H_N}$ has eigenvalues $E_\\alpha$\n",
    "corresponding to left $\\langle L_\\alpha\\vert $ and right $\\vert R_\\alpha\n",
    "\\rangle$ eigenstates. Thus"
   ]
  },
  {
   "cell_type": "markdown",
   "id": "38b1f1cf",
   "metadata": {
    "editable": true
   },
   "source": [
    "<!-- Equation labels as ordinary links -->\n",
    "<div id=\"_auto7\"></div>\n",
    "\n",
    "$$\n",
    "\\begin{equation}\n",
    "\\overline{H_N} = \\sum_\\alpha \\vert R_\\alpha\\rangle E_\\alpha \\langle L_\\alpha \\vert \n",
    "\\label{_auto7} \\tag{15}\n",
    "\\end{equation}\n",
    "$$"
   ]
  },
  {
   "cell_type": "markdown",
   "id": "10fff033",
   "metadata": {
    "editable": true
   },
   "source": [
    "with bi-orthonormal $\\langle L_\\alpha\\vert R_\\beta\\rangle = \\delta_\\alpha^\\beta$.\n",
    "\n",
    "<!-- --- end answer of exercise --- -->\n",
    "\n",
    "===== =====\n",
    "\n",
    "To make progress, we have to specify the cluster operator $T$. In\n",
    "coupled cluster theory, this operator is"
   ]
  },
  {
   "cell_type": "markdown",
   "id": "94e1af5c",
   "metadata": {
    "editable": true
   },
   "source": [
    "<!-- Equation labels as ordinary links -->\n",
    "<div id=\"Top\"></div>\n",
    "\n",
    "$$\n",
    "\\begin{equation}\n",
    "\\label{Top} \\tag{16}\n",
    "T \\equiv \\sum_{ia} t_i^a a^\\dagger_a a_i + \\frac{1}{4}\\sum_{ijab}t_{ij}^{ab}\n",
    "a^\\dagger_aa^\\dagger_ba_ja_i + \\cdots\n",
    "+ \\frac{1}{(A!)^2}\\sum_{i_1\\ldots i_A a_1 \\ldots a_A}\n",
    "t_{i_1\\ldots i_A}^{a_1\\ldots a_A} a^\\dagger_{a_1}\\cdots a^\\dagger_{a_A} a_{i_A}\\cdots a_{i_1} .\n",
    "\\end{equation}\n",
    "$$"
   ]
  },
  {
   "cell_type": "markdown",
   "id": "a2d53d9a",
   "metadata": {
    "editable": true
   },
   "source": [
    "Thus, the operator ([16](#Top)) induces particle-hole (p-h)\n",
    "excitations with respect to the reference. In general, $T$ generates\n",
    "up to $Ap-Ah$ excitations, and the unknown parameters are the cluster amplitides\n",
    "$t_i^a$, $t_{ij}^{ab}$, ..., $t_{i_1,\\ldots,i_A}^{a_1,\\ldots,a_A}$."
   ]
  },
  {
   "cell_type": "markdown",
   "id": "a5faea86",
   "metadata": {
    "editable": true
   },
   "source": [
    "## Exercise 6: How many unknowns?\n",
    "<div id=\"ex-6\"></div>\n",
    "\n",
    "Show that the number of unknowns is as large as the FCI dimension of\n",
    "the problem, using the numbers $A$ and $n_u$.\n",
    "\n",
    "<!-- --- begin answer of exercise --- -->\n",
    "**Answer.**\n",
    "We have to sum up all $np-nh$ excitations, and there are\n",
    "$\\binom{n_u}{n}$ particle states and $\\binom{A}{A-n}$ hole states for\n",
    "each $n$. Thus, we have for the total number"
   ]
  },
  {
   "cell_type": "markdown",
   "id": "0c376cc4",
   "metadata": {
    "editable": true
   },
   "source": [
    "<!-- Equation labels as ordinary links -->\n",
    "<div id=\"_auto8\"></div>\n",
    "\n",
    "$$\n",
    "\\begin{equation}\n",
    "\\sum_{n=0}^A \\binom{n_u}{n} \\binom{A}{A-n}= \\binom{A+n_u}{A} .\n",
    "\\label{_auto8} \\tag{17}\n",
    "\\end{equation}\n",
    "$$"
   ]
  },
  {
   "cell_type": "markdown",
   "id": "8f1bf920",
   "metadata": {
    "editable": true
   },
   "source": [
    "The right hand side are obviously all ways to distribute $A$ fermions over $n_0+A$ orbitals.\n",
    "\n",
    "<!-- --- end answer of exercise --- -->\n",
    "\n",
    "===== =====\n",
    "\n",
    "Thus, the coupled-cluster method with the full cluster operator\n",
    "([16](#Top)) is exponentially expensive, just as FCI. To make progress,\n",
    "we need to make an approximation by truncating the operator. Here, we\n",
    "will use the CCSD (coupled clusters singles doubles) approximation,\n",
    "where"
   ]
  },
  {
   "cell_type": "markdown",
   "id": "5db138f4",
   "metadata": {
    "editable": true
   },
   "source": [
    "<!-- Equation labels as ordinary links -->\n",
    "<div id=\"Tccsd\"></div>\n",
    "\n",
    "$$\n",
    "\\begin{equation}\n",
    "\\label{Tccsd} \\tag{18}\n",
    "T \\equiv \\sum_{ia} t_i^a a^\\dagger_a a_i + \\frac{1}{4}\\sum_{ijab}t_{ij}^{ab}\n",
    "a^\\dagger_aa^\\dagger_ba_ja_i .\n",
    "\\end{equation}\n",
    "$$"
   ]
  },
  {
   "cell_type": "markdown",
   "id": "acb60577",
   "metadata": {
    "editable": true
   },
   "source": [
    "We need to determine the unknown cluster amplitudes that enter in CCSD. Let"
   ]
  },
  {
   "cell_type": "markdown",
   "id": "e251a36d",
   "metadata": {
    "editable": true
   },
   "source": [
    "<!-- Equation labels as ordinary links -->\n",
    "<div id=\"_auto9\"></div>\n",
    "\n",
    "$$\n",
    "\\begin{equation}\n",
    "\\vert\\Phi_i^a\\rangle = a^\\dagger_a a_i \\vert \\Phi_0\\rangle , \n",
    "\\label{_auto9} \\tag{19}\n",
    "\\end{equation}\n",
    "$$"
   ]
  },
  {
   "cell_type": "markdown",
   "id": "d26fcf5b",
   "metadata": {
    "editable": true
   },
   "source": [
    "<!-- Equation labels as ordinary links -->\n",
    "<div id=\"_auto10\"></div>\n",
    "\n",
    "$$\n",
    "\\begin{equation} \n",
    "\\vert\\Phi_{ij}^{ab}\\rangle = a^\\dagger_a a^\\dagger_b a_j a_i \\vert \\Phi_0\\rangle\n",
    "\\label{_auto10} \\tag{20}\n",
    "\\end{equation}\n",
    "$$"
   ]
  },
  {
   "cell_type": "markdown",
   "id": "1c53d2be",
   "metadata": {
    "editable": true
   },
   "source": [
    "be 1p-1h and 2p-2h excitations of the reference. Computing matrix\n",
    "elements of the Schroedinger Equation ([13](#Schroedinger)) yields"
   ]
  },
  {
   "cell_type": "markdown",
   "id": "04e3ae89",
   "metadata": {
    "editable": true
   },
   "source": [
    "<!-- Equation labels as ordinary links -->\n",
    "<div id=\"ccsd\"></div>\n",
    "\n",
    "$$\n",
    "\\begin{equation}\n",
    "\\label{ccsd} \\tag{21}\n",
    "\\langle \\Phi_0\\vert \\overline{H_N}\\vert \\Phi_0\\rangle = E_c , \n",
    "\\end{equation}\n",
    "$$"
   ]
  },
  {
   "cell_type": "markdown",
   "id": "7f42f500",
   "metadata": {
    "editable": true
   },
   "source": [
    "<!-- Equation labels as ordinary links -->\n",
    "<div id=\"_auto11\"></div>\n",
    "\n",
    "$$\n",
    "\\begin{equation} \n",
    "\\langle \\Phi_i^a\\vert \\overline{H_N}\\vert \\Phi_0\\rangle = 0 , \n",
    "\\label{_auto11} \\tag{22}\n",
    "\\end{equation}\n",
    "$$"
   ]
  },
  {
   "cell_type": "markdown",
   "id": "b3220d1f",
   "metadata": {
    "editable": true
   },
   "source": [
    "<!-- Equation labels as ordinary links -->\n",
    "<div id=\"_auto12\"></div>\n",
    "\n",
    "$$\n",
    "\\begin{equation} \n",
    "\\langle \\Phi_{ij}^{ab}\\vert \\overline{H_N}\\vert \\Phi_0\\rangle = 0 .\n",
    "\\label{_auto12} \\tag{23}\n",
    "\\end{equation}\n",
    "$$"
   ]
  },
  {
   "cell_type": "markdown",
   "id": "4b3a3c02",
   "metadata": {
    "editable": true
   },
   "source": [
    "The first equation states that the coupled-cluster correlation energy\n",
    "is an expectation value of the similarity-transformed Hamiltonian. The\n",
    "second and third equations state that the similarity-transformed\n",
    "Hamiltonian exhibits no 1p-1h and no 2p-2h excitations. These\n",
    "equations have to be solved to find the unknown amplitudes $t_i^a$ and\n",
    "$t_{ij}^{ab}$. Then one can use these amplitudes and compute the\n",
    "correlation energy from the first line of Eq. ([21](#ccsd)).\n",
    "\n",
    "We note that in the CCSD approximation the reference state is not an\n",
    "exact eigenstates. Rather, it is decoupled from simple states but\n",
    "$\\overline{H}$ still connects this state to 3p-3h, and 4p-4h states\n",
    "etc.\n",
    "\n",
    "At this point, it is important to recall that we assumed starting from\n",
    "a \"good\" reference state. In such a case, we might reasonably expect\n",
    "that the inclusion of 1p-1h and 2p-2h excitations could result in an\n",
    "accurate approximation. Indeed, empirically one finds that CCSD\n",
    "accounts for about 90% of the corelation energy, i.e. of the\n",
    "difference between the exact energy and the Hartree-Fock energy. The\n",
    "inclusion of triples (3p-3h excitations) typically yields 99% of the\n",
    "correlation energy.\n",
    "\n",
    "We see that the coupled-cluster method in its CCSD approximation\n",
    "yields a similarity-transformed Hamiltonian that is of a two-body\n",
    "structure with respect to a non-trivial vacuum. When viewed in this\n",
    "light, the coupled-cluster method \"transforms\" an $A$-body problem\n",
    "(in CCSD) into a two-body problem, albeit with respect to a nontrivial\n",
    "vacuum."
   ]
  },
  {
   "cell_type": "markdown",
   "id": "18d1cf36",
   "metadata": {
    "editable": true
   },
   "source": [
    "## Exercise 7: Why is CCD not exact?\n",
    "<div id=\"ex-6b\"></div>\n",
    "\n",
    "Above we argued that a similarity transformation preserves all eigenvalues. Nevertheless, the CCD correlation energy is not the exact correlation energy. Explain!\n",
    "\n",
    "<!-- --- begin answer of exercise --- -->\n",
    "**Answer.**\n",
    "The CCD approximation does not make $\\vert\\Phi_0\\rangle$ an exact\n",
    "eigenstate of $\\overline{H_N}$; it is only an eigenstate when the\n",
    "similarity-transformed Hamiltonian is truncated to at most 2p-2h\n",
    "states. The full $\\overline{H_N}$, with $T=T_2$, would involve\n",
    "six-body terms (do you understand this?), and this full Hamiltonian\n",
    "would reproduce the exact correlation energy. Thus CCD is a similarity\n",
    "transformation plus a truncation, which decouples the ground state only\n",
    "from 2p-2h states.\n",
    "\n",
    "<!-- --- end answer of exercise --- -->\n",
    "\n",
    "===== ====="
   ]
  },
  {
   "cell_type": "markdown",
   "id": "fadfc940",
   "metadata": {
    "editable": true
   },
   "source": [
    "# Computing the similarity-transformed Hamiltonian\n",
    "\n",
    "The solution of the CCSD equations, i.e. the second and third line of\n",
    "Eq. ([21](#ccsd)), and the computation of the correlation energy\n",
    "requires us to compute matrix elements of the similarity-transformed\n",
    "Hamiltonian ([14](#Hsim)). This can be done with the\n",
    "Baker-Campbell-Hausdorff expansion"
   ]
  },
  {
   "cell_type": "markdown",
   "id": "3389113c",
   "metadata": {
    "editable": true
   },
   "source": [
    "<!-- Equation labels as ordinary links -->\n",
    "<div id=\"BCH\"></div>\n",
    "\n",
    "$$\n",
    "\\begin{equation}\n",
    "\\label{BCH} \\tag{24}\n",
    "\\overline{H_N} = e^{-T} H_N e^T \n",
    "\\end{equation}\n",
    "$$"
   ]
  },
  {
   "cell_type": "markdown",
   "id": "1220e2b6",
   "metadata": {
    "editable": true
   },
   "source": [
    "<!-- Equation labels as ordinary links -->\n",
    "<div id=\"_auto13\"></div>\n",
    "\n",
    "$$\n",
    "\\begin{equation} \n",
    "=H_N + \\left[ H_N, T\\right]+ \\frac{1}{2!}\\left[ \\left[ H_N, T\\right], T\\right]\n",
    "+ \\frac{1}{3!}\\left[\\left[ \\left[ H_N, T\\right], T\\right], T\\right] +\\ldots .\n",
    "\\label{_auto13} \\tag{25}\n",
    "\\end{equation}\n",
    "$$"
   ]
  },
  {
   "cell_type": "markdown",
   "id": "d2128300",
   "metadata": {
    "editable": true
   },
   "source": [
    "We now come to a key element of coupled-cluster theory: the cluster\n",
    "operator ([16](#Top)) consists of sums of terms that consist of particle\n",
    "creation and hole annihilation operators (but no particle annihilation\n",
    "or hole creation operators). Thus, all terms that enter $T$ commute\n",
    "with each other. This means that the commutators in the\n",
    "Baker-Campbell-Hausdorff expansion ([24](#BCH)) can only be non-zero\n",
    "because each $T$ must connect to $H_N$ (but no $T$ with another\n",
    "$T$). Thus, the expansion is finite."
   ]
  },
  {
   "cell_type": "markdown",
   "id": "9ab1eae9",
   "metadata": {
    "editable": true
   },
   "source": [
    "## Exercise 8: When does CCSD truncate?\n",
    "<div id=\"ex-7\"></div>\n",
    "\n",
    "In CCSD and for two-body Hamiltonians, how many nested\n",
    "commutators yield nonzero results? Where does the\n",
    "Baker-Campbell-Hausdorff expansion terminate? What is the (many-body) rank of the resulting $\\overline{H_N}$?\n",
    "\n",
    "<!-- --- begin answer of exercise --- -->\n",
    "**Answer.**\n",
    "CCSD truncates for two-body operators at four-fold nested commutators,\n",
    "because each of the four annihilation and creation operators in\n",
    "$\\overline{H_N}$ can be knocked out with one term of $T$.\n",
    "\n",
    "<!-- --- end answer of exercise --- -->\n",
    "\n",
    "===== =====\n",
    "\n",
    "We see that the (disadvantage of having a) non-Hermitian Hamiltonian\n",
    "$\\overline{H_N}$ leads to the advantage that the\n",
    "Baker-Campbell-Hausdorff expansion is finite, thus leading to the\n",
    "possibility to compute $\\overline{H_N}$ exactly. In contrast, the\n",
    "IMSRG deals with a Hermitian Hamiltonian throughout, and the infinite\n",
    "Baker-Campbell-Hausdorff expansion is truncated at a high order when\n",
    "terms become very small.\n",
    "\n",
    "We write the similarity-transformed Hamiltonian as"
   ]
  },
  {
   "cell_type": "markdown",
   "id": "f573f8a1",
   "metadata": {
    "editable": true
   },
   "source": [
    "<!-- Equation labels as ordinary links -->\n",
    "<div id=\"_auto14\"></div>\n",
    "\n",
    "$$\n",
    "\\begin{equation}\n",
    "\\overline{H_N}=\\sum_{pq} \\overline{H}^p_q a^\\dagger_q a_p + {1\\over 4} \\sum_{pqrs} \\overline{H}^{pq}_{rs} a^\\dagger_p a^\\dagger_q a_s a_r + \\ldots\n",
    "\\label{_auto14} \\tag{26}\n",
    "\\end{equation}\n",
    "$$"
   ]
  },
  {
   "cell_type": "markdown",
   "id": "7546b62d",
   "metadata": {
    "editable": true
   },
   "source": [
    "with"
   ]
  },
  {
   "cell_type": "markdown",
   "id": "a91c37a7",
   "metadata": {
    "editable": true
   },
   "source": [
    "<!-- Equation labels as ordinary links -->\n",
    "<div id=\"_auto15\"></div>\n",
    "\n",
    "$$\n",
    "\\begin{equation}\n",
    "\\overline{H}^p_q \\equiv \\langle p\\vert \\overline{H_N}\\vert q\\rangle , \n",
    "\\label{_auto15} \\tag{27}\n",
    "\\end{equation}\n",
    "$$"
   ]
  },
  {
   "cell_type": "markdown",
   "id": "839d322b",
   "metadata": {
    "editable": true
   },
   "source": [
    "<!-- Equation labels as ordinary links -->\n",
    "<div id=\"_auto16\"></div>\n",
    "\n",
    "$$\n",
    "\\begin{equation} \n",
    "\\overline{H}^{pq}_{rs} \\equiv \\langle pq\\vert \\overline{H_N}\\vert rs\\rangle .\n",
    "\\label{_auto16} \\tag{28}\n",
    "\\end{equation}\n",
    "$$"
   ]
  },
  {
   "cell_type": "markdown",
   "id": "0d594c00",
   "metadata": {
    "editable": true
   },
   "source": [
    "Thus, the CCSD Eqs. ([21](#ccsd)) for the amplitudes can be written as\n",
    "$\\overline{H}_i^a = 0$ and $\\overline{H}_{ij}^{ab}=0$."
   ]
  },
  {
   "cell_type": "markdown",
   "id": "865c7cab",
   "metadata": {
    "editable": true
   },
   "source": [
    "## Exercise 9: Compute the matrix element $\\overline{H}_{ab}^{ij}\\equiv \\langle ij\\vert \\overline{H_N}\\vert ab\\rangle$\n",
    "<div id=\"ex-8\"></div>\n",
    "\n",
    "<!-- --- begin answer of exercise --- -->\n",
    "**Answer.**\n",
    "This is a simple task. This matrix element is part of the operator\n",
    "$\\overline{H}_{ab}^{ij}a^\\dagger_ia^\\dagger_ja_ba_a$, i.e. particles\n",
    "are annihilated and holes are created. Thus, no contraction of the\n",
    "Hamiltonian $H$ with any cluster operator $T$ (remember that $T$\n",
    "annihilates holes and creates particles) can happen, and we simply\n",
    "have $\\overline{H}_{ab}^{ij} = \\langle ij\\vert V\\vert ab\\rangle$.\n",
    "\n",
    "<!-- --- end answer of exercise --- -->\n",
    "\n",
    "===== =====\n",
    "\n",
    "We need to work out the similarity-transformed Hamiltonian of\n",
    "Eq. ([24](#BCH)). To do this, we write $T=T_1 +T_2$ and $H_N= F +V$,\n",
    "where $T_1$ and $F$ are one-body operators, and $T_2$ and $V$ are\n",
    "two-body operators."
   ]
  },
  {
   "cell_type": "markdown",
   "id": "16b95744",
   "metadata": {
    "editable": true
   },
   "source": [
    "## Example: The contribution of $[F, T_2]$ to $\\overline{H_N}$\n",
    "<div id=\"ex-9\"></div>\n",
    "\n",
    "The commutator $[F, T_2]$ consists of two-body and one-body terms. Let\n",
    "us compute first the two-body term, as it results from a single\n",
    "contraction (i.e. a single application of $[a_p, a^\\dagger_q] =\n",
    "\\delta_p^q$). We denote this as $[F, T_2]_{2b}$ and find"
   ]
  },
  {
   "cell_type": "markdown",
   "id": "b4f7af83",
   "metadata": {
    "editable": true
   },
   "source": [
    "$$\n",
    "\\begin{align*}\n",
    "[F, T_2]_{2b} &= \\frac{1}{4}\\sum_{pq}\\sum_{rsuv} f_p^q t_{ij}^{ab}\\left[a^\\dagger_q a_p, a^\\dagger_a a^\\dagger_b a_j a_i \\right]_{2b} \\\\\n",
    "&= \\frac{1}{4}\\sum_{pq}\\sum_{abij} f_p^q t_{ij}^{ab}\\delta_p^a a^\\dagger_q a^\\dagger_b a_j a_i  \\\\\n",
    "&- \\frac{1}{4}\\sum_{pq}\\sum_{abij} f_p^q t_{ij}^{ab}\\delta_p^b a^\\dagger_q a^\\dagger_a a_j a_i  \\\\\n",
    "&- \\frac{1}{4}\\sum_{pq}\\sum_{abij} f_p^q t_{ij}^{ab}\\delta_q^j a^\\dagger_a a^\\dagger_b a_p a_i  \\\\\n",
    "&+ \\frac{1}{4}\\sum_{pq}\\sum_{abij} f_p^q t_{ij}^{ab}\\delta_q^i a^\\dagger_a a^\\dagger_b a_p a_j  \\\\\n",
    "&= \\frac{1}{4}\\sum_{qbij}\\left(\\sum_{a} f_a^q t_{ij}^{ab}\\right)a^\\dagger_q a^\\dagger_b a_j a_i  \\\\\n",
    "&- \\frac{1}{4}\\sum_{qaij}\\left(\\sum_{b} f_b^q t_{ij}^{ab}\\right)a^\\dagger_q a^\\dagger_a a_j a_i  \\\\\n",
    "&- \\frac{1}{4}\\sum_{pabi}\\left(\\sum_{j} f_p^j t_{ij}^{ab}\\right)a^\\dagger_a a^\\dagger_b a_p a_i  \\\\\n",
    "&+ \\frac{1}{4}\\sum_{pabj}\\left(\\sum_{i} f_p^i t_{ij}^{ab}\\right)a^\\dagger_a a^\\dagger_b a_p a_j  \\\\\n",
    "&= \\frac{1}{2}\\sum_{qbij}\\left(\\sum_{a} f_a^q t_{ij}^{ab}\\right)a^\\dagger_q a^\\dagger_b a_j a_i  \\\\\n",
    "&- \\frac{1}{2}\\sum_{pabi}\\left(\\sum_{j} f_p^j t_{ij}^{ab}\\right)a^\\dagger_a a^\\dagger_b a_p a_i  .\n",
    "\\end{align*}\n",
    "$$"
   ]
  },
  {
   "cell_type": "markdown",
   "id": "f6daa2dd",
   "metadata": {
    "editable": true
   },
   "source": [
    "Here we exploited the antisymmetry $t_{ij}^{ab} = -t_{ji}^{ab} =\n",
    "-t_{ij}^{ba} = t_{ji}^{ba}$ in the last step. Using $a^\\dagger_q a^\\dagger_b a_j a_i = -a^\\dagger_b a^\\dagger_q a_j a_i $ and $a^\\dagger_a a^\\dagger_b a_p a_i = a^\\dagger_a a^\\dagger_b a_i a_p$, we can make the expression \n",
    "manifest antisymmetric, i.e."
   ]
  },
  {
   "cell_type": "markdown",
   "id": "4da3cc84",
   "metadata": {
    "editable": true
   },
   "source": [
    "$$\n",
    "\\begin{align*}\n",
    "[F, T_2]_{2b}\n",
    "&= \\frac{1}{4}\\sum_{qbij}\\left[\\sum_{a} \\left(f_a^q t_{ij}^{ab}-f_a^b t_{ij}^{qa}\\right)\\right]a^\\dagger_q a^\\dagger_b a_j a_i  \\\\\n",
    "&- \\frac{1}{4}\\sum_{pabi}\\left[\\sum_{j} \\left(f_p^j t_{ij}^{ab}-f_i^j t_{pj}^{ab}\\right)\\right]a^\\dagger_a a^\\dagger_b a_p a_i  .\n",
    "\\end{align*}\n",
    "$$"
   ]
  },
  {
   "cell_type": "markdown",
   "id": "162ff468",
   "metadata": {
    "editable": true
   },
   "source": [
    "Thus, the contribution of $[F, T_2]_{2b}$ to the matrix element $\\overline{H}_{ij}^{ab}$ is"
   ]
  },
  {
   "cell_type": "markdown",
   "id": "2dbb68f0",
   "metadata": {
    "editable": true
   },
   "source": [
    "$$\n",
    "\\begin{align*}\n",
    "\\overline{H}_{ij}^{ab} \\leftarrow  \\sum_{c} \\left(f_c^a t_{ij}^{cb}-f_c^b t_{ij}^{ac}\\right) - \\sum_{k} \\left(f_j^k t_{ik}^{ab}-f_i^k t_{jk}^{ab}\\right)\n",
    "\\end{align*}\n",
    "$$"
   ]
  },
  {
   "cell_type": "markdown",
   "id": "9eb4f615",
   "metadata": {
    "editable": true
   },
   "source": [
    "Here we used an arrow to indicate that this is just one contribution\n",
    "to this matrix element.  We see that the derivation straight forward,\n",
    "but somewhat tedious. As no one likes to commute too much (neither in\n",
    "this example nor when going to and from work), and so we need a better\n",
    "approach. This is where diagramms come in handy.\n",
    "\n",
    "===== ====="
   ]
  },
  {
   "cell_type": "markdown",
   "id": "b0be9c57",
   "metadata": {
    "editable": true
   },
   "source": [
    "### Diagrams\n",
    "\n",
    "The pictures in this Subsection are taken from Crawford and Schaefer.\n",
    "\n",
    "By convention, hole lines (labels $i, j, k,\\ldots$) are pointing down. \n",
    "<!-- dom:FIGURE: [figslides/Diagram-i.png, height=120 frac=0.8] This is a hole line. <div id=\"fig-i\"></div> -->\n",
    "<!-- begin figure -->\n",
    "<div id=\"fig-i\"></div>\n",
    "\n",
    "<img src=\"figslides/Diagram-i.png\" height=\"120\"><p style=\"font-size: 0.9em\"><i>Figure 1: This is a hole line.</i></p>\n",
    "<!-- end figure -->\n",
    "\n",
    "By convention, particle lines (labels $a, b, c,\\ldots$) are pointing up. \n",
    "<!-- dom:FIGURE: [figslides/Diagram-a.png, height=120 frac=0.8] This is a particle line. <div id=\"fig-a\"></div> -->\n",
    "<!-- begin figure -->\n",
    "<div id=\"fig-a\"></div>\n",
    "\n",
    "<img src=\"figslides/Diagram-a.png\" height=\"120\"><p style=\"font-size: 0.9em\"><i>Figure 2: This is a particle line.</i></p>\n",
    "<!-- end figure -->\n",
    "\n",
    "Let us look at the one-body operator of the normal-ordered Hamiltonian, i.e. Fock matrix. Its diagrams are as follows.\n",
    "\n",
    "<!-- dom:FIGURE: [figslides/Diagram-fab.png, height=120 frac=0.8] The diagrams corresponding to $f_a^b$. The dashed line with the 'X' denotes the interaction $F$ between the incoming and outgoing lines. The labels $a$ and $b$ are not denoted, but you should label the outgoing and incoming lines accordingly. <div id=\"fig-fab\"></div> -->\n",
    "<!-- begin figure -->\n",
    "<div id=\"fig-fab\"></div>\n",
    "\n",
    "<img src=\"figslides/Diagram-fab.png\" height=\"120\"><p style=\"font-size: 0.9em\"><i>Figure 3: The diagrams corresponding to $f_a^b$. The dashed line with the 'X' denotes the interaction $F$ between the incoming and outgoing lines. The labels $a$ and $b$ are not denoted, but you should label the outgoing and incoming lines accordingly.</i></p>\n",
    "<!-- end figure -->\n",
    "\n",
    "<!-- dom:FIGURE: [figslides/Diagram-fij.png, height=120 frac=0.8] The diagrams corresponding to $f_i^j$. The dashed line with the 'X' denotes the interaction $F$ between the incoming and outgoing lines. <div id=\"fig-fij\"></div> -->\n",
    "<!-- begin figure -->\n",
    "<div id=\"fig-fij\"></div>\n",
    "\n",
    "<img src=\"figslides/Diagram-fij.png\" height=\"120\"><p style=\"font-size: 0.9em\"><i>Figure 4: The diagrams corresponding to $f_i^j$. The dashed line with the 'X' denotes the interaction $F$ between the incoming and outgoing lines.</i></p>\n",
    "<!-- end figure -->\n",
    "\n",
    "<!-- dom:FIGURE: [figslides/Diagram-fia.png, height=120 frac=0.8] The diagrams corresponding to $f_a^i$. The dashed line with the 'X' denotes the interaction $F$ between the incoming and outgoing lines. <div id=\"fig-fia\"></div> -->\n",
    "<!-- begin figure -->\n",
    "<div id=\"fig-fia\"></div>\n",
    "\n",
    "<img src=\"figslides/Diagram-fia.png\" height=\"120\"><p style=\"font-size: 0.9em\"><i>Figure 5: The diagrams corresponding to $f_a^i$. The dashed line with the 'X' denotes the interaction $F$ between the incoming and outgoing lines.</i></p>\n",
    "<!-- end figure -->\n",
    "\n",
    "<!-- dom:FIGURE: [figslides/Diagram-fai.png, height=120 frac=0.8] The diagrams corresponding to $f_i^a$. The dashed line with the 'X' denotes the interaction $F$ between the incoming and outgoing lines. <div id=\"fig-fai\"></div> -->\n",
    "<!-- begin figure -->\n",
    "<div id=\"fig-fai\"></div>\n",
    "\n",
    "<img src=\"figslides/Diagram-fai.png\" height=\"120\"><p style=\"font-size: 0.9em\"><i>Figure 6: The diagrams corresponding to $f_i^a$. The dashed line with the 'X' denotes the interaction $F$ between the incoming and outgoing lines.</i></p>\n",
    "<!-- end figure -->\n",
    "\n",
    "We now turn to the two-body interaction. It is denoted as a horizontal\n",
    "dashed line with incoming and outgoing lines attached to it. We start\n",
    "by noting that the following diagrams of the interaction are all\n",
    "related by permutation symmetry.\n",
    "\n",
    "<!-- dom:FIGURE: [figslides/Diagrams-symmetry.png, width=400 frac=0.8] The diagrams corresponding to $\\langle ai\\vert V\\vert jb \\rangle = - \\langle ai\\vert V\\vert bj \\rangle = -\\langle ia\\vert V\\vert jb \\rangle = \\langle ia\\vert V\\vert bj\\rangle$. <div id=\"fig-symmetry\"></div> -->\n",
    "<!-- begin figure -->\n",
    "<div id=\"fig-symmetry\"></div>\n",
    "\n",
    "<img src=\"figslides/Diagrams-symmetry.png\" width=\"400\"><p style=\"font-size: 0.9em\"><i>Figure 7: The diagrams corresponding to $\\langle ai\\vert V\\vert jb \\rangle = - \\langle ai\\vert V\\vert bj \\rangle = -\\langle ia\\vert V\\vert jb \\rangle = \\langle ia\\vert V\\vert bj\\rangle$.</i></p>\n",
    "<!-- end figure -->"
   ]
  },
  {
   "cell_type": "markdown",
   "id": "2959334a",
   "metadata": {
    "editable": true
   },
   "source": [
    "## Exercise 10: Assign the correct matrix element $\\langle pq\\vert V\\vert rs\\rangle$ to each of the following diagrams of the interaction\n",
    "<div id=\"ex-10\"></div>\n",
    "\n",
    "Remember: $\\langle\\rm{left-out, right-out}\\vert V\\vert \\rm{left-in, right-in}\\rangle$."
   ]
  },
  {
   "cell_type": "markdown",
   "id": "79dcbaf0",
   "metadata": {
    "editable": true
   },
   "source": [
    "**a)**\n",
    "<!-- dom:FIGURE: [figslides/Diagrams-V1.png, width=400 frac=0.8] -->\n",
    "<!-- begin figure -->\n",
    "\n",
    "<img src=\"figslides/Diagrams-V1.png\" width=\"400\"><p style=\"font-size: 0.9em\"><i>Figure 8: </i></p>\n",
    "<!-- end figure -->\n",
    "\n",
    "<!-- --- begin answer of exercise --- -->\n",
    "**Answer.**\n",
    "$\\langle ab\\vert V\\vert cd\\rangle + \\langle ij\\vert V\\vert kl\\rangle + \\langle ia\\vert V\\vert bj\\rangle$\n",
    "<!-- --- end answer of exercise --- -->"
   ]
  },
  {
   "cell_type": "markdown",
   "id": "d0c1a106",
   "metadata": {
    "editable": true
   },
   "source": [
    "**b)**\n",
    "<!-- dom:FIGURE: [figslides/Diagrams-V2.png, width=400 frac=0.8] -->\n",
    "<!-- begin figure -->\n",
    "\n",
    "<img src=\"figslides/Diagrams-V2.png\" width=\"400\"><p style=\"font-size: 0.9em\"><i>Figure 8: </i></p>\n",
    "<!-- end figure -->\n",
    "\n",
    "<!-- --- begin answer of exercise --- -->\n",
    "**Answer.**\n",
    "$\\langle ai\\vert V\\vert bc\\rangle + \\langle ij\\vert V\\vert ka\\rangle + \\langle ab\\vert V\\vert ci\\rangle$\n",
    "<!-- --- end answer of exercise --- -->"
   ]
  },
  {
   "cell_type": "markdown",
   "id": "e5f35991",
   "metadata": {
    "editable": true
   },
   "source": [
    "**c)**\n",
    "<!-- dom:FIGURE: [figslides/Diagrams-V3.png, width=400 frac=0.8] -->\n",
    "<!-- begin figure -->\n",
    "\n",
    "<img src=\"figslides/Diagrams-V3.png\" width=\"400\"><p style=\"font-size: 0.9em\"><i>Figure 8: </i></p>\n",
    "<!-- end figure -->\n",
    "\n",
    "<!-- --- begin answer of exercise --- -->\n",
    "**Answer.**\n",
    "$\\langle ia\\vert V\\vert jk\\rangle + \\langle ab\\vert V\\vert ij\\rangle + \\langle ij\\vert V\\vert ab\\rangle$\n",
    "<!-- --- end answer of exercise --- -->\n",
    "\n",
    "===== =====\n",
    "\n",
    "Finally, we have the following diagrams for the $T_1$ and $T_2$ amplitudes.\n",
    "<!-- dom:FIGURE: [figslides/Diagrams-T.png, width=400 frac=0.8] The horizontal full line is the cluster amplitude with incoming hole lines and outgoing particle lines as indicated. <div id=\"fig-T\"></div> -->\n",
    "<!-- begin figure -->\n",
    "<div id=\"fig-T\"></div>\n",
    "\n",
    "<img src=\"figslides/Diagrams-T.png\" width=\"400\"><p style=\"font-size: 0.9em\"><i>Figure 8: The horizontal full line is the cluster amplitude with incoming hole lines and outgoing particle lines as indicated.</i></p>\n",
    "<!-- end figure -->\n",
    "\n",
    "We are now in the position to construct the diagrams of the\n",
    "similarity-transformed Hamiltonian, keeping in mind that these\n",
    "diagrams correspond to matrix elements of $\\overline{H_N}$. The rules\n",
    "are as follows.\n",
    "\n",
    "1. Write down all *topologically different* diagrams corresponding to the desired matrix element. Topologically different diagrams differ in the number and type of lines (particle or hole) that connect the Fock matrix $F$ or the interaction $V$ to the cluster amplitudes $T$, but not whether these connections are left or right (as those are related by antisymmetry). As an example, all diagrams in Fig. [fig-symmetry](#fig-symmetry) are topologically identical, because they consist of incoming particle and hole lines and of outgoing particle and hole lines. \n",
    "\n",
    "2. Write down the matrix elements that enter the diagram, and sum over all internal lines. \n",
    "\n",
    "3. The overall sign is $(-1)$ to the power of [(number of hole lines) - (number of loops)].\n",
    "\n",
    "4. Symmetry factor: For each pair of equivalent lines (i.e. lines that connect the same two operators) multiply with a factor $1/2$. For $n$ identical vertices, multiply the algebraic expression by the symmery factor $1/n!$ to account properly for the number of ways the diagram can be constructed.   \n",
    "\n",
    "5. Antisymmetrize the outgoing and incoming lines as necessary.\n",
    "\n",
    "Please note that this really works. You could derive these rules for\n",
    "yourself from the commutations and factors that enter the\n",
    "Baker-Campbell-Hausdorff expansion. The sign comes obviously from the\n",
    "arrangement of creation and annilhilation operators, while the\n",
    "symmetry factor stems from all the different ways, one can contract\n",
    "the cluster operator with the normal-ordered Hamiltonian."
   ]
  },
  {
   "cell_type": "markdown",
   "id": "786f5351",
   "metadata": {
    "editable": true
   },
   "source": [
    "## Example: CCSD correlation energy\n",
    "<div id=\"ex-11\"></div>\n",
    "The CCSD correlation energy, $E_c= \\langle\n",
    "\\Phi_0\\vert \\overline{H_N}\\vert \\Phi_0\\rangle$, is the first of the CCSD\n",
    "equations ([21](#ccsd)). It is a vacuum expectation value and thus\n",
    "consists of all diagrams with no external legs. There are three such diagrams:\n",
    "\n",
    "<!-- dom:FIGURE: [figslides/Diagrams-E0.png, width=400 frac=0.8] Three diagrams enter for the CCSD correlation energy, i.e. all diagrams that leave no external legs. <div id=\"fig-E0\"></div> -->\n",
    "<!-- begin figure -->\n",
    "<div id=\"fig-E0\"></div>\n",
    "\n",
    "<img src=\"figslides/Diagrams-E0.png\" width=\"400\"><p style=\"font-size: 0.9em\"><i>Figure 9: Three diagrams enter for the CCSD correlation energy, i.e. all diagrams that leave no external legs.</i></p>\n",
    "<!-- end figure -->\n",
    "\n",
    "The correponding algebraic expression is $E_c=\\sum_{ia}f^i_a t_i^a +{1\\over 4}\\sum_{ijab} \\langle ij\\vert V\\vert ab\\rangle t_{ij}^{ab} + {1\\over 2} \\sum_{ijab} \\langle ij\\vert V\\vert ab\\rangle t_i^a t_j^b$.\n",
    "\n",
    "The first algebraic expression is clear. We have one hole line and one\n",
    "loop, giving it a positive sign. There are no equivalent lines or\n",
    "vertices, giving it no symmetry factor. The second diagram has two\n",
    "loops and two hole lines, again leading to a positive sign. We have a\n",
    "pair of equivalent hole lines and a pair of equivalent particle lines,\n",
    "each giving a symmetry factor of $1/2$. The third diagram has two\n",
    "loops and two hole lines, again leading to a positive sign. We have\n",
    "two indentical vertices (each connecting to a $T_1$ in the same way)\n",
    "and thus a symmetry factor $1/2$.\n",
    "\n",
    "===== ====="
   ]
  },
  {
   "cell_type": "markdown",
   "id": "de11c76f",
   "metadata": {
    "editable": true
   },
   "source": [
    "# CCD Approximation\n",
    "\n",
    "In what follows, we will consider the coupled cluster doubles (CCD)\n",
    "approximation. This approximation is valid in cases where the system\n",
    "cannot exhibit any particle-hole excitations (such as nuclear matter\n",
    "when formulated on a momentum-space grid) or for the pairing model (as\n",
    "the pairing interactions only excites pairs of particles). In this\n",
    "case $t_i^a=0$ for all $i, a$, and $\\overline{H}_i^a=0$. The CCD\n",
    "approximation is also of some sort of leading order approximation in\n",
    "the Hartree-Fock basis (as the Hartree-Fock Hamiltonian exhibits no\n",
    "particle-hole excitations)."
   ]
  },
  {
   "cell_type": "markdown",
   "id": "8d278468",
   "metadata": {
    "editable": true
   },
   "source": [
    "## Exercise 11: Derive the CCD equations!\n",
    "<div id=\"ex-12\"></div>\n",
    "\n",
    "Let us consider the matrix element $\\overline{H}_{ij}^{ab}$. Clearly,\n",
    "it consists of all diagrams (i.e. all combinations of $T_2$, and a\n",
    "single $F$ or $V$ that have two incoming hole lines and two outgoing\n",
    "particle lines. Write down all these diagrams.\n",
    "\n",
    "<!-- --- begin hint in exercise --- -->\n",
    "\n",
    "**Hint.**\n",
    "Start systematically! Consider all combinations of $F$ and $V$ diagrams with 0, 1, and 2 cluster amplitudes $T_2$.\n",
    "\n",
    "<!-- --- end hint in exercise --- -->\n",
    "\n",
    "<!-- --- begin answer of exercise --- -->\n",
    "**Answer.**\n",
    "<!-- dom:FIGURE: [figslides/Diagrams-CCD.png, width=400 frac=0.8] The diagrams for the $T_2$ equation, i.e. the matrix elements of $\\overline{H}_{ij}^{ab}$. Taken from Baardsen et al (2013). <div id=\"fig-ccd\"></div> -->\n",
    "<!-- begin figure -->\n",
    "<div id=\"fig-ccd\"></div>\n",
    "\n",
    "<img src=\"figslides/Diagrams-CCD.png\" width=\"400\"><p style=\"font-size: 0.9em\"><i>Figure 10: The diagrams for the $T_2$ equation, i.e. the matrix elements of $\\overline{H}_{ij}^{ab}$. Taken from Baardsen et al (2013).</i></p>\n",
    "<!-- end figure -->\n",
    "\n",
    "The corresponding algebraic expression is"
   ]
  },
  {
   "cell_type": "markdown",
   "id": "c22a9d86",
   "metadata": {
    "editable": true
   },
   "source": [
    "$$\n",
    "\\begin{align*}\n",
    "\\overline{H}_{ij}^{ab} &= \\langle ab\\vert V\\vert ij\\rangle + P(ab)\\sum_c f_c^bt_{ij}^{ac} - P(ij)\\sum_k f_j^k t_{ik}^{ab} \\\\\n",
    "&+ {1\\over 2} \\sum_{cd} \\langle ab\\vert V\\vert cd\\rangle t_{ij}^{cd}+ {1\\over 2} \\sum_{kl} \\langle kl\\vert V\\vert ij\\rangle t_{kl}^{ab} + P(ab)P(ij)\\sum_{kc} \\langle kb\\vert V\\vert cj \\rangle t_{ik}^{ac} \\\\\n",
    "&+ {1\\over 2} P(ij)P(ab)\\sum_{kcld} \\langle kl\\vert V\\vert cd\\rangle t_{ik}^{ac}t_{lj}^{db} \n",
    "+ {1\\over 2} P(ij)\\sum_{kcld} \\langle kl\\vert V\\vert cd\\rangle t_{ik}^{cd}t_{lj}^{ab}\\\\\n",
    "&+ {1\\over 2} P(ab)\\sum_{kcld} \\langle kl\\vert V\\vert cd\\rangle t_{kl}^{ac}t_{ij}^{db}\n",
    "+ {1\\over 4} \\sum_{kcld} \\langle kl\\vert V\\vert cd\\rangle t_{ij}^{cd}t_{kl}^{ab} . \n",
    "\\end{align*}\n",
    "$$"
   ]
  },
  {
   "cell_type": "markdown",
   "id": "ebc99da0",
   "metadata": {
    "editable": true
   },
   "source": [
    "<!-- --- end answer of exercise --- -->\n",
    "\n",
    "===== =====\n",
    "\n",
    "Let us now turn to the computational cost of a CCD computation."
   ]
  },
  {
   "cell_type": "markdown",
   "id": "31f659be",
   "metadata": {
    "editable": true
   },
   "source": [
    "## Exercise 12: Computational scaling of CCD\n",
    "<div id=\"ex-13\"></div>\n",
    "\n",
    "For each of the diagrams in Fig. [fig-ccd](#fig-ccd) write down the\n",
    "computational cost in terms of the number of occupied $A$ and the\n",
    "number of unoccupied $n_u$ orbitals.\n",
    "\n",
    "<!-- --- begin answer of exercise --- -->\n",
    "**Answer.**\n",
    "The cost is $A^2 n_u^2$, $A^2 n_u^3$, $A^3 n_u^2$,\n",
    "$A^2 n_u^4$, $A^4 n_u^2$, $A^3 n_u^3$,\n",
    "$A^4 n_u^4$, $A^4 n_u^4$,\n",
    "$A^4 n_u^4$, and $A^4 n_u^4$ for the respective diagrams.\n",
    "\n",
    "<!-- --- end answer of exercise --- -->\n",
    "\n",
    "===== =====\n",
    "\n",
    "Note that $n_u\\gg A$ in general. In textbooks, one reads that CCD (and\n",
    "CCSD) cost only $A^2n_u^4$. Our most expensive diagrams, however are\n",
    "$A^4n_u^4$. What is going on?\n",
    "\n",
    "To understand this puzzle, let us consider the last diagram of\n",
    "Fig. [fig-ccd](#fig-ccd). We break up the computation into two steps,\n",
    "computing first the intermediate"
   ]
  },
  {
   "cell_type": "markdown",
   "id": "e138a1a5",
   "metadata": {
    "editable": true
   },
   "source": [
    "<!-- Equation labels as ordinary links -->\n",
    "<div id=\"_auto17\"></div>\n",
    "\n",
    "$$\n",
    "\\begin{equation}\n",
    "\\chi_{ij}^{kl}\\equiv {1\\over 2} \\sum_{cd} \\langle kl\\vert V\\vert cd\\rangle t_{ij}^{cd}\n",
    "\\label{_auto17} \\tag{29}\n",
    "\\end{equation}\n",
    "$$"
   ]
  },
  {
   "cell_type": "markdown",
   "id": "c4bf4c8d",
   "metadata": {
    "editable": true
   },
   "source": [
    "at a cost of $A^4n_u^2$, and then"
   ]
  },
  {
   "cell_type": "markdown",
   "id": "d3f58d32",
   "metadata": {
    "editable": true
   },
   "source": [
    "<!-- Equation labels as ordinary links -->\n",
    "<div id=\"_auto18\"></div>\n",
    "\n",
    "$$\n",
    "\\begin{equation}\n",
    "{1\\over 2} \\sum_{kl} \\chi_{ij}^{kl} t_{kl}^{ab}  \n",
    "\\label{_auto18} \\tag{30}\n",
    "\\end{equation}\n",
    "$$"
   ]
  },
  {
   "cell_type": "markdown",
   "id": "0adeaa6d",
   "metadata": {
    "editable": true
   },
   "source": [
    "at a cost of $A^4n_u^2$. This is affordable. The price to pay is the\n",
    "storage of the intermediate $\\chi_{ij}^{kl}$, i.e. we traded\n",
    "memory for computational cycles. This trick is known as\n",
    "\"factorization.\""
   ]
  },
  {
   "cell_type": "markdown",
   "id": "129856d7",
   "metadata": {
    "editable": true
   },
   "source": [
    "## Exercise 13: Factorize the remaining diagrams of the CCD equation\n",
    "<div id=\"ex-14\"></div>\n",
    "\n",
    "Diagrams 7, 8, and 9 of Fig. [fig-ccd](#fig-ccd) also need to be factorized.\n",
    "\n",
    "<!-- --- begin answer of exercise --- -->\n",
    "**Answer.**\n",
    "For diagram number 7, we compute"
   ]
  },
  {
   "cell_type": "markdown",
   "id": "af81d399",
   "metadata": {
    "editable": true
   },
   "source": [
    "<!-- Equation labels as ordinary links -->\n",
    "<div id=\"_auto19\"></div>\n",
    "\n",
    "$$\n",
    "\\begin{equation}\n",
    "\\chi_{id}^{al}\\equiv\\sum_{kc} \\langle kl\\vert V\\vert cd\\rangle t_{ik}^{ac}\n",
    "\\label{_auto19} \\tag{31}\n",
    "\\end{equation}\n",
    "$$"
   ]
  },
  {
   "cell_type": "markdown",
   "id": "ca3be594",
   "metadata": {
    "editable": true
   },
   "source": [
    "at a cost of $A^3 n_u^3$ and then compute"
   ]
  },
  {
   "cell_type": "markdown",
   "id": "c1194fca",
   "metadata": {
    "editable": true
   },
   "source": [
    "<!-- Equation labels as ordinary links -->\n",
    "<div id=\"_auto20\"></div>\n",
    "\n",
    "$$\n",
    "\\begin{equation}\n",
    "{1\\over 2} P(ij)P(ab) \\sum_{ld} \\chi_{id}^{al} t_{lj}^{db} \n",
    "\\label{_auto20} \\tag{32}\n",
    "\\end{equation}\n",
    "$$"
   ]
  },
  {
   "cell_type": "markdown",
   "id": "1f5aefbd",
   "metadata": {
    "editable": true
   },
   "source": [
    "at the cost of $A^3 n_u^3$.\n",
    "\n",
    "For diagram number 8, we compute"
   ]
  },
  {
   "cell_type": "markdown",
   "id": "deaa96bc",
   "metadata": {
    "editable": true
   },
   "source": [
    "<!-- Equation labels as ordinary links -->\n",
    "<div id=\"_auto21\"></div>\n",
    "\n",
    "$$\n",
    "\\begin{equation}\n",
    "\\chi_{i}^{l}\\equiv -{1\\over 2} \\sum_{kcd} \\langle kl\\vert V\\vert cd\\rangle t_{ik}^{cd}\n",
    "\\label{_auto21} \\tag{33}\n",
    "\\end{equation}\n",
    "$$"
   ]
  },
  {
   "cell_type": "markdown",
   "id": "f41d20e7",
   "metadata": {
    "editable": true
   },
   "source": [
    "at a cost of $A^3 n_u^2$, and then compute"
   ]
  },
  {
   "cell_type": "markdown",
   "id": "88180fb1",
   "metadata": {
    "editable": true
   },
   "source": [
    "<!-- Equation labels as ordinary links -->\n",
    "<div id=\"_auto22\"></div>\n",
    "\n",
    "$$\n",
    "\\begin{equation}\n",
    "-P(ij) \\sum_l \\chi_i^l t_{lj}^{ab}\n",
    "\\label{_auto22} \\tag{34}\n",
    "\\end{equation}\n",
    "$$"
   ]
  },
  {
   "cell_type": "markdown",
   "id": "d3803bac",
   "metadata": {
    "editable": true
   },
   "source": [
    "at the cost of $A^3 n_u^2$.\n",
    "\n",
    "For diagram number 9, we compute"
   ]
  },
  {
   "cell_type": "markdown",
   "id": "77dc4a79",
   "metadata": {
    "editable": true
   },
   "source": [
    "<!-- Equation labels as ordinary links -->\n",
    "<div id=\"_auto23\"></div>\n",
    "\n",
    "$$\n",
    "\\begin{equation}\n",
    "\\chi_d^a\\equiv{1\\over 2} \\sum_{kcl} \\langle kl\\vert V\\vert cd\\rangle t_{kl}^{ac}\n",
    "\\label{_auto23} \\tag{35}\n",
    "\\end{equation}\n",
    "$$"
   ]
  },
  {
   "cell_type": "markdown",
   "id": "ba4901ed",
   "metadata": {
    "editable": true
   },
   "source": [
    "at a cost of $A^2 n_u^3$ and then compute"
   ]
  },
  {
   "cell_type": "markdown",
   "id": "6e9d09ac",
   "metadata": {
    "editable": true
   },
   "source": [
    "<!-- Equation labels as ordinary links -->\n",
    "<div id=\"_auto24\"></div>\n",
    "\n",
    "$$\n",
    "\\begin{equation}\n",
    "P(ab)\\sum_d \\chi_d^a t_{ij}^{db}\n",
    "\\label{_auto24} \\tag{36}\n",
    "\\end{equation}\n",
    "$$"
   ]
  },
  {
   "cell_type": "markdown",
   "id": "8a723592",
   "metadata": {
    "editable": true
   },
   "source": [
    "at the cost of $A^3 n_u^3$.\n",
    "\n",
    "<!-- --- end answer of exercise --- -->\n",
    "\n",
    "===== =====\n",
    "\n",
    "We are now ready, to derive the full CCSD equations, i.e. the matrix\n",
    "elements of $\\overline{H}_i^a$ and $\\overline{H}_{ij}^{ab}$."
   ]
  },
  {
   "cell_type": "markdown",
   "id": "03c1b967",
   "metadata": {
    "editable": true
   },
   "source": [
    "## Project 14: (Optional) Derive the CCSD equations!\n",
    "<div id=\"ex-15\"></div>"
   ]
  },
  {
   "cell_type": "markdown",
   "id": "841c7e5c",
   "metadata": {
    "editable": true
   },
   "source": [
    "**a)**\n",
    "Let us consider the matrix element $\\overline{H}_i^a$ first. Clearly, it consists of all diagrams (i.e. all combinations of $T_1$, $T_2$, and a single $F$ or $V$ that have an incoming hole line and an outgoing particle line. Write down all these diagrams.\n",
    "\n",
    "<!-- --- begin answer of exercise --- -->\n",
    "**Answer.**\n",
    "<!-- dom:FIGURE: [figslides/Diagrams-CCSD1.png, width=800 frac=0.8] The diagrams for the $T_1$ equation, i.e. the matrix elements of $\\overline{H}_i^a$. Taken from Crawford and Schaefer. Here $\\langle pq\\vert \\vert rs\\rangle \\equiv \\langle pq\\vert V\\vert rs\\rangle$ and $f_{pq}\\equiv f^p_q$. <div id=\"fig-CCSD1\"></div> -->\n",
    "<!-- begin figure -->\n",
    "<div id=\"fig-CCSD1\"></div>\n",
    "\n",
    "<img src=\"figslides/Diagrams-CCSD1.png\" width=\"800\"><p style=\"font-size: 0.9em\"><i>Figure 11: The diagrams for the $T_1$ equation, i.e. the matrix elements of $\\overline{H}_i^a$. Taken from Crawford and Schaefer. Here $\\langle pq\\vert \\vert rs\\rangle \\equiv \\langle pq\\vert V\\vert rs\\rangle$ and $f_{pq}\\equiv f^p_q$.</i></p>\n",
    "<!-- end figure -->\n",
    "\n",
    "<!-- --- end answer of exercise --- -->"
   ]
  },
  {
   "cell_type": "markdown",
   "id": "4bcf1807",
   "metadata": {
    "editable": true
   },
   "source": [
    "**b)**\n",
    "Let us now consider the matrix element $\\overline{H}_{ij}^{ab}$. Clearly, it consists of all diagrams (i.e. all combinations of $T_1$, $T_2$, and a single $F$ or $V$ that have two incoming hole lines and two outgoing particle lines. Write down all these diagrams and corresponding algebraic expressions.\n",
    "\n",
    "<!-- --- begin answer of exercise --- -->\n",
    "**Answer.**\n",
    "<!-- dom:FIGURE: [figslides/Diagrams-CCSD2.png, width=800 frac=0.8] The diagrams for the $T_2$ equation, i.e. the matrix elements of $\\overline{H}_{ij}^{ab}$. Taken from Crawford and Schaefer. Here $\\langle pq\\vert \\vert rs\\rangle \\equiv \\langle pq\\vert V\\vert rs\\rangle$, $f_{pq}\\equiv f^p_q$, and $P(ab) = 1 - (a\\leftrightarrow b)$ antisymmetrizes. <div id=\"fig-CCSD2\"></div> -->\n",
    "<!-- begin figure -->\n",
    "<div id=\"fig-CCSD2\"></div>\n",
    "\n",
    "<img src=\"figslides/Diagrams-CCSD2.png\" width=\"800\"><p style=\"font-size: 0.9em\"><i>Figure 12: The diagrams for the $T_2$ equation, i.e. the matrix elements of $\\overline{H}_{ij}^{ab}$. Taken from Crawford and Schaefer. Here $\\langle pq\\vert \\vert rs\\rangle \\equiv \\langle pq\\vert V\\vert rs\\rangle$, $f_{pq}\\equiv f^p_q$, and $P(ab) = 1 - (a\\leftrightarrow b)$ antisymmetrizes.</i></p>\n",
    "<!-- end figure -->\n",
    "\n",
    "<!-- --- end answer of exercise --- -->\n",
    "\n",
    "===== =====\n",
    "\n",
    "We can now turn to the solution of the coupled-cluster equations."
   ]
  },
  {
   "cell_type": "markdown",
   "id": "116d2f5b",
   "metadata": {
    "editable": true
   },
   "source": [
    "## Solving the CCD equations\n",
    "\n",
    "The CCD equations, depicted in Fig. [fig-ccd](#fig-ccd), are nonlinear in the\n",
    "cluster amplitudes. How do we solve $\\overline{H}_{ij}^{ab}=0$? We\n",
    "subtract $(f_a^a +f_b^b -f_i^i -f_j^j)t_{ij}^{ab}$ from both sides of\n",
    "$\\overline{H}_{ij}^{ab}=0$ (because this term is contained in\n",
    "$\\overline{H}_{ij}^{ab}$) and find"
   ]
  },
  {
   "cell_type": "markdown",
   "id": "8256c62e",
   "metadata": {
    "editable": true
   },
   "source": [
    "$$\n",
    "\\begin{align*}\n",
    "(f_i^i +f_j^j -f_a^a -f_b^b)t_{ij}^{ab} &= (f_i^i +f_j^j -f_a^a -f_b^b)t_{ij}^{ab} +\\overline{H}_{ij}^{ab}\n",
    "\\end{align*}\n",
    "$$"
   ]
  },
  {
   "cell_type": "markdown",
   "id": "a8d2b306",
   "metadata": {
    "editable": true
   },
   "source": [
    "Dividing by $(f_i^i +f_j^j -f_a^a -f_b^b)$ yields"
   ]
  },
  {
   "cell_type": "markdown",
   "id": "3a066b67",
   "metadata": {
    "editable": true
   },
   "source": [
    "<!-- Equation labels as ordinary links -->\n",
    "<div id=\"iter\"></div>\n",
    "\n",
    "$$\n",
    "\\begin{equation}\n",
    "t_{ij}^{ab} = t_{ij}^{ab} + \\frac{\\overline{H}_{ij}^{ab}}{f_i^i +f_j^j -f_a^a -f_b^b}\n",
    "\\label{iter} \\tag{37}\n",
    "\\end{equation}\n",
    "$$"
   ]
  },
  {
   "cell_type": "markdown",
   "id": "c790734f",
   "metadata": {
    "editable": true
   },
   "source": [
    "This equation is of the type $t=f(t)$, and we solve it by iteration,\n",
    "i.e. we start with a guess $t_0$ and iterate $t_{n+1}=f(t_n)$, and\n",
    "hope that this will converge to a solution. We take the perturbative result"
   ]
  },
  {
   "cell_type": "markdown",
   "id": "4b064c21",
   "metadata": {
    "editable": true
   },
   "source": [
    "<!-- Equation labels as ordinary links -->\n",
    "<div id=\"pert\"></div>\n",
    "\n",
    "$$\n",
    "\\begin{equation}\n",
    "\\label{pert} \\tag{38}\n",
    "\\left(t_{ij}^{ab}\\right)_0 = \\frac{\\langle ab\\vert V\\vert ij\\rangle}{f_i^i +f_j^j -f_a^a -f_b^b}\n",
    "\\end{equation}\n",
    "$$"
   ]
  },
  {
   "cell_type": "markdown",
   "id": "052ea431",
   "metadata": {
    "editable": true
   },
   "source": [
    "as a starting point, compute $\\overline{H}_{ij}^{ab}$, and find a new\n",
    "$t_{ij}^{ab}$ from the right-hand side of Eq. ([37](#iter)). We repeat\n",
    "this process until the amplitudes (or the CCD energy) converge."
   ]
  },
  {
   "cell_type": "markdown",
   "id": "161bc567",
   "metadata": {
    "editable": true
   },
   "source": [
    "# CCD for the pairing Hamiltonian\n",
    "\n",
    "You learned about the pairing Hamiltonian earlier in this\n",
    "school. Convince yourself that this Hamiltonian does not induce any\n",
    "1p-1h excitations. We can then solve the CCD equations for this\n",
    "problem. This consists of the following steps\n",
    "\n",
    "1. Write a function that compute the potential, i.e. it returns a four-indexed array (or tensor). We need $\\langle ab\\vert V\\vert cd\\rangle$, $\\langle ij\\vert V\\vert kl\\rangle$, and $\\langle ab\\vert V\\vert ij\\rangle$. Why is there no $\\langle ab\\vert V\\vert id\\rangle$ or $\\langle ai\\vert V\\vert jb\\rangle$ ?\n",
    "\n",
    "2. Write a function that computes the Fock matrix, i.e. a two-indexed array. We only need $f_a^b$ and $f_i^j$. Why? \n",
    "\n",
    "3. Initialize the cluster amplitudes according to Eq. ([38](#pert)), and solve Eq. ([37](#iter)) by iteration. The cluster amplitudes $T_1$ and $T_2$ are two- and four-indexed arrays, respectively.\n",
    "\n",
    "Please note that the contraction of tensors (i.e. the summation over\n",
    "common indices in products of tensors) is very user friendly and\n",
    "elegant in python when `numpy.einsum` is used."
   ]
  }
 ],
 "metadata": {},
 "nbformat": 4,
 "nbformat_minor": 5
}
