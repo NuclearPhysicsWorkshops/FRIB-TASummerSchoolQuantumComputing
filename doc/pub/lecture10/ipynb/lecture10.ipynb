{
  "cells": [
    {
      "cell_type": "markdown",
      "source": [
        "## FRIB-TA Hands-on: Error mitigation [Day 3 morning]"
      ],
      "metadata": {
        "id": "iZUiaVGM4CAQ"
      },
      "id": "iZUiaVGM4CAQ"
    },
    {
      "cell_type": "markdown",
      "source": [
        "Helpful links:\n",
        "\n",
        "- [Lecture plan](https://github.com/NuclearPhysicsWorkshops/FRIB-TASummerSchoolQuantumComputing#detailed-lecture-plan)"
      ],
      "metadata": {
        "id": "a1oX-v1h4CrU"
      },
      "id": "a1oX-v1h4CrU"
    },
    {
      "cell_type": "markdown",
      "source": [
        "## Goal"
      ],
      "metadata": {
        "id": "ImZL74fI7Rrm"
      },
      "id": "ImZL74fI7Rrm"
    },
    {
      "cell_type": "markdown",
      "source": [
        "The goal of this notebook is to implement zero-noise extrapolation (ZNE) and use it to improve the performance of a simple quantum computation. By doing so, you will be able to implement ZNE in your own computations, both \"from scratch\" and by using existing software."
      ],
      "metadata": {
        "id": "pesSGVi77UfP"
      },
      "id": "pesSGVi77UfP"
    },
    {
      "cell_type": "markdown",
      "source": [
        "## Setup"
      ],
      "metadata": {
        "id": "nj9XIQiK4wx7"
      },
      "id": "nj9XIQiK4wx7"
    },
    {
      "cell_type": "code",
      "source": [
        "try:\n",
        "    import qiskit\n",
        "except ImportError:\n",
        "    !pip install qiskit~=0.20.0 pylatexenc --quiet"
      ],
      "metadata": {
        "id": "Rbz9dc9C4zdW"
      },
      "id": "Rbz9dc9C4zdW",
      "execution_count": null,
      "outputs": []
    },
    {
      "cell_type": "code",
      "source": [
        "import matplotlib.pyplot as plt\n",
        "import numpy as np\n",
        "\n",
        "# To ignore circuit addition deprecation warnings in Qiskit, which we'll use here.\n",
        "import warnings\n",
        "warnings.filterwarnings(\"ignore\", category=DeprecationWarning)\n",
        "\n",
        "import qiskit\n",
        "import qiskit.test.mock\n",
        "\n",
        "version_requires = \"0.20\"\n",
        "assert version_requires in qiskit.__version__, print(f\"Qiskit version should be >={version_requires} but is {qiskit.__version__}\")"
      ],
      "metadata": {
        "id": "NCNvvlKH4t09"
      },
      "id": "NCNvvlKH4t09",
      "execution_count": null,
      "outputs": []
    },
    {
      "cell_type": "markdown",
      "source": [
        "## The quantum computation"
      ],
      "metadata": {
        "id": "ebr-TAtu7P93"
      },
      "id": "ebr-TAtu7P93"
    },
    {
      "cell_type": "markdown",
      "source": [
        "Let us evaluate the probability of the ground state in a circuit which logically compiles to identity. Throughout, let us call the circuit $|\\psi\\rangle$ and use $\\Pi := |0\\rangle \\langle 0|$ so that the probability of the ground state is $\\langle \\psi | \\Pi | \\psi \\rangle$. "
      ],
      "metadata": {
        "id": "YPg2ZFWVHzL6"
      },
      "id": "YPg2ZFWVHzL6"
    },
    {
      "cell_type": "markdown",
      "source": [
        "In the cell below, write a function which returns a single-qubit quantum circuit with a specified (even) number of `X` gates."
      ],
      "metadata": {
        "id": "1PC3gz8JItri"
      },
      "id": "1PC3gz8JItri"
    },
    {
      "cell_type": "code",
      "source": [
        "\"\"\"Set up the quantum computation to use with ZNE.\"\"\"\n",
        "def get_circuit(depth: int = 50) -> qiskit.QuantumCircuit:\n",
        "    # -->  Your code here.\n",
        "    pass"
      ],
      "metadata": {
        "id": "jg8-LQf-Izgc"
      },
      "id": "jg8-LQf-Izgc",
      "execution_count": null,
      "outputs": []
    },
    {
      "cell_type": "markdown",
      "source": [
        "Let's visualize the circuit."
      ],
      "metadata": {
        "id": "Iatv7TJGJVAS"
      },
      "id": "Iatv7TJGJVAS"
    },
    {
      "cell_type": "code",
      "execution_count": null,
      "id": "republican-chemical",
      "metadata": {
        "id": "republican-chemical"
      },
      "outputs": [],
      "source": [
        "\"\"\"Visualize the circuit.\"\"\"\n",
        "circuit = get_circuit()\n",
        "circuit.draw()"
      ]
    },
    {
      "cell_type": "markdown",
      "source": [
        "## The noisy result"
      ],
      "metadata": {
        "id": "fohCq9t3-7d8"
      },
      "id": "fohCq9t3-7d8"
    },
    {
      "cell_type": "markdown",
      "source": [
        "It's possible to run this notebook on real devices if you have access to them, but that would take a while due to the fair-share queue. Thankfully, the `qiskit.test.mock` module contains mock backends which model the noise characteristics of various devices. The next few cells show an example of how to use this."
      ],
      "metadata": {
        "id": "UZFeIvY8-9f8"
      },
      "id": "UZFeIvY8-9f8"
    },
    {
      "cell_type": "code",
      "source": [
        "\"\"\"Getting a noisy device via qiskit.test.mock.\"\"\"\n",
        "# Get a noisy backend.\n",
        "noisy_backend = qiskit.test.mock.FakeArmonk()\n",
        "\n",
        "# You can see some of its properties as follows.\n",
        "print(\"Basis gates:\", noisy_backend.configuration().basis_gates)\n",
        "print(\"Number of qubits:\", noisy_backend.configuration().num_qubits)"
      ],
      "metadata": {
        "id": "DmfNHkRiNIwc"
      },
      "id": "DmfNHkRiNIwc",
      "execution_count": null,
      "outputs": []
    },
    {
      "cell_type": "markdown",
      "source": [
        "If you'd like, you can see \"lower-level\" properties with `noisy_backend.configuration().hamiltonian`. To run on this device, we use it with `qiskit.execute` as usual."
      ],
      "metadata": {
        "id": "esdHKKeUlQP6"
      },
      "id": "esdHKKeUlQP6"
    },
    {
      "cell_type": "code",
      "source": [
        "\"\"\"Running on a noisy device via qiskit.test.mock.\"\"\"\n",
        "job = qiskit.execute(circuit, backend=noisy_backend, optimization_level=0, shots=10_000)"
      ],
      "metadata": {
        "id": "IZ6PeM4-lnCO"
      },
      "id": "IZ6PeM4-lnCO",
      "execution_count": null,
      "outputs": []
    },
    {
      "cell_type": "markdown",
      "source": [
        "Notes:\n",
        "- If you're following along as intended, the circuit run in that cell doesn't have any measurements, so you'll get an error if you try to access them. \n",
        "- We set `optimization_level=0` which says, inasmuch as possible, to run exactly the circuit we passed in. This will be essential to run zero-noise extrapolation because this technique adds in extra gates which compile to identity."
      ],
      "metadata": {
        "id": "Odjey5U3lzBY"
      },
      "id": "Odjey5U3lzBY"
    },
    {
      "cell_type": "markdown",
      "source": [
        "With ZNE, we need to run multiple circuits, so it's convenient to have a function for this. Complete the body of the function in the cell below by:\n",
        "\n",
        "1. Measuring the qubit in the circuit if `measure` is `True`. You'll want to make a copy of the circuit so that you don't modify the input circuit.\n",
        "2. Calling `qiskit.execute` with the circuit, backend, and shots. **Be sure to set `optimization_level=0`**.\n",
        "3. Returning the ratio of `0`s measured to the total number of shots."
      ],
      "metadata": {
        "id": "qNdgk1HPmafB"
      },
      "id": "qNdgk1HPmafB"
    },
    {
      "cell_type": "code",
      "source": [
        "def execute(\n",
        "    circuit: qiskit.QuantumCircuit, \n",
        "    backend: \"qiskit.Sampler\" = qiskit.test.mock.FakeArmonk(), \n",
        "    shots: int = 10_000,\n",
        "    measure: bool = True,\n",
        ") -> float:\n",
        "    \"\"\"Returns the ground state probability of the circuit run on the backend.\n",
        "\n",
        "    Args:\n",
        "        circuit: Single-qubit circuit to estimate the ground state probability of.\n",
        "        backend: Backend to run the circuit on.\n",
        "        shots: Number of times to sample from the circuit.\n",
        "        measure: If True, measure all qubits in the circuit, else do nothing.\n",
        "    \"\"\"\n",
        "    # -->  Your code here.\n",
        "    return 0.0"
      ],
      "metadata": {
        "id": "0wpKIqprJjww"
      },
      "id": "0wpKIqprJjww",
      "execution_count": null,
      "outputs": []
    },
    {
      "cell_type": "markdown",
      "source": [
        "Using this function, we can run the quantum computation and see our result."
      ],
      "metadata": {
        "id": "2hnXVCaWJ9ZL"
      },
      "id": "2hnXVCaWJ9ZL"
    },
    {
      "cell_type": "code",
      "source": [
        "noisy_value = execute(circuit)\n",
        "print(\"Noisy: \\t⟨𝜓|Π|𝜓⟩ =\", noisy_value)"
      ],
      "metadata": {
        "id": "0q3bbGwQA7K1"
      },
      "id": "0q3bbGwQA7K1",
      "execution_count": null,
      "outputs": []
    },
    {
      "cell_type": "markdown",
      "source": [
        "## The true (noiseless) result"
      ],
      "metadata": {
        "id": "7XY5pIvVGj30"
      },
      "id": "7XY5pIvVGj30"
    },
    {
      "cell_type": "markdown",
      "source": [
        "For testing how well ZNE works, it's convenient to know what the \"true\" or noiseless expectation value is. We already know the true result for our simple example, but we can do this in general for simple cases by using our function with a noiseless simulator as below."
      ],
      "metadata": {
        "id": "Y6TiEKJTKBeK"
      },
      "id": "Y6TiEKJTKBeK"
    },
    {
      "cell_type": "code",
      "source": [
        "\"\"\"Determine the true (noiseless) value by running on a noiseless backend.\"\"\"\n",
        "true_value = execute(circuit, qiskit.Aer.get_backend(\"qasm_simulator\"))\n",
        "print(\"True: \\t⟨𝜓|Π|𝜓⟩ =\", true_value)"
      ],
      "metadata": {
        "id": "T1VsvjEZGTu9"
      },
      "id": "T1VsvjEZGTu9",
      "execution_count": null,
      "outputs": []
    },
    {
      "cell_type": "markdown",
      "source": [
        "## Implementing zero-noise extrapolation"
      ],
      "metadata": {
        "id": "960PKFJFKg9g"
      },
      "id": "960PKFJFKg9g"
    },
    {
      "cell_type": "markdown",
      "source": [
        "Now we implement ZNE in three steps."
      ],
      "metadata": {
        "id": "_aNNs8hZn4cr"
      },
      "id": "_aNNs8hZn4cr"
    },
    {
      "cell_type": "markdown",
      "source": [
        "### Step 1 / 3: Scale the noise in the computation"
      ],
      "metadata": {
        "id": "29Zo70jSizPL"
      },
      "id": "29Zo70jSizPL"
    },
    {
      "cell_type": "markdown",
      "source": [
        "First we need to scale the noise in the computation. As described in lecture, there are various ways to do this. We will use the simplest gate-level method to scale noise. Letting $U$ denote the complete circuit (without measurements), map $U$ to $U U^\\dagger U$. The next cell shows how to do this in Qiskit."
      ],
      "metadata": {
        "id": "hSWKN660n8A_"
      },
      "id": "hSWKN660n8A_"
    },
    {
      "cell_type": "code",
      "source": [
        "\"\"\"Map U to U U^dag U.\"\"\"\n",
        "inverse = circuit.inverse()\n",
        "scaled_circuit = circuit + inverse + circuit"
      ],
      "metadata": {
        "id": "I3Qc_SpYBRJg"
      },
      "id": "I3Qc_SpYBRJg",
      "execution_count": null,
      "outputs": []
    },
    {
      "cell_type": "markdown",
      "source": [
        "You may wish to print / inspect this circuit."
      ],
      "metadata": {
        "id": "l0CIao34pMo1"
      },
      "id": "l0CIao34pMo1"
    },
    {
      "cell_type": "markdown",
      "source": [
        "For ZNE, we want to run at several noise levels. This corresponds to the mapping $U \\mapsto U (U^\\dagger U)^k$ for $k = 1, 2, 3, ...$. In the next cell, you are asked to complete the body of a function to do this."
      ],
      "metadata": {
        "id": "9R4Qx_c9jbLV"
      },
      "id": "9R4Qx_c9jbLV"
    },
    {
      "cell_type": "code",
      "source": [
        "def scale_circuit(circuit: qiskit.QuantumCircuit, scale_factor: int) -> qiskit.QuantumCircuit:\n",
        "    \"\"\"Returns U (U^dag U)^k where U is the input circuit and k is the scale_factor.\n",
        "\n",
        "    Args:\n",
        "        circuit: Circuit to scale. Should not have measurements.\n",
        "        scale_factor: The integer k in the above formula (how many times to add U^dag U).\n",
        "    \"\"\"\n",
        "    # -->  Your code here.\n",
        "    pass"
      ],
      "metadata": {
        "id": "cbeRzU-0Kwj3"
      },
      "id": "cbeRzU-0Kwj3",
      "execution_count": null,
      "outputs": []
    },
    {
      "cell_type": "markdown",
      "source": [
        "One step down, and that's the hardest one!"
      ],
      "metadata": {
        "id": "aDStl5QWpUnN"
      },
      "id": "aDStl5QWpUnN"
    },
    {
      "cell_type": "markdown",
      "source": [
        "### Step 2 / 3: Execute the noise-scaled computations"
      ],
      "metadata": {
        "id": "DdFVuCMSENGl"
      },
      "id": "DdFVuCMSENGl"
    },
    {
      "cell_type": "markdown",
      "source": [
        "For this next step, we need to run our noise-scaled circuits. Because we defined an `execute` function above to compute our expectation value of interest, this is as easy as calling `execute` on each scaled circuit, as shown in the next cell."
      ],
      "metadata": {
        "id": "KLQGPjw0pYfP"
      },
      "id": "KLQGPjw0pYfP"
    },
    {
      "cell_type": "code",
      "source": [
        "\"\"\"Pick scale factors and execute the computation at different noise levels.\"\"\"\n",
        "# Pick scale factors.\n",
        "scale_factors = [1, 2, 3]\n",
        "\n",
        "# Scale the circuits at each scale factor.\n",
        "scaled_circuits = [scale_circuit(circuit, scale_factor) for scale_factor in scale_factors]\n",
        "\n",
        "# Run the noise-scaled circuits.\n",
        "expectation_values = [execute(scaled_circuit) for scaled_circuit in scaled_circuits]"
      ],
      "metadata": {
        "id": "T4nFGUN5EQWA"
      },
      "id": "T4nFGUN5EQWA",
      "execution_count": null,
      "outputs": []
    },
    {
      "cell_type": "code",
      "source": [
        "\"\"\"Plot the expectation value vs. scale factor data.\"\"\"\n",
        "# -->  Your code here."
      ],
      "metadata": {
        "id": "yNmQn4SwEfjt"
      },
      "id": "yNmQn4SwEfjt",
      "execution_count": null,
      "outputs": []
    },
    {
      "cell_type": "markdown",
      "source": [
        "### Step 3 / 3: Fit a model to the noise-scaled expectation values"
      ],
      "metadata": {
        "id": "pThkXeOdEsOU"
      },
      "id": "pThkXeOdEsOU"
    },
    {
      "cell_type": "markdown",
      "source": [
        "If you kept the intended `depth` and `scale_factors`, the above trend line should look linear. So, let's fit a line $E(\\lambda) = a + b \\lambda$ to the data. We can do this very easily with `np.polyfit` as shown below."
      ],
      "metadata": {
        "id": "WYx4lP63qM-X"
      },
      "id": "WYx4lP63qM-X"
    },
    {
      "cell_type": "code",
      "source": [
        "\"\"\"Fit a model to the data.\"\"\"\n",
        "best_fit_coeffs = np.polyfit(scale_factors, expectation_values, deg=1)"
      ],
      "metadata": {
        "id": "PAo3CrNmExe0"
      },
      "id": "PAo3CrNmExe0",
      "execution_count": null,
      "outputs": []
    },
    {
      "cell_type": "markdown",
      "source": [
        "Now we have best-fit coefficients $E(\\lambda) = a^* + b^* \\lambda$. Use this to get the zero-noise $(\\lambda = 0)$ value in the cell below."
      ],
      "metadata": {
        "id": "iAQikELBqwc2"
      },
      "id": "iAQikELBqwc2"
    },
    {
      "cell_type": "code",
      "source": [
        "\"\"\"Get the `zne_value` from the best-fit coefficients found above.\"\"\"\n",
        "zne_value = 0.0  # <--  Your code here."
      ],
      "metadata": {
        "id": "DiuPZrK5rHji"
      },
      "id": "DiuPZrK5rHji",
      "execution_count": null,
      "outputs": []
    },
    {
      "cell_type": "markdown",
      "source": [
        "Congrats! you just implemented zero-noise extrapolation."
      ],
      "metadata": {
        "id": "peS5SepGrbb_"
      },
      "id": "peS5SepGrbb_"
    },
    {
      "cell_type": "markdown",
      "source": [
        "### Compare the results"
      ],
      "metadata": {
        "id": "6KlIcVd4rY0T"
      },
      "id": "6KlIcVd4rY0T"
    },
    {
      "cell_type": "markdown",
      "source": [
        "Let's see how ZNE performed."
      ],
      "metadata": {
        "id": "bf-CaPd0rhGz"
      },
      "id": "bf-CaPd0rhGz"
    },
    {
      "cell_type": "code",
      "source": [
        "\"\"\"Display the results.\"\"\"\n",
        "print(\"True: \\t⟨𝜓|Π|𝜓⟩ =\", true_value)\n",
        "print(\"Noisy \\t⟨𝜓|Π|𝜓⟩ =\", noisy_value)\n",
        "print(\"ZNE: \\t⟨𝜓|Π|𝜓⟩ =\", zne_value)\n",
        "\n",
        "# Compute the \"quantum error mitigation (QEM) factor.\"\n",
        "error_mitigation_factor = (true_value - noisy_value) / (true_value - zne_value)\n",
        "print(\"\\nQEM factor:\", error_mitigation_factor)"
      ],
      "metadata": {
        "id": "FOPvPPRvqdX6"
      },
      "id": "FOPvPPRvqdX6",
      "execution_count": null,
      "outputs": []
    },
    {
      "cell_type": "markdown",
      "source": [
        "### To consider"
      ],
      "metadata": {
        "id": "CdZLO9U3ipNA"
      },
      "id": "CdZLO9U3ipNA"
    },
    {
      "cell_type": "markdown",
      "source": [
        "- How do your results change if you fit a different degree polynomial?\n",
        "- How do your results change if you use more / different `scale_factors`?\n",
        "- How do your results change if you use a lower / higher depth circuit?\n",
        "- Try fitting the data with an expononential or similar function using [SciPy curve fit](https://docs.scipy.org/doc/scipy/reference/generated/scipy.optimize.curve_fit.html).\n",
        "- The fit you \"should\" use ideally comes from some knowledge of how the computation should look at different scale factors, based on both the details of the circuit, expectation value, and noise model of the device."
      ],
      "metadata": {
        "id": "-TwhaFeOirZY"
      },
      "id": "-TwhaFeOirZY"
    },
    {
      "cell_type": "markdown",
      "source": [
        "## Software for error mitigation"
      ],
      "metadata": {
        "id": "jIw2yBdzHL2L"
      },
      "id": "jIw2yBdzHL2L"
    },
    {
      "cell_type": "markdown",
      "source": [
        "As we've (hopefully) seen, implementing zero-noise extrapolation isn't terribly difficult. But we just skimmed the surface - there's different ways to scale noise (including fractionally), choose scale factors (including adaptively), and fit models to the data. Error mitigation software packages like [Mitiq](https://mitiq.readthedocs.io/en/stable/) and [Qermit](https://cqcl.github.io/Qermit/) handle these details, as well as implement other error mitigation techniques. You may wish to use them for your own experiments instead of implementing everything \"from scratch\"."
      ],
      "metadata": {
        "id": "Cc5nZTE4HOxD"
      },
      "id": "Cc5nZTE4HOxD"
    },
    {
      "cell_type": "markdown",
      "source": [
        "## Challenge"
      ],
      "metadata": {
        "id": "twJLcmB58iSk"
      },
      "id": "twJLcmB58iSk"
    },
    {
      "cell_type": "markdown",
      "source": [
        "Done early?\n",
        "\n",
        "- Try to implement zero-noise extrapolation for a quantum computation in one of the hands-on sessions at [this school](https://github.com/NuclearPhysicsWorkshops/FRIB-TASummerSchoolQuantumComputing#detailed-lecture-plan).\n",
        "- Reproduce a zero-noise extrapolation experiment in literature, for example [this one increasing effective quantum volume](https://github.com/unitaryfund/mitiq-qv/blob/master/main.ipynb).\n",
        "- Check out the other error mitigation methods in [Mitiq](https://mitiq.readthedocs.io/en/stable/) and/or [Qermit](https://cqcl.github.io/Qermit/)."
      ],
      "metadata": {
        "id": "CBBq5TOh8lZv"
      },
      "id": "CBBq5TOh8lZv"
    }
  ],
  "metadata": {
    "kernelspec": {
      "display_name": "Python 3",
      "language": "python",
      "name": "python3"
    },
    "language_info": {
      "codemirror_mode": {
        "name": "ipython",
        "version": 3
      },
      "file_extension": ".py",
      "mimetype": "text/x-python",
      "name": "python",
      "nbconvert_exporter": "python",
      "pygments_lexer": "ipython3",
      "version": "3.9.1"
    },
    "colab": {
      "name": "Morning3_Notebook_FRIBTA2022.ipynb",
      "provenance": [],
      "toc_visible": true
    }
  },
  "nbformat": 4,
  "nbformat_minor": 5
}