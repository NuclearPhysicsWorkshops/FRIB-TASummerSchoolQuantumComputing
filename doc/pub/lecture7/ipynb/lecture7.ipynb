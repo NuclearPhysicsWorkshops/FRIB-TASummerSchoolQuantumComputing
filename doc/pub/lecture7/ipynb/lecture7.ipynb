{
 "cells": [
  {
   "cell_type": "markdown",
   "metadata": {},
   "source": [
    "# VQE Introduction"
   ]
  },
  {
   "cell_type": "markdown",
   "metadata": {},
   "source": [
    "## Imports"
   ]
  },
  {
   "cell_type": "code",
   "execution_count": 1,
   "metadata": {},
   "outputs": [],
   "source": [
    "# Imports\n",
    "import qiskit\n",
    "from qiskit import IBMQ\n",
    "import math\n",
    "import cmath\n",
    "%matplotlib inline\n",
    "import matplotlib.pyplot as plt\n",
    "import numpy as np\n",
    "import scipy as sp\n",
    "from numpy import linalg as la\n",
    "from scipy import linalg as sla\n",
    "from IPython.display import clear_output\n",
    "import time\n",
    "import pickle\n",
    "from qiskit.extensions import XGate, UnitaryGate\n",
    "from qiskit import *\n",
    "from qiskit.compiler import transpile\n",
    "import networkx as nx\n",
    "import importlib\n",
    "from qiskit.quantum_info.synthesis import two_qubit_cnot_decompose as two_qubit_decomp"
   ]
  },
  {
   "cell_type": "markdown",
   "metadata": {},
   "source": [
    "## Definitions"
   ]
  },
  {
   "cell_type": "code",
   "execution_count": 2,
   "metadata": {},
   "outputs": [],
   "source": [
    "## Definitions\n",
    "pi = np.pi\n",
    "\n",
    "zero = np.matrix([[1],[0]],dtype=complex)\n",
    "one  = np.matrix([[0],[1]],dtype=complex)\n",
    "\n",
    "I = np.matrix([[1,0],[0,1]],dtype=complex)\n",
    "X = np.matrix([[0,1],[1,0]],dtype=complex)\n",
    "Y = np.matrix([[0,-1j],[1j,0]],dtype=complex)\n",
    "Z = np.matrix([[1,0],[0,-1]],dtype=complex) \n",
    "\n",
    "swap = np.array([[1,0,0,0],[0,0,1,0],[0,1,0,0],[0,0,0,1]])"
   ]
  },
  {
   "cell_type": "markdown",
   "metadata": {},
   "source": [
    "## Variational Principle"
   ]
  },
  {
   "cell_type": "markdown",
   "metadata": {},
   "source": [
    "The Variational Quantum Eigensolver (VQE) algorithm is based on the variational principle: The expectation value of a Hamiltonian $H$ in a state $|\\psi(\\theta)\\rangle$ paremetrized by a set of angles $\\theta$, is always greater than or equal to the the minimum eigenenergy $E_0$. To see this, let $|n\\rangle$ be the eigenstates of $H$, that is:\n",
    "\n",
    "$$H|n\\rangle=E_n|n\\rangle$$\n",
    "\n",
    "We can then expand our state $|\\psi(\\theta)\\rangle$ in terms of said eigenstates\n",
    "\n",
    "$$ |\\psi(\\theta)\\rangle=\\sum_nc_n|n\\rangle $$\n",
    "\n",
    "and plug this into the expectation value to yield\n",
    "\n",
    "$$\n",
    "\\begin{align}\n",
    "\\langle\\psi(\\theta)|H|\\psi(\\theta)\\rangle\n",
    "&=\n",
    "\\sum_{nm}c^*_mc_n\\langle m|H|n \\rangle\n",
    "\\\\\n",
    "&=\n",
    "\\sum_{nm}c^*_mc_nE_n\\langle m|n \\rangle\n",
    "\\\\\n",
    "&=\n",
    "\\sum_{nm}\\delta_{nm}c^*_mc_nE_n\n",
    "\\\\\n",
    "&=\n",
    "\\sum_{n}|c_n|^2E_n\n",
    "\\\\\n",
    "&\\geq\n",
    "E_0\\sum_{n}|c_n|^2\n",
    "\\\\\n",
    "&=\n",
    "E_0\n",
    "\\end{align}\n",
    "$$\n",
    "\n",
    "which implies that we can minimize over the set of angles $\\theta$ and arrive at the ground state energy $E_0$:\n",
    "\n",
    "$$\n",
    "\\min_\\theta \\ \\langle\\psi(\\theta)|H|\\psi(\\theta)\\rangle\n",
    "=\n",
    "E_0\n",
    "$$\n",
    "\n",
    "Using this fact, the VQE algorithm goes as follows:\n",
    "\n",
    "1. Prepare the variational state $|\\psi(\\theta)\\rangle$ on a quantum computer.\n",
    "2. Measure this circuit in various bases and send these measurements to a classical computer\n",
    "3. The classical computer post-processess the measurement data to compute the expectation value $\\langle\\psi(\\theta)|H|\\psi(\\theta)\\rangle$\n",
    "4. The classical computer varies the parameters $\\theta$ according to a classical minimization algorithm and sends them back to the quantum computer which runs step 1 again.\n",
    "\n",
    "This loop continues until the classical optimization algorithm terminates which results in a set of angles $\\theta_{\\text{min}}$ that characterize the ground state $|\\phi(\\theta_{\\text{min}})\\rangle$ and an estimate for the ground state energy $\\langle\\psi(\\theta_{\\text{min}})|H|\\psi(\\theta_{\\text{min}})\\rangle$."
   ]
  },
  {
   "cell_type": "markdown",
   "metadata": {},
   "source": [
    "## Expectation Values\n",
    "\n",
    "After an ansatz is prepared on a quantum circuit, the expectation value of the Hamiltonian is estimated. A Hamiltonian with $k$ sites is expressed as a sum of Pauli strings:\n",
    "\n",
    "$$ H = \\sum_{n}c_nP_n $$\n",
    "\n",
    "where $c_n$ are constants and\n",
    "\n",
    "$$ P_n = \\bigotimes_k\\sigma_k $$\n",
    "\n",
    "where $\\sigma=X,Y,Z$. Because the expectation value is linear\n",
    "\n",
    "$$ \\langle H \\rangle = \\langle \\sum_{n}c_nP_n \\rangle =  \\sum_{n} c_n \\langle P_n \\rangle  $$\n",
    "\n",
    "we simply need to know how to take the expectation value of strings of Paulis. Let's start with a single Pauli and begin with $Z$. The expectation value of $Z$ in state $|\\psi\\rangle$ can be written in terms of probabilities as\n",
    "\n",
    "$$\n",
    "\\begin{align*}\n",
    "E_{\\psi}(Z)\n",
    "&=\\langle \\psi|Z|\\psi \\rangle \\\\\n",
    "&=\\langle \\psi|\\left(|0\\rangle\\langle0|-|1\\rangle\\langle1|\\right)|\\psi\\rangle \\\\\n",
    "&=\\langle \\psi|0 \\rangle \\langle 0|\\psi \\rangle-\\langle \\psi|1 \\rangle \\langle 1|\\psi \\rangle  \\\\\n",
    "&=|\\langle 0|\\psi \\rangle|^2-|\\langle 1|\\psi \\rangle|^2  \\\\\n",
    "&=P(\\psi\\to0)-P(\\psi\\to1)\n",
    "\\end{align*}\n",
    "$$\n",
    "\n",
    "where $P(\\psi\\to x)$ is the probability that state $|\\psi\\rangle$ is measured to be $|0\\rangle$. Thus, one does nothing to the qubit in state $|\\psi\\rangle$, as shown below:"
   ]
  },
  {
   "cell_type": "code",
   "execution_count": 16,
   "metadata": {},
   "outputs": [
    {
     "data": {
      "image/png": "[encoded data removed]",
      "text/plain": [
       "<Figure size 150.397x144.48 with 1 Axes>"
      ]
     },
     "execution_count": 16,
     "metadata": {},
     "output_type": "execute_result"
    }
   ],
   "source": [
    "# expectation value of Z circuit\n",
    "q = QuantumRegister(1,'psi')\n",
    "c = ClassicalRegister(1,'c')\n",
    "circ = QuantumCircuit(q,c)\n",
    "\n",
    "circ.measure(q,c)\n",
    "\n",
    "circ.draw('mpl')"
   ]
  },
  {
   "cell_type": "markdown",
   "metadata": {},
   "source": [
    "which means prepare the state $|\\psi\\rangle$ and measures. One does this over and over, counting $C_0$, the number of times one measures $0$ and $C_1$, the number of times one measures $1$. From these numbers, on can estimate the probability of measuring $0$ and $1$ as \n",
    "\\begin{align*}\n",
    "P(\\psi\\to0)&=\\frac{C_0}{C_0+C_1} \\\\\n",
    "P(\\psi\\to1)&=\\frac{C_1}{C_0+C_1}\n",
    "\\end{align*}\n",
    "The more measurements made, the more accurate the prediction becomes. To find the expectation value of $Z$, one simply subtracts the probabilities as above:\n",
    "\\begin{align*}\n",
    "E_{\\psi}(Z) \n",
    "&=\n",
    "P(\\psi\\to0)-P(\\psi\\to1)\n",
    "\\\\\n",
    "&=\n",
    "\\frac{C_0-C_1}{C_0+C_1}\n",
    "\\end{align*}\n",
    "\n",
    "We now turn to finding the expecation value of $X$. To do so, we are going to rotate our computation basis.\n",
    "Recalling the identity $X=HZH$ allows us to write\n",
    "\n",
    "$$\n",
    "\\begin{align*}\n",
    "E_{\\psi}(X)\n",
    "&=\\langle \\psi|X|\\psi \\rangle \\\\\n",
    "&=\\langle \\psi|HZH|\\psi \\rangle \\\\\n",
    "&=\\langle H\\psi|Z|H\\psi \\rangle \\\\\n",
    "&=P(H\\psi\\to0)-P(H\\psi\\to1)\n",
    "\\end{align*}\n",
    "$$\n",
    "\n",
    "Thus, one appends a Hadamard gate $H$ to the qubit in state $|\\psi\\rangle$, as shown below:"
   ]
  },
  {
   "cell_type": "code",
   "execution_count": 18,
   "metadata": {},
   "outputs": [
    {
     "data": {
      "image/png": "[encoded data removed]",
      "text/plain": [
       "<Figure size 210.597x144.48 with 1 Axes>"
      ]
     },
     "execution_count": 18,
     "metadata": {},
     "output_type": "execute_result"
    }
   ],
   "source": [
    "# expectation value of X circuit\n",
    "q = QuantumRegister(1,'psi')\n",
    "c = ClassicalRegister(1,'c')\n",
    "circ = QuantumCircuit(q,c)\n",
    "\n",
    "circ.h(q[0])\n",
    "circ.measure(q,c)\n",
    "\n",
    "circ.draw('mpl')"
   ]
  },
  {
   "cell_type": "markdown",
   "metadata": {},
   "source": [
    "##### Problem 3\n",
    "\n",
    "Finally, we turn to the expectation value of $Y$. Use the identity $Y=SXS^{\\dagger}$ to prove that\n",
    "\n",
    "$$ \n",
    "E_{\\psi}(Y)\n",
    "=\n",
    "P(HS^\\dagger\\psi\\to0)-P(HS^\\dagger\\psi\\to1) \n",
    "$$\n",
    "\n",
    "Thus, one appends $HS^\\dagger$ to the qubit in state $|\\psi\\rangle$, as shown below:"
   ]
  },
  {
   "cell_type": "code",
   "execution_count": 22,
   "metadata": {},
   "outputs": [
    {
     "data": {
      "image/png": "[encoded data removed]",
      "text/plain": [
       "<Figure size 270.797x144.48 with 1 Axes>"
      ]
     },
     "execution_count": 22,
     "metadata": {},
     "output_type": "execute_result"
    }
   ],
   "source": [
    "# expectation value of X circuit\n",
    "q = QuantumRegister(1,'psi')\n",
    "c = ClassicalRegister(1,'c')\n",
    "circ = QuantumCircuit(q,c)\n",
    "\n",
    "circ.sdg(q[0])\n",
    "circ.h(q[0])\n",
    "circ.measure(q,c)\n",
    "\n",
    "circ.draw('mpl')"
   ]
  },
  {
   "cell_type": "markdown",
   "metadata": {},
   "source": [
    "Summarizing, to rotate bases, one uses the basis rotator $B_\\sigma$ which is defined for each Pauli-gate $\\sigma$ to be\n",
    "\n",
    "\\begin{align}\n",
    "B_{\\sigma} \\equiv\n",
    "\\begin{cases}\n",
    "H, & \\text{if} \\ \\sigma = X \\\\\n",
    "HS^{\\dagger}, & \\text{if} \\ \\sigma = Y \\\\\n",
    "I, & \\text{if} \\ \\sigma = Z \\\\\n",
    "\\end{cases}\n",
    "\\end{align}\n",
    "\n",
    "Note the following identity of the basis rotator\n",
    "\n",
    "\\begin{align}\n",
    "B^\\dagger_\\sigma Z B_\\sigma = \\sigma\n",
    "\\end{align}\n",
    "\n",
    "which follows from the identities $HZH=X$ and $SXS^\\dagger=Y$.\n",
    "\n",
    "We now extend to a string of Paulis. To get some intution, consider the expectation value of $ZZ$ (since we always seem to end up just taking expectation values of $Z$):\n",
    "\n",
    "$$\n",
    "\\begin{align}\n",
    "E(ZZ) \n",
    "&= \n",
    "\\langle\\psi|ZZ|\\psi\\rangle\n",
    "\\\\\n",
    "&=\n",
    "\\langle\\psi|(|0\\rangle\\langle0|-|1\\rangle\\langle1|)(|0\\rangle\\langle0|-|1\\rangle\\langle1|)|\\psi\\rangle\n",
    "\\\\\n",
    "&=\n",
    "\\langle\\psi|(|00\\rangle\\langle00|-|01\\rangle\\langle01|-|10\\rangle\\langle10|+|11\\rangle\\langle11|)|\\psi\\rangle\n",
    "\\\\\n",
    "&=\n",
    "P(\\psi\\to00)-P(\\psi\\to01)-P(\\psi\\to10)+P(\\psi\\to11)\n",
    "\\end{align}\n",
    "$$\n",
    "\n",
    "First note that any Pauli string $P=\\bigotimes_k\\sigma_k$ can be rewritten as a the expecation value of a string of $Z$ operators by using the basis rotators above:\n",
    "\n",
    "$$\n",
    "\\begin{align}\n",
    "\\langle\\psi|P|\\psi\\rangle\n",
    "&=\n",
    "\\langle\\psi|\\bigotimes_k\\sigma_k|\\psi\\rangle\n",
    "\\\\\n",
    "&=\n",
    "\\langle\\psi|\\bigotimes_k(B^\\dagger_{\\sigma_k} Z B_{\\sigma_k})|\\psi\\rangle\n",
    "\\\\\n",
    "&=\n",
    "\\langle\\psi|(\\bigotimes_k B^\\dagger_{\\sigma_k})(\\bigotimes_k Z)(\\bigotimes_kB_{\\sigma_k})|\\psi\\rangle\n",
    "\\\\\n",
    "&=\n",
    "\\langle\\bigotimes_k B^\\dagger_{\\sigma_k}\\psi|\\bigotimes_k Z|\\bigotimes_kB_{\\sigma_k}\\psi\\rangle\n",
    "\\end{align}\n",
    "$$\n",
    "\n",
    "Defining $ |\\phi\\rangle = |\\bigotimes_kB_{\\sigma_k}\\psi\\rangle $ we can see that the expectation value is given by\n",
    "\n",
    "$$\n",
    "\\begin{align}\n",
    "\\langle\\psi|P|\\psi\\rangle\n",
    "&=\n",
    "\\langle\\phi|\\bigotimes_k Z|\\phi\\rangle \n",
    "\\\\\n",
    "&=\n",
    "\\langle\\phi|\\bigotimes_k(\\sum_{x\\in\\{0,1\\}}(-1)^x|x \\rangle\\langle x|)|\\phi\\rangle \n",
    "\\\\\n",
    "&=\n",
    "\\sum_{x\\in\\{0,1\\}^n}(-1)^{h(x)}|\\langle x|\\phi\\rangle|^2\n",
    "\\\\\n",
    "&=\n",
    "\\sum_{x\\in\\{0,1\\}^n}(-1)^{h(x)}P(\\phi \\to x)\n",
    "\\end{align}\n",
    "$$\n",
    "\n",
    "where $h(x)$ is the Hamming weight of $x$, defined as the number of 1s in the bit string. For example, the Hamming weight of $x=01101$ is 3. Thus we see that we simply take a linear combination of the probabilities of measuring each possible bit string where bit strings with an even (odd) Hamming weight have a +1 (-1) coefficient, respectively. \n",
    "\n",
    "Finally, we deal with the case where our Pauli string containts identities $I$ by noting that \n",
    "$I= |0\\rangle\\langle0|+|1\\rangle\\langle1|$ and thus doesn't contribute any minus signs. Therefore, we simply modify the previous equation by replacing $h(x)$ with $h_P(x)$ which counts the number of 1s in the bitstring $x$, excluding the bits whose position shares the same index as the position of an identity in the Pauli string $P$."
   ]
  },
  {
   "cell_type": "markdown",
   "metadata": {},
   "source": [
    "## Hamiltonian\n",
    "\n",
    "We will now apply VQE to a simple Hamiltonian:\n",
    "\n",
    "$$ H=\\frac{A}{2}\\left(X_0X_1+Y_0Y_1\\right) $$\n",
    "\n",
    "##### Problem 1:\n",
    "Next we'll create a set of functions that will allow us to estimate the expectation value of this Hamiltonian on a quantum computer. First, we will create functions that rotate the computational basis to the $XX$ and $YY$ basis:"
   ]
  },
  {
   "cell_type": "code",
   "execution_count": 37,
   "metadata": {},
   "outputs": [],
   "source": [
    "## circuit to rotate to XX basis\n",
    "def rotate_to_xx(circ):\n",
    "    \n",
    "    circ.h(circ.qubits[0])\n",
    "    circ.h(circ.qubits[1])\n",
    "    \n",
    "    return circ\n",
    "\n",
    "## circuit to rotate to YY basis\n",
    "def rotate_to_yy(circ):\n",
    "    \n",
    "    ### YOUR CODE HERE ###\n",
    "    \n",
    "    return circ"
   ]
  },
  {
   "cell_type": "markdown",
   "metadata": {},
   "source": [
    "Next we will create a function that estimates the expectation value from the counts"
   ]
  },
  {
   "cell_type": "code",
   "execution_count": 60,
   "metadata": {},
   "outputs": [],
   "source": [
    "## expecation value\n",
    "def counts_to_exp(counts):\n",
    "    \n",
    "    # populate empty counts with 0\n",
    "    for bs in ['00','01','10','11']:\n",
    "        if bs not in counts:\n",
    "            counts[bs] = 0\n",
    "    \n",
    "    # numerator of expecation value\n",
    "    num = counts['00'] - counts['01'] - counts['10'] + counts['11'] \n",
    "    \n",
    "    # denominator of expectation value\n",
    "    den = counts['00'] + counts['01'] + counts['10'] + counts['11'] \n",
    "    \n",
    "    # expectation value\n",
    "    exp = num/den\n",
    "    \n",
    "    return exp"
   ]
  },
  {
   "cell_type": "markdown",
   "metadata": {},
   "source": [
    "### Ansatz\n",
    "\n",
    "To determine a good ansatz for this Hamiltonian, let's look at it in matrix form. Below we define a function that returns the Hamiltonian matrix for a given input A. Run the function for A=1 to see the form of the Hamiltonian matrix:"
   ]
  },
  {
   "cell_type": "code",
   "execution_count": 28,
   "metadata": {},
   "outputs": [],
   "source": [
    "# Hamltonian matrix\n",
    "def H(A):\n",
    "    \n",
    "    hamiltonian = (A/2)*(np.kron(X,X)+np.kron(Y,Y))\n",
    "    \n",
    "    return hamiltonian"
   ]
  },
  {
   "cell_type": "code",
   "execution_count": 115,
   "metadata": {},
   "outputs": [
    {
     "name": "stdout",
     "output_type": "stream",
     "text": [
      "H =\n",
      "[[0.+0.j 0.+0.j 0.+0.j 0.+0.j]\n",
      " [0.+0.j 0.+0.j 1.+0.j 0.+0.j]\n",
      " [0.+0.j 1.+0.j 0.+0.j 0.+0.j]\n",
      " [0.+0.j 0.+0.j 0.+0.j 0.+0.j]]\n"
     ]
    }
   ],
   "source": [
    "# see Hamiltonian matrix\n",
    "print('H =')\n",
    "print(H(1))"
   ]
  },
  {
   "cell_type": "markdown",
   "metadata": {},
   "source": [
    "From the matrix above, we can see that the Hamiltonian destroys two states\n",
    "\n",
    "$$ H|00\\rangle = 0 $$\n",
    "$$ H|00\\rangle = 0 $$\n",
    "\n",
    "and swaps the other two\n",
    "\n",
    "$$ H|10\\rangle = A|01\\rangle $$\n",
    "$$ H|01\\rangle = A|10\\rangle $$\n",
    "\n",
    "This motivates the following ansatz\n",
    "\n",
    "$$ |\\psi(\\phi)\\rangle = \\frac{1}{\\sqrt{2}}\\left(|10\\rangle+e^{i\\phi}|01\\rangle\\right) $$\n",
    "\n",
    "Why?"
   ]
  },
  {
   "cell_type": "markdown",
   "metadata": {},
   "source": [
    "##### Problem 2: Verify that the ansatz is an eigenfunction of the Hamiltonian by showing that\n",
    "\n",
    "$$ \\langle\\psi(\\phi)|H|\\psi(\\phi)\\rangle = A\\cos(\\phi) $$"
   ]
  },
  {
   "cell_type": "markdown",
   "metadata": {},
   "source": [
    "Now we will create a quantum circuit that prepares the ansatz:\n",
    "\n",
    "##### Problem 3: \n",
    "\n",
    "Create a quantum circuit that prepares the ansatz"
   ]
  },
  {
   "cell_type": "code",
   "execution_count": 53,
   "metadata": {},
   "outputs": [],
   "source": [
    "def ansatz(phi):\n",
    "    \n",
    "    # create two-qubit quantum register\n",
    "    q = QuantumRegister(2,'q')\n",
    "    c = ClassicalRegister(2,'c')\n",
    "\n",
    "    # initialize quantum circuit\n",
    "    circ = QuantumCircuit(q,c)\n",
    "\n",
    "    # add gates to create ansatz\n",
    "    \n",
    "    ### YOUR CODE HERE ###\n",
    "    \n",
    "    # return circuit\n",
    "    return circ"
   ]
  },
  {
   "cell_type": "markdown",
   "metadata": {},
   "source": [
    "Visualize your circuit below"
   ]
  },
  {
   "cell_type": "code",
   "execution_count": 56,
   "metadata": {},
   "outputs": [
    {
     "data": {
      "image/png": "[encoded data removed]",
      "text/plain": [
       "<Figure size 267.052x204.68 with 1 Axes>"
      ]
     },
     "execution_count": 56,
     "metadata": {},
     "output_type": "execute_result"
    }
   ],
   "source": [
    "phi = pi/2\n",
    "\n",
    "circ = ansatz(phi)\n",
    "\n",
    "circ.draw('mpl')"
   ]
  },
  {
   "cell_type": "markdown",
   "metadata": {},
   "source": [
    "Verify your circuit by getting the statevector below"
   ]
  },
  {
   "cell_type": "code",
   "execution_count": 50,
   "metadata": {},
   "outputs": [
    {
     "name": "stdout",
     "output_type": "stream",
     "text": [
      "[0. +0.j  0.5-0.5j 0.5+0.5j 0. +0.j ]\n"
     ]
    }
   ],
   "source": [
    "psi = execute(circ, BasicAer.get_backend('statevector_simulator')).result().get_statevector()\n",
    "print(np.round(psi,2))"
   ]
  },
  {
   "cell_type": "markdown",
   "metadata": {},
   "source": [
    "## VQE"
   ]
  },
  {
   "cell_type": "markdown",
   "metadata": {},
   "source": [
    "We will now apply VQE to our simple example. First we must define a function that estimates the expecation value of $\\langle\\psi(\\phi)|H|\\psi(\\phi)\\rangle$:"
   ]
  },
  {
   "cell_type": "code",
   "execution_count": 137,
   "metadata": {},
   "outputs": [],
   "source": [
    "# expecation value of the Hamiltonian\n",
    "def exp_of_H(phi,constants):\n",
    "    \n",
    "    constants[0] = A\n",
    "    constants[1] = shots\n",
    "    \n",
    "    # prepare ansatz\n",
    "    circ = ansatz(phi)\n",
    "    \n",
    "    # get rotated circuits\n",
    "    circ_xx = rotate_to_xx(circ)\n",
    "    circ_yy = rotate_to_yy(circ)\n",
    "    \n",
    "    # measure each circuit\n",
    "    circ_xx.measure(circ_xx.qubits,circ_xx.clbits)\n",
    "    circ_yy.measure(circ_xx.qubits,circ_yy.clbits)\n",
    "    \n",
    "    # get the counts of each rotated circuit\n",
    "    sampler = qiskit.Aer.get_backend('qasm_simulator')\n",
    "    counts_xx = qiskit.execute(circ_xx, sampler, shots=shots).result().get_counts(circ_xx)\n",
    "    counts_yy = qiskit.execute(circ_yy, sampler, shots=shots).result().get_counts(circ_yy)\n",
    "    \n",
    "    # get the expectation value from each set of counts\n",
    "    exp_xx = counts_to_exp(counts_xx)\n",
    "    exp_yy = counts_to_exp(counts_yy)\n",
    "    \n",
    "    # get the expectation value of the Hamiltonian\n",
    "    exp = (A/2)*(exp_xx + exp_yy)\n",
    "    \n",
    "    # return the expectation value of the Hamiltonian\n",
    "    return exp"
   ]
  },
  {
   "cell_type": "markdown",
   "metadata": {},
   "source": [
    "Before running the full VQE algorithm, we will visualize the search space by plotting the estimated expectation value vs the exact expectation value for multiple values of $\\phi$:"
   ]
  },
  {
   "cell_type": "code",
   "execution_count": 138,
   "metadata": {},
   "outputs": [
    {
     "data": {
      "image/png": "[encoded data removed]",
      "text/plain": [
       "<Figure size 432x288 with 1 Axes>"
      ]
     },
     "metadata": {
      "needs_background": "light"
     },
     "output_type": "display_data"
    }
   ],
   "source": [
    "## Visualize search space\n",
    "\n",
    "# inputs\n",
    "A = 1\n",
    "shots = 2**10\n",
    "n = 25 # number of instances of phi\n",
    "phi_est_list = np.linspace(0,2*pi,n)\n",
    "phi_exact_list = np.linspace(0,2*pi,100)\n",
    "\n",
    "# initialize list of expectation values\n",
    "exp_est_list = []\n",
    "exp_exact_list = []\n",
    "\n",
    "# loop through phi_list\n",
    "for phi in phi_est_list:\n",
    "    constants = [A,shots]\n",
    "    exp_est_list.append(exp_of_H(phi,constants))\n",
    "    \n",
    "# get exact energy\n",
    "for phi in phi_exact_list:\n",
    "    exp_exact_list.append(np.cos(phi))\n",
    "    \n",
    "# plot\n",
    "plt.scatter(phi_est_list,exp_est_list,color='r',label='E_est')\n",
    "plt.plot(phi_exact_list,exp_exact_list,color='b',label='E_exact')\n",
    "plt.xlabel('Phi')\n",
    "plt.ylabel('Energy')\n",
    "plt.title('Energy vs Phi')\n",
    "plt.legend()\n",
    "plt.show()"
   ]
  },
  {
   "cell_type": "markdown",
   "metadata": {},
   "source": [
    "From this we can see that $\\phi=\\pi/2$ minimizes the energy. Finally, we'll run VQE. The last step missing is to create a function that runs a classical optimization algorithm:"
   ]
  },
  {
   "cell_type": "code",
   "execution_count": 163,
   "metadata": {},
   "outputs": [],
   "source": [
    "def vqe(phi,A,shots,method):\n",
    "    \n",
    "    # define constants\n",
    "    constants = [A,shots]\n",
    "    \n",
    "    # get E_true\n",
    "    e_vec, e_val = la.eig(H(A))\n",
    "    E_true = np.round(np.real(min(e_vec)),10)\n",
    "    \n",
    "    # callback function for visualization of minimization\n",
    "    diff = []\n",
    "    def callback(x):\n",
    "        diff.append(exp_of_H(x,constants)-E_true)\n",
    "        itr = np.linspace(1,len(diff),len(diff))\n",
    "        plt.xlabel('Iterations')\n",
    "        plt.ylabel('Energy Difference')\n",
    "        plt.title('Energy Difference vs Iterations')\n",
    "        plt.plot(itr,diff)\n",
    "        clear_output(wait=True)\n",
    "        plt.show()\n",
    "    \n",
    "    # optimize\n",
    "    opt = sp.optimize.minimize(exp_of_H, x0=phi, args=constants, method=method, callback=callback)\n",
    "    \n",
    "    # get phi_min\n",
    "    phi_min = opt.x\n",
    "    \n",
    "    # get ground state estimate\n",
    "    E_est = exp_of_H(phi_min,constants)\n",
    "    \n",
    "    # return ground state estimate and exact ground state\n",
    "    return E_est, E_true"
   ]
  },
  {
   "cell_type": "code",
   "execution_count": 164,
   "metadata": {},
   "outputs": [
    {
     "data": {
      "image/png": "[encoded data removed]",
      "text/plain": [
       "<Figure size 432x288 with 1 Axes>"
      ]
     },
     "metadata": {
      "needs_background": "light"
     },
     "output_type": "display_data"
    },
    {
     "name": "stdout",
     "output_type": "stream",
     "text": [
      "E_estimate = -1.0\n",
      "E_exact =  -1.0\n",
      "E_error = 0.0\n"
     ]
    }
   ],
   "source": [
    "phi = np.random.uniform(0,2*pi)\n",
    "A = 1\n",
    "constants = [A,shots]\n",
    "method = 'Nelder-Mead'\n",
    "\n",
    "# run vqe\n",
    "E_est, E_ext = vqe(phi,A,shots,method)\n",
    "\n",
    "# print results\n",
    "print('E_estimate =',E_est)\n",
    "print('E_exact = ',E_ext)\n",
    "print('E_error =',abs((E_est-E_ext)/E_ext))"
   ]
  },
  {
   "cell_type": "markdown",
   "metadata": {},
   "source": [
    "## Challenge\n",
    "\n",
    "Let's extend the Hamiltonian to three qubits:\n",
    "\n",
    "$$\n",
    "H = \\frac{A}{2}[(X_0X_1+Y_0Y_1)+(X_1X_2+Y_1Y_2)+(X_2X_0+Y_2Y_0)]\n",
    "$$\n",
    "\n",
    "##### Problem 4: \n",
    "Prove that the following ansatz is an eigenstate of $H$:\n",
    "\n",
    "$$\n",
    "|\\psi(\\theta,\\phi)\\rangle\n",
    "=\n",
    "\\frac{1}{\\sqrt{3}}\\left(|100\\rangle+e^{i\\theta}|010\\rangle+e^{i\\phi}|001\\rangle\\right)\n",
    "$$\n",
    "\n",
    "##### Problem 5:\n",
    "\n",
    "Create this ansatz with a quantum circuit and run VQE for this Hamiltonian."
   ]
  },
  {
   "cell_type": "markdown",
   "metadata": {},
   "source": [
    "## Solutions"
   ]
  },
  {
   "cell_type": "markdown",
   "metadata": {},
   "source": [
    "### Problem 1"
   ]
  },
  {
   "cell_type": "code",
   "execution_count": 38,
   "metadata": {},
   "outputs": [],
   "source": [
    "## circuit to rotate to YY basis\n",
    "def rotate_to_yy(circ):\n",
    "    \n",
    "    circ.sdg(circ.qubits[0])\n",
    "    circ.h(circ.qubits[0])\n",
    "    \n",
    "    circ.sdg(circ.qubits[1])\n",
    "    circ.h(circ.qubits[1])\n",
    "    \n",
    "    return circ"
   ]
  },
  {
   "cell_type": "markdown",
   "metadata": {},
   "source": [
    "### Problem 2\n",
    "\n",
    "$$\n",
    "\\begin{align}\n",
    "\\langle\\psi(\\phi)|H|\\psi(\\phi)\\rangle\n",
    "&=\n",
    "\\frac{A}{4}\\left(\\langle10|+e^{-i\\phi}\\langle01|\\right)\n",
    "\\left(X_0X_1+Y_0Y_1\\right)\n",
    "\\left(|10\\rangle+e^{i\\phi}|01\\rangle\\right)\n",
    "\\\\\n",
    "&=\n",
    "\\frac{A}{2}\\left(\\langle10|+e^{-i\\phi}\\langle01|\\right)\n",
    "\\left(|01\\rangle+e^{i\\phi}|10\\rangle\\right)\n",
    "\\\\\n",
    "&=\n",
    "\\frac{A}{2}\\left(e^{i\\phi}+e^{-i\\phi}\\right)\n",
    "\\\\\n",
    "&=\n",
    "A\\cos(\\phi)\n",
    "\\end{align}\n",
    "$$"
   ]
  },
  {
   "cell_type": "markdown",
   "metadata": {},
   "source": [
    "### Problem 3"
   ]
  },
  {
   "cell_type": "code",
   "execution_count": 55,
   "metadata": {},
   "outputs": [],
   "source": [
    "def ansatz(phi):\n",
    "    \n",
    "    # create two-qubit quantum register\n",
    "    q = QuantumRegister(2,'q')\n",
    "    c = ClassicalRegister(2,'c')\n",
    "\n",
    "    # initialize quantum circuit\n",
    "    circ = QuantumCircuit(q,c)\n",
    "\n",
    "    # add gates to create ansatz\n",
    "    \n",
    "    circ.h(q[0])\n",
    "    circ.x(q[1])\n",
    "    circ.cx(q[0],q[1])\n",
    "    circ.rz(phi,q[1])\n",
    "    \n",
    "    # return circuit\n",
    "    return circ"
   ]
  },
  {
   "cell_type": "markdown",
   "metadata": {},
   "source": [
    "### Problem 4\n",
    "\n",
    "$$\n",
    "\\begin{align}\n",
    "\\langle\\psi(\\theta,\\phi)|H|\\psi(\\theta,\\phi)\\rangle\n",
    "&=\n",
    "\\frac{A}{6}\n",
    "\\left(\\langle100|+e^{-i\\theta}\\langle010|+e^{-i\\phi}\\langle001|\\right)\n",
    "[(X_0X_1+Y_0Y_1)+(X_1X_2+Y_1Y_2)+(X_2X_0+Y_2Y_0)]\n",
    "\\left(|100\\rangle+e^{i\\theta}|010\\rangle+e^{i\\phi}|001\\rangle\\right)\n",
    "\\\\\n",
    "&=\n",
    "\\frac{A}{6}\n",
    "\\left(\\langle100|+e^{-i\\theta}\\langle010|+e^{-i\\phi}\\langle001|\\right)\n",
    "\\left((|010\\rangle+|001\\rangle)+e^{i\\theta}(|100\\rangle+|001\\rangle)+e^{i\\phi}(|010\\rangle+|100\\rangle)\\right)\n",
    "\\\\\n",
    "&=\n",
    "\\frac{A}{6}\n",
    "\\left[\n",
    "\\left(e^{i\\theta}+e^{-i\\theta}\\right)\n",
    "+\n",
    "\\left(e^{i\\phi}+e^{-i\\phi}\\right)\n",
    "+\n",
    "\\left(e^{i(\\phi-\\theta)}+e^{-i(\\phi-\\theta)}\\right)\n",
    "\\right]\n",
    "\\\\\n",
    "&=\n",
    "\\frac{A}{3}\\left[\\cos(\\theta)+\\cos(\\phi)+\\cos(\\theta-\\phi)\\right]\n",
    "\\end{align}\n",
    "$$"
   ]
  }
 ],
 "metadata": {
  "kernelspec": {
   "display_name": "Python 3",
   "language": "python",
   "name": "python3"
  },
  "language_info": {
   "codemirror_mode": {
    "name": "ipython",
    "version": 3
   },
   "file_extension": ".py",
   "mimetype": "text/x-python",
   "name": "python",
   "nbconvert_exporter": "python",
   "pygments_lexer": "ipython3",
   "version": "3.7.3"
  }
 },
 "nbformat": 4,
 "nbformat_minor": 2
}
