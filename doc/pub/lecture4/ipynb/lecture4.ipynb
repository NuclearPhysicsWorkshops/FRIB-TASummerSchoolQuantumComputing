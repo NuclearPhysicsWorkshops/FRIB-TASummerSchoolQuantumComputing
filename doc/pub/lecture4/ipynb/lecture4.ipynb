{
 "cells": [
  {
   "cell_type": "markdown",
   "id": "5007dab2",
   "metadata": {
    "editable": true
   },
   "source": [
    "<!-- HTML file automatically generated from DocOnce source (https://github.com/doconce/doconce/)\n",
    "doconce format html lecture4.do.txt --no_mako -->\n",
    "<!-- dom:TITLE: Quantum algorithms and implementation on a real quantum computer -->"
   ]
  },
  {
   "cell_type": "markdown",
   "id": "16e408e7",
   "metadata": {
    "editable": true
   },
   "source": [
    "# Quantum algorithms and implementation on a real quantum computer\n",
    "**Facility for Rare Isotope Beams, Michigan State University, USA**\n",
    "\n",
    "Date: **June 20**"
   ]
  },
  {
   "cell_type": "markdown",
   "id": "e05d628d",
   "metadata": {
    "editable": true
   },
   "source": [
    "## Introduction"
   ]
  }
 ],
 "metadata": {},
 "nbformat": 4,
 "nbformat_minor": 5
}
